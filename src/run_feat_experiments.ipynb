{
 "cells": [
  {
   "cell_type": "code",
   "execution_count": 35,
   "metadata": {},
   "outputs": [],
   "source": [
    "import os\n",
    "import csv\n",
    "import re\n",
    "from typing import List\n",
    "from itertools import product\n",
    "\n",
    "import numpy as np\n",
    "import pandas as pd\n",
    "from tqdm import tqdm\n",
    "\n",
    "import matplotlib\n",
    "import matplotlib.pyplot as plt\n",
    "import seaborn as sns\n",
    "sns.set()\n",
    "\n",
    "from sklearn.model_selection import train_test_split\n",
    "from sklearn.metrics import f1_score, accuracy_score\n",
    "from sklearn.linear_model import LogisticRegression\n",
    "\n",
    "from sklearn.preprocessing import StandardScaler\n",
    "from sklearn.ensemble import RandomForestClassifier\n",
    "from sklearn.metrics import f1_score, accuracy_score\n",
    "\n",
    "from sklearn.feature_extraction.text import TfidfVectorizer\n",
    "from sklearn.preprocessing import FunctionTransformer\n",
    "from sklearn.compose import ColumnTransformer\n",
    "\n",
    "from read_data import read_all_datasets\n",
    "from util import flatten, flatten_twice\n",
    "from url_tokenizer import url_tokenizer, UrlData, flatten_url_data, \\\n",
    "                          url_raw_splitter, url_html_decoder\n",
    "from featurizer import UNTRUSTWORTHY_TLDS"
   ]
  },
  {
   "cell_type": "markdown",
   "metadata": {},
   "source": [
    "### These constants should be left untouched"
   ]
  },
  {
   "cell_type": "code",
   "execution_count": 2,
   "metadata": {},
   "outputs": [],
   "source": [
    "# Should be left untouched\n",
    "IS_HTTPS = 'IS_HTTPS'\n",
    "NUM_MAIN_DOMAIN_WORDS = 'NUM_MAIN_DOMAIN_WORDS'\n",
    "NUM_SUB_DOMAINS = 'NUM_SUB_DOMAINS'\n",
    "IS_WWW = 'IS_WWW'\n",
    "IS_WWW_WEIRD = 'IS_WWW_WEIRD'\n",
    "NUM_PATH_WORDS = 'NUM_PATH_WORDS'\n",
    "DOMAIN_END_VERDICT = 'DOMAIN_END_VERDICT'\n",
    "SUB_DOMAINS_NUM_DIGITS = 'SUB_DOMAINS_NUM_DIGITS'\n",
    "PATH_NUM_DIGITS = 'PATH_NUM_DIGITS'\n",
    "ARGS_NUM_DIGITS = 'ARGS_NUM_DIGITS'\n",
    "TOTAL_NUM_DIGITS = 'TOTAL_NUM_DIGITS'\n",
    "CONTAINS_AT_SYMBOL = 'CONTAINS_AT_SYMBOL'\n",
    "WORD_COUNT_IN_URL = 'WORD_COUNT_IN_URL'\n",
    "DOMAIN_LEN = 'DOMAIN_LEN'\n",
    "PATH_LEN = 'PATH_LEN'\n",
    "ARGS_LEN = 'ARGS_LEN'\n",
    "DOT_COUNT_IN_PATH_AND_ARGS = 'DOT_COUNT_IN_PATH_AND_ARGS'\n",
    "CAPITAL_COUNT = 'CAPITAL_COUNT'\n",
    "DOMAIN_IS_IP_ADDRESS = 'DOMAIN_IS_IP_ADDRESS'\n",
    "CONTAINS_SUSPICIOUS_SYMBOL = 'CONTAINS_SUSPICIOUS_SYMBOL'\n",
    "\n",
    "NUM_FEATS_TOTAL = 20\n",
    "SEED = 42\n",
    "np.random.seed(SEED)"
   ]
  },
  {
   "cell_type": "markdown",
   "metadata": {},
   "source": [
    "### These values can be changed if you want"
   ]
  },
  {
   "cell_type": "code",
   "execution_count": null,
   "metadata": {},
   "outputs": [],
   "source": [
    "VAL_PROP = 0.2\n",
    "DMOZ_NUM_URLS = 50_000"
   ]
  },
  {
   "cell_type": "markdown",
   "metadata": {},
   "source": [
    "### These values should be changed to corresponding feature groups"
   ]
  },
  {
   "cell_type": "code",
   "execution_count": 4,
   "metadata": {},
   "outputs": [],
   "source": [
    "FEAT0 = [IS_HTTPS, IS_WWW]  #, ...\n",
    "FEAT1 = [NUM_PATH_WORDS, DOMAIN_END_VERDICT] #, ...\n",
    "# ...\n",
    "\n",
    "# \n",
    "FEAT_GROUPS = [FEAT0, FEAT1]"
   ]
  },
  {
   "cell_type": "markdown",
   "metadata": {},
   "source": [
    "### From here on out, I think you can leave mostly everything untouched and then just run it"
   ]
  },
  {
   "cell_type": "code",
   "execution_count": null,
   "metadata": {},
   "outputs": [],
   "source": [
    "FEAT_GROUPS = [sorted(feat_group) for feat_group in FEAT_GROUPS]"
   ]
  },
  {
   "cell_type": "code",
   "execution_count": 5,
   "metadata": {},
   "outputs": [],
   "source": [
    "dmoz, phishing, ilp = read_all_datasets(use_sample=False)\n",
    "datasets = {\n",
    "    'DMOZ': dmoz.sample(DMOZ_NUM_URLS, random_state=SEED),\n",
    "    'ILP': ilp.sample(frac=1, random_state=SEED),\n",
    "    'Phishing': phishing.sample(frac=1, random_state=SEED)\n",
    "}"
   ]
  },
  {
   "cell_type": "code",
   "execution_count": 6,
   "metadata": {},
   "outputs": [],
   "source": [
    "# A modification of our original function that supports arguments determining\n",
    "# what features to return or exclude\n",
    "def hand_pick_features(url: str, feat_group: List[str],\n",
    "                       only_include: bool) -> np.ndarray:\n",
    "    try:\n",
    "        url_data = url_tokenizer(url)\n",
    "        words = flatten_url_data(url_data)\n",
    "\n",
    "        url_decoded = url_html_decoder(url)\n",
    "        protocol, domains_raw, path_raw, args_raw = \\\n",
    "            url_raw_splitter(url_decoded)\n",
    "\n",
    "        domain_len = len(domains_raw)\n",
    "        path_len = len(path_raw)\n",
    "        args_len = len(args_raw)\n",
    "\n",
    "        dot_count_in_path_and_args = path_raw.count('.') + args_raw.count('.')\n",
    "        capital_count = len([char for char in url_decoded if char.isupper()])\n",
    "\n",
    "        domain_is_ip_address = int(bool(re.match(r'(\\d+\\.){3}\\d+',\n",
    "                                                 domains_raw)))\n",
    "        contain_suspicious_symbol = int(args_raw.find('\\\\') >= 0 or\n",
    "                                        args_raw.find(':') >= 0)\n",
    "\n",
    "        protocol, domains, path, args = url_data\n",
    "        sub_domains, main_domain, domain_ending = domains\n",
    "\n",
    "        contains_at_symbol = int(len(path) > 0 and path[-1] == '@')\n",
    "        is_https = int(protocol == 'https')\n",
    "        num_main_domain_words = len(main_domain)\n",
    "        num_sub_domains = len(sub_domains)\n",
    "        is_www = int(num_sub_domains > 0 and sub_domains[0] == 'www')\n",
    "        is_www_weird = int(num_sub_domains > 0 and\n",
    "                           bool(re.match(r'www.+', sub_domains[0])))\n",
    "        num_path_words = len(path) - contains_at_symbol\n",
    "        domain_end_verdict = int(domain_ending in UNTRUSTWORTHY_TLDS)\n",
    "\n",
    "        sub_domain_chars = flatten(sub_domains)\n",
    "        sub_domains_num_digits = len([char for char in sub_domain_chars\n",
    "                                      if char.isdigit()])\n",
    "\n",
    "        path_chars = flatten(path)\n",
    "        path_num_digits = len([char for char in path_chars if char.isdigit()])\n",
    "\n",
    "        args_flat = flatten_twice(args)\n",
    "        args_chars = flatten(args_flat)\n",
    "        args_num_digits = len([char for char in args_chars if char.isdigit()])\n",
    "\n",
    "        total_num_digits = (sub_domains_num_digits\n",
    "                            + path_num_digits\n",
    "                            + args_num_digits)\n",
    "\n",
    "        word_court_in_url = len(words) - contains_at_symbol\n",
    "\n",
    "        all_features = {\n",
    "            IS_HTTPS: is_https,\n",
    "            NUM_MAIN_DOMAIN_WORDS: num_main_domain_words,\n",
    "            NUM_SUB_DOMAINS: num_sub_domains,\n",
    "            IS_WWW: is_www,\n",
    "            IS_WWW_WEIRD: is_www_weird,\n",
    "            NUM_PATH_WORDS: num_path_words,\n",
    "            DOMAIN_END_VERDICT: domain_end_verdict,\n",
    "            SUB_DOMAINS_NUM_DIGITS: sub_domains_num_digits,\n",
    "            PATH_NUM_DIGITS: path_num_digits,\n",
    "            ARGS_NUM_DIGITS: args_num_digits,\n",
    "            TOTAL_NUM_DIGITS: total_num_digits,\n",
    "            CONTAINS_AT_SYMBOL: contains_at_symbol,\n",
    "            WORD_COUNT_IN_URL: word_court_in_url,\n",
    "            DOMAIN_LEN: domain_len,\n",
    "            PATH_LEN: path_len,\n",
    "            ARGS_LEN: args_len,\n",
    "            DOT_COUNT_IN_PATH_AND_ARGS: dot_count_in_path_and_args,\n",
    "            CAPITAL_COUNT: capital_count,\n",
    "            DOMAIN_IS_IP_ADDRESS: domain_is_ip_address,\n",
    "            CONTAINS_SUSPICIOUS_SYMBOL: contain_suspicious_symbol\n",
    "        }\n",
    "\n",
    "        if only_include:\n",
    "            selected_features = [all_features[name] for name in feat_group]\n",
    "        else:\n",
    "            selected_features = [v for k, v\n",
    "                                 in sorted(all_features.items())\n",
    "                                 if k not in feat_group]\n",
    "        return np.array(selected_features)\n",
    "    except:\n",
    "        return (np.zeros(len(feat_group))\n",
    "                if use_only\n",
    "                else np.zeros(NUM_FEATS_TOTAL - len(feat_group)))"
   ]
  },
  {
   "cell_type": "code",
   "execution_count": 7,
   "metadata": {},
   "outputs": [],
   "source": [
    "def clean_url(url: str):\n",
    "    try:\n",
    "        words = flatten_url_data(url_tokenizer(url))\n",
    "        return ' '.join(words)\n",
    "    except:\n",
    "        return ''"
   ]
  },
  {
   "cell_type": "code",
   "execution_count": 8,
   "metadata": {},
   "outputs": [],
   "source": [
    "def run_test(dataset, use_tfidf, feat_group, only_include):\n",
    "    feats = np.array([hand_pick_features(url, feat_group, only_include)\n",
    "                     for url in dataset['url']])\n",
    "    \n",
    "    num_feats = feats.shape[1]\n",
    "    for i in range(num_feats):\n",
    "        dataset[f'feat_{i}'] = feats[:, i]\n",
    "    extra_features = [f'feat_{i}' for i in range(num_feats)]\n",
    "    \n",
    "    trans = StandardScaler()\n",
    "    if use_tfidf:\n",
    "        vectorizer_0 = TfidfVectorizer(\n",
    "            analyzer='word',\n",
    "            strip_accents='unicode'\n",
    "        )\n",
    "        trans = ColumnTransformer([\n",
    "            ('tfidf_word', vectorizer_0, 'urlCleaned'),\n",
    "            ('feat', StandardScaler(), extra_features)\n",
    "        ])\n",
    "        \n",
    "        X = dataset[['urlCleaned', *extra_features]]\n",
    "    else:\n",
    "        X = dataset[extra_features]\n",
    "        \n",
    "    y = dataset['label']\n",
    "    X_train, X_val, y_train, y_val = \\\n",
    "        train_test_split(X, y, test_size=VAL_PROP, random_state=SEED)\n",
    "        \n",
    "\n",
    "    trans.fit(X_train)\n",
    "    X_train_pre = trans.transform(X_train)\n",
    "    \n",
    "    model = RandomForestClassifier(random_state=SEED, n_jobs=-1)\n",
    "    model.fit(X_train_pre, y_train)\n",
    "    \n",
    "    X_val_pre = trans.transform(X_val)\n",
    "    y_val_pred = model.predict(X_val_pre)\n",
    "    \n",
    "    f1_macro = f1_score(y_val, y_val_pred, average='macro')\n",
    "    f1_micro = f1_score(y_val, y_val_pred, average='micro')\n",
    "    f1_weighted = f1_score(y_val, y_val_pred, average='weighted')\n",
    "    acc = accuracy_score(y_val, y_val_pred)\n",
    "\n",
    "    return f1_macro, f1_micro, f1_weighted, acc"
   ]
  },
  {
   "cell_type": "code",
   "execution_count": 9,
   "metadata": {},
   "outputs": [
    {
     "name": "stdout",
     "output_type": "stream",
     "text": [
      "Running experiments for DMOZ...\n"
     ]
    },
    {
     "name": "stderr",
     "output_type": "stream",
     "text": [
      "\r",
      "  0%|          | 0/8 [00:00<?, ?it/s]"
     ]
    },
    {
     "name": "stdout",
     "output_type": "stream",
     "text": [
      "use_tfidf: True, feat_group: ['IS_HTTPS', 'IS_WWW'], only_include: True\n"
     ]
    },
    {
     "name": "stderr",
     "output_type": "stream",
     "text": [
      "\r",
      " 12%|█▎        | 1/8 [01:20<09:22, 80.34s/it]"
     ]
    },
    {
     "name": "stdout",
     "output_type": "stream",
     "text": [
      "use_tfidf: True, feat_group: ['IS_HTTPS', 'IS_WWW'], only_include: False\n"
     ]
    },
    {
     "name": "stderr",
     "output_type": "stream",
     "text": [
      "\r",
      " 25%|██▌       | 2/8 [02:57<08:32, 85.36s/it]"
     ]
    },
    {
     "name": "stdout",
     "output_type": "stream",
     "text": [
      "use_tfidf: False, feat_group: ['IS_HTTPS', 'IS_WWW'], only_include: True\n"
     ]
    },
    {
     "name": "stderr",
     "output_type": "stream",
     "text": [
      "\r",
      " 38%|███▊      | 3/8 [03:12<05:20, 64.20s/it]"
     ]
    },
    {
     "name": "stdout",
     "output_type": "stream",
     "text": [
      "use_tfidf: False, feat_group: ['IS_HTTPS', 'IS_WWW'], only_include: False\n"
     ]
    },
    {
     "name": "stderr",
     "output_type": "stream",
     "text": [
      "\r",
      " 50%|█████     | 4/8 [03:27<03:17, 49.38s/it]"
     ]
    },
    {
     "name": "stdout",
     "output_type": "stream",
     "text": [
      "use_tfidf: True, feat_group: ['DOMAIN_END_VERDICT', 'NUM_PATH_WORDS'], only_include: True\n"
     ]
    },
    {
     "name": "stderr",
     "output_type": "stream",
     "text": [
      "\r",
      " 62%|██████▎   | 5/8 [04:50<02:59, 59.74s/it]"
     ]
    },
    {
     "name": "stdout",
     "output_type": "stream",
     "text": [
      "use_tfidf: True, feat_group: ['DOMAIN_END_VERDICT', 'NUM_PATH_WORDS'], only_include: False\n"
     ]
    },
    {
     "name": "stderr",
     "output_type": "stream",
     "text": [
      "\r",
      " 75%|███████▌  | 6/8 [06:37<02:27, 73.92s/it]"
     ]
    },
    {
     "name": "stdout",
     "output_type": "stream",
     "text": [
      "use_tfidf: False, feat_group: ['DOMAIN_END_VERDICT', 'NUM_PATH_WORDS'], only_include: True\n"
     ]
    },
    {
     "name": "stderr",
     "output_type": "stream",
     "text": [
      "\r",
      " 88%|████████▊ | 7/8 [06:53<00:56, 56.35s/it]"
     ]
    },
    {
     "name": "stdout",
     "output_type": "stream",
     "text": [
      "use_tfidf: False, feat_group: ['DOMAIN_END_VERDICT', 'NUM_PATH_WORDS'], only_include: False\n"
     ]
    },
    {
     "name": "stderr",
     "output_type": "stream",
     "text": [
      "100%|██████████| 8/8 [07:07<00:00, 53.38s/it]\n"
     ]
    },
    {
     "name": "stdout",
     "output_type": "stream",
     "text": [
      "Running experiments for ILP...\n"
     ]
    },
    {
     "name": "stderr",
     "output_type": "stream",
     "text": [
      "\r",
      "  0%|          | 0/8 [00:00<?, ?it/s]"
     ]
    },
    {
     "name": "stdout",
     "output_type": "stream",
     "text": [
      "use_tfidf: True, feat_group: ['IS_HTTPS', 'IS_WWW'], only_include: True\n"
     ]
    },
    {
     "name": "stderr",
     "output_type": "stream",
     "text": [
      "\r",
      " 12%|█▎        | 1/8 [00:01<00:11,  1.69s/it]"
     ]
    },
    {
     "name": "stdout",
     "output_type": "stream",
     "text": [
      "use_tfidf: True, feat_group: ['IS_HTTPS', 'IS_WWW'], only_include: False\n"
     ]
    },
    {
     "name": "stderr",
     "output_type": "stream",
     "text": [
      "\r",
      " 25%|██▌       | 2/8 [00:03<00:10,  1.71s/it]"
     ]
    },
    {
     "name": "stdout",
     "output_type": "stream",
     "text": [
      "use_tfidf: False, feat_group: ['IS_HTTPS', 'IS_WWW'], only_include: True\n"
     ]
    },
    {
     "name": "stderr",
     "output_type": "stream",
     "text": [
      "\r",
      " 38%|███▊      | 3/8 [00:04<00:07,  1.54s/it]"
     ]
    },
    {
     "name": "stdout",
     "output_type": "stream",
     "text": [
      "use_tfidf: False, feat_group: ['IS_HTTPS', 'IS_WWW'], only_include: False\n"
     ]
    },
    {
     "name": "stderr",
     "output_type": "stream",
     "text": [
      "\r",
      " 50%|█████     | 4/8 [00:05<00:05,  1.44s/it]"
     ]
    },
    {
     "name": "stdout",
     "output_type": "stream",
     "text": [
      "use_tfidf: True, feat_group: ['DOMAIN_END_VERDICT', 'NUM_PATH_WORDS'], only_include: True\n"
     ]
    },
    {
     "name": "stderr",
     "output_type": "stream",
     "text": [
      "\r",
      " 62%|██████▎   | 5/8 [00:07<00:04,  1.55s/it]"
     ]
    },
    {
     "name": "stdout",
     "output_type": "stream",
     "text": [
      "use_tfidf: True, feat_group: ['DOMAIN_END_VERDICT', 'NUM_PATH_WORDS'], only_include: False\n"
     ]
    },
    {
     "name": "stderr",
     "output_type": "stream",
     "text": [
      "\r",
      " 75%|███████▌  | 6/8 [00:09<00:03,  1.61s/it]"
     ]
    },
    {
     "name": "stdout",
     "output_type": "stream",
     "text": [
      "use_tfidf: False, feat_group: ['DOMAIN_END_VERDICT', 'NUM_PATH_WORDS'], only_include: True\n"
     ]
    },
    {
     "name": "stderr",
     "output_type": "stream",
     "text": [
      "\r",
      " 88%|████████▊ | 7/8 [00:10<00:01,  1.47s/it]"
     ]
    },
    {
     "name": "stdout",
     "output_type": "stream",
     "text": [
      "use_tfidf: False, feat_group: ['DOMAIN_END_VERDICT', 'NUM_PATH_WORDS'], only_include: False\n"
     ]
    },
    {
     "name": "stderr",
     "output_type": "stream",
     "text": [
      "100%|██████████| 8/8 [00:11<00:00,  1.46s/it]\n"
     ]
    },
    {
     "name": "stdout",
     "output_type": "stream",
     "text": [
      "Running experiments for Phishing...\n"
     ]
    },
    {
     "name": "stderr",
     "output_type": "stream",
     "text": [
      "\r",
      "  0%|          | 0/8 [00:00<?, ?it/s]"
     ]
    },
    {
     "name": "stdout",
     "output_type": "stream",
     "text": [
      "use_tfidf: True, feat_group: ['IS_HTTPS', 'IS_WWW'], only_include: True\n"
     ]
    },
    {
     "name": "stderr",
     "output_type": "stream",
     "text": [
      "\r",
      " 12%|█▎        | 1/8 [00:23<02:44, 23.56s/it]"
     ]
    },
    {
     "name": "stdout",
     "output_type": "stream",
     "text": [
      "use_tfidf: True, feat_group: ['IS_HTTPS', 'IS_WWW'], only_include: False\n"
     ]
    },
    {
     "name": "stderr",
     "output_type": "stream",
     "text": [
      "\r",
      " 25%|██▌       | 2/8 [00:44<02:17, 22.90s/it]"
     ]
    },
    {
     "name": "stdout",
     "output_type": "stream",
     "text": [
      "use_tfidf: False, feat_group: ['IS_HTTPS', 'IS_WWW'], only_include: True\n"
     ]
    },
    {
     "name": "stderr",
     "output_type": "stream",
     "text": [
      "\r",
      " 38%|███▊      | 3/8 [01:03<01:48, 21.66s/it]"
     ]
    },
    {
     "name": "stdout",
     "output_type": "stream",
     "text": [
      "use_tfidf: False, feat_group: ['IS_HTTPS', 'IS_WWW'], only_include: False\n"
     ]
    },
    {
     "name": "stderr",
     "output_type": "stream",
     "text": [
      "\r",
      " 50%|█████     | 4/8 [01:23<01:23, 20.96s/it]"
     ]
    },
    {
     "name": "stdout",
     "output_type": "stream",
     "text": [
      "use_tfidf: True, feat_group: ['DOMAIN_END_VERDICT', 'NUM_PATH_WORDS'], only_include: True\n"
     ]
    },
    {
     "name": "stderr",
     "output_type": "stream",
     "text": [
      "\r",
      " 62%|██████▎   | 5/8 [01:44<01:03, 21.07s/it]"
     ]
    },
    {
     "name": "stdout",
     "output_type": "stream",
     "text": [
      "use_tfidf: True, feat_group: ['DOMAIN_END_VERDICT', 'NUM_PATH_WORDS'], only_include: False\n"
     ]
    },
    {
     "name": "stderr",
     "output_type": "stream",
     "text": [
      "\r",
      " 75%|███████▌  | 6/8 [02:05<00:42, 21.21s/it]"
     ]
    },
    {
     "name": "stdout",
     "output_type": "stream",
     "text": [
      "use_tfidf: False, feat_group: ['DOMAIN_END_VERDICT', 'NUM_PATH_WORDS'], only_include: True\n"
     ]
    },
    {
     "name": "stderr",
     "output_type": "stream",
     "text": [
      "\r",
      " 88%|████████▊ | 7/8 [02:25<00:20, 20.59s/it]"
     ]
    },
    {
     "name": "stdout",
     "output_type": "stream",
     "text": [
      "use_tfidf: False, feat_group: ['DOMAIN_END_VERDICT', 'NUM_PATH_WORDS'], only_include: False\n"
     ]
    },
    {
     "name": "stderr",
     "output_type": "stream",
     "text": [
      "100%|██████████| 8/8 [02:44<00:00, 20.54s/it]\n"
     ]
    }
   ],
   "source": [
    "rows = []\n",
    "\n",
    "for dataset_name, dataset in datasets.items():\n",
    "    print(f'Running experiments for {dataset_name}...')\n",
    "    dataset['urlCleaned'] = dataset['url'].apply(clean_url)\n",
    "    \n",
    "    params_iter = product(enumerate(FEAT_GROUPS), [True, False], [True, False])\n",
    "    for (i, feat_group), use_tfidf, only_include in tqdm(list(params_iter)):\n",
    "        f1_macro, f1_micro, f1_weighted, acc = \\\n",
    "            run_test(dataset.copy(), use_tfidf, feat_group, only_include)\n",
    "        rows.append({\n",
    "            'Dataset': dataset_name, 'Use TfIdf': use_tfidf,\n",
    "            'Feat Group': i, 'Only Include': only_include,\n",
    "            'F1 Macro': f1_macro, 'F1 Micro': f1_micro, 'F1 Weighted': f1_weighted,\n",
    "            'Acc': acc\n",
    "        })"
   ]
  },
  {
   "cell_type": "code",
   "execution_count": 12,
   "metadata": {},
   "outputs": [
    {
     "data": {
      "text/html": [
       "<div>\n",
       "<style scoped>\n",
       "    .dataframe tbody tr th:only-of-type {\n",
       "        vertical-align: middle;\n",
       "    }\n",
       "\n",
       "    .dataframe tbody tr th {\n",
       "        vertical-align: top;\n",
       "    }\n",
       "\n",
       "    .dataframe thead th {\n",
       "        text-align: right;\n",
       "    }\n",
       "</style>\n",
       "<table border=\"1\" class=\"dataframe\">\n",
       "  <thead>\n",
       "    <tr style=\"text-align: right;\">\n",
       "      <th></th>\n",
       "      <th>Dataset</th>\n",
       "      <th>Use TfIdf</th>\n",
       "      <th>Feat Group</th>\n",
       "      <th>Only Include</th>\n",
       "      <th>F1 Macro</th>\n",
       "      <th>F1 Micro</th>\n",
       "      <th>F1 Weighted</th>\n",
       "      <th>Acc</th>\n",
       "    </tr>\n",
       "  </thead>\n",
       "  <tbody>\n",
       "    <tr>\n",
       "      <th>0</th>\n",
       "      <td>DMOZ</td>\n",
       "      <td>True</td>\n",
       "      <td>0</td>\n",
       "      <td>True</td>\n",
       "      <td>0.402137</td>\n",
       "      <td>0.443950</td>\n",
       "      <td>0.428770</td>\n",
       "      <td>0.443950</td>\n",
       "    </tr>\n",
       "    <tr>\n",
       "      <th>1</th>\n",
       "      <td>DMOZ</td>\n",
       "      <td>True</td>\n",
       "      <td>0</td>\n",
       "      <td>False</td>\n",
       "      <td>0.400627</td>\n",
       "      <td>0.446400</td>\n",
       "      <td>0.428312</td>\n",
       "      <td>0.446400</td>\n",
       "    </tr>\n",
       "    <tr>\n",
       "      <th>2</th>\n",
       "      <td>DMOZ</td>\n",
       "      <td>False</td>\n",
       "      <td>0</td>\n",
       "      <td>True</td>\n",
       "      <td>0.035360</td>\n",
       "      <td>0.177950</td>\n",
       "      <td>0.079925</td>\n",
       "      <td>0.177950</td>\n",
       "    </tr>\n",
       "    <tr>\n",
       "      <th>3</th>\n",
       "      <td>DMOZ</td>\n",
       "      <td>False</td>\n",
       "      <td>0</td>\n",
       "      <td>False</td>\n",
       "      <td>0.190412</td>\n",
       "      <td>0.282850</td>\n",
       "      <td>0.243683</td>\n",
       "      <td>0.282850</td>\n",
       "    </tr>\n",
       "    <tr>\n",
       "      <th>4</th>\n",
       "      <td>DMOZ</td>\n",
       "      <td>True</td>\n",
       "      <td>1</td>\n",
       "      <td>True</td>\n",
       "      <td>0.409935</td>\n",
       "      <td>0.450550</td>\n",
       "      <td>0.434886</td>\n",
       "      <td>0.450550</td>\n",
       "    </tr>\n",
       "    <tr>\n",
       "      <th>5</th>\n",
       "      <td>DMOZ</td>\n",
       "      <td>True</td>\n",
       "      <td>1</td>\n",
       "      <td>False</td>\n",
       "      <td>0.399640</td>\n",
       "      <td>0.448950</td>\n",
       "      <td>0.430388</td>\n",
       "      <td>0.448950</td>\n",
       "    </tr>\n",
       "    <tr>\n",
       "      <th>6</th>\n",
       "      <td>DMOZ</td>\n",
       "      <td>False</td>\n",
       "      <td>1</td>\n",
       "      <td>True</td>\n",
       "      <td>0.064630</td>\n",
       "      <td>0.242050</td>\n",
       "      <td>0.143483</td>\n",
       "      <td>0.242050</td>\n",
       "    </tr>\n",
       "    <tr>\n",
       "      <th>7</th>\n",
       "      <td>DMOZ</td>\n",
       "      <td>False</td>\n",
       "      <td>1</td>\n",
       "      <td>False</td>\n",
       "      <td>0.197836</td>\n",
       "      <td>0.289000</td>\n",
       "      <td>0.250787</td>\n",
       "      <td>0.289000</td>\n",
       "    </tr>\n",
       "    <tr>\n",
       "      <th>8</th>\n",
       "      <td>ILP</td>\n",
       "      <td>True</td>\n",
       "      <td>0</td>\n",
       "      <td>True</td>\n",
       "      <td>0.544896</td>\n",
       "      <td>0.716282</td>\n",
       "      <td>0.714970</td>\n",
       "      <td>0.716282</td>\n",
       "    </tr>\n",
       "    <tr>\n",
       "      <th>9</th>\n",
       "      <td>ILP</td>\n",
       "      <td>True</td>\n",
       "      <td>0</td>\n",
       "      <td>False</td>\n",
       "      <td>0.612350</td>\n",
       "      <td>0.773390</td>\n",
       "      <td>0.764284</td>\n",
       "      <td>0.773390</td>\n",
       "    </tr>\n",
       "    <tr>\n",
       "      <th>10</th>\n",
       "      <td>ILP</td>\n",
       "      <td>False</td>\n",
       "      <td>0</td>\n",
       "      <td>True</td>\n",
       "      <td>0.089353</td>\n",
       "      <td>0.455043</td>\n",
       "      <td>0.284615</td>\n",
       "      <td>0.455043</td>\n",
       "    </tr>\n",
       "    <tr>\n",
       "      <th>11</th>\n",
       "      <td>ILP</td>\n",
       "      <td>False</td>\n",
       "      <td>0</td>\n",
       "      <td>False</td>\n",
       "      <td>0.558109</td>\n",
       "      <td>0.731470</td>\n",
       "      <td>0.719699</td>\n",
       "      <td>0.731470</td>\n",
       "    </tr>\n",
       "    <tr>\n",
       "      <th>12</th>\n",
       "      <td>ILP</td>\n",
       "      <td>True</td>\n",
       "      <td>1</td>\n",
       "      <td>True</td>\n",
       "      <td>0.571020</td>\n",
       "      <td>0.730255</td>\n",
       "      <td>0.721050</td>\n",
       "      <td>0.730255</td>\n",
       "    </tr>\n",
       "    <tr>\n",
       "      <th>13</th>\n",
       "      <td>ILP</td>\n",
       "      <td>True</td>\n",
       "      <td>1</td>\n",
       "      <td>False</td>\n",
       "      <td>0.605604</td>\n",
       "      <td>0.772175</td>\n",
       "      <td>0.766246</td>\n",
       "      <td>0.772175</td>\n",
       "    </tr>\n",
       "    <tr>\n",
       "      <th>14</th>\n",
       "      <td>ILP</td>\n",
       "      <td>False</td>\n",
       "      <td>1</td>\n",
       "      <td>True</td>\n",
       "      <td>0.288269</td>\n",
       "      <td>0.527339</td>\n",
       "      <td>0.452485</td>\n",
       "      <td>0.527339</td>\n",
       "    </tr>\n",
       "    <tr>\n",
       "      <th>15</th>\n",
       "      <td>ILP</td>\n",
       "      <td>False</td>\n",
       "      <td>1</td>\n",
       "      <td>False</td>\n",
       "      <td>0.569432</td>\n",
       "      <td>0.735115</td>\n",
       "      <td>0.725656</td>\n",
       "      <td>0.735115</td>\n",
       "    </tr>\n",
       "    <tr>\n",
       "      <th>16</th>\n",
       "      <td>Phishing</td>\n",
       "      <td>True</td>\n",
       "      <td>0</td>\n",
       "      <td>True</td>\n",
       "      <td>0.988513</td>\n",
       "      <td>0.992171</td>\n",
       "      <td>0.992155</td>\n",
       "      <td>0.992171</td>\n",
       "    </tr>\n",
       "    <tr>\n",
       "      <th>17</th>\n",
       "      <td>Phishing</td>\n",
       "      <td>True</td>\n",
       "      <td>0</td>\n",
       "      <td>False</td>\n",
       "      <td>0.997580</td>\n",
       "      <td>0.998346</td>\n",
       "      <td>0.998345</td>\n",
       "      <td>0.998346</td>\n",
       "    </tr>\n",
       "    <tr>\n",
       "      <th>18</th>\n",
       "      <td>Phishing</td>\n",
       "      <td>False</td>\n",
       "      <td>0</td>\n",
       "      <td>True</td>\n",
       "      <td>0.755342</td>\n",
       "      <td>0.871540</td>\n",
       "      <td>0.850067</td>\n",
       "      <td>0.871540</td>\n",
       "    </tr>\n",
       "    <tr>\n",
       "      <th>19</th>\n",
       "      <td>Phishing</td>\n",
       "      <td>False</td>\n",
       "      <td>0</td>\n",
       "      <td>False</td>\n",
       "      <td>0.993692</td>\n",
       "      <td>0.995700</td>\n",
       "      <td>0.995691</td>\n",
       "      <td>0.995700</td>\n",
       "    </tr>\n",
       "    <tr>\n",
       "      <th>20</th>\n",
       "      <td>Phishing</td>\n",
       "      <td>True</td>\n",
       "      <td>1</td>\n",
       "      <td>True</td>\n",
       "      <td>0.992084</td>\n",
       "      <td>0.994597</td>\n",
       "      <td>0.994590</td>\n",
       "      <td>0.994597</td>\n",
       "    </tr>\n",
       "    <tr>\n",
       "      <th>21</th>\n",
       "      <td>Phishing</td>\n",
       "      <td>True</td>\n",
       "      <td>1</td>\n",
       "      <td>False</td>\n",
       "      <td>0.996933</td>\n",
       "      <td>0.997905</td>\n",
       "      <td>0.997903</td>\n",
       "      <td>0.997905</td>\n",
       "    </tr>\n",
       "    <tr>\n",
       "      <th>22</th>\n",
       "      <td>Phishing</td>\n",
       "      <td>False</td>\n",
       "      <td>1</td>\n",
       "      <td>True</td>\n",
       "      <td>0.652865</td>\n",
       "      <td>0.824126</td>\n",
       "      <td>0.789847</td>\n",
       "      <td>0.824126</td>\n",
       "    </tr>\n",
       "    <tr>\n",
       "      <th>23</th>\n",
       "      <td>Phishing</td>\n",
       "      <td>False</td>\n",
       "      <td>1</td>\n",
       "      <td>False</td>\n",
       "      <td>0.994170</td>\n",
       "      <td>0.996030</td>\n",
       "      <td>0.996020</td>\n",
       "      <td>0.996030</td>\n",
       "    </tr>\n",
       "  </tbody>\n",
       "</table>\n",
       "</div>"
      ],
      "text/plain": [
       "     Dataset  Use TfIdf  Feat Group  Only Include  F1 Macro  F1 Micro  \\\n",
       "0       DMOZ       True           0          True  0.402137  0.443950   \n",
       "1       DMOZ       True           0         False  0.400627  0.446400   \n",
       "2       DMOZ      False           0          True  0.035360  0.177950   \n",
       "3       DMOZ      False           0         False  0.190412  0.282850   \n",
       "4       DMOZ       True           1          True  0.409935  0.450550   \n",
       "5       DMOZ       True           1         False  0.399640  0.448950   \n",
       "6       DMOZ      False           1          True  0.064630  0.242050   \n",
       "7       DMOZ      False           1         False  0.197836  0.289000   \n",
       "8        ILP       True           0          True  0.544896  0.716282   \n",
       "9        ILP       True           0         False  0.612350  0.773390   \n",
       "10       ILP      False           0          True  0.089353  0.455043   \n",
       "11       ILP      False           0         False  0.558109  0.731470   \n",
       "12       ILP       True           1          True  0.571020  0.730255   \n",
       "13       ILP       True           1         False  0.605604  0.772175   \n",
       "14       ILP      False           1          True  0.288269  0.527339   \n",
       "15       ILP      False           1         False  0.569432  0.735115   \n",
       "16  Phishing       True           0          True  0.988513  0.992171   \n",
       "17  Phishing       True           0         False  0.997580  0.998346   \n",
       "18  Phishing      False           0          True  0.755342  0.871540   \n",
       "19  Phishing      False           0         False  0.993692  0.995700   \n",
       "20  Phishing       True           1          True  0.992084  0.994597   \n",
       "21  Phishing       True           1         False  0.996933  0.997905   \n",
       "22  Phishing      False           1          True  0.652865  0.824126   \n",
       "23  Phishing      False           1         False  0.994170  0.996030   \n",
       "\n",
       "    F1 Weighted       Acc  \n",
       "0      0.428770  0.443950  \n",
       "1      0.428312  0.446400  \n",
       "2      0.079925  0.177950  \n",
       "3      0.243683  0.282850  \n",
       "4      0.434886  0.450550  \n",
       "5      0.430388  0.448950  \n",
       "6      0.143483  0.242050  \n",
       "7      0.250787  0.289000  \n",
       "8      0.714970  0.716282  \n",
       "9      0.764284  0.773390  \n",
       "10     0.284615  0.455043  \n",
       "11     0.719699  0.731470  \n",
       "12     0.721050  0.730255  \n",
       "13     0.766246  0.772175  \n",
       "14     0.452485  0.527339  \n",
       "15     0.725656  0.735115  \n",
       "16     0.992155  0.992171  \n",
       "17     0.998345  0.998346  \n",
       "18     0.850067  0.871540  \n",
       "19     0.995691  0.995700  \n",
       "20     0.994590  0.994597  \n",
       "21     0.997903  0.997905  \n",
       "22     0.789847  0.824126  \n",
       "23     0.996020  0.996030  "
      ]
     },
     "execution_count": 12,
     "metadata": {},
     "output_type": "execute_result"
    }
   ],
   "source": [
    "df = pd.DataFrame(rows)\n",
    "df"
   ]
  },
  {
   "cell_type": "code",
   "execution_count": 27,
   "metadata": {},
   "outputs": [],
   "source": [
    "def split_dataset(df):\n",
    "    dropper = lambda df: df.drop(['Use TfIdf', 'Only Include'], axis=1)\n",
    "    \n",
    "    with_tfidf = df[df['Use TfIdf'] == True]\n",
    "    with_tfidf_include = with_tfidf[with_tfidf['Only Include'] == True]\n",
    "    with_tfidf_exclude = with_tfidf[with_tfidf['Only Include'] == False]\n",
    "    \n",
    "    without_tfidf = df[df['Use TfIdf'] == False]\n",
    "    without_tfidf_include = without_tfidf[without_tfidf['Only Include'] == True]\n",
    "    without_tfidf_exclude = without_tfidf[without_tfidf['Only Include'] == False]\n",
    "    \n",
    "    return (\n",
    "        with_tfidf_include.drop(['Use TfIdf', 'Only Include'], axis=1),\n",
    "        with_tfidf_exclude.drop(['Use TfIdf', 'Only Include'], axis=1),\n",
    "        without_tfidf_include.drop(['Use TfIdf', 'Only Include'], axis=1),\n",
    "        without_tfidf_exclude.drop(['Use TfIdf', 'Only Include'], axis=1)\n",
    "    )\n",
    "\n",
    "with_tfidf_include, with_tfidf_exclude, without_tfidf_include, without_tfidf_exclude = \\\n",
    "    split_dataset(df)"
   ]
  },
  {
   "cell_type": "code",
   "execution_count": 74,
   "metadata": {},
   "outputs": [],
   "source": [
    "def show_stats(df, desc, y='F1 Macro'):\n",
    "    sns.catplot(data=df, x='Feat Group', y='F1 Macro',\n",
    "            col='Dataset', kind='bar')\n",
    "    plt.show()\n",
    "    print(df.to_latex(caption=desc, float_format='%.4f', index=False))\n",
    "    return df"
   ]
  },
  {
   "cell_type": "code",
   "execution_count": 75,
   "metadata": {
    "scrolled": false
   },
   "outputs": [
    {
     "data": {
      "image/png": "[encoded data removed]",
      "text/plain": [
       "<Figure size 1080x360 with 3 Axes>"
      ]
     },
     "metadata": {},
     "output_type": "display_data"
    },
    {
     "name": "stdout",
     "output_type": "stream",
     "text": [
      "\\begin{table}\n",
      "\\centering\n",
      "\\caption{With TfIdf Include}\n",
      "\\begin{tabular}{lrrrrr}\n",
      "\\toprule\n",
      "  Dataset &  Feat Group &  F1 Macro &  F1 Micro &  F1 Weighted &    Acc \\\\\n",
      "\\midrule\n",
      "     DMOZ &           0 &    0.4021 &    0.4440 &       0.4288 & 0.4440 \\\\\n",
      "     DMOZ &           1 &    0.4099 &    0.4506 &       0.4349 & 0.4506 \\\\\n",
      "      ILP &           0 &    0.5449 &    0.7163 &       0.7150 & 0.7163 \\\\\n",
      "      ILP &           1 &    0.5710 &    0.7303 &       0.7210 & 0.7303 \\\\\n",
      " Phishing &           0 &    0.9885 &    0.9922 &       0.9922 & 0.9922 \\\\\n",
      " Phishing &           1 &    0.9921 &    0.9946 &       0.9946 & 0.9946 \\\\\n",
      "\\bottomrule\n",
      "\\end{tabular}\n",
      "\\end{table}\n",
      "\n"
     ]
    },
    {
     "data": {
      "text/html": [
       "<div>\n",
       "<style scoped>\n",
       "    .dataframe tbody tr th:only-of-type {\n",
       "        vertical-align: middle;\n",
       "    }\n",
       "\n",
       "    .dataframe tbody tr th {\n",
       "        vertical-align: top;\n",
       "    }\n",
       "\n",
       "    .dataframe thead th {\n",
       "        text-align: right;\n",
       "    }\n",
       "</style>\n",
       "<table border=\"1\" class=\"dataframe\">\n",
       "  <thead>\n",
       "    <tr style=\"text-align: right;\">\n",
       "      <th></th>\n",
       "      <th>Dataset</th>\n",
       "      <th>Feat Group</th>\n",
       "      <th>F1 Macro</th>\n",
       "      <th>F1 Micro</th>\n",
       "      <th>F1 Weighted</th>\n",
       "      <th>Acc</th>\n",
       "    </tr>\n",
       "  </thead>\n",
       "  <tbody>\n",
       "    <tr>\n",
       "      <th>0</th>\n",
       "      <td>DMOZ</td>\n",
       "      <td>0</td>\n",
       "      <td>0.402137</td>\n",
       "      <td>0.443950</td>\n",
       "      <td>0.428770</td>\n",
       "      <td>0.443950</td>\n",
       "    </tr>\n",
       "    <tr>\n",
       "      <th>4</th>\n",
       "      <td>DMOZ</td>\n",
       "      <td>1</td>\n",
       "      <td>0.409935</td>\n",
       "      <td>0.450550</td>\n",
       "      <td>0.434886</td>\n",
       "      <td>0.450550</td>\n",
       "    </tr>\n",
       "    <tr>\n",
       "      <th>8</th>\n",
       "      <td>ILP</td>\n",
       "      <td>0</td>\n",
       "      <td>0.544896</td>\n",
       "      <td>0.716282</td>\n",
       "      <td>0.714970</td>\n",
       "      <td>0.716282</td>\n",
       "    </tr>\n",
       "    <tr>\n",
       "      <th>12</th>\n",
       "      <td>ILP</td>\n",
       "      <td>1</td>\n",
       "      <td>0.571020</td>\n",
       "      <td>0.730255</td>\n",
       "      <td>0.721050</td>\n",
       "      <td>0.730255</td>\n",
       "    </tr>\n",
       "    <tr>\n",
       "      <th>16</th>\n",
       "      <td>Phishing</td>\n",
       "      <td>0</td>\n",
       "      <td>0.988513</td>\n",
       "      <td>0.992171</td>\n",
       "      <td>0.992155</td>\n",
       "      <td>0.992171</td>\n",
       "    </tr>\n",
       "    <tr>\n",
       "      <th>20</th>\n",
       "      <td>Phishing</td>\n",
       "      <td>1</td>\n",
       "      <td>0.992084</td>\n",
       "      <td>0.994597</td>\n",
       "      <td>0.994590</td>\n",
       "      <td>0.994597</td>\n",
       "    </tr>\n",
       "  </tbody>\n",
       "</table>\n",
       "</div>"
      ],
      "text/plain": [
       "     Dataset  Feat Group  F1 Macro  F1 Micro  F1 Weighted       Acc\n",
       "0       DMOZ           0  0.402137  0.443950     0.428770  0.443950\n",
       "4       DMOZ           1  0.409935  0.450550     0.434886  0.450550\n",
       "8        ILP           0  0.544896  0.716282     0.714970  0.716282\n",
       "12       ILP           1  0.571020  0.730255     0.721050  0.730255\n",
       "16  Phishing           0  0.988513  0.992171     0.992155  0.992171\n",
       "20  Phishing           1  0.992084  0.994597     0.994590  0.994597"
      ]
     },
     "execution_count": 75,
     "metadata": {},
     "output_type": "execute_result"
    }
   ],
   "source": [
    "show_stats(with_tfidf_include, 'With TfIdf Include')"
   ]
  },
  {
   "cell_type": "code",
   "execution_count": 76,
   "metadata": {},
   "outputs": [
    {
     "data": {
      "image/png": "[encoded data removed]",
      "text/plain": [
       "<Figure size 1080x360 with 3 Axes>"
      ]
     },
     "metadata": {},
     "output_type": "display_data"
    },
    {
     "name": "stdout",
     "output_type": "stream",
     "text": [
      "\\begin{table}\n",
      "\\centering\n",
      "\\caption{With TfIdf Exclude}\n",
      "\\begin{tabular}{lrrrrr}\n",
      "\\toprule\n",
      "  Dataset &  Feat Group &  F1 Macro &  F1 Micro &  F1 Weighted &    Acc \\\\\n",
      "\\midrule\n",
      "     DMOZ &           0 &    0.4006 &    0.4464 &       0.4283 & 0.4464 \\\\\n",
      "     DMOZ &           1 &    0.3996 &    0.4489 &       0.4304 & 0.4490 \\\\\n",
      "      ILP &           0 &    0.6123 &    0.7734 &       0.7643 & 0.7734 \\\\\n",
      "      ILP &           1 &    0.6056 &    0.7722 &       0.7662 & 0.7722 \\\\\n",
      " Phishing &           0 &    0.9976 &    0.9983 &       0.9983 & 0.9983 \\\\\n",
      " Phishing &           1 &    0.9969 &    0.9979 &       0.9979 & 0.9979 \\\\\n",
      "\\bottomrule\n",
      "\\end{tabular}\n",
      "\\end{table}\n",
      "\n"
     ]
    },
    {
     "data": {
      "text/html": [
       "<div>\n",
       "<style scoped>\n",
       "    .dataframe tbody tr th:only-of-type {\n",
       "        vertical-align: middle;\n",
       "    }\n",
       "\n",
       "    .dataframe tbody tr th {\n",
       "        vertical-align: top;\n",
       "    }\n",
       "\n",
       "    .dataframe thead th {\n",
       "        text-align: right;\n",
       "    }\n",
       "</style>\n",
       "<table border=\"1\" class=\"dataframe\">\n",
       "  <thead>\n",
       "    <tr style=\"text-align: right;\">\n",
       "      <th></th>\n",
       "      <th>Dataset</th>\n",
       "      <th>Feat Group</th>\n",
       "      <th>F1 Macro</th>\n",
       "      <th>F1 Micro</th>\n",
       "      <th>F1 Weighted</th>\n",
       "      <th>Acc</th>\n",
       "    </tr>\n",
       "  </thead>\n",
       "  <tbody>\n",
       "    <tr>\n",
       "      <th>1</th>\n",
       "      <td>DMOZ</td>\n",
       "      <td>0</td>\n",
       "      <td>0.400627</td>\n",
       "      <td>0.446400</td>\n",
       "      <td>0.428312</td>\n",
       "      <td>0.446400</td>\n",
       "    </tr>\n",
       "    <tr>\n",
       "      <th>5</th>\n",
       "      <td>DMOZ</td>\n",
       "      <td>1</td>\n",
       "      <td>0.399640</td>\n",
       "      <td>0.448950</td>\n",
       "      <td>0.430388</td>\n",
       "      <td>0.448950</td>\n",
       "    </tr>\n",
       "    <tr>\n",
       "      <th>9</th>\n",
       "      <td>ILP</td>\n",
       "      <td>0</td>\n",
       "      <td>0.612350</td>\n",
       "      <td>0.773390</td>\n",
       "      <td>0.764284</td>\n",
       "      <td>0.773390</td>\n",
       "    </tr>\n",
       "    <tr>\n",
       "      <th>13</th>\n",
       "      <td>ILP</td>\n",
       "      <td>1</td>\n",
       "      <td>0.605604</td>\n",
       "      <td>0.772175</td>\n",
       "      <td>0.766246</td>\n",
       "      <td>0.772175</td>\n",
       "    </tr>\n",
       "    <tr>\n",
       "      <th>17</th>\n",
       "      <td>Phishing</td>\n",
       "      <td>0</td>\n",
       "      <td>0.997580</td>\n",
       "      <td>0.998346</td>\n",
       "      <td>0.998345</td>\n",
       "      <td>0.998346</td>\n",
       "    </tr>\n",
       "    <tr>\n",
       "      <th>21</th>\n",
       "      <td>Phishing</td>\n",
       "      <td>1</td>\n",
       "      <td>0.996933</td>\n",
       "      <td>0.997905</td>\n",
       "      <td>0.997903</td>\n",
       "      <td>0.997905</td>\n",
       "    </tr>\n",
       "  </tbody>\n",
       "</table>\n",
       "</div>"
      ],
      "text/plain": [
       "     Dataset  Feat Group  F1 Macro  F1 Micro  F1 Weighted       Acc\n",
       "1       DMOZ           0  0.400627  0.446400     0.428312  0.446400\n",
       "5       DMOZ           1  0.399640  0.448950     0.430388  0.448950\n",
       "9        ILP           0  0.612350  0.773390     0.764284  0.773390\n",
       "13       ILP           1  0.605604  0.772175     0.766246  0.772175\n",
       "17  Phishing           0  0.997580  0.998346     0.998345  0.998346\n",
       "21  Phishing           1  0.996933  0.997905     0.997903  0.997905"
      ]
     },
     "execution_count": 76,
     "metadata": {},
     "output_type": "execute_result"
    }
   ],
   "source": [
    "show_stats(with_tfidf_exclude, 'With TfIdf Exclude')"
   ]
  },
  {
   "cell_type": "code",
   "execution_count": 77,
   "metadata": {},
   "outputs": [
    {
     "data": {
      "image/png": "[encoded data removed]",
      "text/plain": [
       "<Figure size 1080x360 with 3 Axes>"
      ]
     },
     "metadata": {},
     "output_type": "display_data"
    },
    {
     "name": "stdout",
     "output_type": "stream",
     "text": [
      "\\begin{table}\n",
      "\\centering\n",
      "\\caption{Without TfIdf Include}\n",
      "\\begin{tabular}{lrrrrr}\n",
      "\\toprule\n",
      "  Dataset &  Feat Group &  F1 Macro &  F1 Micro &  F1 Weighted &    Acc \\\\\n",
      "\\midrule\n",
      "     DMOZ &           0 &    0.0354 &    0.1779 &       0.0799 & 0.1779 \\\\\n",
      "     DMOZ &           1 &    0.0646 &    0.2420 &       0.1435 & 0.2420 \\\\\n",
      "      ILP &           0 &    0.0894 &    0.4550 &       0.2846 & 0.4550 \\\\\n",
      "      ILP &           1 &    0.2883 &    0.5273 &       0.4525 & 0.5273 \\\\\n",
      " Phishing &           0 &    0.7553 &    0.8715 &       0.8501 & 0.8715 \\\\\n",
      " Phishing &           1 &    0.6529 &    0.8241 &       0.7898 & 0.8241 \\\\\n",
      "\\bottomrule\n",
      "\\end{tabular}\n",
      "\\end{table}\n",
      "\n"
     ]
    },
    {
     "data": {
      "text/html": [
       "<div>\n",
       "<style scoped>\n",
       "    .dataframe tbody tr th:only-of-type {\n",
       "        vertical-align: middle;\n",
       "    }\n",
       "\n",
       "    .dataframe tbody tr th {\n",
       "        vertical-align: top;\n",
       "    }\n",
       "\n",
       "    .dataframe thead th {\n",
       "        text-align: right;\n",
       "    }\n",
       "</style>\n",
       "<table border=\"1\" class=\"dataframe\">\n",
       "  <thead>\n",
       "    <tr style=\"text-align: right;\">\n",
       "      <th></th>\n",
       "      <th>Dataset</th>\n",
       "      <th>Feat Group</th>\n",
       "      <th>F1 Macro</th>\n",
       "      <th>F1 Micro</th>\n",
       "      <th>F1 Weighted</th>\n",
       "      <th>Acc</th>\n",
       "    </tr>\n",
       "  </thead>\n",
       "  <tbody>\n",
       "    <tr>\n",
       "      <th>2</th>\n",
       "      <td>DMOZ</td>\n",
       "      <td>0</td>\n",
       "      <td>0.035360</td>\n",
       "      <td>0.177950</td>\n",
       "      <td>0.079925</td>\n",
       "      <td>0.177950</td>\n",
       "    </tr>\n",
       "    <tr>\n",
       "      <th>6</th>\n",
       "      <td>DMOZ</td>\n",
       "      <td>1</td>\n",
       "      <td>0.064630</td>\n",
       "      <td>0.242050</td>\n",
       "      <td>0.143483</td>\n",
       "      <td>0.242050</td>\n",
       "    </tr>\n",
       "    <tr>\n",
       "      <th>10</th>\n",
       "      <td>ILP</td>\n",
       "      <td>0</td>\n",
       "      <td>0.089353</td>\n",
       "      <td>0.455043</td>\n",
       "      <td>0.284615</td>\n",
       "      <td>0.455043</td>\n",
       "    </tr>\n",
       "    <tr>\n",
       "      <th>14</th>\n",
       "      <td>ILP</td>\n",
       "      <td>1</td>\n",
       "      <td>0.288269</td>\n",
       "      <td>0.527339</td>\n",
       "      <td>0.452485</td>\n",
       "      <td>0.527339</td>\n",
       "    </tr>\n",
       "    <tr>\n",
       "      <th>18</th>\n",
       "      <td>Phishing</td>\n",
       "      <td>0</td>\n",
       "      <td>0.755342</td>\n",
       "      <td>0.871540</td>\n",
       "      <td>0.850067</td>\n",
       "      <td>0.871540</td>\n",
       "    </tr>\n",
       "    <tr>\n",
       "      <th>22</th>\n",
       "      <td>Phishing</td>\n",
       "      <td>1</td>\n",
       "      <td>0.652865</td>\n",
       "      <td>0.824126</td>\n",
       "      <td>0.789847</td>\n",
       "      <td>0.824126</td>\n",
       "    </tr>\n",
       "  </tbody>\n",
       "</table>\n",
       "</div>"
      ],
      "text/plain": [
       "     Dataset  Feat Group  F1 Macro  F1 Micro  F1 Weighted       Acc\n",
       "2       DMOZ           0  0.035360  0.177950     0.079925  0.177950\n",
       "6       DMOZ           1  0.064630  0.242050     0.143483  0.242050\n",
       "10       ILP           0  0.089353  0.455043     0.284615  0.455043\n",
       "14       ILP           1  0.288269  0.527339     0.452485  0.527339\n",
       "18  Phishing           0  0.755342  0.871540     0.850067  0.871540\n",
       "22  Phishing           1  0.652865  0.824126     0.789847  0.824126"
      ]
     },
     "execution_count": 77,
     "metadata": {},
     "output_type": "execute_result"
    }
   ],
   "source": [
    "show_stats(without_tfidf_include, 'Without TfIdf Include')"
   ]
  },
  {
   "cell_type": "code",
   "execution_count": 78,
   "metadata": {},
   "outputs": [
    {
     "data": {
      "image/png": "[encoded data removed]",
      "text/plain": [
       "<Figure size 1080x360 with 3 Axes>"
      ]
     },
     "metadata": {},
     "output_type": "display_data"
    },
    {
     "name": "stdout",
     "output_type": "stream",
     "text": [
      "\\begin{table}\n",
      "\\centering\n",
      "\\caption{Without TfIdf Exclude}\n",
      "\\begin{tabular}{lrrrrr}\n",
      "\\toprule\n",
      "  Dataset &  Feat Group &  F1 Macro &  F1 Micro &  F1 Weighted &    Acc \\\\\n",
      "\\midrule\n",
      "     DMOZ &           0 &    0.1904 &    0.2828 &       0.2437 & 0.2828 \\\\\n",
      "     DMOZ &           1 &    0.1978 &    0.2890 &       0.2508 & 0.2890 \\\\\n",
      "      ILP &           0 &    0.5581 &    0.7315 &       0.7197 & 0.7315 \\\\\n",
      "      ILP &           1 &    0.5694 &    0.7351 &       0.7257 & 0.7351 \\\\\n",
      " Phishing &           0 &    0.9937 &    0.9957 &       0.9957 & 0.9957 \\\\\n",
      " Phishing &           1 &    0.9942 &    0.9960 &       0.9960 & 0.9960 \\\\\n",
      "\\bottomrule\n",
      "\\end{tabular}\n",
      "\\end{table}\n",
      "\n"
     ]
    },
    {
     "data": {
      "text/html": [
       "<div>\n",
       "<style scoped>\n",
       "    .dataframe tbody tr th:only-of-type {\n",
       "        vertical-align: middle;\n",
       "    }\n",
       "\n",
       "    .dataframe tbody tr th {\n",
       "        vertical-align: top;\n",
       "    }\n",
       "\n",
       "    .dataframe thead th {\n",
       "        text-align: right;\n",
       "    }\n",
       "</style>\n",
       "<table border=\"1\" class=\"dataframe\">\n",
       "  <thead>\n",
       "    <tr style=\"text-align: right;\">\n",
       "      <th></th>\n",
       "      <th>Dataset</th>\n",
       "      <th>Feat Group</th>\n",
       "      <th>F1 Macro</th>\n",
       "      <th>F1 Micro</th>\n",
       "      <th>F1 Weighted</th>\n",
       "      <th>Acc</th>\n",
       "    </tr>\n",
       "  </thead>\n",
       "  <tbody>\n",
       "    <tr>\n",
       "      <th>3</th>\n",
       "      <td>DMOZ</td>\n",
       "      <td>0</td>\n",
       "      <td>0.190412</td>\n",
       "      <td>0.282850</td>\n",
       "      <td>0.243683</td>\n",
       "      <td>0.282850</td>\n",
       "    </tr>\n",
       "    <tr>\n",
       "      <th>7</th>\n",
       "      <td>DMOZ</td>\n",
       "      <td>1</td>\n",
       "      <td>0.197836</td>\n",
       "      <td>0.289000</td>\n",
       "      <td>0.250787</td>\n",
       "      <td>0.289000</td>\n",
       "    </tr>\n",
       "    <tr>\n",
       "      <th>11</th>\n",
       "      <td>ILP</td>\n",
       "      <td>0</td>\n",
       "      <td>0.558109</td>\n",
       "      <td>0.731470</td>\n",
       "      <td>0.719699</td>\n",
       "      <td>0.731470</td>\n",
       "    </tr>\n",
       "    <tr>\n",
       "      <th>15</th>\n",
       "      <td>ILP</td>\n",
       "      <td>1</td>\n",
       "      <td>0.569432</td>\n",
       "      <td>0.735115</td>\n",
       "      <td>0.725656</td>\n",
       "      <td>0.735115</td>\n",
       "    </tr>\n",
       "    <tr>\n",
       "      <th>19</th>\n",
       "      <td>Phishing</td>\n",
       "      <td>0</td>\n",
       "      <td>0.993692</td>\n",
       "      <td>0.995700</td>\n",
       "      <td>0.995691</td>\n",
       "      <td>0.995700</td>\n",
       "    </tr>\n",
       "    <tr>\n",
       "      <th>23</th>\n",
       "      <td>Phishing</td>\n",
       "      <td>1</td>\n",
       "      <td>0.994170</td>\n",
       "      <td>0.996030</td>\n",
       "      <td>0.996020</td>\n",
       "      <td>0.996030</td>\n",
       "    </tr>\n",
       "  </tbody>\n",
       "</table>\n",
       "</div>"
      ],
      "text/plain": [
       "     Dataset  Feat Group  F1 Macro  F1 Micro  F1 Weighted       Acc\n",
       "3       DMOZ           0  0.190412  0.282850     0.243683  0.282850\n",
       "7       DMOZ           1  0.197836  0.289000     0.250787  0.289000\n",
       "11       ILP           0  0.558109  0.731470     0.719699  0.731470\n",
       "15       ILP           1  0.569432  0.735115     0.725656  0.735115\n",
       "19  Phishing           0  0.993692  0.995700     0.995691  0.995700\n",
       "23  Phishing           1  0.994170  0.996030     0.996020  0.996030"
      ]
     },
     "execution_count": 78,
     "metadata": {},
     "output_type": "execute_result"
    }
   ],
   "source": [
    "show_stats(without_tfidf_exclude, 'Without TfIdf Exclude')"
   ]
  },
  {
   "cell_type": "code",
   "execution_count": null,
   "metadata": {},
   "outputs": [],
   "source": []
  }
 ],
 "metadata": {
  "kernelspec": {
   "display_name": "Python 3",
   "language": "python",
   "name": "python3"
  },
  "language_info": {
   "codemirror_mode": {
    "name": "ipython",
    "version": 3
   },
   "file_extension": ".py",
   "mimetype": "text/x-python",
   "name": "python",
   "nbconvert_exporter": "python",
   "pygments_lexer": "ipython3",
   "version": "3.8.5"
  }
 },
 "nbformat": 4,
 "nbformat_minor": 4
}
