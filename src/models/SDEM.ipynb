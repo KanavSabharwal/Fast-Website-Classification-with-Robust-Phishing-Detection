{
 "cells": [
  {
   "cell_type": "markdown",
   "metadata": {
    "id": "IZ6SNYq_tVVC"
   },
   "source": [
    "# Encoding Word Embeddings with Hand Picked Features\n",
    "\n",
    "URLS"
   ]
  },
  {
   "cell_type": "markdown",
   "metadata": {
    "id": "Qg3WVlaMvCLY"
   },
   "source": [
    "# Constants\n",
    "\n",
    "Here, you can alter the dataset, maximum number of samples to use, etc."
   ]
  },
  {
   "cell_type": "code",
   "execution_count": null,
   "metadata": {
    "id": "e2L15ZravBU2"
   },
   "outputs": [],
   "source": [
    "DMOZ, ILP, PHISHING = 'dmoz', 'ilp', 'phishing'\n",
    "\n",
    "DATASET = DMOZ  # one of the above datsets\n",
    "MAX_NUM_SAMPLES = 1_000_000\n",
    "\n",
    "TEST_PROP = 0.2\n",
    "VAL_PROP = 0.2\n",
    "EPOCHS = 8\n",
    "\n",
    "SEED = 42"
   ]
  },
  {
   "cell_type": "markdown",
   "metadata": {
    "id": "SCjmX4zTCkRK"
   },
   "source": [
    "## Setup\n"
   ]
  },
  {
   "cell_type": "markdown",
   "metadata": {
    "id": "5w_XlxN1IsRJ"
   },
   "source": [
    "You will use the AdamW optimizer from [tensorflow/models](https://github.com/tensorflow/models)."
   ]
  },
  {
   "cell_type": "code",
   "execution_count": null,
   "metadata": {
    "colab": {
     "base_uri": "https://localhost:8080/"
    },
    "id": "5V211dJtTvNo",
    "outputId": "9a23739a-adc7-4b49-f0fe-c9576207eaa5"
   },
   "outputs": [
    {
     "name": "stdout",
     "output_type": "stream",
     "text": [
      "Cloning into 'nlp-project'...\n",
      "remote: Enumerating objects: 60, done.\u001b[K\n",
      "remote: Counting objects: 100% (60/60), done.\u001b[K\n",
      "remote: Compressing objects: 100% (49/49), done.\u001b[K\n",
      "remote: Total 60 (delta 6), reused 35 (delta 3), pack-reused 0\u001b[K\n",
      "Unpacking objects: 100% (60/60), done.\n",
      "/content/nlp-project/src\n"
     ]
    }
   ],
   "source": [
    "command = f'git clone --depth 1 https://github.com/shmulvad/nlp-project.git'\n",
    "!{command}\n",
    "\n",
    "%cd nlp-project/src"
   ]
  },
  {
   "cell_type": "code",
   "execution_count": null,
   "metadata": {
    "colab": {
     "base_uri": "https://localhost:8080/"
    },
    "id": "VwaG2TGYN3c8",
    "outputId": "ba7b7da9-edc1-4606-93a0-15916a698ac8"
   },
   "outputs": [
    {
     "name": "stdout",
     "output_type": "stream",
     "text": [
      "Requirement already satisfied: gdown in /usr/local/lib/python3.7/dist-packages (3.6.4)\n",
      "Requirement already satisfied: six in /usr/local/lib/python3.7/dist-packages (from gdown) (1.15.0)\n",
      "Requirement already satisfied: requests in /usr/local/lib/python3.7/dist-packages (from gdown) (2.23.0)\n",
      "Requirement already satisfied: tqdm in /usr/local/lib/python3.7/dist-packages (from gdown) (4.41.1)\n",
      "Requirement already satisfied: chardet<4,>=3.0.2 in /usr/local/lib/python3.7/dist-packages (from requests->gdown) (3.0.4)\n",
      "Requirement already satisfied: certifi>=2017.4.17 in /usr/local/lib/python3.7/dist-packages (from requests->gdown) (2020.12.5)\n",
      "Requirement already satisfied: urllib3!=1.25.0,!=1.25.1,<1.26,>=1.21.1 in /usr/local/lib/python3.7/dist-packages (from requests->gdown) (1.24.3)\n",
      "Requirement already satisfied: idna<3,>=2.5 in /usr/local/lib/python3.7/dist-packages (from requests->gdown) (2.10)\n",
      "Downloading...\n",
      "From: https://drive.google.com/uc?id=1WV1JSevCnaWY0-mqQMmtOEFSC3Y_Qdg_\n",
      "To: /content/nlp-project/src/datasets.pkl\n",
      "99.4MB [00:00, 139MB/s]\n",
      "\n",
      "\n",
      " baselines\t\t    read_data.py\n",
      "'Colab Notebooks'\t    requirements.txt\n",
      " create_fasttext_embed.py   run_feat_experiments.ipynb\n",
      " data\t\t\t    self_trained_embeddings.py\n",
      " datasets.pkl\t\t    tests\n",
      " demo.ipynb\t\t    url_tokenizer.py\n",
      " feat-experiments.pickle    util.py\n",
      " featurizer.py\t\t    word_embed\n",
      " pickle_data.py\n"
     ]
    }
   ],
   "source": [
    "!pip install gdown\n",
    "\n",
    "# DMOZ, ILP and original phishing dataset - datasets.pkl\n",
    "!gdown --id 1WV1JSevCnaWY0-mqQMmtOEFSC3Y_Qdg_\n",
    "\n",
    "print('\\n')\n",
    "!ls"
   ]
  },
  {
   "cell_type": "code",
   "execution_count": null,
   "metadata": {
    "colab": {
     "base_uri": "https://localhost:8080/"
    },
    "id": "EXdo1h1lUqoO",
    "outputId": "505a3cb6-d79b-4d8a-ce74-8ac4336a07e0"
   },
   "outputs": [
    {
     "name": "stdout",
     "output_type": "stream",
     "text": [
      "\u001b[K     |████████████████████████████████| 3.4MB 7.9MB/s \n",
      "\u001b[K     |████████████████████████████████| 1.1MB 9.2MB/s \n",
      "\u001b[K     |████████████████████████████████| 1.2MB 33.5MB/s \n",
      "\u001b[K     |████████████████████████████████| 706kB 50.1MB/s \n",
      "\u001b[K     |████████████████████████████████| 102kB 14.2MB/s \n",
      "\u001b[K     |████████████████████████████████| 174kB 51.6MB/s \n",
      "\u001b[K     |████████████████████████████████| 51kB 8.5MB/s \n",
      "\u001b[K     |████████████████████████████████| 358kB 50.3MB/s \n",
      "\u001b[K     |████████████████████████████████| 645kB 54.0MB/s \n",
      "\u001b[K     |████████████████████████████████| 37.6MB 81kB/s \n",
      "\u001b[?25h  Building wheel for py-cpuinfo (setup.py) ... \u001b[?25l\u001b[?25hdone\n",
      "  Building wheel for seqeval (setup.py) ... \u001b[?25l\u001b[?25hdone\n",
      "Requirement already satisfied: pandas in /usr/local/lib/python3.7/dist-packages (from -r requirements.txt (line 1)) (1.1.5)\n",
      "Requirement already satisfied: numpy in /usr/local/lib/python3.7/dist-packages (from -r requirements.txt (line 2)) (1.19.5)\n",
      "Collecting wordninja\n",
      "\u001b[?25l  Downloading https://files.pythonhosted.org/packages/30/15/abe4af50f4be92b60c25e43c1c64d08453b51e46c32981d80b3aebec0260/wordninja-2.0.0.tar.gz (541kB)\n",
      "\u001b[K     |████████████████████████████████| 542kB 7.5MB/s \n",
      "\u001b[?25hRequirement already satisfied: pytest in /usr/local/lib/python3.7/dist-packages (from -r requirements.txt (line 4)) (3.6.4)\n",
      "Collecting gensim==4.0.1\n",
      "\u001b[?25l  Downloading https://files.pythonhosted.org/packages/44/52/f1417772965652d4ca6f901515debcd9d6c5430969e8c02ee7737e6de61c/gensim-4.0.1-cp37-cp37m-manylinux1_x86_64.whl (23.9MB)\n",
      "\u001b[K     |████████████████████████████████| 23.9MB 138kB/s \n",
      "\u001b[?25hRequirement already satisfied: pytz>=2017.2 in /usr/local/lib/python3.7/dist-packages (from pandas->-r requirements.txt (line 1)) (2018.9)\n",
      "Requirement already satisfied: python-dateutil>=2.7.3 in /usr/local/lib/python3.7/dist-packages (from pandas->-r requirements.txt (line 1)) (2.8.1)\n",
      "Requirement already satisfied: attrs>=17.4.0 in /usr/local/lib/python3.7/dist-packages (from pytest->-r requirements.txt (line 4)) (20.3.0)\n",
      "Requirement already satisfied: more-itertools>=4.0.0 in /usr/local/lib/python3.7/dist-packages (from pytest->-r requirements.txt (line 4)) (8.7.0)\n",
      "Requirement already satisfied: py>=1.5.0 in /usr/local/lib/python3.7/dist-packages (from pytest->-r requirements.txt (line 4)) (1.10.0)\n",
      "Requirement already satisfied: setuptools in /usr/local/lib/python3.7/dist-packages (from pytest->-r requirements.txt (line 4)) (54.2.0)\n",
      "Requirement already satisfied: six>=1.10.0 in /usr/local/lib/python3.7/dist-packages (from pytest->-r requirements.txt (line 4)) (1.15.0)\n",
      "Requirement already satisfied: atomicwrites>=1.0 in /usr/local/lib/python3.7/dist-packages (from pytest->-r requirements.txt (line 4)) (1.4.0)\n",
      "Requirement already satisfied: pluggy<0.8,>=0.5 in /usr/local/lib/python3.7/dist-packages (from pytest->-r requirements.txt (line 4)) (0.7.1)\n",
      "Requirement already satisfied: smart-open>=1.8.1 in /usr/local/lib/python3.7/dist-packages (from gensim==4.0.1->-r requirements.txt (line 5)) (5.0.0)\n",
      "Requirement already satisfied: scipy>=0.18.1 in /usr/local/lib/python3.7/dist-packages (from gensim==4.0.1->-r requirements.txt (line 5)) (1.4.1)\n",
      "Building wheels for collected packages: wordninja\n",
      "  Building wheel for wordninja (setup.py) ... \u001b[?25l\u001b[?25hdone\n",
      "  Created wheel for wordninja: filename=wordninja-2.0.0-cp37-none-any.whl size=541554 sha256=825f350e5a0485b22ec26c6318ceefd1209046ac002eab0053a5de05d8c4009e\n",
      "  Stored in directory: /root/.cache/pip/wheels/22/46/06/9b6d10ed02c85e93c3bb33ac50e2d368b2586248f192a2e22a\n",
      "Successfully built wordninja\n",
      "Installing collected packages: wordninja, gensim\n",
      "  Found existing installation: gensim 3.6.0\n",
      "    Uninstalling gensim-3.6.0:\n",
      "      Successfully uninstalled gensim-3.6.0\n",
      "Successfully installed gensim-4.0.1 wordninja-2.0.0\n"
     ]
    }
   ],
   "source": [
    "# A dependency of the preprocessing for BERT inputs\n",
    "!pip install -q tensorflow-text\n",
    "!pip install -q tf-models-official\n",
    "!pip install -r requirements.txt"
   ]
  },
  {
   "cell_type": "code",
   "execution_count": null,
   "metadata": {
    "colab": {
     "base_uri": "https://localhost:8080/"
    },
    "id": "EZ5DQ06ZUupE",
    "outputId": "380417d7-3e13-4b41-a3a8-d876f58b9031"
   },
   "outputs": [
    {
     "name": "stderr",
     "output_type": "stream",
     "text": [
      "/usr/local/lib/python3.7/dist-packages/gensim/similarities/__init__.py:15: UserWarning: The gensim.similarities.levenshtein submodule is disabled, because the optional Levenshtein package <https://pypi.org/project/python-Levenshtein/> is unavailable. Install Levenhstein (e.g. `pip install python-Levenshtein`) to suppress this warning.\n",
      "  warnings.warn(msg)\n"
     ]
    }
   ],
   "source": [
    "import os\n",
    "import shutil\n",
    "import random\n",
    "import pickle\n",
    "\n",
    "from sklearn.metrics import f1_score, precision_score, recall_score\n",
    "from sklearn.metrics import confusion_matrix, ConfusionMatrixDisplay\n",
    "from sklearn.model_selection import train_test_split\n",
    "\n",
    "from pprint import pprint\n",
    "import numpy as np\n",
    "import pandas as pd\n",
    "import tensorflow as tf\n",
    "import tensorflow_hub as hub\n",
    "import tensorflow_text as text\n",
    "from official.nlp import optimization  # to create AdamW optmizer\n",
    "\n",
    "import gensim\n",
    "from gensim.models.keyedvectors import FastTextKeyedVectors\n",
    "\n",
    "import matplotlib\n",
    "import matplotlib.pyplot as plt\n",
    "import seaborn as sns\n",
    "\n",
    "sns.set()\n",
    "tf.get_logger().setLevel('ERROR')\n",
    "np.random.seed(SEED)\n",
    "\n",
    "from read_data import read_all_datasets\n",
    "from url_tokenizer import url_tokenizer, flatten_url_data\n",
    "from featurizer import UrlFeaturizer, GLOVE, CONCEPTNET, SAMPLE"
   ]
  },
  {
   "cell_type": "code",
   "execution_count": null,
   "metadata": {
    "colab": {
     "base_uri": "https://localhost:8080/",
     "height": 419
    },
    "id": "yQBY-p4JuMvm",
    "outputId": "46874dd5-e36b-43c7-b6c0-462776627bb0"
   },
   "outputs": [
    {
     "data": {
      "text/html": [
       "<div>\n",
       "<style scoped>\n",
       "    .dataframe tbody tr th:only-of-type {\n",
       "        vertical-align: middle;\n",
       "    }\n",
       "\n",
       "    .dataframe tbody tr th {\n",
       "        vertical-align: top;\n",
       "    }\n",
       "\n",
       "    .dataframe thead th {\n",
       "        text-align: right;\n",
       "    }\n",
       "</style>\n",
       "<table border=\"1\" class=\"dataframe\">\n",
       "  <thead>\n",
       "    <tr style=\"text-align: right;\">\n",
       "      <th></th>\n",
       "      <th>idx</th>\n",
       "      <th>url</th>\n",
       "      <th>label</th>\n",
       "    </tr>\n",
       "  </thead>\n",
       "  <tbody>\n",
       "    <tr>\n",
       "      <th>946066</th>\n",
       "      <td>946067</td>\n",
       "      <td>http://www.thepipe.info</td>\n",
       "      <td>Recreation</td>\n",
       "    </tr>\n",
       "    <tr>\n",
       "      <th>1322925</th>\n",
       "      <td>1322926</td>\n",
       "      <td>http://childlifeline.org</td>\n",
       "      <td>Society</td>\n",
       "    </tr>\n",
       "    <tr>\n",
       "      <th>1538731</th>\n",
       "      <td>1538732</td>\n",
       "      <td>http://www.fchd.info/fleett.htm</td>\n",
       "      <td>Sports</td>\n",
       "    </tr>\n",
       "    <tr>\n",
       "      <th>529412</th>\n",
       "      <td>529413</td>\n",
       "      <td>http://www.ee.umn.edu/users/kieffer/</td>\n",
       "      <td>Computers</td>\n",
       "    </tr>\n",
       "    <tr>\n",
       "      <th>639891</th>\n",
       "      <td>639892</td>\n",
       "      <td>http://www.ftprush.com</td>\n",
       "      <td>Computers</td>\n",
       "    </tr>\n",
       "    <tr>\n",
       "      <th>...</th>\n",
       "      <td>...</td>\n",
       "      <td>...</td>\n",
       "      <td>...</td>\n",
       "    </tr>\n",
       "    <tr>\n",
       "      <th>1467240</th>\n",
       "      <td>1467241</td>\n",
       "      <td>http://www.usatoday.com/sports/college/mensbas...</td>\n",
       "      <td>Sports</td>\n",
       "    </tr>\n",
       "    <tr>\n",
       "      <th>483946</th>\n",
       "      <td>483947</td>\n",
       "      <td>http://www.appraisal.co.nz/</td>\n",
       "      <td>Business</td>\n",
       "    </tr>\n",
       "    <tr>\n",
       "      <th>900141</th>\n",
       "      <td>900142</td>\n",
       "      <td>http://www.wild-about-hunting.com/</td>\n",
       "      <td>Recreation</td>\n",
       "    </tr>\n",
       "    <tr>\n",
       "      <th>320948</th>\n",
       "      <td>320949</td>\n",
       "      <td>http://www.searchlites.com/</td>\n",
       "      <td>Business</td>\n",
       "    </tr>\n",
       "    <tr>\n",
       "      <th>1152731</th>\n",
       "      <td>1152732</td>\n",
       "      <td>http://www.monicaspies.com</td>\n",
       "      <td>Shopping</td>\n",
       "    </tr>\n",
       "  </tbody>\n",
       "</table>\n",
       "<p>1562506 rows × 3 columns</p>\n",
       "</div>"
      ],
      "text/plain": [
       "             idx                                                url       label\n",
       "946066    946067                            http://www.thepipe.info  Recreation\n",
       "1322925  1322926                           http://childlifeline.org     Society\n",
       "1538731  1538732                    http://www.fchd.info/fleett.htm      Sports\n",
       "529412    529413               http://www.ee.umn.edu/users/kieffer/   Computers\n",
       "639891    639892                             http://www.ftprush.com   Computers\n",
       "...          ...                                                ...         ...\n",
       "1467240  1467241  http://www.usatoday.com/sports/college/mensbas...      Sports\n",
       "483946    483947                        http://www.appraisal.co.nz/    Business\n",
       "900141    900142                 http://www.wild-about-hunting.com/  Recreation\n",
       "320948    320949                        http://www.searchlites.com/    Business\n",
       "1152731  1152732                         http://www.monicaspies.com    Shopping\n",
       "\n",
       "[1562506 rows x 3 columns]"
      ]
     },
     "execution_count": 6,
     "metadata": {
      "tags": []
     },
     "output_type": "execute_result"
    }
   ],
   "source": [
    "with open('datasets.pkl', 'rb') as f:\n",
    "  datasets = pickle.load(f)\n",
    "\n",
    "assert DATASET in datasets, \\\n",
    "  f'You tried to load {DATASET} but only {list(datasets.keys())} available.'\n",
    "\n",
    "dataset = datasets[DATASET]\n",
    "dataset"
   ]
  },
  {
   "cell_type": "code",
   "execution_count": null,
   "metadata": {
    "colab": {
     "base_uri": "https://localhost:8080/"
    },
    "id": "Mb58ujMqHrfj",
    "outputId": "54cd144e-6741-409d-9e84-7b32dd6a9566"
   },
   "outputs": [
    {
     "name": "stdout",
     "output_type": "stream",
     "text": [
      "Downloading...\n",
      "From: https://drive.google.com/uc?id=1V8_EWQTF_JhgEVbXIvAiHViTHyIO9CBS\n",
      "To: /content/nlp-project/src/embed-dmoz.model\n",
      "23.0MB [00:00, 55.4MB/s]\n",
      "Downloading...\n",
      "From: https://drive.google.com/uc?id=15EirC5KybMrG33RvYUXIfnBM2GWSBdh5\n",
      "To: /content/nlp-project/src/embed-dmoz.model.vectors_ngrams.npy\n",
      "800MB [00:08, 97.1MB/s]\n"
     ]
    }
   ],
   "source": [
    "# Download respectively model and ngrams\n",
    "if DATASET == DMOZ:\n",
    "  !gdown --id 1V8_EWQTF_JhgEVbXIvAiHViTHyIO9CBS\n",
    "  !gdown --id 15EirC5KybMrG33RvYUXIfnBM2GWSBdh5\n",
    "elif DATASET == ILP:\n",
    "  !gdown --id 1_QafULaXKmq0H0fwY3dkR-WOKwsyUkHS\n",
    "  !gdown --id 1kn4EbllSLdAX-8Ca5db6_BewLugCAWp5\n",
    "else:  # Phishing\n",
    "  !gdown --id 1JEsUG4eGqbIItBH468xph-AsS3iQ5Fif\n",
    "  !gdown --id 10p0XPRsuTsXblQNNlUricEmd8if0B2P6\n",
    "\n",
    "fast_text_embedding = FastTextKeyedVectors.load(f'embed-{DATASET}.model')"
   ]
  },
  {
   "cell_type": "code",
   "execution_count": 2,
   "metadata": {
    "id": "_Dz2rapfZvtx"
   },
   "outputs": [],
   "source": [
    "import re\n",
    "import pandas as pd\n",
    "\n",
    "from tensorflow.keras import backend as K\n",
    "from keras.layers import Layer\n",
    "from tensorflow.keras.layers import Dense, SimpleRNN, LSTM, Bidirectional, TimeDistributed, Conv1D, ZeroPadding1D, GRU, Concatenate\n",
    "from tensorflow.keras.layers import Lambda, Input, Dropout, Masking, BatchNormalization, Activation, Attention, SpatialDropout1D, Reshape\n",
    "from tensorflow.keras.models import Model\n",
    "\n",
    "from sklearn.model_selection import train_test_split\n",
    "from sklearn.ensemble import RandomForestClassifier\n",
    "from sklearn.metrics import classification_report,confusion_matrix\n",
    "\n",
    "from sklearn.preprocessing import LabelEncoder, OneHotEncoder\n",
    "\n",
    "from tqdm import tqdm"
   ]
  },
  {
   "cell_type": "markdown",
   "metadata": {
    "id": "-uJKWlq-iE8g"
   },
   "source": [
    "## Different approaches to Encode"
   ]
  },
  {
   "cell_type": "markdown",
   "metadata": {
    "id": "l440yMEOd3bs"
   },
   "source": [
    "Here we simply flatten the word embeddings for each URL and append the handpicked featrues\n",
    "\n",
    "Thus, the (31,100) embeddings are flattened to (3100,) vector.\n",
    "Further appending the handpicked features makes the vector shape: (3120,)\n"
   ]
  },
  {
   "cell_type": "markdown",
   "metadata": {
    "id": "GeIG2ZCz8Spa"
   },
   "source": [
    "#### Enocoder 2 --> Piecewise"
   ]
  },
  {
   "cell_type": "code",
   "execution_count": null,
   "metadata": {
    "id": "FVKkyccslPZ4"
   },
   "outputs": [],
   "source": [
    "def valid_url(url):\n",
    "  match = url_regex.match(url.lower())\n",
    "  if match:\n",
    "    return True\n",
    "  else:\n",
    "    return False\n",
    "\n",
    "url_regex = re.compile(r'''\n",
    "        (https?):\\/\\/                                   # http s\n",
    "        ([-a-zA-Z0-9@:%._\\+~#=]+\\.[a-zA-Z0-9()]{1,12})  # domains\n",
    "        \\b\n",
    "        ([-a-zA-Z0-9()@:%_\\+;.~#&//=]*)                 # path\n",
    "        \\??\n",
    "        ([-a-zA-Z0-9()@:%_\\+;.~#&//=?]*)                # args\n",
    "    ''', re.DOTALL | re.VERBOSE)"
   ]
  },
  {
   "cell_type": "code",
   "execution_count": null,
   "metadata": {
    "id": "HdDIVHod8NxV"
   },
   "outputs": [],
   "source": [
    "def prepare_df(dataset):\n",
    "    df = dataset.copy()\n",
    "    df.reset_index(drop = True, inplace = True)\n",
    "    df['valid'] = df.url.apply(lambda x:valid_url(x))\n",
    "    df = df[df['valid']==True]\n",
    "    df.drop(['valid'],axis=1,inplace=True)\n",
    "    urls = np.array(df.url)\n",
    "    le = LabelEncoder()\n",
    "    labels = le.fit_transform(df.label)  \n",
    "    return le,urls,labels\n",
    "\n",
    "def GenerateFeatureVector_Enc2(urls, UF):\n",
    "    raw_features = feat.featurize(urls)\n",
    "\n",
    "    embeddings = list()\n",
    "    hand_picked = list()\n",
    "    for feature in raw_features:\n",
    "        embeddings.append(feature[1])\n",
    "        hand_picked.append(feature[0])\n",
    "\n",
    "    embeddings = np.array(embeddings)\n",
    "    hand_picked = np.array(hand_picked)\n",
    "\n",
    "    sub_domain = embeddings[:,:5,:]\n",
    "    main_domain = embeddings[:,5:10,:]\n",
    "    domain_end_vec = embeddings[:,10,:].reshape(-1,1,100)\n",
    "    path = embeddings[:,11:21,:]\n",
    "    arg = embeddings[:,21:,:]\n",
    "\n",
    "\n",
    "    return [sub_domain,main_domain,domain_end_vec,path,arg,hand_picked]"
   ]
  },
  {
   "cell_type": "markdown",
   "metadata": {
    "id": "NrP0hVH0uX3_"
   },
   "source": [
    "## Model"
   ]
  },
  {
   "cell_type": "markdown",
   "metadata": {
    "id": "0lPPXTOFU_TU"
   },
   "source": [
    "##Fast Text"
   ]
  },
  {
   "cell_type": "code",
   "execution_count": null,
   "metadata": {
    "id": "z_RKHQ4Yp_D0"
   },
   "outputs": [],
   "source": [
    "sampled_dataset = dataset.sample(n=25000)"
   ]
  },
  {
   "cell_type": "code",
   "execution_count": null,
   "metadata": {
    "id": "QnIcuMRuRO54"
   },
   "outputs": [],
   "source": [
    "_,urls,labels = prepare_df(sampled_dataset)"
   ]
  },
  {
   "cell_type": "code",
   "execution_count": null,
   "metadata": {
    "id": "Ae90aSEfPVI_"
   },
   "outputs": [],
   "source": [
    "X_train_mid,X_test_mid,Y_train,Y_test=train_test_split(urls,labels,test_size=0.2)"
   ]
  },
  {
   "cell_type": "code",
   "execution_count": null,
   "metadata": {
    "colab": {
     "base_uri": "https://localhost:8080/"
    },
    "id": "iz_e3TpwilUU",
    "outputId": "83f29ac7-6c01-48f1-f049-79a6275cb0d3"
   },
   "outputs": [
    {
     "name": "stdout",
     "output_type": "stream",
     "text": [
      "Creating the average vector of all the word vectors...\n",
      "Created FastText UrlFeaturizer in 0.0 s\n"
     ]
    }
   ],
   "source": [
    "feat = UrlFeaturizer(embedding=fast_text_embedding)"
   ]
  },
  {
   "cell_type": "code",
   "execution_count": null,
   "metadata": {
    "id": "dBcBHUU9MML4"
   },
   "outputs": [],
   "source": [
    "X_train = GenerateFeatureVector_Enc2(X_train_mid,feat)\n",
    "X_test = GenerateFeatureVector_Enc2(X_test_mid,feat)\n",
    "\n",
    "ohe = OneHotEncoder(sparse=False)\n",
    "Y_test = Y_test.reshape(-1,1)\n",
    "Y_train = Y_train.reshape(-1,1)\n",
    "Y_train = ohe.fit_transform(Y_train)\n",
    "Y_test_check = Y_test\n",
    "Y_test = ohe.transform(Y_test)"
   ]
  },
  {
   "cell_type": "markdown",
   "metadata": {
    "id": "QBnXSpjNW6qd"
   },
   "source": [
    "### Testing Features by Deep Model"
   ]
  },
  {
   "cell_type": "code",
   "execution_count": 3,
   "metadata": {
    "id": "eCyLWPlq9f0x"
   },
   "outputs": [],
   "source": [
    "class attention(Layer):\n",
    "    def __init__(self,**kwargs):\n",
    "        super(attention,self).__init__(**kwargs)\n",
    "\n",
    "    def build(self,input_shape):\n",
    "        self.W=self.add_weight(name=\"att_weight\",shape=(input_shape[-1],1),initializer=\"normal\")\n",
    "        self.b=self.add_weight(name=\"att_bias\",shape=(input_shape[1],1),initializer=\"zeros\")        \n",
    "        super(attention, self).build(input_shape)\n",
    "\n",
    "    def call(self,x):\n",
    "        et=K.squeeze(K.tanh(K.dot(x,self.W)+self.b),axis=-1)\n",
    "        at=K.softmax(et)\n",
    "        at=K.expand_dims(at,axis=-1)\n",
    "        output=x*at\n",
    "        return K.sum(output,axis=1)\n",
    "\n",
    "    def compute_output_shape(self,input_shape):\n",
    "        return (input_shape[0],input_shape[-1])\n",
    "\n",
    "    def get_config(self):\n",
    "        return super(attention,self).get_config()"
   ]
  },
  {
   "cell_type": "code",
   "execution_count": 6,
   "metadata": {
    "colab": {
     "base_uri": "https://localhost:8080/"
    },
    "id": "14sJzyCbJfJ1",
    "outputId": "9450aa48-db7d-4f2a-e952-42330e1c1590"
   },
   "outputs": [
    {
     "name": "stdout",
     "output_type": "stream",
     "text": [
      "Model: \"model\"\n",
      "__________________________________________________________________________________________________\n",
      "Layer (type)                    Output Shape         Param #     Connected to                     \n",
      "==================================================================================================\n",
      "the_input_1 (InputLayer)        [(None, 5, 100)]     0                                            \n",
      "__________________________________________________________________________________________________\n",
      "the_input_2 (InputLayer)        [(None, 5, 100)]     0                                            \n",
      "__________________________________________________________________________________________________\n",
      "the_input_3 (InputLayer)        [(None, 1, 100)]     0                                            \n",
      "__________________________________________________________________________________________________\n",
      "the_input_4 (InputLayer)        [(None, 10, 100)]    0                                            \n",
      "__________________________________________________________________________________________________\n",
      "the_input_5 (InputLayer)        [(None, 10, 100)]    0                                            \n",
      "__________________________________________________________________________________________________\n",
      "lstm_7 (LSTM)                   (None, 50)           30200       the_input_1[0][0]                \n",
      "__________________________________________________________________________________________________\n",
      "lstm_8 (LSTM)                   (None, 50)           30200       the_input_2[0][0]                \n",
      "__________________________________________________________________________________________________\n",
      "lstm_9 (LSTM)                   (None, 50)           30200       the_input_3[0][0]                \n",
      "__________________________________________________________________________________________________\n",
      "lstm_10 (LSTM)                  (None, 50)           30200       the_input_4[0][0]                \n",
      "__________________________________________________________________________________________________\n",
      "lstm_11 (LSTM)                  (None, 50)           30200       the_input_5[0][0]                \n",
      "__________________________________________________________________________________________________\n",
      "concatenate_2 (Concatenate)     (None, 250)          0           lstm_7[0][0]                     \n",
      "                                                                 lstm_8[0][0]                     \n",
      "                                                                 lstm_9[0][0]                     \n",
      "                                                                 lstm_10[0][0]                    \n",
      "                                                                 lstm_11[0][0]                    \n",
      "__________________________________________________________________________________________________\n",
      "reshape_1 (Reshape)             (None, 250, 1)       0           concatenate_2[0][0]              \n",
      "__________________________________________________________________________________________________\n",
      "bidirectional_2 (Bidirectional) (None, 250, 64)      8704        reshape_1[0][0]                  \n",
      "__________________________________________________________________________________________________\n",
      "bidirectional_3 (Bidirectional) (None, 64)           24832       bidirectional_2[0][0]            \n",
      "__________________________________________________________________________________________________\n",
      "the_input_6 (InputLayer)        [(None, 20)]         0                                            \n",
      "__________________________________________________________________________________________________\n",
      "concatenate_3 (Concatenate)     (None, 84)           0           bidirectional_3[0][0]            \n",
      "                                                                 the_input_6[0][0]                \n",
      "__________________________________________________________________________________________________\n",
      "fc (Dense)                      (None, 64)           5440        concatenate_3[0][0]              \n",
      "__________________________________________________________________________________________________\n",
      "dropout_2 (Dropout)             (None, 64)           0           fc[0][0]                         \n",
      "__________________________________________________________________________________________________\n",
      "softmax (Dense)                 (None, 15)           975         dropout_2[0][0]                  \n",
      "==================================================================================================\n",
      "Total params: 190,951\n",
      "Trainable params: 190,951\n",
      "Non-trainable params: 0\n",
      "__________________________________________________________________________________________________\n"
     ]
    }
   ],
   "source": [
    "dtype = 'float64'\n",
    "dropout=0.2\n",
    "\n",
    "input_data_1 = Input(name='the_input_1', shape=(5,100), dtype=dtype)\n",
    "input_data_2 = Input(name='the_input_2', shape=(5,100), dtype=dtype)\n",
    "input_data_3 = Input(name='the_input_3', shape=(1,100), dtype=dtype)\n",
    "input_data_4 = Input(name='the_input_4', shape=(10,100), dtype=dtype)\n",
    "input_data_5 = Input(name='the_input_5', shape=(10,100), dtype=dtype)\n",
    "input_data_6 = Input(name='the_input_6', shape=(20,), dtype=dtype)\n",
    "\n",
    "lstm1 = LSTM(50)(input_data_1)\n",
    "lstm2 = LSTM(50)(input_data_2)\n",
    "lstm3 = LSTM(50)(input_data_3)\n",
    "lstm4 = LSTM(50)(input_data_4)\n",
    "lstm5 = LSTM(50)(input_data_5)\n",
    "\n",
    "concatted = Concatenate()([lstm1,lstm2,lstm3,lstm4,lstm5])\n",
    "new_input = Reshape((250,1))(concatted)\n",
    "\n",
    "att_in = Bidirectional(LSTM(32,return_sequences=True,dropout=0.3,recurrent_dropout=0.2))(new_input)\n",
    "att_out = Bidirectional(LSTM(32,return_sequences=False,dropout=0.3,recurrent_dropout=0.2))(att_in)\n",
    "\n",
    "concatted = Concatenate()([att_out,input_data_6])\n",
    "# att_out=attention()(att_in)\n",
    "# 1 fully connected layer DNN ReLu with default 20% dropout\n",
    "x = Dense(units=64, activation='tanh', name='fc')(concatted)\n",
    "x = Dropout(dropout, name='dropout_2')(x)\n",
    "\n",
    "# Output layer with softmax\n",
    "y_pred = Dense(units=15, activation='softmax', name='softmax')(x) \n",
    "\n",
    "K.clear_session()\n",
    "model = Model(inputs=[input_data_1,input_data_2,input_data_3,input_data_4,input_data_5,input_data_6], outputs=y_pred)  \n",
    "model.summary()"
   ]
  },
  {
   "cell_type": "code",
   "execution_count": 7,
   "metadata": {
    "colab": {
     "base_uri": "https://localhost:8080/",
     "height": 973
    },
    "id": "A4vPx-fiUV_0",
    "outputId": "1743f70f-a8be-4942-e87e-d21b2ae4f7a4"
   },
   "outputs": [
    {
     "data": {
      "image/png": "[encoded data removed]",
      "text/plain": [
       "<IPython.core.display.Image object>"
      ]
     },
     "execution_count": 7,
     "metadata": {
      "tags": []
     },
     "output_type": "execute_result"
    }
   ],
   "source": [
    "from keras.utils.vis_utils import plot_model\n",
    "plot_model(model,to_file='model.png')"
   ]
  },
  {
   "cell_type": "code",
   "execution_count": null,
   "metadata": {
    "colab": {
     "base_uri": "https://localhost:8080/"
    },
    "id": "DMtOkPQ90bhJ",
    "outputId": "9fdb0f38-c4fd-4503-fbaa-5006c4590b71"
   },
   "outputs": [
    {
     "name": "stdout",
     "output_type": "stream",
     "text": [
      "Epoch 1/50\n",
      "157/157 [==============================] - 509s 3s/step - loss: 2.7139 - accuracy: 0.1500 - val_loss: 2.3275 - val_accuracy: 0.2486\n"
     ]
    },
    {
     "name": "stderr",
     "output_type": "stream",
     "text": [
      "WARNING:absl:Found untraced functions such as lstm_cell_layer_call_fn, lstm_cell_layer_call_and_return_conditional_losses, lstm_cell_1_layer_call_fn, lstm_cell_1_layer_call_and_return_conditional_losses, lstm_cell_2_layer_call_fn while saving (showing 5 of 25). These functions will not be directly callable after loading.\n",
      "WARNING:absl:Found untraced functions such as lstm_cell_layer_call_fn, lstm_cell_layer_call_and_return_conditional_losses, lstm_cell_1_layer_call_fn, lstm_cell_1_layer_call_and_return_conditional_losses, lstm_cell_2_layer_call_fn while saving (showing 5 of 25). These functions will not be directly callable after loading.\n"
     ]
    },
    {
     "name": "stdout",
     "output_type": "stream",
     "text": [
      "Epoch 2/50\n",
      "157/157 [==============================] - 508s 3s/step - loss: 2.3929 - accuracy: 0.2301 - val_loss: 2.2510 - val_accuracy: 0.2878\n"
     ]
    },
    {
     "name": "stderr",
     "output_type": "stream",
     "text": [
      "WARNING:absl:Found untraced functions such as lstm_cell_layer_call_fn, lstm_cell_layer_call_and_return_conditional_losses, lstm_cell_1_layer_call_fn, lstm_cell_1_layer_call_and_return_conditional_losses, lstm_cell_2_layer_call_fn while saving (showing 5 of 25). These functions will not be directly callable after loading.\n",
      "WARNING:absl:Found untraced functions such as lstm_cell_layer_call_fn, lstm_cell_layer_call_and_return_conditional_losses, lstm_cell_1_layer_call_fn, lstm_cell_1_layer_call_and_return_conditional_losses, lstm_cell_2_layer_call_fn while saving (showing 5 of 25). These functions will not be directly callable after loading.\n"
     ]
    },
    {
     "name": "stdout",
     "output_type": "stream",
     "text": [
      "Epoch 3/50\n",
      "157/157 [==============================] - 512s 3s/step - loss: 2.2809 - accuracy: 0.2889 - val_loss: 2.1855 - val_accuracy: 0.3064\n"
     ]
    },
    {
     "name": "stderr",
     "output_type": "stream",
     "text": [
      "WARNING:absl:Found untraced functions such as lstm_cell_layer_call_fn, lstm_cell_layer_call_and_return_conditional_losses, lstm_cell_1_layer_call_fn, lstm_cell_1_layer_call_and_return_conditional_losses, lstm_cell_2_layer_call_fn while saving (showing 5 of 25). These functions will not be directly callable after loading.\n",
      "WARNING:absl:Found untraced functions such as lstm_cell_layer_call_fn, lstm_cell_layer_call_and_return_conditional_losses, lstm_cell_1_layer_call_fn, lstm_cell_1_layer_call_and_return_conditional_losses, lstm_cell_2_layer_call_fn while saving (showing 5 of 25). These functions will not be directly callable after loading.\n"
     ]
    },
    {
     "name": "stdout",
     "output_type": "stream",
     "text": [
      "Epoch 4/50\n",
      "157/157 [==============================] - 503s 3s/step - loss: 2.2149 - accuracy: 0.3040 - val_loss: 2.1922 - val_accuracy: 0.3098\n",
      "Epoch 5/50\n",
      "157/157 [==============================] - 494s 3s/step - loss: 2.1730 - accuracy: 0.3160 - val_loss: 2.1407 - val_accuracy: 0.3190\n"
     ]
    },
    {
     "name": "stderr",
     "output_type": "stream",
     "text": [
      "WARNING:absl:Found untraced functions such as lstm_cell_layer_call_fn, lstm_cell_layer_call_and_return_conditional_losses, lstm_cell_1_layer_call_fn, lstm_cell_1_layer_call_and_return_conditional_losses, lstm_cell_2_layer_call_fn while saving (showing 5 of 25). These functions will not be directly callable after loading.\n",
      "WARNING:absl:Found untraced functions such as lstm_cell_layer_call_fn, lstm_cell_layer_call_and_return_conditional_losses, lstm_cell_1_layer_call_fn, lstm_cell_1_layer_call_and_return_conditional_losses, lstm_cell_2_layer_call_fn while saving (showing 5 of 25). These functions will not be directly callable after loading.\n"
     ]
    },
    {
     "name": "stdout",
     "output_type": "stream",
     "text": [
      "Epoch 6/50\n",
      "157/157 [==============================] - 503s 3s/step - loss: 2.1231 - accuracy: 0.3251 - val_loss: 2.1251 - val_accuracy: 0.3252\n"
     ]
    },
    {
     "name": "stderr",
     "output_type": "stream",
     "text": [
      "WARNING:absl:Found untraced functions such as lstm_cell_layer_call_fn, lstm_cell_layer_call_and_return_conditional_losses, lstm_cell_1_layer_call_fn, lstm_cell_1_layer_call_and_return_conditional_losses, lstm_cell_2_layer_call_fn while saving (showing 5 of 25). These functions will not be directly callable after loading.\n",
      "WARNING:absl:Found untraced functions such as lstm_cell_layer_call_fn, lstm_cell_layer_call_and_return_conditional_losses, lstm_cell_1_layer_call_fn, lstm_cell_1_layer_call_and_return_conditional_losses, lstm_cell_2_layer_call_fn while saving (showing 5 of 25). These functions will not be directly callable after loading.\n"
     ]
    },
    {
     "name": "stdout",
     "output_type": "stream",
     "text": [
      "Epoch 7/50\n",
      "157/157 [==============================] - 504s 3s/step - loss: 2.0993 - accuracy: 0.3369 - val_loss: 2.0830 - val_accuracy: 0.3322\n"
     ]
    },
    {
     "name": "stderr",
     "output_type": "stream",
     "text": [
      "WARNING:absl:Found untraced functions such as lstm_cell_layer_call_fn, lstm_cell_layer_call_and_return_conditional_losses, lstm_cell_1_layer_call_fn, lstm_cell_1_layer_call_and_return_conditional_losses, lstm_cell_2_layer_call_fn while saving (showing 5 of 25). These functions will not be directly callable after loading.\n",
      "WARNING:absl:Found untraced functions such as lstm_cell_layer_call_fn, lstm_cell_layer_call_and_return_conditional_losses, lstm_cell_1_layer_call_fn, lstm_cell_1_layer_call_and_return_conditional_losses, lstm_cell_2_layer_call_fn while saving (showing 5 of 25). These functions will not be directly callable after loading.\n"
     ]
    },
    {
     "name": "stdout",
     "output_type": "stream",
     "text": [
      "Epoch 8/50\n",
      "157/157 [==============================] - 502s 3s/step - loss: 2.0348 - accuracy: 0.3546 - val_loss: 2.0799 - val_accuracy: 0.3342\n"
     ]
    },
    {
     "name": "stderr",
     "output_type": "stream",
     "text": [
      "WARNING:absl:Found untraced functions such as lstm_cell_layer_call_fn, lstm_cell_layer_call_and_return_conditional_losses, lstm_cell_1_layer_call_fn, lstm_cell_1_layer_call_and_return_conditional_losses, lstm_cell_2_layer_call_fn while saving (showing 5 of 25). These functions will not be directly callable after loading.\n",
      "WARNING:absl:Found untraced functions such as lstm_cell_layer_call_fn, lstm_cell_layer_call_and_return_conditional_losses, lstm_cell_1_layer_call_fn, lstm_cell_1_layer_call_and_return_conditional_losses, lstm_cell_2_layer_call_fn while saving (showing 5 of 25). These functions will not be directly callable after loading.\n"
     ]
    },
    {
     "name": "stdout",
     "output_type": "stream",
     "text": [
      "Epoch 9/50\n",
      "157/157 [==============================] - 503s 3s/step - loss: 2.0228 - accuracy: 0.3578 - val_loss: 2.0587 - val_accuracy: 0.3432\n"
     ]
    },
    {
     "name": "stderr",
     "output_type": "stream",
     "text": [
      "WARNING:absl:Found untraced functions such as lstm_cell_layer_call_fn, lstm_cell_layer_call_and_return_conditional_losses, lstm_cell_1_layer_call_fn, lstm_cell_1_layer_call_and_return_conditional_losses, lstm_cell_2_layer_call_fn while saving (showing 5 of 25). These functions will not be directly callable after loading.\n",
      "WARNING:absl:Found untraced functions such as lstm_cell_layer_call_fn, lstm_cell_layer_call_and_return_conditional_losses, lstm_cell_1_layer_call_fn, lstm_cell_1_layer_call_and_return_conditional_losses, lstm_cell_2_layer_call_fn while saving (showing 5 of 25). These functions will not be directly callable after loading.\n"
     ]
    },
    {
     "name": "stdout",
     "output_type": "stream",
     "text": [
      "Epoch 10/50\n",
      "157/157 [==============================] - 499s 3s/step - loss: 1.9738 - accuracy: 0.3710 - val_loss: 2.0345 - val_accuracy: 0.3534\n"
     ]
    },
    {
     "name": "stderr",
     "output_type": "stream",
     "text": [
      "WARNING:absl:Found untraced functions such as lstm_cell_layer_call_fn, lstm_cell_layer_call_and_return_conditional_losses, lstm_cell_1_layer_call_fn, lstm_cell_1_layer_call_and_return_conditional_losses, lstm_cell_2_layer_call_fn while saving (showing 5 of 25). These functions will not be directly callable after loading.\n",
      "WARNING:absl:Found untraced functions such as lstm_cell_layer_call_fn, lstm_cell_layer_call_and_return_conditional_losses, lstm_cell_1_layer_call_fn, lstm_cell_1_layer_call_and_return_conditional_losses, lstm_cell_2_layer_call_fn while saving (showing 5 of 25). These functions will not be directly callable after loading.\n"
     ]
    },
    {
     "name": "stdout",
     "output_type": "stream",
     "text": [
      "Epoch 11/50\n",
      "157/157 [==============================] - 506s 3s/step - loss: 1.9413 - accuracy: 0.3833 - val_loss: 2.0304 - val_accuracy: 0.3530\n"
     ]
    },
    {
     "name": "stderr",
     "output_type": "stream",
     "text": [
      "WARNING:absl:Found untraced functions such as lstm_cell_layer_call_fn, lstm_cell_layer_call_and_return_conditional_losses, lstm_cell_1_layer_call_fn, lstm_cell_1_layer_call_and_return_conditional_losses, lstm_cell_2_layer_call_fn while saving (showing 5 of 25). These functions will not be directly callable after loading.\n",
      "WARNING:absl:Found untraced functions such as lstm_cell_layer_call_fn, lstm_cell_layer_call_and_return_conditional_losses, lstm_cell_1_layer_call_fn, lstm_cell_1_layer_call_and_return_conditional_losses, lstm_cell_2_layer_call_fn while saving (showing 5 of 25). These functions will not be directly callable after loading.\n"
     ]
    },
    {
     "name": "stdout",
     "output_type": "stream",
     "text": [
      "Epoch 12/50\n",
      "157/157 [==============================] - 506s 3s/step - loss: 1.9203 - accuracy: 0.3887 - val_loss: 2.0421 - val_accuracy: 0.3482\n",
      "Epoch 13/50\n",
      "157/157 [==============================] - 499s 3s/step - loss: 1.8901 - accuracy: 0.3999 - val_loss: 2.0458 - val_accuracy: 0.3588\n",
      "\n",
      "Epoch 00013: ReduceLROnPlateau reducing learning rate to 0.0007000000332482159.\n",
      "Epoch 14/50\n",
      "157/157 [==============================] - 498s 3s/step - loss: 1.8453 - accuracy: 0.4223 - val_loss: 2.0247 - val_accuracy: 0.3618\n"
     ]
    },
    {
     "name": "stderr",
     "output_type": "stream",
     "text": [
      "WARNING:absl:Found untraced functions such as lstm_cell_layer_call_fn, lstm_cell_layer_call_and_return_conditional_losses, lstm_cell_1_layer_call_fn, lstm_cell_1_layer_call_and_return_conditional_losses, lstm_cell_2_layer_call_fn while saving (showing 5 of 25). These functions will not be directly callable after loading.\n",
      "WARNING:absl:Found untraced functions such as lstm_cell_layer_call_fn, lstm_cell_layer_call_and_return_conditional_losses, lstm_cell_1_layer_call_fn, lstm_cell_1_layer_call_and_return_conditional_losses, lstm_cell_2_layer_call_fn while saving (showing 5 of 25). These functions will not be directly callable after loading.\n"
     ]
    },
    {
     "name": "stdout",
     "output_type": "stream",
     "text": [
      "Epoch 15/50\n",
      "157/157 [==============================] - 497s 3s/step - loss: 1.8089 - accuracy: 0.4265 - val_loss: 2.0435 - val_accuracy: 0.3602\n",
      "Epoch 16/50\n",
      "157/157 [==============================] - 498s 3s/step - loss: 1.7900 - accuracy: 0.4403 - val_loss: 2.0425 - val_accuracy: 0.3650\n",
      "Epoch 17/50\n",
      "157/157 [==============================] - 495s 3s/step - loss: 1.7520 - accuracy: 0.4458 - val_loss: 2.0469 - val_accuracy: 0.3588\n",
      "\n",
      "Epoch 00017: ReduceLROnPlateau reducing learning rate to 0.0004900000232737511.\n",
      "Epoch 18/50\n",
      "157/157 [==============================] - 499s 3s/step - loss: 1.7395 - accuracy: 0.4480 - val_loss: 2.0564 - val_accuracy: 0.3634\n",
      "Epoch 19/50\n",
      "157/157 [==============================] - 499s 3s/step - loss: 1.7264 - accuracy: 0.4531 - val_loss: 2.0501 - val_accuracy: 0.3678\n",
      "Epoch 20/50\n",
      "157/157 [==============================] - 498s 3s/step - loss: 1.6910 - accuracy: 0.4698 - val_loss: 2.0595 - val_accuracy: 0.3606\n",
      "Epoch 21/50\n",
      "157/157 [==============================] - 499s 3s/step - loss: 1.6701 - accuracy: 0.4731 - val_loss: 2.0481 - val_accuracy: 0.3686\n",
      "\n",
      "Epoch 00021: ReduceLROnPlateau reducing learning rate to 0.00034300000406801696.\n"
     ]
    }
   ],
   "source": [
    "from tensorflow.keras.optimizers import Adam, SGD\n",
    "from tensorflow.keras.callbacks import ModelCheckpoint, EarlyStopping, ReduceLROnPlateau\n",
    "\n",
    "sgd = SGD()\n",
    "adam = Adam()\n",
    "\n",
    "checkpoint = ModelCheckpoint('checkpoint', monitor='val_loss', verbose=0,\n",
    "                                 save_best_only=True, mode='min')\n",
    "early = EarlyStopping(monitor=\"val_loss\",\n",
    "                              mode=\"min\",\n",
    "                              patience=7)\n",
    "reduceLROnPlat = ReduceLROnPlateau(monitor='val_loss', factor=0.7,\n",
    "                                           patience=2,\n",
    "                                           verbose=1, mode='min', min_delta=0.0001, cooldown=3,\n",
    "                                           min_lr=1e-9)  # epsilon here is a good starting value\n",
    "\n",
    "\n",
    "# , clipnorm=1.0\n",
    "\n",
    "model.compile(loss='categorical_crossentropy',\n",
    "              optimizer=adam,\n",
    "              metrics=['accuracy'])\n",
    "history = model.fit(X_train, Y_train,\n",
    "                    batch_size=128, epochs=50,\n",
    "                    validation_data=(X_test, Y_test),\n",
    "                    callbacks=[checkpoint, early, reduceLROnPlat])"
   ]
  },
  {
   "cell_type": "markdown",
   "metadata": {
    "id": "tMP-q2cYuR1V"
   },
   "source": [
    "## Evaluating Model\n"
   ]
  },
  {
   "cell_type": "code",
   "execution_count": null,
   "metadata": {
    "colab": {
     "base_uri": "https://localhost:8080/"
    },
    "id": "3jzQxYjPNdQI",
    "outputId": "28a6433f-79ce-4e78-e80b-f140278c3521"
   },
   "outputs": [
    {
     "name": "stdout",
     "output_type": "stream",
     "text": [
      "              precision    recall  f1-score   support\n",
      "\n",
      "           0       0.35      0.29      0.32       101\n",
      "           1       0.35      0.50      0.41       800\n",
      "           2       0.41      0.64      0.50       738\n",
      "           3       0.35      0.15      0.21       380\n",
      "           4       0.41      0.36      0.38       169\n",
      "           5       0.34      0.16      0.21       197\n",
      "           6       0.00      0.00      0.00        79\n",
      "           7       0.32      0.04      0.08       160\n",
      "           8       0.00      0.00      0.00        30\n",
      "           9       0.18      0.08      0.11       330\n",
      "          10       0.41      0.20      0.27       200\n",
      "          11       0.52      0.27      0.35       367\n",
      "          12       0.27      0.26      0.26       326\n",
      "          13       0.38      0.52      0.44       789\n",
      "          14       0.34      0.39      0.36       334\n",
      "\n",
      "    accuracy                           0.37      5000\n",
      "   macro avg       0.31      0.26      0.26      5000\n",
      "weighted avg       0.35      0.37      0.34      5000\n",
      "\n"
     ]
    },
    {
     "name": "stderr",
     "output_type": "stream",
     "text": [
      "/usr/local/lib/python3.7/dist-packages/sklearn/metrics/_classification.py:1272: UndefinedMetricWarning: Precision and F-score are ill-defined and being set to 0.0 in labels with no predicted samples. Use `zero_division` parameter to control this behavior.\n",
      "  _warn_prf(average, modifier, msg_start, len(result))\n"
     ]
    }
   ],
   "source": [
    "Y_JGJ_pred = model.predict(X_test)\n",
    "pred = ohe.inverse_transform(Y_JGJ_pred)\n",
    "print(classification_report(Y_test_check,pred))"
   ]
  },
  {
   "cell_type": "code",
   "execution_count": null,
   "metadata": {
    "colab": {
     "base_uri": "https://localhost:8080/"
    },
    "id": "pza3hWbqNdVE",
    "outputId": "224f7a84-84da-4ebb-f674-8554019c7eb6"
   },
   "outputs": [
    {
     "name": "stdout",
     "output_type": "stream",
     "text": [
      "0.3400789336668583\n"
     ]
    }
   ],
   "source": [
    "print(f1_score(Y_test_check,pred,average = 'weighted'))"
   ]
  },
  {
   "cell_type": "code",
   "execution_count": null,
   "metadata": {
    "id": "SsESoQ2CNddp"
   },
   "outputs": [],
   "source": []
  },
  {
   "cell_type": "code",
   "execution_count": null,
   "metadata": {
    "id": "2ldZt2u3uSJy"
   },
   "outputs": [],
   "source": []
  }
 ],
 "metadata": {
  "accelerator": "GPU",
  "colab": {
   "collapsed_sections": [],
   "name": "SDEM.ipynb",
   "provenance": []
  },
  "kernelspec": {
   "display_name": "Python 3",
   "language": "python",
   "name": "python3"
  },
  "language_info": {
   "codemirror_mode": {
    "name": "ipython",
    "version": 3
   },
   "file_extension": ".py",
   "mimetype": "text/x-python",
   "name": "python",
   "nbconvert_exporter": "python",
   "pygments_lexer": "ipython3",
   "version": "3.8.5"
  }
 },
 "nbformat": 4,
 "nbformat_minor": 1
}
