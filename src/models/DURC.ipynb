{
 "cells": [
  {
   "cell_type": "markdown",
   "metadata": {
    "id": "IZ6SNYq_tVVC"
   },
   "source": [
    "# DURC\n",
    "\n",
    "Classify URLs"
   ]
  },
  {
   "cell_type": "markdown",
   "metadata": {
    "id": "Qg3WVlaMvCLY"
   },
   "source": [
    "# Constants\n",
    "\n",
    "Here, you can alter the dataset, maximum number of samples to use, etc."
   ]
  },
  {
   "cell_type": "code",
   "execution_count": null,
   "metadata": {
    "id": "e2L15ZravBU2"
   },
   "outputs": [],
   "source": [
    "DMOZ, ILP, PHISHING = 'dmoz', 'ilp', 'phishing'\n",
    "\n",
    "DATASET = DMOZ  # one of the above datsets\n",
    "MAX_NUM_SAMPLES = 100_000\n",
    "\n",
    "TEST_PROP = 0.2\n",
    "VAL_PROP = 0.2\n",
    "EPOCHS = 20\n",
    "\n",
    "SEED = 42"
   ]
  },
  {
   "cell_type": "markdown",
   "metadata": {
    "id": "SCjmX4zTCkRK"
   },
   "source": [
    "## Setup\n"
   ]
  },
  {
   "cell_type": "markdown",
   "metadata": {
    "id": "5w_XlxN1IsRJ"
   },
   "source": [
    "You will use the AdamW optimizer from [tensorflow/models](https://github.com/tensorflow/models)."
   ]
  },
  {
   "cell_type": "code",
   "execution_count": null,
   "metadata": {
    "colab": {
     "base_uri": "https://localhost:8080/"
    },
    "id": "5V211dJtTvNo",
    "outputId": "518db911-8d41-4009-87ac-68d4ce0c25b6"
   },
   "outputs": [
    {
     "name": "stdout",
     "output_type": "stream",
     "text": [
      "Cloning into 'nlp-project'...\n",
      "remote: Enumerating objects: 58, done.\u001b[K\n",
      "remote: Counting objects: 100% (58/58), done.\u001b[K\n",
      "remote: Compressing objects: 100% (47/47), done.\u001b[K\n",
      "remote: Total 58 (delta 6), reused 33 (delta 3), pack-reused 0\u001b[K\n",
      "Unpacking objects: 100% (58/58), done.\n",
      "/content/nlp-project/src\n"
     ]
    }
   ],
   "source": [
    "command = f'git clone --depth 1 https://github.com/shmulvad/nlp-project.git'\n",
    "!{command}\n",
    "\n",
    "%cd nlp-project/src"
   ]
  },
  {
   "cell_type": "code",
   "execution_count": null,
   "metadata": {
    "colab": {
     "base_uri": "https://localhost:8080/"
    },
    "id": "VwaG2TGYN3c8",
    "outputId": "c195a324-07af-4605-cb11-3b08aeca17fa"
   },
   "outputs": [
    {
     "name": "stdout",
     "output_type": "stream",
     "text": [
      "Requirement already satisfied: gdown in /usr/local/lib/python3.7/dist-packages (3.6.4)\n",
      "Requirement already satisfied: six in /usr/local/lib/python3.7/dist-packages (from gdown) (1.15.0)\n",
      "Requirement already satisfied: tqdm in /usr/local/lib/python3.7/dist-packages (from gdown) (4.41.1)\n",
      "Requirement already satisfied: requests in /usr/local/lib/python3.7/dist-packages (from gdown) (2.23.0)\n",
      "Requirement already satisfied: chardet<4,>=3.0.2 in /usr/local/lib/python3.7/dist-packages (from requests->gdown) (3.0.4)\n",
      "Requirement already satisfied: idna<3,>=2.5 in /usr/local/lib/python3.7/dist-packages (from requests->gdown) (2.10)\n",
      "Requirement already satisfied: urllib3!=1.25.0,!=1.25.1,<1.26,>=1.21.1 in /usr/local/lib/python3.7/dist-packages (from requests->gdown) (1.24.3)\n",
      "Requirement already satisfied: certifi>=2017.4.17 in /usr/local/lib/python3.7/dist-packages (from requests->gdown) (2020.12.5)\n",
      "Downloading...\n",
      "From: https://drive.google.com/uc?id=1WV1JSevCnaWY0-mqQMmtOEFSC3Y_Qdg_\n",
      "To: /content/nlp-project/src/datasets.pkl\n",
      "99.4MB [00:02, 41.1MB/s]\n",
      "\n",
      "\n",
      " baselines\t\t    demo.ipynb\t       self_trained_embeddings.py\n",
      "'Colab Notebooks'\t    featurizer.py      tests\n",
      " create_fasttext_embed.py   pickle_data.py     url_tokenizer.py\n",
      " data\t\t\t    read_data.py       util.py\n",
      " datasets.pkl\t\t    requirements.txt   word_embed\n"
     ]
    }
   ],
   "source": [
    "!pip install gdown\n",
    "\n",
    "# DMOZ, ILP and original phishing dataset - datasets.pkl\n",
    "!gdown --id 1WV1JSevCnaWY0-mqQMmtOEFSC3Y_Qdg_\n",
    "\n",
    "print('\\n')\n",
    "!ls"
   ]
  },
  {
   "cell_type": "code",
   "execution_count": null,
   "metadata": {
    "colab": {
     "base_uri": "https://localhost:8080/"
    },
    "id": "EXdo1h1lUqoO",
    "outputId": "81fe0be7-c3e1-4ddd-fa0c-7e70a87575be"
   },
   "outputs": [
    {
     "name": "stdout",
     "output_type": "stream",
     "text": [
      "\u001b[K     |████████████████████████████████| 3.4MB 17.3MB/s \n",
      "\u001b[K     |████████████████████████████████| 1.1MB 19.7MB/s \n",
      "\u001b[K     |████████████████████████████████| 102kB 14.4MB/s \n",
      "\u001b[K     |████████████████████████████████| 1.2MB 57.6MB/s \n",
      "\u001b[K     |████████████████████████████████| 51kB 8.8MB/s \n",
      "\u001b[K     |████████████████████████████████| 645kB 54.0MB/s \n",
      "\u001b[K     |████████████████████████████████| 174kB 59.4MB/s \n",
      "\u001b[K     |████████████████████████████████| 358kB 57.7MB/s \n",
      "\u001b[K     |████████████████████████████████| 37.6MB 81kB/s \n",
      "\u001b[K     |████████████████████████████████| 706kB 49.5MB/s \n",
      "\u001b[?25h  Building wheel for py-cpuinfo (setup.py) ... \u001b[?25l\u001b[?25hdone\n",
      "  Building wheel for seqeval (setup.py) ... \u001b[?25l\u001b[?25hdone\n",
      "Requirement already satisfied: pandas in /usr/local/lib/python3.7/dist-packages (from -r requirements.txt (line 1)) (1.1.5)\n",
      "Requirement already satisfied: numpy in /usr/local/lib/python3.7/dist-packages (from -r requirements.txt (line 2)) (1.19.5)\n",
      "Collecting wordninja\n",
      "\u001b[?25l  Downloading https://files.pythonhosted.org/packages/30/15/abe4af50f4be92b60c25e43c1c64d08453b51e46c32981d80b3aebec0260/wordninja-2.0.0.tar.gz (541kB)\n",
      "\u001b[K     |████████████████████████████████| 542kB 18.0MB/s \n",
      "\u001b[?25hRequirement already satisfied: pytest in /usr/local/lib/python3.7/dist-packages (from -r requirements.txt (line 4)) (3.6.4)\n",
      "Collecting gensim==4.0.1\n",
      "\u001b[?25l  Downloading https://files.pythonhosted.org/packages/44/52/f1417772965652d4ca6f901515debcd9d6c5430969e8c02ee7737e6de61c/gensim-4.0.1-cp37-cp37m-manylinux1_x86_64.whl (23.9MB)\n",
      "\u001b[K     |████████████████████████████████| 23.9MB 1.5MB/s \n",
      "\u001b[?25hRequirement already satisfied: python-dateutil>=2.7.3 in /usr/local/lib/python3.7/dist-packages (from pandas->-r requirements.txt (line 1)) (2.8.1)\n",
      "Requirement already satisfied: pytz>=2017.2 in /usr/local/lib/python3.7/dist-packages (from pandas->-r requirements.txt (line 1)) (2018.9)\n",
      "Requirement already satisfied: attrs>=17.4.0 in /usr/local/lib/python3.7/dist-packages (from pytest->-r requirements.txt (line 4)) (20.3.0)\n",
      "Requirement already satisfied: setuptools in /usr/local/lib/python3.7/dist-packages (from pytest->-r requirements.txt (line 4)) (54.2.0)\n",
      "Requirement already satisfied: atomicwrites>=1.0 in /usr/local/lib/python3.7/dist-packages (from pytest->-r requirements.txt (line 4)) (1.4.0)\n",
      "Requirement already satisfied: pluggy<0.8,>=0.5 in /usr/local/lib/python3.7/dist-packages (from pytest->-r requirements.txt (line 4)) (0.7.1)\n",
      "Requirement already satisfied: more-itertools>=4.0.0 in /usr/local/lib/python3.7/dist-packages (from pytest->-r requirements.txt (line 4)) (8.7.0)\n",
      "Requirement already satisfied: py>=1.5.0 in /usr/local/lib/python3.7/dist-packages (from pytest->-r requirements.txt (line 4)) (1.10.0)\n",
      "Requirement already satisfied: six>=1.10.0 in /usr/local/lib/python3.7/dist-packages (from pytest->-r requirements.txt (line 4)) (1.15.0)\n",
      "Requirement already satisfied: smart-open>=1.8.1 in /usr/local/lib/python3.7/dist-packages (from gensim==4.0.1->-r requirements.txt (line 5)) (5.0.0)\n",
      "Requirement already satisfied: scipy>=0.18.1 in /usr/local/lib/python3.7/dist-packages (from gensim==4.0.1->-r requirements.txt (line 5)) (1.4.1)\n",
      "Building wheels for collected packages: wordninja\n",
      "  Building wheel for wordninja (setup.py) ... \u001b[?25l\u001b[?25hdone\n",
      "  Created wheel for wordninja: filename=wordninja-2.0.0-cp37-none-any.whl size=541554 sha256=14eae4c476b9e57a9f9de1982b95a54c6123fbf84edf0121e8eea17f73cb1ae5\n",
      "  Stored in directory: /root/.cache/pip/wheels/22/46/06/9b6d10ed02c85e93c3bb33ac50e2d368b2586248f192a2e22a\n",
      "Successfully built wordninja\n",
      "Installing collected packages: wordninja, gensim\n",
      "  Found existing installation: gensim 3.6.0\n",
      "    Uninstalling gensim-3.6.0:\n",
      "      Successfully uninstalled gensim-3.6.0\n",
      "Successfully installed gensim-4.0.1 wordninja-2.0.0\n"
     ]
    }
   ],
   "source": [
    "# A dependency of the preprocessing for BERT inputs\n",
    "!pip install -q tensorflow-text\n",
    "!pip install -q tf-models-official\n",
    "!pip install -r requirements.txt"
   ]
  },
  {
   "cell_type": "code",
   "execution_count": null,
   "metadata": {
    "colab": {
     "base_uri": "https://localhost:8080/"
    },
    "id": "EZ5DQ06ZUupE",
    "outputId": "85ad2c93-b4bb-4f59-9fac-c21f78aed58c"
   },
   "outputs": [
    {
     "name": "stderr",
     "output_type": "stream",
     "text": [
      "/usr/local/lib/python3.7/dist-packages/gensim/similarities/__init__.py:15: UserWarning: The gensim.similarities.levenshtein submodule is disabled, because the optional Levenshtein package <https://pypi.org/project/python-Levenshtein/> is unavailable. Install Levenhstein (e.g. `pip install python-Levenshtein`) to suppress this warning.\n",
      "  warnings.warn(msg)\n"
     ]
    }
   ],
   "source": [
    "import os\n",
    "import shutil\n",
    "import random\n",
    "import pickle\n",
    "\n",
    "from sklearn.metrics import classification_report\n",
    "from sklearn.metrics import confusion_matrix, ConfusionMatrixDisplay\n",
    "from sklearn.model_selection import train_test_split\n",
    "\n",
    "from pprint import pprint\n",
    "import pandas as pd\n",
    "import numpy as np\n",
    "import tensorflow as tf\n",
    "import tensorflow_hub as hub\n",
    "import tensorflow_text as text\n",
    "from official.nlp import optimization  # to create AdamW optmizer\n",
    "\n",
    "import gensim\n",
    "from gensim.models.keyedvectors import FastTextKeyedVectors\n",
    "\n",
    "import matplotlib\n",
    "import matplotlib.pyplot as plt\n",
    "import seaborn as sns\n",
    "\n",
    "sns.set()\n",
    "tf.get_logger().setLevel('ERROR')\n",
    "np.random.seed(SEED)\n",
    "\n",
    "from read_data import read_all_datasets\n",
    "from url_tokenizer import url_tokenizer, flatten_url_data\n",
    "from featurizer import UrlFeaturizer, GLOVE, CONCEPTNET, SAMPLE"
   ]
  },
  {
   "cell_type": "code",
   "execution_count": null,
   "metadata": {
    "colab": {
     "base_uri": "https://localhost:8080/",
     "height": 391
    },
    "id": "yQBY-p4JuMvm",
    "outputId": "4c2ef9ea-d540-4ad1-f4c4-9878ce08e2f2"
   },
   "outputs": [
    {
     "data": {
      "text/html": [
       "<div>\n",
       "<style scoped>\n",
       "    .dataframe tbody tr th:only-of-type {\n",
       "        vertical-align: middle;\n",
       "    }\n",
       "\n",
       "    .dataframe tbody tr th {\n",
       "        vertical-align: top;\n",
       "    }\n",
       "\n",
       "    .dataframe thead th {\n",
       "        text-align: right;\n",
       "    }\n",
       "</style>\n",
       "<table border=\"1\" class=\"dataframe\">\n",
       "  <thead>\n",
       "    <tr style=\"text-align: right;\">\n",
       "      <th></th>\n",
       "      <th>idx</th>\n",
       "      <th>url</th>\n",
       "      <th>label</th>\n",
       "    </tr>\n",
       "  </thead>\n",
       "  <tbody>\n",
       "    <tr>\n",
       "      <th>946066</th>\n",
       "      <td>946067</td>\n",
       "      <td>http://www.thepipe.info</td>\n",
       "      <td>Recreation</td>\n",
       "    </tr>\n",
       "    <tr>\n",
       "      <th>1322925</th>\n",
       "      <td>1322926</td>\n",
       "      <td>http://childlifeline.org</td>\n",
       "      <td>Society</td>\n",
       "    </tr>\n",
       "    <tr>\n",
       "      <th>1538731</th>\n",
       "      <td>1538732</td>\n",
       "      <td>http://www.fchd.info/fleett.htm</td>\n",
       "      <td>Sports</td>\n",
       "    </tr>\n",
       "    <tr>\n",
       "      <th>529412</th>\n",
       "      <td>529413</td>\n",
       "      <td>http://www.ee.umn.edu/users/kieffer/</td>\n",
       "      <td>Computers</td>\n",
       "    </tr>\n",
       "    <tr>\n",
       "      <th>639891</th>\n",
       "      <td>639892</td>\n",
       "      <td>http://www.ftprush.com</td>\n",
       "      <td>Computers</td>\n",
       "    </tr>\n",
       "    <tr>\n",
       "      <th>...</th>\n",
       "      <td>...</td>\n",
       "      <td>...</td>\n",
       "      <td>...</td>\n",
       "    </tr>\n",
       "    <tr>\n",
       "      <th>1467240</th>\n",
       "      <td>1467241</td>\n",
       "      <td>http://www.usatoday.com/sports/college/mensbas...</td>\n",
       "      <td>Sports</td>\n",
       "    </tr>\n",
       "    <tr>\n",
       "      <th>483946</th>\n",
       "      <td>483947</td>\n",
       "      <td>http://www.appraisal.co.nz/</td>\n",
       "      <td>Business</td>\n",
       "    </tr>\n",
       "    <tr>\n",
       "      <th>900141</th>\n",
       "      <td>900142</td>\n",
       "      <td>http://www.wild-about-hunting.com/</td>\n",
       "      <td>Recreation</td>\n",
       "    </tr>\n",
       "    <tr>\n",
       "      <th>320948</th>\n",
       "      <td>320949</td>\n",
       "      <td>http://www.searchlites.com/</td>\n",
       "      <td>Business</td>\n",
       "    </tr>\n",
       "    <tr>\n",
       "      <th>1152731</th>\n",
       "      <td>1152732</td>\n",
       "      <td>http://www.monicaspies.com</td>\n",
       "      <td>Shopping</td>\n",
       "    </tr>\n",
       "  </tbody>\n",
       "</table>\n",
       "<p>1562506 rows × 3 columns</p>\n",
       "</div>"
      ],
      "text/plain": [
       "             idx                                                url       label\n",
       "946066    946067                            http://www.thepipe.info  Recreation\n",
       "1322925  1322926                           http://childlifeline.org     Society\n",
       "1538731  1538732                    http://www.fchd.info/fleett.htm      Sports\n",
       "529412    529413               http://www.ee.umn.edu/users/kieffer/   Computers\n",
       "639891    639892                             http://www.ftprush.com   Computers\n",
       "...          ...                                                ...         ...\n",
       "1467240  1467241  http://www.usatoday.com/sports/college/mensbas...      Sports\n",
       "483946    483947                        http://www.appraisal.co.nz/    Business\n",
       "900141    900142                 http://www.wild-about-hunting.com/  Recreation\n",
       "320948    320949                        http://www.searchlites.com/    Business\n",
       "1152731  1152732                         http://www.monicaspies.com    Shopping\n",
       "\n",
       "[1562506 rows x 3 columns]"
      ]
     },
     "execution_count": 6,
     "metadata": {
      "tags": []
     },
     "output_type": "execute_result"
    }
   ],
   "source": [
    "with open('datasets.pkl', 'rb') as f:\n",
    "    datasets = pickle.load(f)\n",
    "\n",
    "assert DATASET in datasets, \\\n",
    "    f'You tried to load {DATASET} but only {list(datasets.keys())} available.'\n",
    "\n",
    "dataset = datasets[DATASET]\n",
    "dataset"
   ]
  },
  {
   "cell_type": "code",
   "execution_count": null,
   "metadata": {
    "colab": {
     "base_uri": "https://localhost:8080/"
    },
    "id": "Mb58ujMqHrfj",
    "outputId": "22949fea-2d63-4f02-e1f8-9a043fe25b3a"
   },
   "outputs": [
    {
     "name": "stdout",
     "output_type": "stream",
     "text": [
      "Downloading...\n",
      "From: https://drive.google.com/uc?id=1V8_EWQTF_JhgEVbXIvAiHViTHyIO9CBS\n",
      "To: /content/nlp-project/src/embed-dmoz.model\n",
      "23.0MB [00:00, 44.7MB/s]\n",
      "Downloading...\n",
      "From: https://drive.google.com/uc?id=15EirC5KybMrG33RvYUXIfnBM2GWSBdh5\n",
      "To: /content/nlp-project/src/embed-dmoz.model.vectors_ngrams.npy\n",
      "800MB [00:13, 59.8MB/s]\n"
     ]
    }
   ],
   "source": [
    "# Download respectively model and ngrams\n",
    "if DATASET == DMOZ:\n",
    "  !gdown --id 1V8_EWQTF_JhgEVbXIvAiHViTHyIO9CBS\n",
    "  !gdown --id 15EirC5KybMrG33RvYUXIfnBM2GWSBdh5\n",
    "elif DATASET == ILP:\n",
    "  !gdown --id 1_QafULaXKmq0H0fwY3dkR-WOKwsyUkHS\n",
    "  !gdown --id 1kn4EbllSLdAX-8Ca5db6_BewLugCAWp5\n",
    "else:  # Phishing\n",
    "  !gdown --id 1JEsUG4eGqbIItBH468xph-AsS3iQ5Fif\n",
    "  !gdown --id 10p0XPRsuTsXblQNNlUricEmd8if0B2P6\n",
    "\n",
    "embedding = FastTextKeyedVectors.load(f'embed-{DATASET}.model')"
   ]
  },
  {
   "cell_type": "code",
   "execution_count": null,
   "metadata": {
    "colab": {
     "base_uri": "https://localhost:8080/"
    },
    "id": "iz_e3TpwilUU",
    "outputId": "32bf129e-1b12-41df-b3ee-eccb9b45640f"
   },
   "outputs": [
    {
     "name": "stdout",
     "output_type": "stream",
     "text": [
      "Creating the average vector of all the word vectors...\n",
      "Created FastText UrlFeaturizer in 0.0 s\n"
     ]
    }
   ],
   "source": [
    "feat = UrlFeaturizer(embedding=embedding)"
   ]
  },
  {
   "cell_type": "code",
   "execution_count": null,
   "metadata": {
    "colab": {
     "base_uri": "https://localhost:8080/"
    },
    "id": "jCRsiyQriuWK",
    "outputId": "09297665-8016-4b32-d136-107bc9864a3c"
   },
   "outputs": [
    {
     "data": {
      "text/plain": [
       "(array([ 0,  1,  0,  0,  0,  0,  0,  0,  0,  0,  0,  0,  3, 10,  0,  0,  0,\n",
       "         0,  0,  0]),\n",
       " array([[ 0.77026248,  0.46089965,  1.26344168, ...,  0.66362536,\n",
       "          0.34823999, -0.18292134],\n",
       "        [-0.20754965,  0.57599968, -0.14255302, ..., -0.22249998,\n",
       "          0.54267246,  1.67496264],\n",
       "        [ 0.        ,  0.        ,  0.        , ...,  0.        ,\n",
       "          0.        ,  0.        ],\n",
       "        ...,\n",
       "        [ 0.        ,  0.        ,  0.        , ...,  0.        ,\n",
       "          0.        ,  0.        ],\n",
       "        [ 0.        ,  0.        ,  0.        , ...,  0.        ,\n",
       "          0.        ,  0.        ],\n",
       "        [ 0.        ,  0.        ,  0.        , ...,  0.        ,\n",
       "          0.        ,  0.        ]]))"
      ]
     },
     "execution_count": 9,
     "metadata": {
      "tags": []
     },
     "output_type": "execute_result"
    }
   ],
   "source": [
    "feat.featurize('http://sample.com')"
   ]
  },
  {
   "cell_type": "markdown",
   "metadata": {
    "id": "dX8FtlpGJRE6"
   },
   "source": [
    "## Loading models from TensorFlow Hub\n",
    "\n",
    "Here you can choose which BERT model you will load from TensorFlow Hub and fine-tune. There are multiple BERT models available.\n",
    "\n",
    "  - [BERT-Base](https://tfhub.dev/tensorflow/bert_en_uncased_L-12_H-768_A-12/3), [Uncased](https://tfhub.dev/tensorflow/bert_en_uncased_L-12_H-768_A-12/3) and [seven more models](https://tfhub.dev/google/collections/bert/1) with trained weights released by the original BERT authors.\n",
    "  - [Small BERTs](https://tfhub.dev/google/collections/bert/1) have the same general architecture but fewer and/or smaller Transformer blocks, which lets you explore tradeoffs between speed, size and quality.\n",
    "  - [ALBERT](https://tfhub.dev/google/collections/albert/1): four different sizes of \"A Lite BERT\" that reduces model size (but not computation time) by sharing parameters between layers.\n",
    "  - [BERT Experts](https://tfhub.dev/google/collections/experts/bert/1): eight models that all have the BERT-base architecture but offer a choice between different pre-training domains, to align more closely with the target task.\n",
    "  - [Electra](https://tfhub.dev/google/collections/electra/1) has the same architecture as BERT (in three different sizes), but gets pre-trained as a discriminator in a set-up that resembles a Generative Adversarial Network (GAN).\n",
    "  - BERT with Talking-Heads Attention and Gated GELU [[base](https://tfhub.dev/tensorflow/talkheads_ggelu_bert_en_base/1), [large](https://tfhub.dev/tensorflow/talkheads_ggelu_bert_en_large/1)] has two improvements to the core of the Transformer architecture.\n",
    "\n",
    "The model documentation on TensorFlow Hub has more details and references to the\n",
    "research literature. Follow the links above, or click on the [`tfhub.dev`](http://tfhub.dev) URL\n",
    "printed after the next cell execution.\n",
    "\n",
    "The suggestion is to start with a Small BERT (with fewer parameters) since they are faster to fine-tune. If you like a small model but with higher accuracy, ALBERT might be your next option. If you want even better accuracy, choose\n",
    "one of the classic BERT sizes or their recent refinements like Electra, Talking Heads, or a BERT Expert.\n",
    "\n",
    "Aside from the models available below, there are [multiple versions](https://tfhub.dev/google/collections/transformer_encoders_text/1) of the models that are larger and can yeld even better accuracy but they are too big to be fine-tuned on a single GPU. You will be able to do that on the [Solve GLUE tasks using BERT on a TPU colab](https://www.tensorflow.org/tutorials/text/solve_glue_tasks_using_bert_on_tpu).\n",
    "\n",
    "You'll see in the code below that switching the tfhub.dev URL is enough to try any of these models, because all the differences between them are encapsulated in the SavedModels from TF Hub."
   ]
  },
  {
   "cell_type": "code",
   "execution_count": null,
   "metadata": {
    "colab": {
     "base_uri": "https://localhost:8080/"
    },
    "id": "y8_ctG55-uTX",
    "outputId": "a36c9476-b327-4b8e-95a8-c8f13579048c"
   },
   "outputs": [
    {
     "name": "stdout",
     "output_type": "stream",
     "text": [
      "BERT model selected           : https://tfhub.dev/tensorflow/small_bert/bert_en_uncased_L-2_H-512_A-8/1\n",
      "Preprocess model auto-selected: https://tfhub.dev/tensorflow/bert_en_uncased_preprocess/3\n"
     ]
    }
   ],
   "source": [
    "#@title Choose a BERT model to fine-tune\n",
    "\n",
    "bert_model_name = 'small_bert/bert_en_uncased_L-2_H-512_A-8'  #@param [\"bert_en_uncased_L-12_H-768_A-12\", \"bert_en_cased_L-12_H-768_A-12\", \"bert_multi_cased_L-12_H-768_A-12\", \"small_bert/bert_en_uncased_L-2_H-128_A-2\", \"small_bert/bert_en_uncased_L-2_H-256_A-4\", \"small_bert/bert_en_uncased_L-2_H-512_A-8\", \"small_bert/bert_en_uncased_L-2_H-768_A-12\", \"small_bert/bert_en_uncased_L-4_H-128_A-2\", \"small_bert/bert_en_uncased_L-4_H-256_A-4\", \"small_bert/bert_en_uncased_L-4_H-512_A-8\", \"small_bert/bert_en_uncased_L-4_H-768_A-12\", \"small_bert/bert_en_uncased_L-6_H-128_A-2\", \"small_bert/bert_en_uncased_L-6_H-256_A-4\", \"small_bert/bert_en_uncased_L-6_H-512_A-8\", \"small_bert/bert_en_uncased_L-6_H-768_A-12\", \"small_bert/bert_en_uncased_L-8_H-128_A-2\", \"small_bert/bert_en_uncased_L-8_H-256_A-4\", \"small_bert/bert_en_uncased_L-8_H-512_A-8\", \"small_bert/bert_en_uncased_L-8_H-768_A-12\", \"small_bert/bert_en_uncased_L-10_H-128_A-2\", \"small_bert/bert_en_uncased_L-10_H-256_A-4\", \"small_bert/bert_en_uncased_L-10_H-512_A-8\", \"small_bert/bert_en_uncased_L-10_H-768_A-12\", \"small_bert/bert_en_uncased_L-12_H-128_A-2\", \"small_bert/bert_en_uncased_L-12_H-256_A-4\", \"small_bert/bert_en_uncased_L-12_H-512_A-8\", \"small_bert/bert_en_uncased_L-12_H-768_A-12\", \"albert_en_base\", \"electra_small\", \"electra_base\", \"experts_pubmed\", \"experts_wiki_books\", \"talking-heads_base\"]\n",
    "\n",
    "map_name_to_handle = {\n",
    "    'bert_en_uncased_L-12_H-768_A-12':\n",
    "        'https://tfhub.dev/tensorflow/bert_en_uncased_L-12_H-768_A-12/3',\n",
    "    'bert_en_cased_L-12_H-768_A-12':\n",
    "        'https://tfhub.dev/tensorflow/bert_en_cased_L-12_H-768_A-12/3',\n",
    "    'bert_multi_cased_L-12_H-768_A-12':\n",
    "        'https://tfhub.dev/tensorflow/bert_multi_cased_L-12_H-768_A-12/3',\n",
    "    'small_bert/bert_en_uncased_L-2_H-128_A-2':\n",
    "        'https://tfhub.dev/tensorflow/small_bert/bert_en_uncased_L-2_H-128_A-2/1',\n",
    "    'small_bert/bert_en_uncased_L-2_H-256_A-4':\n",
    "        'https://tfhub.dev/tensorflow/small_bert/bert_en_uncased_L-2_H-256_A-4/1',\n",
    "    'small_bert/bert_en_uncased_L-2_H-512_A-8':\n",
    "        'https://tfhub.dev/tensorflow/small_bert/bert_en_uncased_L-2_H-512_A-8/1',\n",
    "    'small_bert/bert_en_uncased_L-2_H-768_A-12':\n",
    "        'https://tfhub.dev/tensorflow/small_bert/bert_en_uncased_L-2_H-768_A-12/1',\n",
    "    'small_bert/bert_en_uncased_L-4_H-128_A-2':\n",
    "        'https://tfhub.dev/tensorflow/small_bert/bert_en_uncased_L-4_H-128_A-2/1',\n",
    "    'small_bert/bert_en_uncased_L-4_H-256_A-4':\n",
    "        'https://tfhub.dev/tensorflow/small_bert/bert_en_uncased_L-4_H-256_A-4/1',\n",
    "    'small_bert/bert_en_uncased_L-4_H-512_A-8':\n",
    "        'https://tfhub.dev/tensorflow/small_bert/bert_en_uncased_L-4_H-512_A-8/1',\n",
    "    'small_bert/bert_en_uncased_L-4_H-768_A-12':\n",
    "        'https://tfhub.dev/tensorflow/small_bert/bert_en_uncased_L-4_H-768_A-12/1',\n",
    "    'small_bert/bert_en_uncased_L-6_H-128_A-2':\n",
    "        'https://tfhub.dev/tensorflow/small_bert/bert_en_uncased_L-6_H-128_A-2/1',\n",
    "    'small_bert/bert_en_uncased_L-6_H-256_A-4':\n",
    "        'https://tfhub.dev/tensorflow/small_bert/bert_en_uncased_L-6_H-256_A-4/1',\n",
    "    'small_bert/bert_en_uncased_L-6_H-512_A-8':\n",
    "        'https://tfhub.dev/tensorflow/small_bert/bert_en_uncased_L-6_H-512_A-8/1',\n",
    "    'small_bert/bert_en_uncased_L-6_H-768_A-12':\n",
    "        'https://tfhub.dev/tensorflow/small_bert/bert_en_uncased_L-6_H-768_A-12/1',\n",
    "    'small_bert/bert_en_uncased_L-8_H-128_A-2':\n",
    "        'https://tfhub.dev/tensorflow/small_bert/bert_en_uncased_L-8_H-128_A-2/1',\n",
    "    'small_bert/bert_en_uncased_L-8_H-256_A-4':\n",
    "        'https://tfhub.dev/tensorflow/small_bert/bert_en_uncased_L-8_H-256_A-4/1',\n",
    "    'small_bert/bert_en_uncased_L-8_H-512_A-8':\n",
    "        'https://tfhub.dev/tensorflow/small_bert/bert_en_uncased_L-8_H-512_A-8/1',\n",
    "    'small_bert/bert_en_uncased_L-8_H-768_A-12':\n",
    "        'https://tfhub.dev/tensorflow/small_bert/bert_en_uncased_L-8_H-768_A-12/1',\n",
    "    'small_bert/bert_en_uncased_L-10_H-128_A-2':\n",
    "        'https://tfhub.dev/tensorflow/small_bert/bert_en_uncased_L-10_H-128_A-2/1',\n",
    "    'small_bert/bert_en_uncased_L-10_H-256_A-4':\n",
    "        'https://tfhub.dev/tensorflow/small_bert/bert_en_uncased_L-10_H-256_A-4/1',\n",
    "    'small_bert/bert_en_uncased_L-10_H-512_A-8':\n",
    "        'https://tfhub.dev/tensorflow/small_bert/bert_en_uncased_L-10_H-512_A-8/1',\n",
    "    'small_bert/bert_en_uncased_L-10_H-768_A-12':\n",
    "        'https://tfhub.dev/tensorflow/small_bert/bert_en_uncased_L-10_H-768_A-12/1',\n",
    "    'small_bert/bert_en_uncased_L-12_H-128_A-2':\n",
    "        'https://tfhub.dev/tensorflow/small_bert/bert_en_uncased_L-12_H-128_A-2/1',\n",
    "    'small_bert/bert_en_uncased_L-12_H-256_A-4':\n",
    "        'https://tfhub.dev/tensorflow/small_bert/bert_en_uncased_L-12_H-256_A-4/1',\n",
    "    'small_bert/bert_en_uncased_L-12_H-512_A-8':\n",
    "        'https://tfhub.dev/tensorflow/small_bert/bert_en_uncased_L-12_H-512_A-8/1',\n",
    "    'small_bert/bert_en_uncased_L-12_H-768_A-12':\n",
    "        'https://tfhub.dev/tensorflow/small_bert/bert_en_uncased_L-12_H-768_A-12/1',\n",
    "    'albert_en_base':\n",
    "        'https://tfhub.dev/tensorflow/albert_en_base/2',\n",
    "    'electra_small':\n",
    "        'https://tfhub.dev/google/electra_small/2',\n",
    "    'electra_base':\n",
    "        'https://tfhub.dev/google/electra_base/2',\n",
    "    'experts_pubmed':\n",
    "        'https://tfhub.dev/google/experts/bert/pubmed/2',\n",
    "    'experts_wiki_books':\n",
    "        'https://tfhub.dev/google/experts/bert/wiki_books/2',\n",
    "    'talking-heads_base':\n",
    "        'https://tfhub.dev/tensorflow/talkheads_ggelu_bert_en_base/1',\n",
    "}\n",
    "\n",
    "map_model_to_preprocess = {\n",
    "    'bert_en_uncased_L-12_H-768_A-12':\n",
    "        'https://tfhub.dev/tensorflow/bert_en_uncased_preprocess/3',\n",
    "    'bert_en_cased_L-12_H-768_A-12':\n",
    "        'https://tfhub.dev/tensorflow/bert_en_cased_preprocess/3',\n",
    "    'small_bert/bert_en_uncased_L-2_H-128_A-2':\n",
    "        'https://tfhub.dev/tensorflow/bert_en_uncased_preprocess/3',\n",
    "    'small_bert/bert_en_uncased_L-2_H-256_A-4':\n",
    "        'https://tfhub.dev/tensorflow/bert_en_uncased_preprocess/3',\n",
    "    'small_bert/bert_en_uncased_L-2_H-512_A-8':\n",
    "        'https://tfhub.dev/tensorflow/bert_en_uncased_preprocess/3',\n",
    "    'small_bert/bert_en_uncased_L-2_H-768_A-12':\n",
    "        'https://tfhub.dev/tensorflow/bert_en_uncased_preprocess/3',\n",
    "    'small_bert/bert_en_uncased_L-4_H-128_A-2':\n",
    "        'https://tfhub.dev/tensorflow/bert_en_uncased_preprocess/3',\n",
    "    'small_bert/bert_en_uncased_L-4_H-256_A-4':\n",
    "        'https://tfhub.dev/tensorflow/bert_en_uncased_preprocess/3',\n",
    "    'small_bert/bert_en_uncased_L-4_H-512_A-8':\n",
    "        'https://tfhub.dev/tensorflow/bert_en_uncased_preprocess/3',\n",
    "    'small_bert/bert_en_uncased_L-4_H-768_A-12':\n",
    "        'https://tfhub.dev/tensorflow/bert_en_uncased_preprocess/3',\n",
    "    'small_bert/bert_en_uncased_L-6_H-128_A-2':\n",
    "        'https://tfhub.dev/tensorflow/bert_en_uncased_preprocess/3',\n",
    "    'small_bert/bert_en_uncased_L-6_H-256_A-4':\n",
    "        'https://tfhub.dev/tensorflow/bert_en_uncased_preprocess/3',\n",
    "    'small_bert/bert_en_uncased_L-6_H-512_A-8':\n",
    "        'https://tfhub.dev/tensorflow/bert_en_uncased_preprocess/3',\n",
    "    'small_bert/bert_en_uncased_L-6_H-768_A-12':\n",
    "        'https://tfhub.dev/tensorflow/bert_en_uncased_preprocess/3',\n",
    "    'small_bert/bert_en_uncased_L-8_H-128_A-2':\n",
    "        'https://tfhub.dev/tensorflow/bert_en_uncased_preprocess/3',\n",
    "    'small_bert/bert_en_uncased_L-8_H-256_A-4':\n",
    "        'https://tfhub.dev/tensorflow/bert_en_uncased_preprocess/3',\n",
    "    'small_bert/bert_en_uncased_L-8_H-512_A-8':\n",
    "        'https://tfhub.dev/tensorflow/bert_en_uncased_preprocess/3',\n",
    "    'small_bert/bert_en_uncased_L-8_H-768_A-12':\n",
    "        'https://tfhub.dev/tensorflow/bert_en_uncased_preprocess/3',\n",
    "    'small_bert/bert_en_uncased_L-10_H-128_A-2':\n",
    "        'https://tfhub.dev/tensorflow/bert_en_uncased_preprocess/3',\n",
    "    'small_bert/bert_en_uncased_L-10_H-256_A-4':\n",
    "        'https://tfhub.dev/tensorflow/bert_en_uncased_preprocess/3',\n",
    "    'small_bert/bert_en_uncased_L-10_H-512_A-8':\n",
    "        'https://tfhub.dev/tensorflow/bert_en_uncased_preprocess/3',\n",
    "    'small_bert/bert_en_uncased_L-10_H-768_A-12':\n",
    "        'https://tfhub.dev/tensorflow/bert_en_uncased_preprocess/3',\n",
    "    'small_bert/bert_en_uncased_L-12_H-128_A-2':\n",
    "        'https://tfhub.dev/tensorflow/bert_en_uncased_preprocess/3',\n",
    "    'small_bert/bert_en_uncased_L-12_H-256_A-4':\n",
    "        'https://tfhub.dev/tensorflow/bert_en_uncased_preprocess/3',\n",
    "    'small_bert/bert_en_uncased_L-12_H-512_A-8':\n",
    "        'https://tfhub.dev/tensorflow/bert_en_uncased_preprocess/3',\n",
    "    'small_bert/bert_en_uncased_L-12_H-768_A-12':\n",
    "        'https://tfhub.dev/tensorflow/bert_en_uncased_preprocess/3',\n",
    "    'bert_multi_cased_L-12_H-768_A-12':\n",
    "        'https://tfhub.dev/tensorflow/bert_multi_cased_preprocess/3',\n",
    "    'albert_en_base':\n",
    "        'https://tfhub.dev/tensorflow/albert_en_preprocess/3',\n",
    "    'electra_small':\n",
    "        'https://tfhub.dev/tensorflow/bert_en_uncased_preprocess/3',\n",
    "    'electra_base':\n",
    "        'https://tfhub.dev/tensorflow/bert_en_uncased_preprocess/3',\n",
    "    'experts_pubmed':\n",
    "        'https://tfhub.dev/tensorflow/bert_en_uncased_preprocess/3',\n",
    "    'experts_wiki_books':\n",
    "        'https://tfhub.dev/tensorflow/bert_en_uncased_preprocess/3',\n",
    "    'talking-heads_base':\n",
    "        'https://tfhub.dev/tensorflow/bert_en_uncased_preprocess/3',\n",
    "}\n",
    "\n",
    "tfhub_handle_encoder = map_name_to_handle[bert_model_name]\n",
    "tfhub_handle_preprocess = map_model_to_preprocess[bert_model_name]\n",
    "\n",
    "print(f'BERT model selected           : {tfhub_handle_encoder}')\n",
    "print(f'Preprocess model auto-selected: {tfhub_handle_preprocess}')"
   ]
  },
  {
   "cell_type": "markdown",
   "metadata": {
    "id": "7WrcxxTRDdHi"
   },
   "source": [
    "## The preprocessing model\n",
    "\n",
    "Text inputs need to be transformed to numeric token ids and arranged in several Tensors before being input to BERT. TensorFlow Hub provides a matching preprocessing model for each of the BERT models discussed above, which implements this transformation using TF ops from the TF.text library. It is not necessary to run pure Python code outside your TensorFlow model to preprocess text.\n",
    "\n",
    "The preprocessing model must be the one referenced by the documentation of the BERT model, which you can read at the URL printed above. For BERT models from the drop-down above, the preprocessing model is selected automatically.\n",
    "\n",
    "Note: You will load the preprocessing model into a [hub.KerasLayer](https://www.tensorflow.org/hub/api_docs/python/hub/KerasLayer) to compose your fine-tuned model. This is the preferred API to load a TF2-style SavedModel from TF Hub into a Keras model."
   ]
  },
  {
   "cell_type": "code",
   "execution_count": null,
   "metadata": {
    "id": "0SQi-jWd_jzq"
   },
   "outputs": [],
   "source": [
    "bert_preprocess_model = hub.KerasLayer(tfhub_handle_preprocess)"
   ]
  },
  {
   "cell_type": "markdown",
   "metadata": {
    "id": "x4naBiEE_cZX"
   },
   "source": [
    "Let's try the preprocessing model on some text and see the output:"
   ]
  },
  {
   "cell_type": "code",
   "execution_count": null,
   "metadata": {
    "colab": {
     "base_uri": "https://localhost:8080/"
    },
    "id": "r9-zCzJpnuwS",
    "outputId": "1838fdc3-2ff5-428f-c161-7b3319003782"
   },
   "outputs": [
    {
     "name": "stdout",
     "output_type": "stream",
     "text": [
      "URL        : http://www.thepipe.info\n",
      "URL flat   : http www the pipe info\n",
      "Keys       : ['input_mask', 'input_type_ids', 'input_word_ids']\n",
      "Shape      : (1, 128)\n",
      "Word Ids   : [  101  8299  7479  1996  8667 18558   102     0     0     0     0     0]\n",
      "Input Mask : [1 1 1 1 1 1 1 0 0 0 0 0]\n",
      "Type Ids   : [0 0 0 0 0 0 0 0 0 0 0 0]\n"
     ]
    }
   ],
   "source": [
    "test_url = dataset['url'].iloc[0]\n",
    "\n",
    "vec, mat = feat.featurize(test_url)\n",
    "\n",
    "url_data = url_tokenizer(test_url)\n",
    "url_flat_lst = flatten_url_data(url_data)\n",
    "url_flat = ' '.join(url_flat_lst)\n",
    "\n",
    "text_preprocessed = bert_preprocess_model([url_flat])\n",
    "\n",
    "print(f'URL        : {test_url}')\n",
    "print(f'URL flat   : {url_flat}')\n",
    "print(f'Keys       : {list(text_preprocessed.keys())}')\n",
    "print(f'Shape      : {text_preprocessed[\"input_word_ids\"].shape}')\n",
    "print(f'Word Ids   : {text_preprocessed[\"input_word_ids\"][0, :12]}')\n",
    "print(f'Input Mask : {text_preprocessed[\"input_mask\"][0, :12]}')\n",
    "print(f'Type Ids   : {text_preprocessed[\"input_type_ids\"][0, :12]}')"
   ]
  },
  {
   "cell_type": "markdown",
   "metadata": {
    "id": "EqL7ihkN_862"
   },
   "source": [
    "As you can see, now you have the 3 outputs from the preprocessing that a BERT model would use (`input_words_id`, `input_mask` and `input_type_ids`).\n",
    "\n",
    "Some other important points:\n",
    "- The input is truncated to 128 tokens. The number of tokens can be customized and you can see more details on the [Solve GLUE tasks using BERT on a TPU colab](https://www.tensorflow.org/tutorials/text/solve_glue_tasks_using_bert_on_tpu).\n",
    "- The `input_type_ids` only have one value (0) because this is a single sentence input. For a multiple sentence input, it would have one number for each input.\n",
    "\n",
    "Since this text preprocessor is a TensorFlow model, It can be included in your model directly."
   ]
  },
  {
   "cell_type": "markdown",
   "metadata": {
    "id": "DKnLPSEmtp9i"
   },
   "source": [
    "## Using the BERT model\n",
    "\n",
    "Before putting BERT into your own model, let's take a look at its outputs. You will load it from TF Hub and see the returned values."
   ]
  },
  {
   "cell_type": "code",
   "execution_count": null,
   "metadata": {
    "id": "tXxYpK8ixL34"
   },
   "outputs": [],
   "source": [
    "bert_model = hub.KerasLayer(tfhub_handle_encoder)"
   ]
  },
  {
   "cell_type": "code",
   "execution_count": null,
   "metadata": {
    "colab": {
     "base_uri": "https://localhost:8080/"
    },
    "id": "_OoF9mebuSZc",
    "outputId": "f36b889a-ef95-4777-c252-25795d3e4436"
   },
   "outputs": [
    {
     "name": "stdout",
     "output_type": "stream",
     "text": [
      "Loaded BERT: https://tfhub.dev/tensorflow/small_bert/bert_en_uncased_L-2_H-512_A-8/1\n",
      "Pooled Outputs Shape:(1, 512)\n",
      "Pooled Outputs Values:[ 0.00361865  0.9974153  -0.99529904 -0.22447802 -0.9434775   0.62250054\n",
      "  0.25889897 -0.13676828 -0.986421   -0.35827413 -0.06381476 -0.4071286 ]\n",
      "Sequence Outputs Shape:(1, 128, 512)\n",
      "Sequence Outputs Values:[[ 0.0066224   0.33793563  0.1651968  ...  0.3993891   0.17727925\n",
      "   0.37627977]\n",
      " [-0.23351853  0.39609352  0.31572127 ... -0.54058766  0.24096048\n",
      "   0.7564982 ]\n",
      " [ 0.4214562   0.06643073  0.7803554  ... -0.19821711 -0.3319404\n",
      "   0.45022112]\n",
      " ...\n",
      " [ 0.08875236  0.729173   -0.45449984 ...  0.34969813  0.17700747\n",
      "   0.05872137]\n",
      " [ 0.46900678  0.41907883  0.41059265 ...  0.08870018 -0.00837477\n",
      "   0.24160038]\n",
      " [ 0.35212272  0.5305757   0.36495954 ... -0.08279523  0.04219694\n",
      "   0.43598697]]\n"
     ]
    }
   ],
   "source": [
    "bert_results = bert_model(text_preprocessed)\n",
    "\n",
    "print(f'Loaded BERT: {tfhub_handle_encoder}')\n",
    "print(f'Pooled Outputs Shape:{bert_results[\"pooled_output\"].shape}')\n",
    "print(f'Pooled Outputs Values:{bert_results[\"pooled_output\"][0, :12]}')\n",
    "print(f'Sequence Outputs Shape:{bert_results[\"sequence_output\"].shape}')\n",
    "print(f'Sequence Outputs Values:{bert_results[\"sequence_output\"][0, :12]}')"
   ]
  },
  {
   "cell_type": "markdown",
   "metadata": {
    "id": "sm61jDrezAll"
   },
   "source": [
    "The BERT models return a map with 3 important keys: `pooled_output`, `sequence_output`, `encoder_outputs`:\n",
    "\n",
    "- `pooled_output` to represent each input sequence as a whole. The shape is `[batch_size, H]`. You can think of this as an embedding for the entire movie review.\n",
    "- `sequence_output` represents each input token in the context. The shape is `[batch_size, seq_length, H]`. You can think of this as a contextual embedding for every token in the movie review.\n",
    "- `encoder_outputs` are the intermediate activations of the `L` Transformer blocks. `outputs[\"encoder_outputs\"][i]` is a Tensor of shape `[batch_size, seq_length, 1024]` with the outputs of the i-th Transformer block, for `0 <= i < L`. The last value of the list is equal to `sequence_output`.\n",
    "\n",
    "For the fine-tuning you are going to use the `pooled_output` array."
   ]
  },
  {
   "cell_type": "markdown",
   "metadata": {
    "id": "pDNKfAXbDnJH"
   },
   "source": [
    "## Restricting Dataset\n",
    "\n",
    "Limit dataset if DMOZ and make the labels categorical\n"
   ]
  },
  {
   "cell_type": "code",
   "execution_count": null,
   "metadata": {
    "colab": {
     "base_uri": "https://localhost:8080/",
     "height": 391
    },
    "id": "2u5yJgTncfBD",
    "outputId": "39ab3750-5e7b-46c1-e5d4-97db3befd8dd"
   },
   "outputs": [
    {
     "data": {
      "text/html": [
       "<div>\n",
       "<style scoped>\n",
       "    .dataframe tbody tr th:only-of-type {\n",
       "        vertical-align: middle;\n",
       "    }\n",
       "\n",
       "    .dataframe tbody tr th {\n",
       "        vertical-align: top;\n",
       "    }\n",
       "\n",
       "    .dataframe thead th {\n",
       "        text-align: right;\n",
       "    }\n",
       "</style>\n",
       "<table border=\"1\" class=\"dataframe\">\n",
       "  <thead>\n",
       "    <tr style=\"text-align: right;\">\n",
       "      <th></th>\n",
       "      <th>idx</th>\n",
       "      <th>url</th>\n",
       "      <th>label</th>\n",
       "    </tr>\n",
       "  </thead>\n",
       "  <tbody>\n",
       "    <tr>\n",
       "      <th>1478154</th>\n",
       "      <td>1478155</td>\n",
       "      <td>http://www.physics.ubc.ca/~rcoope</td>\n",
       "      <td>Sports</td>\n",
       "    </tr>\n",
       "    <tr>\n",
       "      <th>1440788</th>\n",
       "      <td>1440789</td>\n",
       "      <td>http://www.divinity.cam.ac.uk/carts/gender.html</td>\n",
       "      <td>Society</td>\n",
       "    </tr>\n",
       "    <tr>\n",
       "      <th>557247</th>\n",
       "      <td>557248</td>\n",
       "      <td>http://deepblog.com/</td>\n",
       "      <td>Computers</td>\n",
       "    </tr>\n",
       "    <tr>\n",
       "      <th>956912</th>\n",
       "      <td>956913</td>\n",
       "      <td>http://www.tiaa.edu.ge/</td>\n",
       "      <td>Reference</td>\n",
       "    </tr>\n",
       "    <tr>\n",
       "      <th>333932</th>\n",
       "      <td>333933</td>\n",
       "      <td>http://www.firstediting.com</td>\n",
       "      <td>Business</td>\n",
       "    </tr>\n",
       "    <tr>\n",
       "      <th>...</th>\n",
       "      <td>...</td>\n",
       "      <td>...</td>\n",
       "      <td>...</td>\n",
       "    </tr>\n",
       "    <tr>\n",
       "      <th>149559</th>\n",
       "      <td>149560</td>\n",
       "      <td>http://www.rollingstone.com/artists/janisian</td>\n",
       "      <td>Arts</td>\n",
       "    </tr>\n",
       "    <tr>\n",
       "      <th>85056</th>\n",
       "      <td>85057</td>\n",
       "      <td>http://andybragen.com</td>\n",
       "      <td>Arts</td>\n",
       "    </tr>\n",
       "    <tr>\n",
       "      <th>175104</th>\n",
       "      <td>175105</td>\n",
       "      <td>http://www.wqxr.com/cgi-bin/iowa/cla/learning/...</td>\n",
       "      <td>Arts</td>\n",
       "    </tr>\n",
       "    <tr>\n",
       "      <th>1214881</th>\n",
       "      <td>1214882</td>\n",
       "      <td>http://www.janhart.com/</td>\n",
       "      <td>Shopping</td>\n",
       "    </tr>\n",
       "    <tr>\n",
       "      <th>1440432</th>\n",
       "      <td>1440433</td>\n",
       "      <td>http://www.theagelesswisdom.com/</td>\n",
       "      <td>Society</td>\n",
       "    </tr>\n",
       "  </tbody>\n",
       "</table>\n",
       "<p>100000 rows × 3 columns</p>\n",
       "</div>"
      ],
      "text/plain": [
       "             idx                                                url      label\n",
       "1478154  1478155                  http://www.physics.ubc.ca/~rcoope     Sports\n",
       "1440788  1440789    http://www.divinity.cam.ac.uk/carts/gender.html    Society\n",
       "557247    557248                               http://deepblog.com/  Computers\n",
       "956912    956913                            http://www.tiaa.edu.ge/  Reference\n",
       "333932    333933                        http://www.firstediting.com   Business\n",
       "...          ...                                                ...        ...\n",
       "149559    149560       http://www.rollingstone.com/artists/janisian       Arts\n",
       "85056      85057                              http://andybragen.com       Arts\n",
       "175104    175105  http://www.wqxr.com/cgi-bin/iowa/cla/learning/...       Arts\n",
       "1214881  1214882                            http://www.janhart.com/   Shopping\n",
       "1440432  1440433                   http://www.theagelesswisdom.com/    Society\n",
       "\n",
       "[100000 rows x 3 columns]"
      ]
     },
     "execution_count": 15,
     "metadata": {
      "tags": []
     },
     "output_type": "execute_result"
    }
   ],
   "source": [
    "if DATASET == 'dmoz':\n",
    "    dataset = dataset.sample(MAX_NUM_SAMPLES)\n",
    "\n",
    "dataset"
   ]
  },
  {
   "cell_type": "code",
   "execution_count": null,
   "metadata": {
    "colab": {
     "base_uri": "https://localhost:8080/",
     "height": 333
    },
    "id": "u72GeURudOmc",
    "outputId": "020978fa-82ba-4df3-d78b-7355bf2e69e5"
   },
   "outputs": [
    {
     "data": {
      "text/plain": [
       "<matplotlib.axes._subplots.AxesSubplot at 0x7fc540a4a2d0>"
      ]
     },
     "execution_count": 16,
     "metadata": {
      "tags": []
     },
     "output_type": "execute_result"
    },
    {
     "data": {
      "image/png": "[encoded data removed]",
      "text/plain": [
       "<Figure size 432x288 with 1 Axes>"
      ]
     },
     "metadata": {
      "tags": []
     },
     "output_type": "display_data"
    }
   ],
   "source": [
    "dataset['label'].value_counts().plot(kind='bar')"
   ]
  },
  {
   "cell_type": "code",
   "execution_count": null,
   "metadata": {
    "colab": {
     "base_uri": "https://localhost:8080/"
    },
    "id": "L-Vy6TrMd0k2",
    "outputId": "0f43bd9d-4ffd-492e-d003-6eed8d7d4afc"
   },
   "outputs": [
    {
     "name": "stdout",
     "output_type": "stream",
     "text": [
      "Num classes: 15\n",
      "{'Adult': 9,\n",
      " 'Arts': 7,\n",
      " 'Business': 4,\n",
      " 'Computers': 2,\n",
      " 'Games': 6,\n",
      " 'Health': 10,\n",
      " 'Home': 8,\n",
      " 'Kids': 13,\n",
      " 'News': 14,\n",
      " 'Recreation': 5,\n",
      " 'Reference': 3,\n",
      " 'Science': 12,\n",
      " 'Shopping': 11,\n",
      " 'Society': 1,\n",
      " 'Sports': 0}\n"
     ]
    }
   ],
   "source": [
    "labels = np.array(dataset.label.unique())\n",
    "label_to_num = {label: i for i, label in enumerate(labels)}\n",
    "num_classes = len(label_to_num)\n",
    "\n",
    "print('Num classes:', num_classes)\n",
    "pprint(label_to_num)"
   ]
  },
  {
   "cell_type": "markdown",
   "metadata": {
    "id": "VsM-iO1F6MbA"
   },
   "source": [
    "# Define Model\n",
    "\n",
    "In this section, we define the model"
   ]
  },
  {
   "cell_type": "code",
   "execution_count": null,
   "metadata": {
    "id": "BXxlsr0DdTrb"
   },
   "outputs": [],
   "source": [
    "from tensorflow.keras import Model\n",
    "from tensorflow.keras.models import Sequential\n",
    "from tensorflow.keras import backend as K\n",
    "\n",
    "from tensorflow.keras.layers import Input, concatenate, Concatenate\n",
    "from tensorflow.keras.layers import BatchNormalization\n",
    "from tensorflow.keras.layers import Conv2D, Conv1D, LSTM, Bidirectional\n",
    "from tensorflow.keras.layers import MaxPooling2D\n",
    "from tensorflow.keras.layers import GlobalAveragePooling1D\n",
    "from tensorflow.keras.layers import Activation\n",
    "from tensorflow.keras.layers import Dropout\n",
    "from tensorflow.keras.layers import Dense\n",
    "from tensorflow.keras.layers import Flatten\n",
    "from tensorflow.keras.layers import Attention\n",
    "from tensorflow.keras.layers import Input"
   ]
  },
  {
   "cell_type": "code",
   "execution_count": null,
   "metadata": {
    "id": "fbH6hGRicSlw"
   },
   "outputs": [],
   "source": [
    "def build_classifier_model_custom():\n",
    "    input_text = Input(shape=(), dtype=tf.string, name='Flat_URL_Text')\n",
    "    input_embed = Input(shape=(feat.N, feat.embedding_dim), name='Static_FastText_Embeddings')\n",
    "    input_feat_vec = Input(shape=(feat.hand_picked_feat_len,), name='Feature_Vector')\n",
    "\n",
    "    # BERT\n",
    "    preprocessing_layer = hub.KerasLayer(tfhub_handle_preprocess, name='BERT_Preprocesser')\n",
    "    encoder_inputs = preprocessing_layer(input_text)\n",
    "    encoder = hub.KerasLayer(tfhub_handle_encoder, trainable=True, name='BERT_encoder')\n",
    "    outputs = encoder(encoder_inputs)\n",
    "    bert_out = outputs['pooled_output']\n",
    "    bert_dropout = Dropout(0.2)(bert_out)\n",
    "    bert_flattened = Flatten()(bert_dropout)\n",
    "    model1 = Model(inputs=input_text, outputs=bert_flattened)\n",
    "\n",
    "    # LSTM for static embeddings\n",
    "    y = Bidirectional(LSTM(32, return_sequences=True, activation='relu'))(input_embed)\n",
    "    y = Dropout(0.2)(y)\n",
    "    y = Bidirectional(LSTM(64, return_sequences=True, activation='relu'))(y)\n",
    "    y = Dropout(0.2)(y)\n",
    "    y = Dense(32, activation='relu', name='LSTM_Features')(y)\n",
    "    y = Flatten()(y)\n",
    "    model2 = Model(inputs=input_embed, outputs=y)\n",
    "\n",
    "    # y = Conv1D(32, 3, activation='relu', name='ConvWordMat')(input_embed)\n",
    "    # y = Dropout(0.2)(y)\n",
    "    # y = Conv1D(64, 3, activation='relu')(y)\n",
    "    # y = Dropout(0.2)(y)\n",
    "    # y = Dense(32, activation='relu')(y)\n",
    "    # y = Flatten()(y)\n",
    "    # model2 = Model(inputs=input_embed, outputs=y)\n",
    "\n",
    "    # Dense layer for feature vector\n",
    "    d = Dense(8, activation='relu')(input_feat_vec)\n",
    "    model3 = Model(inputs=input_feat_vec, outputs=d)\n",
    "\n",
    "    # Combining them\n",
    "    combined = concatenate([model1.output, model2.output, model3.output], name='Concat')\n",
    "    #combined = tf.keras.layers.Dropout(0.1)(combined)\n",
    "    z = Attention(name='Self_Attention')([combined, combined])\n",
    "    z = Dense(num_classes, name='classifier')(z)\n",
    "    return Model(inputs=[model1.input, model2.input, model3.input], outputs=z)"
   ]
  },
  {
   "cell_type": "markdown",
   "metadata": {
    "id": "Zs4yhFraBuGQ"
   },
   "source": [
    "Let's check that the model runs with the output of the preprocessing model."
   ]
  },
  {
   "cell_type": "code",
   "execution_count": null,
   "metadata": {
    "id": "mGMF8AZcB2Zy"
   },
   "outputs": [],
   "source": [
    "classifier_model = build_classifier_model_custom()"
   ]
  },
  {
   "cell_type": "code",
   "execution_count": null,
   "metadata": {
    "colab": {
     "base_uri": "https://localhost:8080/"
    },
    "id": "eba4thrUmIuI",
    "outputId": "c1057858-a27c-4ac6-f063-e5b5d8dcb6be"
   },
   "outputs": [
    {
     "name": "stdout",
     "output_type": "stream",
     "text": [
      "tf.Tensor(\n",
      "[[0.6031452  0.6990198  0.5162589  0.7090281  0.48683736 0.26841968\n",
      "  0.7017791  0.62888986 0.8045864  0.3457965  0.3943318  0.5894187\n",
      "  0.26991728 0.7766015  0.6244447 ]], shape=(1, 15), dtype=float32)\n"
     ]
    }
   ],
   "source": [
    "const_inp = [tf.constant([url_flat]), tf.constant([mat]), tf.constant([vec])]\n",
    "bert_raw_result = classifier_model(const_inp)\n",
    "print(tf.sigmoid(bert_raw_result))"
   ]
  },
  {
   "cell_type": "markdown",
   "metadata": {
    "id": "ZTUzNV2JE2G3"
   },
   "source": [
    "The output is meaningless, of course, because the model has not been trained yet.\n",
    "\n",
    "Let's take a look at the model's structure."
   ]
  },
  {
   "cell_type": "code",
   "execution_count": null,
   "metadata": {
    "colab": {
     "base_uri": "https://localhost:8080/",
     "height": 952
    },
    "id": "0EmzyHZXKIpm",
    "outputId": "47f4e801-fb25-4b7e-acff-7ce7cd955e01"
   },
   "outputs": [
    {
     "data": {
      "image/png": "[encoded data removed]",
      "text/plain": [
       "<IPython.core.display.Image object>"
      ]
     },
     "execution_count": 22,
     "metadata": {
      "tags": []
     },
     "output_type": "execute_result"
    }
   ],
   "source": [
    "tf.keras.utils.plot_model(classifier_model)"
   ]
  },
  {
   "cell_type": "markdown",
   "metadata": {
    "id": "WbUWoZMwc302"
   },
   "source": [
    "## Model training\n",
    "\n",
    "We now have all the pieces to train a model, including the preprocessing module, BERT encoder, data, and full classifier."
   ]
  },
  {
   "cell_type": "markdown",
   "metadata": {
    "id": "WpJ3xcwDT56v"
   },
   "source": [
    "### Loss function\n",
    "\n",
    "Since this is a multi-class classification problem and the model outputs a probability (a single-unit layer), we'll use `SparseCategoricalCrossentropy` and `SparseCategoricalAccuracy`.\n"
   ]
  },
  {
   "cell_type": "code",
   "execution_count": null,
   "metadata": {
    "id": "OWPOZE-L3AgE"
   },
   "outputs": [],
   "source": [
    "loss = tf.keras.losses.SparseCategoricalCrossentropy(from_logits=True)\n",
    "metrics = tf.keras.metrics.SparseCategoricalAccuracy()"
   ]
  },
  {
   "cell_type": "markdown",
   "metadata": {
    "id": "77psrpfzbxtp"
   },
   "source": [
    "### Data Columns\n",
    "\n",
    "Here, we create a column of flattened URLs in the dataset and a column of the labels sparse."
   ]
  },
  {
   "cell_type": "code",
   "execution_count": null,
   "metadata": {
    "id": "_uTfWX-Ngls2"
   },
   "outputs": [],
   "source": [
    "def clean_url(url: str) -> str:\n",
    "    try:\n",
    "        url_data = url_tokenizer(url)\n",
    "        url_flat_lst = flatten_url_data(url_data)\n",
    "        url_flat = ' '.join(url_flat_lst)\n",
    "        return url_flat\n",
    "    except Exception as e:\n",
    "        print('Error:', e)\n",
    "        return ''"
   ]
  },
  {
   "cell_type": "code",
   "execution_count": null,
   "metadata": {
    "colab": {
     "base_uri": "https://localhost:8080/",
     "height": 391
    },
    "id": "gYD3NR17fyvB",
    "outputId": "09bb83e0-3f81-47a6-e7e6-f2d93e3653e5"
   },
   "outputs": [
    {
     "data": {
      "text/html": [
       "<div>\n",
       "<style scoped>\n",
       "    .dataframe tbody tr th:only-of-type {\n",
       "        vertical-align: middle;\n",
       "    }\n",
       "\n",
       "    .dataframe tbody tr th {\n",
       "        vertical-align: top;\n",
       "    }\n",
       "\n",
       "    .dataframe thead th {\n",
       "        text-align: right;\n",
       "    }\n",
       "</style>\n",
       "<table border=\"1\" class=\"dataframe\">\n",
       "  <thead>\n",
       "    <tr style=\"text-align: right;\">\n",
       "      <th></th>\n",
       "      <th>idx</th>\n",
       "      <th>url</th>\n",
       "      <th>label</th>\n",
       "      <th>urlClean</th>\n",
       "      <th>sparseLabel</th>\n",
       "    </tr>\n",
       "  </thead>\n",
       "  <tbody>\n",
       "    <tr>\n",
       "      <th>1478154</th>\n",
       "      <td>1478155</td>\n",
       "      <td>http://www.physics.ubc.ca/~rcoope</td>\n",
       "      <td>Sports</td>\n",
       "      <td>http www physics ubc ca r coop e</td>\n",
       "      <td>0</td>\n",
       "    </tr>\n",
       "    <tr>\n",
       "      <th>1440788</th>\n",
       "      <td>1440789</td>\n",
       "      <td>http://www.divinity.cam.ac.uk/carts/gender.html</td>\n",
       "      <td>Society</td>\n",
       "      <td>http www divinity cam ac uk carts gender html</td>\n",
       "      <td>1</td>\n",
       "    </tr>\n",
       "    <tr>\n",
       "      <th>557247</th>\n",
       "      <td>557248</td>\n",
       "      <td>http://deepblog.com/</td>\n",
       "      <td>Computers</td>\n",
       "      <td>http deep blog com</td>\n",
       "      <td>2</td>\n",
       "    </tr>\n",
       "    <tr>\n",
       "      <th>956912</th>\n",
       "      <td>956913</td>\n",
       "      <td>http://www.tiaa.edu.ge/</td>\n",
       "      <td>Reference</td>\n",
       "      <td>http www tiaa edu ge</td>\n",
       "      <td>3</td>\n",
       "    </tr>\n",
       "    <tr>\n",
       "      <th>333932</th>\n",
       "      <td>333933</td>\n",
       "      <td>http://www.firstediting.com</td>\n",
       "      <td>Business</td>\n",
       "      <td>http www first editing com</td>\n",
       "      <td>4</td>\n",
       "    </tr>\n",
       "    <tr>\n",
       "      <th>...</th>\n",
       "      <td>...</td>\n",
       "      <td>...</td>\n",
       "      <td>...</td>\n",
       "      <td>...</td>\n",
       "      <td>...</td>\n",
       "    </tr>\n",
       "    <tr>\n",
       "      <th>149559</th>\n",
       "      <td>149560</td>\n",
       "      <td>http://www.rollingstone.com/artists/janisian</td>\n",
       "      <td>Arts</td>\n",
       "      <td>http www rolling stone com artists janis ian</td>\n",
       "      <td>7</td>\n",
       "    </tr>\n",
       "    <tr>\n",
       "      <th>85056</th>\n",
       "      <td>85057</td>\n",
       "      <td>http://andybragen.com</td>\n",
       "      <td>Arts</td>\n",
       "      <td>http andy brage n com</td>\n",
       "      <td>7</td>\n",
       "    </tr>\n",
       "    <tr>\n",
       "      <th>175104</th>\n",
       "      <td>175105</td>\n",
       "      <td>http://www.wqxr.com/cgi-bin/iowa/cla/learning/...</td>\n",
       "      <td>Arts</td>\n",
       "      <td>http www wqxr com cgi bin iowa cla learning gr...</td>\n",
       "      <td>7</td>\n",
       "    </tr>\n",
       "    <tr>\n",
       "      <th>1214881</th>\n",
       "      <td>1214882</td>\n",
       "      <td>http://www.janhart.com/</td>\n",
       "      <td>Shopping</td>\n",
       "      <td>http www jan hart com</td>\n",
       "      <td>11</td>\n",
       "    </tr>\n",
       "    <tr>\n",
       "      <th>1440432</th>\n",
       "      <td>1440433</td>\n",
       "      <td>http://www.theagelesswisdom.com/</td>\n",
       "      <td>Society</td>\n",
       "      <td>http www the ageless wisdom com</td>\n",
       "      <td>1</td>\n",
       "    </tr>\n",
       "  </tbody>\n",
       "</table>\n",
       "<p>100000 rows × 5 columns</p>\n",
       "</div>"
      ],
      "text/plain": [
       "             idx  ... sparseLabel\n",
       "1478154  1478155  ...           0\n",
       "1440788  1440789  ...           1\n",
       "557247    557248  ...           2\n",
       "956912    956913  ...           3\n",
       "333932    333933  ...           4\n",
       "...          ...  ...         ...\n",
       "149559    149560  ...           7\n",
       "85056      85057  ...           7\n",
       "175104    175105  ...           7\n",
       "1214881  1214882  ...          11\n",
       "1440432  1440433  ...           1\n",
       "\n",
       "[100000 rows x 5 columns]"
      ]
     },
     "execution_count": 25,
     "metadata": {
      "tags": []
     },
     "output_type": "execute_result"
    }
   ],
   "source": [
    "dataset['urlClean'] = dataset['url'].apply(clean_url)\n",
    "dataset['sparseLabel'] = dataset['label'].map(label_to_num)\n",
    "\n",
    "dataset"
   ]
  },
  {
   "cell_type": "markdown",
   "metadata": {
    "id": "8JF-Q8qp6yTC"
   },
   "source": [
    "We split the data. We also convert the data to the desired input format for multiple-input models."
   ]
  },
  {
   "cell_type": "code",
   "execution_count": null,
   "metadata": {
    "id": "K1lfdfL7gKgg"
   },
   "outputs": [],
   "source": [
    "X, y = dataset[['urlClean', 'url']], dataset['sparseLabel'].to_numpy()\n",
    "\n",
    "X_train, X_test, y_train, y_test = train_test_split(X, y, test_size=TEST_PROP, random_state=SEED)"
   ]
  },
  {
   "cell_type": "code",
   "execution_count": null,
   "metadata": {
    "colab": {
     "base_uri": "https://localhost:8080/"
    },
    "id": "NmCmYgpegKoe",
    "outputId": "c74c2a7b-ffdd-4832-9ad5-bf252b095557"
   },
   "outputs": [
    {
     "data": {
      "text/plain": [
       "((80000, 2), (80000,), (20000, 2), (20000,))"
      ]
     },
     "execution_count": 27,
     "metadata": {
      "tags": []
     },
     "output_type": "execute_result"
    }
   ],
   "source": [
    "X_train.shape, y_train.shape, X_test.shape, y_test.shape"
   ]
  },
  {
   "cell_type": "code",
   "execution_count": null,
   "metadata": {
    "id": "0xfUevlisVvB"
   },
   "outputs": [],
   "source": [
    "def to_multi_input(df):\n",
    "    urls = df['url'].to_numpy()\n",
    "    vecs, mats = map(np.array, zip(*feat.featurize(urls)))\n",
    "    return [df['urlClean'].to_numpy().astype(str), mats, vecs]"
   ]
  },
  {
   "cell_type": "code",
   "execution_count": null,
   "metadata": {
    "colab": {
     "base_uri": "https://localhost:8080/"
    },
    "id": "G1QAdkkRsLLe",
    "outputId": "a24a043d-144e-4368-8856-86934535bc87"
   },
   "outputs": [
    {
     "name": "stdout",
     "output_type": "stream",
     "text": [
      "[(80000,), (80000, 15, 100), (80000, 20)]\n"
     ]
    }
   ],
   "source": [
    "X_train_pre = to_multi_input(X_train)\n",
    "\n",
    "print([x.shape for x in X_train_pre])"
   ]
  },
  {
   "cell_type": "markdown",
   "metadata": {
    "id": "rnhjDBYA67Nw"
   },
   "source": [
    "### Optimizer\n",
    "\n",
    "For fine-tuning, let's use the same optimizer that BERT was originally trained with: the \"Adaptive Moments\" (Adam). This optimizer minimizes the prediction loss and does regularization by weight decay (not using moments), which is also known as [AdamW](https://arxiv.org/abs/1711.05101).\n",
    "\n",
    "For the learning rate (`init_lr`), we use the same schedule as BERT pre-training: linear decay of a notional initial learning rate, prefixed with a linear warm-up phase over the first 10% of training steps (`num_warmup_steps`). In line with the BERT paper, the initial learning rate is smaller for fine-tuning (best of 5e-5, 3e-5, 2e-5)."
   ]
  },
  {
   "cell_type": "markdown",
   "metadata": {
    "id": "SqlarlpC_v0g"
   },
   "source": [
    "### Loading the BERT model and training\n",
    "\n",
    "Using the `classifier_model` you created earlier, you can compile the model with the loss, metric and optimizer."
   ]
  },
  {
   "cell_type": "code",
   "execution_count": null,
   "metadata": {
    "id": "-7GPDhR98jsD"
   },
   "outputs": [],
   "source": [
    "from tensorflow.keras.callbacks import ModelCheckpoint, EarlyStopping, ReduceLROnPlateau\n",
    "\n",
    "checkpoint_filepath = '/tmp/checkpoint'\n",
    "checkpoint = ModelCheckpoint(checkpoint_filepath,\n",
    "                             monitor='val_sparse_categorical_accuracy',\n",
    "                             verbose=1,\n",
    "                             save_best_only=True, mode='max',\n",
    "                             save_weights_only=True)\n",
    "early = EarlyStopping(monitor='val_sparse_categorical_accuracy', mode='max', patience=4)\n",
    "\n",
    "init_lr = 5e-5\n",
    "optimizer_type='adamw'\n",
    "num_train_steps = 3125\n",
    "num_warmup_steps = 312\n",
    "\n",
    "optimizer = optimization.create_optimizer(\n",
    "    init_lr=init_lr,\n",
    "    num_train_steps=num_train_steps,\n",
    "    num_warmup_steps=num_warmup_steps,\n",
    "    optimizer_type=optimizer_type\n",
    ")\n",
    "\n",
    "classifier_model.compile(optimizer=optimizer,\n",
    "                         loss=loss,\n",
    "                         metrics=metrics)"
   ]
  },
  {
   "cell_type": "markdown",
   "metadata": {
    "id": "CpBuV5j2cS_b"
   },
   "source": [
    "Note: training time will vary depending on the complexity of the BERT model you have selected."
   ]
  },
  {
   "cell_type": "code",
   "execution_count": null,
   "metadata": {
    "colab": {
     "base_uri": "https://localhost:8080/"
    },
    "id": "wSO2BtxZiPsF",
    "outputId": "b3ac619e-d369-4190-bce9-1638c714a8b2"
   },
   "outputs": [
    {
     "name": "stdout",
     "output_type": "stream",
     "text": [
      "Training model with https://tfhub.dev/tensorflow/small_bert/bert_en_uncased_L-2_H-512_A-8/1\n",
      "Epoch 1/20\n",
      "2000/2000 [==============================] - 367s 180ms/step - loss: 2.1883 - sparse_categorical_accuracy: 0.3181 - val_loss: 1.6766 - val_sparse_categorical_accuracy: 0.4889\n",
      "\n",
      "Epoch 00001: val_sparse_categorical_accuracy improved from -inf to 0.48894, saving model to /tmp/checkpoint\n",
      "Epoch 2/20\n",
      "2000/2000 [==============================] - 358s 179ms/step - loss: 1.5579 - sparse_categorical_accuracy: 0.5132 - val_loss: 1.6190 - val_sparse_categorical_accuracy: 0.5031\n",
      "\n",
      "Epoch 00002: val_sparse_categorical_accuracy improved from 0.48894 to 0.50313, saving model to /tmp/checkpoint\n",
      "Epoch 3/20\n",
      "2000/2000 [==============================] - 358s 179ms/step - loss: 1.5196 - sparse_categorical_accuracy: 0.5263 - val_loss: 1.6190 - val_sparse_categorical_accuracy: 0.5031\n",
      "\n",
      "Epoch 00003: val_sparse_categorical_accuracy did not improve from 0.50313\n",
      "Epoch 4/20\n",
      "2000/2000 [==============================] - 357s 178ms/step - loss: 1.5171 - sparse_categorical_accuracy: 0.5271 - val_loss: 1.6190 - val_sparse_categorical_accuracy: 0.5031\n",
      "\n",
      "Epoch 00004: val_sparse_categorical_accuracy did not improve from 0.50313\n",
      "Epoch 5/20\n",
      "2000/2000 [==============================] - 357s 178ms/step - loss: 1.5171 - sparse_categorical_accuracy: 0.5268 - val_loss: 1.6190 - val_sparse_categorical_accuracy: 0.5031\n",
      "\n",
      "Epoch 00005: val_sparse_categorical_accuracy did not improve from 0.50313\n",
      "Epoch 6/20\n",
      "2000/2000 [==============================] - 355s 178ms/step - loss: 1.5177 - sparse_categorical_accuracy: 0.5279 - val_loss: 1.6190 - val_sparse_categorical_accuracy: 0.5031\n",
      "\n",
      "Epoch 00006: val_sparse_categorical_accuracy did not improve from 0.50313\n",
      "CPU times: user 34min 52s, sys: 13min 27s, total: 48min 19s\n",
      "Wall time: 35min 52s\n"
     ]
    }
   ],
   "source": [
    "%%time\n",
    "\n",
    "print(f'Training model with {tfhub_handle_encoder}')\n",
    "history = classifier_model.fit(\n",
    "    x=X_train_pre,\n",
    "    y=y_train,\n",
    "    validation_split=VAL_PROP,\n",
    "    epochs=EPOCHS,\n",
    "    callbacks=[checkpoint, early]\n",
    ")"
   ]
  },
  {
   "cell_type": "code",
   "execution_count": null,
   "metadata": {
    "colab": {
     "base_uri": "https://localhost:8080/"
    },
    "id": "Y_8nVhUaahOq",
    "outputId": "0258c2a6-3f3f-4f99-c3c8-ff6a6b214afe"
   },
   "outputs": [
    {
     "data": {
      "text/plain": [
       "<tensorflow.python.training.tracking.util.CheckpointLoadStatus at 0x7fc51e3f2f50>"
      ]
     },
     "execution_count": 32,
     "metadata": {
      "tags": []
     },
     "output_type": "execute_result"
    }
   ],
   "source": [
    "classifier_model.load_weights(checkpoint_filepath)"
   ]
  },
  {
   "cell_type": "markdown",
   "metadata": {
    "id": "uBthMlTSV8kn"
   },
   "source": [
    "### Evaluate the model\n",
    "\n",
    "Let's see how the model performs. Two values will be returned. Loss (a number which represents the error, lower values are better), and accuracy."
   ]
  },
  {
   "cell_type": "code",
   "execution_count": null,
   "metadata": {
    "colab": {
     "base_uri": "https://localhost:8080/"
    },
    "id": "HqAZ__bySy7j",
    "outputId": "acd55f13-91de-4681-9709-0787ef512af6"
   },
   "outputs": [
    {
     "name": "stdout",
     "output_type": "stream",
     "text": [
      "[(20000,), (20000, 15, 100), (20000, 20)]\n"
     ]
    }
   ],
   "source": [
    "X_test_pre = to_multi_input(X_test)\n",
    "\n",
    "print([x.shape for x in X_test_pre])"
   ]
  },
  {
   "cell_type": "code",
   "execution_count": null,
   "metadata": {
    "colab": {
     "base_uri": "https://localhost:8080/",
     "height": 740
    },
    "id": "noolRjm4wVmE",
    "outputId": "bd28133c-fa88-45e9-fc7d-c4f5fb5ed69e"
   },
   "outputs": [
    {
     "name": "stdout",
     "output_type": "stream",
     "text": [
      "              precision    recall  f1-score   support\n",
      "\n",
      "      Sports     0.6806    0.5767    0.6244      1271\n",
      "     Society     0.5324    0.6028    0.5654      3165\n",
      "   Computers     0.4531    0.3501    0.3950      1491\n",
      "   Reference     0.4188    0.4611    0.4390       733\n",
      "    Business     0.4649    0.6967    0.5577      3040\n",
      "  Recreation     0.4547    0.3306    0.3829      1352\n",
      "       Games     0.6721    0.4639    0.5490       707\n",
      "        Arts     0.5183    0.6468    0.5755      3216\n",
      "        Home     0.7202    0.3877    0.4955       368\n",
      "       Adult     0.6370    0.4345    0.5166       412\n",
      "      Health     0.5991    0.3392    0.4249       799\n",
      "    Shopping     0.4112    0.4254    0.4070      1300\n",
      "     Science     0.4824    0.4173    0.4675      1445\n",
      "        Kids     0.4083    0.1164    0.2411       593\n",
      "        News     0.8282    0.1133    0.2213       108\n",
      "\n",
      "    accuracy                         0.5373     20000\n",
      "   macro avg     0.5714    0.4535    0.5229     20000\n",
      "weighted avg     0.5836    0.4573    0.5257     20000\n",
      "\n"
     ]
    },
    {
     "data": {},
     "metadata": {
      "tags": []
     },
     "output_type": "display_data"
    }
   ],
   "source": [
    "y_pred1 = classifier_model.predict(X_test_pre)\n",
    "y_pred = np.argmax(y_pred1, axis=1)\n",
    "\n",
    "report = classification_report(y_test, y_pred, target_names=labels, digits=4)\n",
    "print(report)"
   ]
  },
  {
   "cell_type": "code",
   "execution_count": null,
   "metadata": {
    "id": "ynGLBXGq2LYq"
   },
   "outputs": [],
   "source": []
  }
 ],
 "metadata": {
  "accelerator": "GPU",
  "colab": {
   "collapsed_sections": [],
   "name": "bert-concat-dmoz.ipynb",
   "provenance": []
  },
  "kernelspec": {
   "display_name": "Python 3",
   "language": "python",
   "name": "python3"
  },
  "language_info": {
   "codemirror_mode": {
    "name": "ipython",
    "version": 3
   },
   "file_extension": ".py",
   "mimetype": "text/x-python",
   "name": "python",
   "nbconvert_exporter": "python",
   "pygments_lexer": "ipython3",
   "version": "3.8.5"
  }
 },
 "nbformat": 4,
 "nbformat_minor": 1
}
