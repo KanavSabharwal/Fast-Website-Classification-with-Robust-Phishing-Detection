{
  "nbformat": 4,
  "nbformat_minor": 0,
  "metadata": {
    "colab": {
      "name": "Encoding Embedding Features.ipynb",
      "provenance": [],
      "collapsed_sections": []
    },
    "kernelspec": {
      "display_name": "Python 3",
      "name": "python3"
    },
    "accelerator": "GPU"
  },
  "cells": [
    {
      "cell_type": "markdown",
      "metadata": {
        "id": "IZ6SNYq_tVVC"
      },
      "source": [
        "# Encoding Word Embeddings with Hand Picked Features\n",
        "\n",
        "URLS"
      ]
    },
    {
      "cell_type": "markdown",
      "metadata": {
        "id": "Qg3WVlaMvCLY"
      },
      "source": [
        "# Constants\n",
        "\n",
        "Here, you can alter the dataset, maximum number of samples to use, etc."
      ]
    },
    {
      "cell_type": "code",
      "metadata": {
        "id": "e2L15ZravBU2"
      },
      "source": [
        "DMOZ, ILP, PHISHING = 'dmoz', 'ilp', 'phishing'\n",
        "\n",
        "DATASET = DMOZ  # one of the above datsets\n",
        "MAX_NUM_SAMPLES = 1_000_000\n",
        "\n",
        "TEST_PROP = 0.2\n",
        "VAL_PROP = 0.2\n",
        "EPOCHS = 8\n",
        "\n",
        "SEED = 42"
      ],
      "execution_count": null,
      "outputs": []
    },
    {
      "cell_type": "markdown",
      "metadata": {
        "id": "SCjmX4zTCkRK"
      },
      "source": [
        "## Setup\n"
      ]
    },
    {
      "cell_type": "markdown",
      "metadata": {
        "id": "5w_XlxN1IsRJ"
      },
      "source": [
        "You will use the AdamW optimizer from [tensorflow/models](https://github.com/tensorflow/models)."
      ]
    },
    {
      "cell_type": "code",
      "metadata": {
        "id": "5V211dJtTvNo",
        "colab": {
          "base_uri": "https://localhost:8080/"
        },
        "outputId": "a5cbec3c-faaa-492f-ec6b-0da600a2d633"
      },
      "source": [
        "GITHUB_TOKEN = 'fe2e680f071553cddb5f698cc58373a5106380d4'\n",
        "command = f'git clone --depth 1 https://{GITHUB_TOKEN}@github.com/shmulvad/nlp-project.git'\n",
        "!{command}\n",
        "\n",
        "%cd nlp-project/src"
      ],
      "execution_count": null,
      "outputs": [
        {
          "output_type": "stream",
          "text": [
            "fatal: destination path 'nlp-project' already exists and is not an empty directory.\n",
            "/content/nlp-project/src\n"
          ],
          "name": "stdout"
        }
      ]
    },
    {
      "cell_type": "code",
      "metadata": {
        "id": "VwaG2TGYN3c8",
        "colab": {
          "base_uri": "https://localhost:8080/"
        },
        "outputId": "053818a7-f471-482d-b05b-4bc6ff101597"
      },
      "source": [
        "!pip install gdown\n",
        "\n",
        "# DMOZ, ILP and original phishing dataset - datasets.pkl\n",
        "!gdown --id 1WV1JSevCnaWY0-mqQMmtOEFSC3Y_Qdg_\n",
        "\n",
        "print('\\n')\n",
        "!ls"
      ],
      "execution_count": null,
      "outputs": [
        {
          "output_type": "stream",
          "text": [
            "Requirement already satisfied: gdown in /usr/local/lib/python3.7/dist-packages (3.6.4)\n",
            "Requirement already satisfied: requests in /usr/local/lib/python3.7/dist-packages (from gdown) (2.23.0)\n",
            "Requirement already satisfied: tqdm in /usr/local/lib/python3.7/dist-packages (from gdown) (4.41.1)\n",
            "Requirement already satisfied: six in /usr/local/lib/python3.7/dist-packages (from gdown) (1.15.0)\n",
            "Requirement already satisfied: certifi>=2017.4.17 in /usr/local/lib/python3.7/dist-packages (from requests->gdown) (2020.12.5)\n",
            "Requirement already satisfied: idna<3,>=2.5 in /usr/local/lib/python3.7/dist-packages (from requests->gdown) (2.10)\n",
            "Requirement already satisfied: urllib3!=1.25.0,!=1.25.1,<1.26,>=1.21.1 in /usr/local/lib/python3.7/dist-packages (from requests->gdown) (1.24.3)\n",
            "Requirement already satisfied: chardet<4,>=3.0.2 in /usr/local/lib/python3.7/dist-packages (from requests->gdown) (3.0.4)\n",
            "Downloading...\n",
            "From: https://drive.google.com/uc?id=1WV1JSevCnaWY0-mqQMmtOEFSC3Y_Qdg_\n",
            "To: /content/nlp-project/src/datasets.pkl\n",
            "99.4MB [00:00, 108MB/s] \n",
            "\n",
            "\n",
            "baselines\t\t\t     __pycache__\n",
            "create_fasttext_embed.py\t     read_data.py\n",
            "data\t\t\t\t     requirements.txt\n",
            "datasets.pkl\t\t\t     self_trained_embeddings.py\n",
            "demo.ipynb\t\t\t     tests\n",
            "embed-dmoz.model\t\t     url_tokenizer.py\n",
            "embed-dmoz.model.vectors_ngrams.npy  util.py\n",
            "featurizer.py\t\t\t     word_embed\n",
            "pickle_data.py\n"
          ],
          "name": "stdout"
        }
      ]
    },
    {
      "cell_type": "code",
      "metadata": {
        "colab": {
          "base_uri": "https://localhost:8080/"
        },
        "id": "EXdo1h1lUqoO",
        "outputId": "f5cbd6a5-0073-4b67-b4bc-04b7b5dd7fa1"
      },
      "source": [
        "# A dependency of the preprocessing for BERT inputs\n",
        "!pip install -q tensorflow-text\n",
        "!pip install -q tf-models-official\n",
        "!pip install -r requirements.txt"
      ],
      "execution_count": null,
      "outputs": [
        {
          "output_type": "stream",
          "text": [
            "Requirement already satisfied: pandas in /usr/local/lib/python3.7/dist-packages (from -r requirements.txt (line 1)) (1.1.5)\n",
            "Requirement already satisfied: numpy in /usr/local/lib/python3.7/dist-packages (from -r requirements.txt (line 2)) (1.19.5)\n",
            "Requirement already satisfied: wordninja in /usr/local/lib/python3.7/dist-packages (from -r requirements.txt (line 3)) (2.0.0)\n",
            "Requirement already satisfied: pytest in /usr/local/lib/python3.7/dist-packages (from -r requirements.txt (line 4)) (3.6.4)\n",
            "Requirement already satisfied: gensim==4.0.1 in /usr/local/lib/python3.7/dist-packages (from -r requirements.txt (line 5)) (4.0.1)\n",
            "Requirement already satisfied: python-dateutil>=2.7.3 in /usr/local/lib/python3.7/dist-packages (from pandas->-r requirements.txt (line 1)) (2.8.1)\n",
            "Requirement already satisfied: pytz>=2017.2 in /usr/local/lib/python3.7/dist-packages (from pandas->-r requirements.txt (line 1)) (2018.9)\n",
            "Requirement already satisfied: attrs>=17.4.0 in /usr/local/lib/python3.7/dist-packages (from pytest->-r requirements.txt (line 4)) (20.3.0)\n",
            "Requirement already satisfied: py>=1.5.0 in /usr/local/lib/python3.7/dist-packages (from pytest->-r requirements.txt (line 4)) (1.10.0)\n",
            "Requirement already satisfied: six>=1.10.0 in /usr/local/lib/python3.7/dist-packages (from pytest->-r requirements.txt (line 4)) (1.15.0)\n",
            "Requirement already satisfied: setuptools in /usr/local/lib/python3.7/dist-packages (from pytest->-r requirements.txt (line 4)) (54.2.0)\n",
            "Requirement already satisfied: atomicwrites>=1.0 in /usr/local/lib/python3.7/dist-packages (from pytest->-r requirements.txt (line 4)) (1.4.0)\n",
            "Requirement already satisfied: more-itertools>=4.0.0 in /usr/local/lib/python3.7/dist-packages (from pytest->-r requirements.txt (line 4)) (8.7.0)\n",
            "Requirement already satisfied: pluggy<0.8,>=0.5 in /usr/local/lib/python3.7/dist-packages (from pytest->-r requirements.txt (line 4)) (0.7.1)\n",
            "Requirement already satisfied: scipy>=0.18.1 in /usr/local/lib/python3.7/dist-packages (from gensim==4.0.1->-r requirements.txt (line 5)) (1.4.1)\n",
            "Requirement already satisfied: smart-open>=1.8.1 in /usr/local/lib/python3.7/dist-packages (from gensim==4.0.1->-r requirements.txt (line 5)) (4.2.0)\n"
          ],
          "name": "stdout"
        }
      ]
    },
    {
      "cell_type": "code",
      "metadata": {
        "id": "EZ5DQ06ZUupE",
        "colab": {
          "base_uri": "https://localhost:8080/"
        },
        "outputId": "9c4667cc-6a49-4242-bbb4-380e22d7ac25"
      },
      "source": [
        "import os\n",
        "import shutil\n",
        "import random\n",
        "import pickle\n",
        "\n",
        "from sklearn.metrics import f1_score, precision_score, recall_score\n",
        "from sklearn.metrics import confusion_matrix, ConfusionMatrixDisplay\n",
        "from sklearn.model_selection import train_test_split\n",
        "\n",
        "from pprint import pprint\n",
        "import numpy as np\n",
        "import tensorflow as tf\n",
        "import tensorflow_hub as hub\n",
        "import tensorflow_text as text\n",
        "from official.nlp import optimization  # to create AdamW optmizer\n",
        "\n",
        "import gensim\n",
        "from gensim.models.keyedvectors import FastTextKeyedVectors\n",
        "\n",
        "import matplotlib\n",
        "import matplotlib.pyplot as plt\n",
        "import seaborn as sns\n",
        "\n",
        "sns.set()\n",
        "tf.get_logger().setLevel('ERROR')\n",
        "np.random.seed(SEED)\n",
        "\n",
        "from read_data import read_all_datasets\n",
        "from url_tokenizer import url_tokenizer, flatten_url_data\n",
        "from featurizer import UrlFeaturizer, GLOVE, CONCEPTNET, SAMPLE"
      ],
      "execution_count": null,
      "outputs": [
        {
          "output_type": "stream",
          "text": [
            "/usr/local/lib/python3.7/dist-packages/gensim/similarities/__init__.py:15: UserWarning: The gensim.similarities.levenshtein submodule is disabled, because the optional Levenshtein package <https://pypi.org/project/python-Levenshtein/> is unavailable. Install Levenhstein (e.g. `pip install python-Levenshtein`) to suppress this warning.\n",
            "  warnings.warn(msg)\n"
          ],
          "name": "stderr"
        }
      ]
    },
    {
      "cell_type": "code",
      "metadata": {
        "colab": {
          "base_uri": "https://localhost:8080/",
          "height": 419
        },
        "id": "yQBY-p4JuMvm",
        "outputId": "22c56c2d-19c9-440e-fc5f-7ae098d3f603"
      },
      "source": [
        "with open('datasets.pkl', 'rb') as f:\n",
        "  datasets = pickle.load(f)\n",
        "\n",
        "assert DATASET in datasets, \\\n",
        "  f'You tried to load {DATASET} but only {list(datasets.keys())} available.'\n",
        "\n",
        "dataset = datasets[DATASET]\n",
        "dataset"
      ],
      "execution_count": null,
      "outputs": [
        {
          "output_type": "execute_result",
          "data": {
            "text/html": [
              "<div>\n",
              "<style scoped>\n",
              "    .dataframe tbody tr th:only-of-type {\n",
              "        vertical-align: middle;\n",
              "    }\n",
              "\n",
              "    .dataframe tbody tr th {\n",
              "        vertical-align: top;\n",
              "    }\n",
              "\n",
              "    .dataframe thead th {\n",
              "        text-align: right;\n",
              "    }\n",
              "</style>\n",
              "<table border=\"1\" class=\"dataframe\">\n",
              "  <thead>\n",
              "    <tr style=\"text-align: right;\">\n",
              "      <th></th>\n",
              "      <th>idx</th>\n",
              "      <th>url</th>\n",
              "      <th>label</th>\n",
              "    </tr>\n",
              "  </thead>\n",
              "  <tbody>\n",
              "    <tr>\n",
              "      <th>946066</th>\n",
              "      <td>946067</td>\n",
              "      <td>http://www.thepipe.info</td>\n",
              "      <td>Recreation</td>\n",
              "    </tr>\n",
              "    <tr>\n",
              "      <th>1322925</th>\n",
              "      <td>1322926</td>\n",
              "      <td>http://childlifeline.org</td>\n",
              "      <td>Society</td>\n",
              "    </tr>\n",
              "    <tr>\n",
              "      <th>1538731</th>\n",
              "      <td>1538732</td>\n",
              "      <td>http://www.fchd.info/fleett.htm</td>\n",
              "      <td>Sports</td>\n",
              "    </tr>\n",
              "    <tr>\n",
              "      <th>529412</th>\n",
              "      <td>529413</td>\n",
              "      <td>http://www.ee.umn.edu/users/kieffer/</td>\n",
              "      <td>Computers</td>\n",
              "    </tr>\n",
              "    <tr>\n",
              "      <th>639891</th>\n",
              "      <td>639892</td>\n",
              "      <td>http://www.ftprush.com</td>\n",
              "      <td>Computers</td>\n",
              "    </tr>\n",
              "    <tr>\n",
              "      <th>...</th>\n",
              "      <td>...</td>\n",
              "      <td>...</td>\n",
              "      <td>...</td>\n",
              "    </tr>\n",
              "    <tr>\n",
              "      <th>1467240</th>\n",
              "      <td>1467241</td>\n",
              "      <td>http://www.usatoday.com/sports/college/mensbas...</td>\n",
              "      <td>Sports</td>\n",
              "    </tr>\n",
              "    <tr>\n",
              "      <th>483946</th>\n",
              "      <td>483947</td>\n",
              "      <td>http://www.appraisal.co.nz/</td>\n",
              "      <td>Business</td>\n",
              "    </tr>\n",
              "    <tr>\n",
              "      <th>900141</th>\n",
              "      <td>900142</td>\n",
              "      <td>http://www.wild-about-hunting.com/</td>\n",
              "      <td>Recreation</td>\n",
              "    </tr>\n",
              "    <tr>\n",
              "      <th>320948</th>\n",
              "      <td>320949</td>\n",
              "      <td>http://www.searchlites.com/</td>\n",
              "      <td>Business</td>\n",
              "    </tr>\n",
              "    <tr>\n",
              "      <th>1152731</th>\n",
              "      <td>1152732</td>\n",
              "      <td>http://www.monicaspies.com</td>\n",
              "      <td>Shopping</td>\n",
              "    </tr>\n",
              "  </tbody>\n",
              "</table>\n",
              "<p>1562506 rows × 3 columns</p>\n",
              "</div>"
            ],
            "text/plain": [
              "             idx                                                url       label\n",
              "946066    946067                            http://www.thepipe.info  Recreation\n",
              "1322925  1322926                           http://childlifeline.org     Society\n",
              "1538731  1538732                    http://www.fchd.info/fleett.htm      Sports\n",
              "529412    529413               http://www.ee.umn.edu/users/kieffer/   Computers\n",
              "639891    639892                             http://www.ftprush.com   Computers\n",
              "...          ...                                                ...         ...\n",
              "1467240  1467241  http://www.usatoday.com/sports/college/mensbas...      Sports\n",
              "483946    483947                        http://www.appraisal.co.nz/    Business\n",
              "900141    900142                 http://www.wild-about-hunting.com/  Recreation\n",
              "320948    320949                        http://www.searchlites.com/    Business\n",
              "1152731  1152732                         http://www.monicaspies.com    Shopping\n",
              "\n",
              "[1562506 rows x 3 columns]"
            ]
          },
          "metadata": {
            "tags": []
          },
          "execution_count": 6
        }
      ]
    },
    {
      "cell_type": "code",
      "metadata": {
        "colab": {
          "base_uri": "https://localhost:8080/"
        },
        "id": "Mb58ujMqHrfj",
        "outputId": "d503547b-3d5c-4c86-911e-8e0a320ba2da"
      },
      "source": [
        "# Download respectively model and ngrams\n",
        "if DATASET == DMOZ:\n",
        "  !gdown --id 1V8_EWQTF_JhgEVbXIvAiHViTHyIO9CBS\n",
        "  !gdown --id 15EirC5KybMrG33RvYUXIfnBM2GWSBdh5\n",
        "elif DATASET == ILP:\n",
        "  !gdown --id 1_QafULaXKmq0H0fwY3dkR-WOKwsyUkHS\n",
        "  !gdown --id 1kn4EbllSLdAX-8Ca5db6_BewLugCAWp5\n",
        "else:  # Phishing\n",
        "  !gdown --id 1JEsUG4eGqbIItBH468xph-AsS3iQ5Fif\n",
        "  !gdown --id 10p0XPRsuTsXblQNNlUricEmd8if0B2P6\n",
        "\n",
        "embedding = FastTextKeyedVectors.load(f'embed-{DATASET}.model')"
      ],
      "execution_count": null,
      "outputs": [
        {
          "output_type": "stream",
          "text": [
            "Downloading...\n",
            "From: https://drive.google.com/uc?id=1V8_EWQTF_JhgEVbXIvAiHViTHyIO9CBS\n",
            "To: /content/nlp-project/src/embed-dmoz.model\n",
            "23.0MB [00:00, 108MB/s] \n",
            "Downloading...\n",
            "From: https://drive.google.com/uc?id=15EirC5KybMrG33RvYUXIfnBM2GWSBdh5\n",
            "To: /content/nlp-project/src/embed-dmoz.model.vectors_ngrams.npy\n",
            "800MB [00:04, 189MB/s]\n"
          ],
          "name": "stdout"
        }
      ]
    },
    {
      "cell_type": "code",
      "metadata": {
        "colab": {
          "base_uri": "https://localhost:8080/"
        },
        "id": "iz_e3TpwilUU",
        "outputId": "726d7eb2-667b-4daf-f5b7-0f796e73eeb5"
      },
      "source": [
        "feat = UrlFeaturizer(embedding=embedding)"
      ],
      "execution_count": null,
      "outputs": [
        {
          "output_type": "stream",
          "text": [
            "Creating the average vector of all the word vectors...\n",
            "Created FastText UrlFeaturizer in 0.0 s\n"
          ],
          "name": "stdout"
        }
      ]
    },
    {
      "cell_type": "markdown",
      "metadata": {
        "id": "FYteTnvrTkvk"
      },
      "source": [
        "# Testing models on current embedding"
      ]
    },
    {
      "cell_type": "code",
      "metadata": {
        "id": "_Dz2rapfZvtx"
      },
      "source": [
        "import re\n",
        "import pandas as pd\n",
        "\n",
        "from tensorflow.keras import backend as K\n",
        "from tensorflow.keras.layers import Dense, SimpleRNN, LSTM, Bidirectional, TimeDistributed, Conv1D, ZeroPadding1D, GRU\n",
        "from tensorflow.keras.layers import Lambda, Input, Dropout, Masking, BatchNormalization, Activation\n",
        "from tensorflow.keras.models import Model\n",
        "\n",
        "from tqdm import tqdm"
      ],
      "execution_count": null,
      "outputs": []
    },
    {
      "cell_type": "markdown",
      "metadata": {
        "id": "S_AGbK8gdSkS"
      },
      "source": [
        "Below I extract a subset of the data to experiment with. You can change the *n_samples* value to change the dataset length"
      ]
    },
    {
      "cell_type": "code",
      "metadata": {
        "id": "z_RKHQ4Yp_D0"
      },
      "source": [
        "n_samples = 1000\n",
        "sampled_dataset = dataset.sample(n = n_samples)"
      ],
      "execution_count": null,
      "outputs": []
    },
    {
      "cell_type": "markdown",
      "metadata": {
        "id": "-uJKWlq-iE8g"
      },
      "source": [
        "## Trying different approaches to Encode"
      ]
    },
    {
      "cell_type": "markdown",
      "metadata": {
        "id": "yI2tXenm2zlL"
      },
      "source": [
        "### Method 1 - FLatten"
      ]
    },
    {
      "cell_type": "markdown",
      "metadata": {
        "id": "l440yMEOd3bs"
      },
      "source": [
        "Here we simply flatten the word embeddings for each URL and append the handpicked featrues\n",
        "\n",
        "Thus, the (31,100) embeddings are flattened to (3100,) vector.\n",
        "Further appending the handpicked features makes the vector shape: (3120,)\n"
      ]
    },
    {
      "cell_type": "code",
      "metadata": {
        "id": "K8XrF0MhTjqS"
      },
      "source": [
        "url_regex = re.compile(r'''\n",
        "        (https?):\\/\\/                                   # http s\n",
        "        ([-a-zA-Z0-9@:%._\\+~#=]+\\.[a-zA-Z0-9()]{1,12})  # domains\n",
        "        \\b\n",
        "        ([-a-zA-Z0-9()@:%_\\+;.~#&//=]*)                 # path\n",
        "        \\??\n",
        "        ([-a-zA-Z0-9()@:%_\\+;.~#&//=?]*)                # args\n",
        "    ''', re.DOTALL | re.VERBOSE)\n",
        "\n",
        "def GenerateFeatureVector_Flatten(df, UF):\n",
        "    df.reset_index(drop = True, inplace = True)\n",
        "    df = pd.get_dummies(data=df, columns=['label'])\n",
        "    label = df.drop(['idx','url'],axis=1).values\n",
        "\n",
        "    url_features = list()\n",
        "    labels = list()\n",
        "\n",
        "    for i in tqdm(range(df.shape[0])):\n",
        "        url = df.iloc[i].url\n",
        "        match = url_regex.match(url.lower())\n",
        "        if match:\n",
        "            features = UF.featurize(url)\n",
        "            temp =   features[1].flatten()\n",
        "            labels.append(label[i])\n",
        "            url_features.append(np.concatenate((temp,features[0])))\n",
        "\n",
        "    url_features = np.array(url_features)\n",
        "    labels = np.array(labels)\n",
        "    return url_features,labels"
      ],
      "execution_count": null,
      "outputs": []
    },
    {
      "cell_type": "code",
      "metadata": {
        "colab": {
          "base_uri": "https://localhost:8080/"
        },
        "id": "u1-KN9st3yG0",
        "outputId": "e00fa799-1945-47ad-d157-f8cb2211270a"
      },
      "source": [
        "url_features,labels = GenerateFeatureVector_Flatten(sampled_dataset,feat)"
      ],
      "execution_count": null,
      "outputs": [
        {
          "output_type": "stream",
          "text": [
            "100%|██████████| 1000/1000 [00:00<00:00, 2251.21it/s]\n"
          ],
          "name": "stderr"
        }
      ]
    },
    {
      "cell_type": "code",
      "metadata": {
        "colab": {
          "base_uri": "https://localhost:8080/"
        },
        "id": "LUtF4iI1eB0Q",
        "outputId": "89ae2410-6987-488d-a2c5-58db1688e4ca"
      },
      "source": [
        "url_features.shape"
      ],
      "execution_count": null,
      "outputs": [
        {
          "output_type": "execute_result",
          "data": {
            "text/plain": [
              "(10000, 3120)"
            ]
          },
          "metadata": {
            "tags": []
          },
          "execution_count": 15
        }
      ]
    },
    {
      "cell_type": "markdown",
      "metadata": {
        "id": "sdNF2oZB7Zgp"
      },
      "source": [
        "### Encoder-1 --> Encode entire matrix together"
      ]
    },
    {
      "cell_type": "markdown",
      "metadata": {
        "id": "HrgDymxAg2uh"
      },
      "source": [
        "This is the same encoder as we had discussed during the project consultation with prof. The LSTM here is used to input the word emeddings and transforms the entire embedding at once to a linear vector"
      ]
    },
    {
      "cell_type": "code",
      "metadata": {
        "id": "eo_kIpfVbo8G"
      },
      "source": [
        "def valid_url(url):\n",
        "  match = url_regex.match(url.lower())\n",
        "  if match:\n",
        "    return True\n",
        "  else:\n",
        "    return False\n",
        "\n",
        "url_regex = re.compile(r'''\n",
        "        (https?):\\/\\/                                   # http s\n",
        "        ([-a-zA-Z0-9@:%._\\+~#=]+\\.[a-zA-Z0-9()]{1,12})  # domains\n",
        "        \\b\n",
        "        ([-a-zA-Z0-9()@:%_\\+;.~#&//=]*)                 # path\n",
        "        \\??\n",
        "        ([-a-zA-Z0-9()@:%_\\+;.~#&//=?]*)                # args\n",
        "    ''', re.DOTALL | re.VERBOSE)"
      ],
      "execution_count": null,
      "outputs": []
    },
    {
      "cell_type": "code",
      "metadata": {
        "id": "wPrGbsNvlWwH"
      },
      "source": [
        "def GenerateFeatureVector_Enc1(dataset, UF):\n",
        "    df = sampled_dataset.copy()\n",
        "\n",
        "    df.reset_index(drop = True, inplace = True)\n",
        "    df['valid'] = df.url.apply(lambda x:valid_url(x))\n",
        "    df = df[df['valid']==True]\n",
        "    df.drop(['valid'],axis=1,inplace=True)\n",
        "    df = pd.get_dummies(data=df, columns=['label'])\n",
        "    labels = df.drop(['idx','url'],axis=1).values\n",
        "\n",
        "    raw_features = feat.featurize(np.array(df.url))\n",
        "\n",
        "    embeddings = list()\n",
        "    hand_picked = list()\n",
        "    for feature in raw_features:\n",
        "      embeddings.append(feature[1])\n",
        "      hand_picked.append(feature[0])\n",
        "\n",
        "    raw_features = None\n",
        "    embeddings = np.array(embeddings)\n",
        "    hand_picked = np.array(hand_picked)\n",
        "\n",
        "    inputs1 = Input(shape=(31, 100))\n",
        "    lstm1 = LSTM(100)(inputs1)\n",
        "    model1 = Model(inputs=inputs1, outputs=lstm1)\n",
        "\n",
        "    embeddings_encoded = model1.predict(embeddings)\n",
        "\n",
        "    features = np.concatenate([embeddings_encoded,hand_picked],axis=1)\n",
        "\n",
        "    return features,labels"
      ],
      "execution_count": null,
      "outputs": []
    },
    {
      "cell_type": "code",
      "metadata": {
        "colab": {
          "base_uri": "https://localhost:8080/"
        },
        "id": "2jo7ge5YUt_Q",
        "outputId": "b3152411-bd82-4ab5-f292-1255bc064634"
      },
      "source": [
        "url_features,labels = GenerateFeatureVector_Enc1(sampled_dataset,feat)"
      ],
      "execution_count": null,
      "outputs": [
        {
          "output_type": "stream",
          "text": [
            "100%|██████████| 1000/1000 [00:33<00:00, 29.85it/s]\n"
          ],
          "name": "stderr"
        }
      ]
    },
    {
      "cell_type": "markdown",
      "metadata": {
        "id": "GeIG2ZCz8Spa"
      },
      "source": [
        "### Enocoder 2 --> Piecewise"
      ]
    },
    {
      "cell_type": "code",
      "metadata": {
        "id": "FVKkyccslPZ4"
      },
      "source": [
        "def valid_url(url):\n",
        "  match = url_regex.match(url.lower())\n",
        "  if match:\n",
        "    return True\n",
        "  else:\n",
        "    return False\n",
        "\n",
        "url_regex = re.compile(r'''\n",
        "        (https?):\\/\\/                                   # http s\n",
        "        ([-a-zA-Z0-9@:%._\\+~#=]+\\.[a-zA-Z0-9()]{1,12})  # domains\n",
        "        \\b\n",
        "        ([-a-zA-Z0-9()@:%_\\+;.~#&//=]*)                 # path\n",
        "        \\??\n",
        "        ([-a-zA-Z0-9()@:%_\\+;.~#&//=?]*)                # args\n",
        "    ''', re.DOTALL | re.VERBOSE)"
      ],
      "execution_count": null,
      "outputs": []
    },
    {
      "cell_type": "code",
      "metadata": {
        "id": "HdDIVHod8NxV"
      },
      "source": [
        "def GenerateFeatureVector_Enc2(dataset, UF):\n",
        "    df = dataset.copy()\n",
        "\n",
        "    df.reset_index(drop = True, inplace = True)\n",
        "    df['valid'] = df.url.apply(lambda x:valid_url(x))\n",
        "    df = df[df['valid']==True]\n",
        "    df.drop(['valid'],axis=1,inplace=True)\n",
        "    df = pd.get_dummies(data=df, columns=['label'])\n",
        "    labels = df.drop(['idx','url'],axis=1).values\n",
        "\n",
        "    raw_features = feat.featurize(np.array(df.url))\n",
        "\n",
        "    embeddings = list()\n",
        "    hand_picked = list()\n",
        "    for feature in raw_features:\n",
        "      embeddings.append(feature[1])\n",
        "      hand_picked.append(feature[0])\n",
        "\n",
        "    embeddings = np.array(embeddings)\n",
        "    hand_picked = np.array(hand_picked)\n",
        "\n",
        "    sub_domain = embeddings[:,:5,:]\n",
        "    main_domain = embeddings[:,5:10,:]\n",
        "    domain_end_vec = embeddings[:,10,:]\n",
        "    path = embeddings[:,11:21,:]\n",
        "    arg = embeddings[:,21:,:]\n",
        "\n",
        "    inputs1 = Input(shape=(5, 100))\n",
        "    lstm1 = LSTM(100)(inputs1)\n",
        "    model1 = Model(inputs=inputs1, outputs=lstm1)\n",
        "\n",
        "    inputs2 = Input(shape=(10, 100))\n",
        "    lstm2 = LSTM(100)(inputs2)\n",
        "    model2 = Model(inputs=inputs2, outputs=lstm2)\n",
        "\n",
        "    sub_domain_encoded = model1.predict(sub_domain)\n",
        "    main_domain_encoded = model1.predict(main_domain)\n",
        "    path_encoded = model2.predict(path)\n",
        "    arg_encoded = model2.predict(arg)\n",
        "\n",
        "    features = np.concatenate([sub_domain_encoded,main_domain_encoded,domain_end_vec,path_encoded,arg_encoded,hand_picked],axis=1)\n",
        "\n",
        "    return features,labels"
      ],
      "execution_count": null,
      "outputs": []
    },
    {
      "cell_type": "code",
      "metadata": {
        "id": "yvPsidJTgrk2"
      },
      "source": [
        "url_features, labels = GenerateFeatureVector_Enc2(sampled_dataset,feat)"
      ],
      "execution_count": null,
      "outputs": []
    },
    {
      "cell_type": "markdown",
      "metadata": {
        "id": "HUfHXZOyjATX"
      },
      "source": [
        "## Testing the generated Features"
      ]
    },
    {
      "cell_type": "code",
      "metadata": {
        "id": "HHt39MVx51ve"
      },
      "source": [
        "from sklearn.model_selection import train_test_split\n",
        "X_train,X_test,Y_train,Y_test=train_test_split(url_features,labels,test_size=0.2)"
      ],
      "execution_count": null,
      "outputs": []
    },
    {
      "cell_type": "markdown",
      "metadata": {
        "id": "ClGzX-9a6lbz"
      },
      "source": [
        "### Random Forest"
      ]
    },
    {
      "cell_type": "code",
      "metadata": {
        "id": "VgYn1kpA515R"
      },
      "source": [
        "from sklearn.ensemble import RandomForestClassifier\n",
        "rf = RandomForestClassifier()\n",
        "rf.fit(X_train,Y_train)\n",
        "Y_RF_pred=rf.predict(X_test)"
      ],
      "execution_count": null,
      "outputs": []
    },
    {
      "cell_type": "code",
      "metadata": {
        "colab": {
          "base_uri": "https://localhost:8080/"
        },
        "id": "NtBxmp5m51_y",
        "outputId": "6e1865fd-6850-41ec-fc75-de19b704a567"
      },
      "source": [
        "from sklearn.metrics import classification_report,confusion_matrix\n",
        "print(classification_report(Y_test,Y_RF_pred))"
      ],
      "execution_count": null,
      "outputs": [
        {
          "output_type": "stream",
          "text": [
            "              precision    recall  f1-score   support\n",
            "\n",
            "           0       1.00      0.03      0.05        39\n",
            "           1       0.90      0.19      0.31       331\n",
            "           2       0.67      0.04      0.08       293\n",
            "           3       1.00      0.08      0.15       150\n",
            "           4       0.65      0.15      0.25        72\n",
            "           5       1.00      0.03      0.06        69\n",
            "           6       0.75      0.10      0.18        30\n",
            "           7       0.50      0.01      0.03        71\n",
            "           8       0.00      0.00      0.00        11\n",
            "           9       0.67      0.02      0.03       114\n",
            "          10       0.53      0.10      0.17        79\n",
            "          11       0.89      0.06      0.11       141\n",
            "          12       0.00      0.00      0.00       131\n",
            "          13       0.78      0.16      0.27       330\n",
            "          14       0.94      0.12      0.22       139\n",
            "\n",
            "   micro avg       0.81      0.10      0.17      2000\n",
            "   macro avg       0.69      0.07      0.13      2000\n",
            "weighted avg       0.74      0.10      0.17      2000\n",
            " samples avg       0.10      0.10      0.10      2000\n",
            "\n"
          ],
          "name": "stdout"
        },
        {
          "output_type": "stream",
          "text": [
            "/usr/local/lib/python3.7/dist-packages/sklearn/metrics/_classification.py:1272: UndefinedMetricWarning: Precision and F-score are ill-defined and being set to 0.0 in labels with no predicted samples. Use `zero_division` parameter to control this behavior.\n",
            "  _warn_prf(average, modifier, msg_start, len(result))\n",
            "/usr/local/lib/python3.7/dist-packages/sklearn/metrics/_classification.py:1272: UndefinedMetricWarning: Precision and F-score are ill-defined and being set to 0.0 in samples with no predicted labels. Use `zero_division` parameter to control this behavior.\n",
            "  _warn_prf(average, modifier, msg_start, len(result))\n"
          ],
          "name": "stderr"
        }
      ]
    },
    {
      "cell_type": "markdown",
      "metadata": {
        "id": "NG0BsCV56uPl"
      },
      "source": [
        "### Deep Model"
      ]
    },
    {
      "cell_type": "markdown",
      "metadata": {
        "id": "3EO0HXz0fdee"
      },
      "source": [
        "The deep models take 3 dimmentional inputs, which has been taken care of below"
      ]
    },
    {
      "cell_type": "code",
      "metadata": {
        "id": "jmRIngiu52T3"
      },
      "source": [
        "url_features_deep = url_features.reshape(url_features.shape[0],url_features.shape[1],1)\n",
        "from sklearn.model_selection import train_test_split\n",
        "X_train,X_test,Y_train,Y_test=train_test_split(url_features_deep,labels,test_size=0.2)"
      ],
      "execution_count": null,
      "outputs": []
    },
    {
      "cell_type": "markdown",
      "metadata": {
        "id": "nUIPnx1SfsK4"
      },
      "source": [
        "This is a very Basic Deep Architecture that is being used below. You can feel free to try out newer set of parameters/ architecture"
      ]
    },
    {
      "cell_type": "code",
      "metadata": {
        "id": "kcTRM-0e52dc"
      },
      "source": [
        "def cnn_lstm(input_dim, output_dim, dropout=0.2, n_layers=1):\n",
        "    dtype = 'float64'\n",
        "    input_data = Input(name='the_input', shape=input_dim, dtype=dtype)\n",
        "#     x = Conv1D(filters=256, kernel_size=10, strides=4, name='conv_1')(input_data)\n",
        "#     x = BatchNormalization()(x)\n",
        "#     x = Activation('relu')(x)\n",
        "#     x = Dropout(dropout, name='dropout_1')(x)\n",
        "        \n",
        "    x = LSTM(128, activation='tanh', return_sequences=True,dropout=dropout, name='lstm_1')(input_data)\n",
        "    x = LSTM(128, activation='tanh', return_sequences=False,dropout=dropout, name='lstm_2')(x)\n",
        "\n",
        "    # 1 fully connected layer DNN ReLu with default 20% dropout\n",
        "    x = Dense(units=64, activation='tanh', name='fc')(x)\n",
        "    x = Dropout(dropout, name='dropout_2')(x)\n",
        "\n",
        "    # Output layer with softmax\n",
        "    y_pred = Dense(units=output_dim, activation='softmax', name='softmax')(x)\n",
        "    model = Model(inputs=input_data, outputs=y_pred)   \n",
        "    return model\n",
        "\n",
        "input_dim = (url_features_deep.shape[1],1)\n",
        "classes = labels.shape[1]\n",
        "K.clear_session()\n",
        "model = cnn_lstm(input_dim, classes)\n",
        "model.summary()"
      ],
      "execution_count": null,
      "outputs": []
    },
    {
      "cell_type": "markdown",
      "metadata": {
        "id": "Eqwopm0qgCHL"
      },
      "source": [
        "The below piece of code is used to actually train the deep model as initialised above\n",
        "\n",
        "I have included *EarlyStopping* to stop training the model once the loss stops changing\n",
        "\n",
        "It is also common practice to use a scheduler to decay your learning rate. I have used *ReduceLROnPlateau* to take care of that part\n",
        "\n",
        "Again, as Soeren had discuseed during the meeting, using different loss functions, optimizers, learning rate etc. can help improve the model performance"
      ]
    },
    {
      "cell_type": "code",
      "metadata": {
        "colab": {
          "base_uri": "https://localhost:8080/",
          "height": 232
        },
        "id": "Re0hTNrs52mp",
        "outputId": "0bb827cd-3ad1-4442-e9e0-9eb6b993a97e"
      },
      "source": [
        "from tensorflow.keras.optimizers import Adam, SGD\n",
        "from tensorflow.keras.callbacks import ModelCheckpoint, EarlyStopping, ReduceLROnPlateau\n",
        "\n",
        "sgd = SGD()\n",
        "adam = Adam()\n",
        "\n",
        "checkpoint = ModelCheckpoint('checkpoint', monitor='val_loss', verbose=0,\n",
        "                                 save_best_only=True, mode='min')\n",
        "early = EarlyStopping(monitor=\"val_loss\",\n",
        "                              mode=\"min\",\n",
        "                              patience=5)\n",
        "reduceLROnPlat = ReduceLROnPlateau(monitor='val_loss', factor=0.7,\n",
        "                                           patience=2,\n",
        "                                           verbose=1, mode='min', min_delta=0.0001, cooldown=3,\n",
        "                                           min_lr=1e-9)  # epsilon here is a good starting value\n",
        "\n",
        "\n",
        "# , clipnorm=1.0\n",
        "\n",
        "model.compile(loss='categorical_crossentropy',\n",
        "              optimizer=adam,\n",
        "              metrics=['accuracy'])\n",
        "history = model.fit(X_train, Y_train,\n",
        "                    batch_size=128, epochs=50,\n",
        "                    validation_data=(X_test, Y_test),\n",
        "                    callbacks=[checkpoint, early, reduceLROnPlat])"
      ],
      "execution_count": null,
      "outputs": [
        {
          "output_type": "error",
          "ename": "NameError",
          "evalue": "ignored",
          "traceback": [
            "\u001b[0;31m---------------------------------------------------------------------------\u001b[0m",
            "\u001b[0;31mNameError\u001b[0m                                 Traceback (most recent call last)",
            "\u001b[0;32m<ipython-input-22-a6f9d23139d0>\u001b[0m in \u001b[0;36m<module>\u001b[0;34m()\u001b[0m\n\u001b[1;32m     18\u001b[0m \u001b[0;31m# , clipnorm=1.0\u001b[0m\u001b[0;34m\u001b[0m\u001b[0;34m\u001b[0m\u001b[0;34m\u001b[0m\u001b[0m\n\u001b[1;32m     19\u001b[0m \u001b[0;34m\u001b[0m\u001b[0m\n\u001b[0;32m---> 20\u001b[0;31m model.compile(loss='categorical_crossentropy',\n\u001b[0m\u001b[1;32m     21\u001b[0m               \u001b[0moptimizer\u001b[0m\u001b[0;34m=\u001b[0m\u001b[0madam\u001b[0m\u001b[0;34m,\u001b[0m\u001b[0;34m\u001b[0m\u001b[0;34m\u001b[0m\u001b[0m\n\u001b[1;32m     22\u001b[0m               metrics=['accuracy'])\n",
            "\u001b[0;31mNameError\u001b[0m: name 'model' is not defined"
          ]
        }
      ]
    },
    {
      "cell_type": "markdown",
      "metadata": {
        "id": "ZPA2MMh_jNn_"
      },
      "source": [
        "### SVM"
      ]
    },
    {
      "cell_type": "code",
      "metadata": {
        "id": "_WFxY3d0pG5E"
      },
      "source": [
        "from sklearn.svm import SVC\n",
        "svc = SVC()\n",
        "svc.fit(X_train,Y_train)\n",
        "Y_SVM_pred=svc.predict(X_test)\n",
        "from sklearn.metrics import classification_report,confusion_matrix\n",
        "print(classification_report(Y_test,Y_SVM_pred))"
      ],
      "execution_count": null,
      "outputs": []
    },
    {
      "cell_type": "markdown",
      "metadata": {
        "id": "dX8FtlpGJRE6"
      },
      "source": [
        "# Loading models from TensorFlow Hub\n",
        "\n",
        "Here you can choose which BERT model you will load from TensorFlow Hub and fine-tune. There are multiple BERT models available.\n",
        "\n",
        "  - [BERT-Base](https://tfhub.dev/tensorflow/bert_en_uncased_L-12_H-768_A-12/3), [Uncased](https://tfhub.dev/tensorflow/bert_en_uncased_L-12_H-768_A-12/3) and [seven more models](https://tfhub.dev/google/collections/bert/1) with trained weights released by the original BERT authors.\n",
        "  - [Small BERTs](https://tfhub.dev/google/collections/bert/1) have the same general architecture but fewer and/or smaller Transformer blocks, which lets you explore tradeoffs between speed, size and quality.\n",
        "  - [ALBERT](https://tfhub.dev/google/collections/albert/1): four different sizes of \"A Lite BERT\" that reduces model size (but not computation time) by sharing parameters between layers.\n",
        "  - [BERT Experts](https://tfhub.dev/google/collections/experts/bert/1): eight models that all have the BERT-base architecture but offer a choice between different pre-training domains, to align more closely with the target task.\n",
        "  - [Electra](https://tfhub.dev/google/collections/electra/1) has the same architecture as BERT (in three different sizes), but gets pre-trained as a discriminator in a set-up that resembles a Generative Adversarial Network (GAN).\n",
        "  - BERT with Talking-Heads Attention and Gated GELU [[base](https://tfhub.dev/tensorflow/talkheads_ggelu_bert_en_base/1), [large](https://tfhub.dev/tensorflow/talkheads_ggelu_bert_en_large/1)] has two improvements to the core of the Transformer architecture.\n",
        "\n",
        "The model documentation on TensorFlow Hub has more details and references to the\n",
        "research literature. Follow the links above, or click on the [`tfhub.dev`](http://tfhub.dev) URL\n",
        "printed after the next cell execution.\n",
        "\n",
        "The suggestion is to start with a Small BERT (with fewer parameters) since they are faster to fine-tune. If you like a small model but with higher accuracy, ALBERT might be your next option. If you want even better accuracy, choose\n",
        "one of the classic BERT sizes or their recent refinements like Electra, Talking Heads, or a BERT Expert.\n",
        "\n",
        "Aside from the models available below, there are [multiple versions](https://tfhub.dev/google/collections/transformer_encoders_text/1) of the models that are larger and can yeld even better accuracy but they are too big to be fine-tuned on a single GPU. You will be able to do that on the [Solve GLUE tasks using BERT on a TPU colab](https://www.tensorflow.org/tutorials/text/solve_glue_tasks_using_bert_on_tpu).\n",
        "\n",
        "You'll see in the code below that switching the tfhub.dev URL is enough to try any of these models, because all the differences between them are encapsulated in the SavedModels from TF Hub."
      ]
    },
    {
      "cell_type": "code",
      "metadata": {
        "id": "y8_ctG55-uTX",
        "colab": {
          "base_uri": "https://localhost:8080/"
        },
        "outputId": "ed1c690a-4882-433b-d98c-55b996c6c5a2"
      },
      "source": [
        "#@title Choose a BERT model to fine-tune\n",
        "\n",
        "bert_model_name = 'small_bert/bert_en_uncased_L-2_H-512_A-8'  #@param [\"bert_en_uncased_L-12_H-768_A-12\", \"bert_en_cased_L-12_H-768_A-12\", \"bert_multi_cased_L-12_H-768_A-12\", \"small_bert/bert_en_uncased_L-2_H-128_A-2\", \"small_bert/bert_en_uncased_L-2_H-256_A-4\", \"small_bert/bert_en_uncased_L-2_H-512_A-8\", \"small_bert/bert_en_uncased_L-2_H-768_A-12\", \"small_bert/bert_en_uncased_L-4_H-128_A-2\", \"small_bert/bert_en_uncased_L-4_H-256_A-4\", \"small_bert/bert_en_uncased_L-4_H-512_A-8\", \"small_bert/bert_en_uncased_L-4_H-768_A-12\", \"small_bert/bert_en_uncased_L-6_H-128_A-2\", \"small_bert/bert_en_uncased_L-6_H-256_A-4\", \"small_bert/bert_en_uncased_L-6_H-512_A-8\", \"small_bert/bert_en_uncased_L-6_H-768_A-12\", \"small_bert/bert_en_uncased_L-8_H-128_A-2\", \"small_bert/bert_en_uncased_L-8_H-256_A-4\", \"small_bert/bert_en_uncased_L-8_H-512_A-8\", \"small_bert/bert_en_uncased_L-8_H-768_A-12\", \"small_bert/bert_en_uncased_L-10_H-128_A-2\", \"small_bert/bert_en_uncased_L-10_H-256_A-4\", \"small_bert/bert_en_uncased_L-10_H-512_A-8\", \"small_bert/bert_en_uncased_L-10_H-768_A-12\", \"small_bert/bert_en_uncased_L-12_H-128_A-2\", \"small_bert/bert_en_uncased_L-12_H-256_A-4\", \"small_bert/bert_en_uncased_L-12_H-512_A-8\", \"small_bert/bert_en_uncased_L-12_H-768_A-12\", \"albert_en_base\", \"electra_small\", \"electra_base\", \"experts_pubmed\", \"experts_wiki_books\", \"talking-heads_base\"]\n",
        "\n",
        "map_name_to_handle = {\n",
        "    'bert_en_uncased_L-12_H-768_A-12':\n",
        "        'https://tfhub.dev/tensorflow/bert_en_uncased_L-12_H-768_A-12/3',\n",
        "    'bert_en_cased_L-12_H-768_A-12':\n",
        "        'https://tfhub.dev/tensorflow/bert_en_cased_L-12_H-768_A-12/3',\n",
        "    'bert_multi_cased_L-12_H-768_A-12':\n",
        "        'https://tfhub.dev/tensorflow/bert_multi_cased_L-12_H-768_A-12/3',\n",
        "    'small_bert/bert_en_uncased_L-2_H-128_A-2':\n",
        "        'https://tfhub.dev/tensorflow/small_bert/bert_en_uncased_L-2_H-128_A-2/1',\n",
        "    'small_bert/bert_en_uncased_L-2_H-256_A-4':\n",
        "        'https://tfhub.dev/tensorflow/small_bert/bert_en_uncased_L-2_H-256_A-4/1',\n",
        "    'small_bert/bert_en_uncased_L-2_H-512_A-8':\n",
        "        'https://tfhub.dev/tensorflow/small_bert/bert_en_uncased_L-2_H-512_A-8/1',\n",
        "    'small_bert/bert_en_uncased_L-2_H-768_A-12':\n",
        "        'https://tfhub.dev/tensorflow/small_bert/bert_en_uncased_L-2_H-768_A-12/1',\n",
        "    'small_bert/bert_en_uncased_L-4_H-128_A-2':\n",
        "        'https://tfhub.dev/tensorflow/small_bert/bert_en_uncased_L-4_H-128_A-2/1',\n",
        "    'small_bert/bert_en_uncased_L-4_H-256_A-4':\n",
        "        'https://tfhub.dev/tensorflow/small_bert/bert_en_uncased_L-4_H-256_A-4/1',\n",
        "    'small_bert/bert_en_uncased_L-4_H-512_A-8':\n",
        "        'https://tfhub.dev/tensorflow/small_bert/bert_en_uncased_L-4_H-512_A-8/1',\n",
        "    'small_bert/bert_en_uncased_L-4_H-768_A-12':\n",
        "        'https://tfhub.dev/tensorflow/small_bert/bert_en_uncased_L-4_H-768_A-12/1',\n",
        "    'small_bert/bert_en_uncased_L-6_H-128_A-2':\n",
        "        'https://tfhub.dev/tensorflow/small_bert/bert_en_uncased_L-6_H-128_A-2/1',\n",
        "    'small_bert/bert_en_uncased_L-6_H-256_A-4':\n",
        "        'https://tfhub.dev/tensorflow/small_bert/bert_en_uncased_L-6_H-256_A-4/1',\n",
        "    'small_bert/bert_en_uncased_L-6_H-512_A-8':\n",
        "        'https://tfhub.dev/tensorflow/small_bert/bert_en_uncased_L-6_H-512_A-8/1',\n",
        "    'small_bert/bert_en_uncased_L-6_H-768_A-12':\n",
        "        'https://tfhub.dev/tensorflow/small_bert/bert_en_uncased_L-6_H-768_A-12/1',\n",
        "    'small_bert/bert_en_uncased_L-8_H-128_A-2':\n",
        "        'https://tfhub.dev/tensorflow/small_bert/bert_en_uncased_L-8_H-128_A-2/1',\n",
        "    'small_bert/bert_en_uncased_L-8_H-256_A-4':\n",
        "        'https://tfhub.dev/tensorflow/small_bert/bert_en_uncased_L-8_H-256_A-4/1',\n",
        "    'small_bert/bert_en_uncased_L-8_H-512_A-8':\n",
        "        'https://tfhub.dev/tensorflow/small_bert/bert_en_uncased_L-8_H-512_A-8/1',\n",
        "    'small_bert/bert_en_uncased_L-8_H-768_A-12':\n",
        "        'https://tfhub.dev/tensorflow/small_bert/bert_en_uncased_L-8_H-768_A-12/1',\n",
        "    'small_bert/bert_en_uncased_L-10_H-128_A-2':\n",
        "        'https://tfhub.dev/tensorflow/small_bert/bert_en_uncased_L-10_H-128_A-2/1',\n",
        "    'small_bert/bert_en_uncased_L-10_H-256_A-4':\n",
        "        'https://tfhub.dev/tensorflow/small_bert/bert_en_uncased_L-10_H-256_A-4/1',\n",
        "    'small_bert/bert_en_uncased_L-10_H-512_A-8':\n",
        "        'https://tfhub.dev/tensorflow/small_bert/bert_en_uncased_L-10_H-512_A-8/1',\n",
        "    'small_bert/bert_en_uncased_L-10_H-768_A-12':\n",
        "        'https://tfhub.dev/tensorflow/small_bert/bert_en_uncased_L-10_H-768_A-12/1',\n",
        "    'small_bert/bert_en_uncased_L-12_H-128_A-2':\n",
        "        'https://tfhub.dev/tensorflow/small_bert/bert_en_uncased_L-12_H-128_A-2/1',\n",
        "    'small_bert/bert_en_uncased_L-12_H-256_A-4':\n",
        "        'https://tfhub.dev/tensorflow/small_bert/bert_en_uncased_L-12_H-256_A-4/1',\n",
        "    'small_bert/bert_en_uncased_L-12_H-512_A-8':\n",
        "        'https://tfhub.dev/tensorflow/small_bert/bert_en_uncased_L-12_H-512_A-8/1',\n",
        "    'small_bert/bert_en_uncased_L-12_H-768_A-12':\n",
        "        'https://tfhub.dev/tensorflow/small_bert/bert_en_uncased_L-12_H-768_A-12/1',\n",
        "    'albert_en_base':\n",
        "        'https://tfhub.dev/tensorflow/albert_en_base/2',\n",
        "    'electra_small':\n",
        "        'https://tfhub.dev/google/electra_small/2',\n",
        "    'electra_base':\n",
        "        'https://tfhub.dev/google/electra_base/2',\n",
        "    'experts_pubmed':\n",
        "        'https://tfhub.dev/google/experts/bert/pubmed/2',\n",
        "    'experts_wiki_books':\n",
        "        'https://tfhub.dev/google/experts/bert/wiki_books/2',\n",
        "    'talking-heads_base':\n",
        "        'https://tfhub.dev/tensorflow/talkheads_ggelu_bert_en_base/1',\n",
        "}\n",
        "\n",
        "map_model_to_preprocess = {\n",
        "    'bert_en_uncased_L-12_H-768_A-12':\n",
        "        'https://tfhub.dev/tensorflow/bert_en_uncased_preprocess/3',\n",
        "    'bert_en_cased_L-12_H-768_A-12':\n",
        "        'https://tfhub.dev/tensorflow/bert_en_cased_preprocess/3',\n",
        "    'small_bert/bert_en_uncased_L-2_H-128_A-2':\n",
        "        'https://tfhub.dev/tensorflow/bert_en_uncased_preprocess/3',\n",
        "    'small_bert/bert_en_uncased_L-2_H-256_A-4':\n",
        "        'https://tfhub.dev/tensorflow/bert_en_uncased_preprocess/3',\n",
        "    'small_bert/bert_en_uncased_L-2_H-512_A-8':\n",
        "        'https://tfhub.dev/tensorflow/bert_en_uncased_preprocess/3',\n",
        "    'small_bert/bert_en_uncased_L-2_H-768_A-12':\n",
        "        'https://tfhub.dev/tensorflow/bert_en_uncased_preprocess/3',\n",
        "    'small_bert/bert_en_uncased_L-4_H-128_A-2':\n",
        "        'https://tfhub.dev/tensorflow/bert_en_uncased_preprocess/3',\n",
        "    'small_bert/bert_en_uncased_L-4_H-256_A-4':\n",
        "        'https://tfhub.dev/tensorflow/bert_en_uncased_preprocess/3',\n",
        "    'small_bert/bert_en_uncased_L-4_H-512_A-8':\n",
        "        'https://tfhub.dev/tensorflow/bert_en_uncased_preprocess/3',\n",
        "    'small_bert/bert_en_uncased_L-4_H-768_A-12':\n",
        "        'https://tfhub.dev/tensorflow/bert_en_uncased_preprocess/3',\n",
        "    'small_bert/bert_en_uncased_L-6_H-128_A-2':\n",
        "        'https://tfhub.dev/tensorflow/bert_en_uncased_preprocess/3',\n",
        "    'small_bert/bert_en_uncased_L-6_H-256_A-4':\n",
        "        'https://tfhub.dev/tensorflow/bert_en_uncased_preprocess/3',\n",
        "    'small_bert/bert_en_uncased_L-6_H-512_A-8':\n",
        "        'https://tfhub.dev/tensorflow/bert_en_uncased_preprocess/3',\n",
        "    'small_bert/bert_en_uncased_L-6_H-768_A-12':\n",
        "        'https://tfhub.dev/tensorflow/bert_en_uncased_preprocess/3',\n",
        "    'small_bert/bert_en_uncased_L-8_H-128_A-2':\n",
        "        'https://tfhub.dev/tensorflow/bert_en_uncased_preprocess/3',\n",
        "    'small_bert/bert_en_uncased_L-8_H-256_A-4':\n",
        "        'https://tfhub.dev/tensorflow/bert_en_uncased_preprocess/3',\n",
        "    'small_bert/bert_en_uncased_L-8_H-512_A-8':\n",
        "        'https://tfhub.dev/tensorflow/bert_en_uncased_preprocess/3',\n",
        "    'small_bert/bert_en_uncased_L-8_H-768_A-12':\n",
        "        'https://tfhub.dev/tensorflow/bert_en_uncased_preprocess/3',\n",
        "    'small_bert/bert_en_uncased_L-10_H-128_A-2':\n",
        "        'https://tfhub.dev/tensorflow/bert_en_uncased_preprocess/3',\n",
        "    'small_bert/bert_en_uncased_L-10_H-256_A-4':\n",
        "        'https://tfhub.dev/tensorflow/bert_en_uncased_preprocess/3',\n",
        "    'small_bert/bert_en_uncased_L-10_H-512_A-8':\n",
        "        'https://tfhub.dev/tensorflow/bert_en_uncased_preprocess/3',\n",
        "    'small_bert/bert_en_uncased_L-10_H-768_A-12':\n",
        "        'https://tfhub.dev/tensorflow/bert_en_uncased_preprocess/3',\n",
        "    'small_bert/bert_en_uncased_L-12_H-128_A-2':\n",
        "        'https://tfhub.dev/tensorflow/bert_en_uncased_preprocess/3',\n",
        "    'small_bert/bert_en_uncased_L-12_H-256_A-4':\n",
        "        'https://tfhub.dev/tensorflow/bert_en_uncased_preprocess/3',\n",
        "    'small_bert/bert_en_uncased_L-12_H-512_A-8':\n",
        "        'https://tfhub.dev/tensorflow/bert_en_uncased_preprocess/3',\n",
        "    'small_bert/bert_en_uncased_L-12_H-768_A-12':\n",
        "        'https://tfhub.dev/tensorflow/bert_en_uncased_preprocess/3',\n",
        "    'bert_multi_cased_L-12_H-768_A-12':\n",
        "        'https://tfhub.dev/tensorflow/bert_multi_cased_preprocess/3',\n",
        "    'albert_en_base':\n",
        "        'https://tfhub.dev/tensorflow/albert_en_preprocess/3',\n",
        "    'electra_small':\n",
        "        'https://tfhub.dev/tensorflow/bert_en_uncased_preprocess/3',\n",
        "    'electra_base':\n",
        "        'https://tfhub.dev/tensorflow/bert_en_uncased_preprocess/3',\n",
        "    'experts_pubmed':\n",
        "        'https://tfhub.dev/tensorflow/bert_en_uncased_preprocess/3',\n",
        "    'experts_wiki_books':\n",
        "        'https://tfhub.dev/tensorflow/bert_en_uncased_preprocess/3',\n",
        "    'talking-heads_base':\n",
        "        'https://tfhub.dev/tensorflow/bert_en_uncased_preprocess/3',\n",
        "}\n",
        "\n",
        "tfhub_handle_encoder = map_name_to_handle[bert_model_name]\n",
        "tfhub_handle_preprocess = map_model_to_preprocess[bert_model_name]\n",
        "\n",
        "print(f'BERT model selected           : {tfhub_handle_encoder}')\n",
        "print(f'Preprocess model auto-selected: {tfhub_handle_preprocess}')"
      ],
      "execution_count": null,
      "outputs": [
        {
          "output_type": "stream",
          "text": [
            "BERT model selected           : https://tfhub.dev/tensorflow/small_bert/bert_en_uncased_L-2_H-512_A-8/1\n",
            "Preprocess model auto-selected: https://tfhub.dev/tensorflow/bert_en_uncased_preprocess/3\n"
          ],
          "name": "stdout"
        }
      ]
    },
    {
      "cell_type": "markdown",
      "metadata": {
        "id": "7WrcxxTRDdHi"
      },
      "source": [
        "## The preprocessing model\n",
        "\n",
        "Text inputs need to be transformed to numeric token ids and arranged in several Tensors before being input to BERT. TensorFlow Hub provides a matching preprocessing model for each of the BERT models discussed above, which implements this transformation using TF ops from the TF.text library. It is not necessary to run pure Python code outside your TensorFlow model to preprocess text.\n",
        "\n",
        "The preprocessing model must be the one referenced by the documentation of the BERT model, which you can read at the URL printed above. For BERT models from the drop-down above, the preprocessing model is selected automatically.\n",
        "\n",
        "Note: You will load the preprocessing model into a [hub.KerasLayer](https://www.tensorflow.org/hub/api_docs/python/hub/KerasLayer) to compose your fine-tuned model. This is the preferred API to load a TF2-style SavedModel from TF Hub into a Keras model."
      ]
    },
    {
      "cell_type": "code",
      "metadata": {
        "id": "0SQi-jWd_jzq"
      },
      "source": [
        "bert_preprocess_model = hub.KerasLayer(tfhub_handle_preprocess)"
      ],
      "execution_count": null,
      "outputs": []
    },
    {
      "cell_type": "markdown",
      "metadata": {
        "id": "x4naBiEE_cZX"
      },
      "source": [
        "Let's try the preprocessing model on some text and see the output:"
      ]
    },
    {
      "cell_type": "code",
      "metadata": {
        "id": "r9-zCzJpnuwS",
        "colab": {
          "base_uri": "https://localhost:8080/"
        },
        "outputId": "445fb02e-0fce-4620-d7a6-e8f2beedd864"
      },
      "source": [
        "test_url = dataset['url'].iloc[0]\n",
        "url_data = url_tokenizer(test_url)\n",
        "url_flat_lst = flatten_url_data(url_data)\n",
        "url_flat = ' '.join(url_flat_lst)\n",
        "\n",
        "text_preprocessed = bert_preprocess_model([url_flat])\n",
        "\n",
        "print(f'URL        : {test_url}')\n",
        "print(f'URL flat   : {url_flat}')\n",
        "print(f'Keys       : {list(text_preprocessed.keys())}')\n",
        "print(f'Shape      : {text_preprocessed[\"input_word_ids\"].shape}')\n",
        "print(f'Word Ids   : {text_preprocessed[\"input_word_ids\"][0, :12]}')\n",
        "print(f'Input Mask : {text_preprocessed[\"input_mask\"][0, :12]}')\n",
        "print(f'Type Ids   : {text_preprocessed[\"input_type_ids\"][0, :12]}')"
      ],
      "execution_count": null,
      "outputs": [
        {
          "output_type": "stream",
          "text": [
            "URL        : http://www.thepipe.info\n",
            "URL flat   : http www the pipe info\n",
            "Keys       : ['input_word_ids', 'input_mask', 'input_type_ids']\n",
            "Shape      : (1, 128)\n",
            "Word Ids   : [  101  8299  7479  1996  8667 18558   102     0     0     0     0     0]\n",
            "Input Mask : [1 1 1 1 1 1 1 0 0 0 0 0]\n",
            "Type Ids   : [0 0 0 0 0 0 0 0 0 0 0 0]\n"
          ],
          "name": "stdout"
        }
      ]
    },
    {
      "cell_type": "markdown",
      "metadata": {
        "id": "EqL7ihkN_862"
      },
      "source": [
        "As you can see, now you have the 3 outputs from the preprocessing that a BERT model would use (`input_words_id`, `input_mask` and `input_type_ids`).\n",
        "\n",
        "Some other important points:\n",
        "- The input is truncated to 128 tokens. The number of tokens can be customized and you can see more details on the [Solve GLUE tasks using BERT on a TPU colab](https://www.tensorflow.org/tutorials/text/solve_glue_tasks_using_bert_on_tpu).\n",
        "- The `input_type_ids` only have one value (0) because this is a single sentence input. For a multiple sentence input, it would have one number for each input.\n",
        "\n",
        "Since this text preprocessor is a TensorFlow model, It can be included in your model directly."
      ]
    },
    {
      "cell_type": "markdown",
      "metadata": {
        "id": "DKnLPSEmtp9i"
      },
      "source": [
        "## Using the BERT model\n",
        "\n",
        "Before putting BERT into your own model, let's take a look at its outputs. You will load it from TF Hub and see the returned values."
      ]
    },
    {
      "cell_type": "code",
      "metadata": {
        "id": "tXxYpK8ixL34"
      },
      "source": [
        "bert_model = hub.KerasLayer(tfhub_handle_encoder)"
      ],
      "execution_count": null,
      "outputs": []
    },
    {
      "cell_type": "code",
      "metadata": {
        "id": "_OoF9mebuSZc",
        "colab": {
          "base_uri": "https://localhost:8080/"
        },
        "outputId": "aa2c4a25-26a4-460a-8b10-645aacf4b129"
      },
      "source": [
        "bert_results = bert_model(text_preprocessed)\n",
        "\n",
        "print(f'Loaded BERT: {tfhub_handle_encoder}')\n",
        "print(f'Pooled Outputs Shape:{bert_results[\"pooled_output\"].shape}')\n",
        "print(f'Pooled Outputs Values:{bert_results[\"pooled_output\"][0, :12]}')\n",
        "print(f'Sequence Outputs Shape:{bert_results[\"sequence_output\"].shape}')\n",
        "print(f'Sequence Outputs Values:{bert_results[\"sequence_output\"][0, :12]}')"
      ],
      "execution_count": null,
      "outputs": [
        {
          "output_type": "stream",
          "text": [
            "Loaded BERT: https://tfhub.dev/tensorflow/small_bert/bert_en_uncased_L-2_H-512_A-8/1\n",
            "Pooled Outputs Shape:(1, 512)\n",
            "Pooled Outputs Values:[ 0.00361862  0.9974153  -0.99529904 -0.22447681 -0.9434776   0.62250006\n",
            "  0.2588993  -0.13676798 -0.986421   -0.35827443 -0.06381412 -0.40712824]\n",
            "Sequence Outputs Shape:(1, 128, 512)\n",
            "Sequence Outputs Values:[[ 0.00662175  0.33793622  0.16519605 ...  0.39938825  0.17727904\n",
            "   0.37628025]\n",
            " [-0.23351899  0.3960936   0.31572118 ... -0.5405884   0.2409601\n",
            "   0.75649756]\n",
            " [ 0.42145604  0.06643031  0.78035384 ... -0.19821838 -0.3319409\n",
            "   0.45022073]\n",
            " ...\n",
            " [ 0.0887524   0.7291727  -0.45450005 ...  0.3496972   0.17700732\n",
            "   0.05872215]\n",
            " [ 0.46900666  0.4190787   0.41059238 ...  0.0887006  -0.0083739\n",
            "   0.24160132]\n",
            " [ 0.3521223   0.5305756   0.3649592  ... -0.08279605  0.04219715\n",
            "   0.43598714]]\n"
          ],
          "name": "stdout"
        }
      ]
    },
    {
      "cell_type": "markdown",
      "metadata": {
        "id": "sm61jDrezAll"
      },
      "source": [
        "The BERT models return a map with 3 important keys: `pooled_output`, `sequence_output`, `encoder_outputs`:\n",
        "\n",
        "- `pooled_output` to represent each input sequence as a whole. The shape is `[batch_size, H]`. You can think of this as an embedding for the entire movie review.\n",
        "- `sequence_output` represents each input token in the context. The shape is `[batch_size, seq_length, H]`. You can think of this as a contextual embedding for every token in the movie review.\n",
        "- `encoder_outputs` are the intermediate activations of the `L` Transformer blocks. `outputs[\"encoder_outputs\"][i]` is a Tensor of shape `[batch_size, seq_length, 1024]` with the outputs of the i-th Transformer block, for `0 <= i < L`. The last value of the list is equal to `sequence_output`.\n",
        "\n",
        "For the fine-tuning you are going to use the `pooled_output` array."
      ]
    },
    {
      "cell_type": "markdown",
      "metadata": {
        "id": "pDNKfAXbDnJH"
      },
      "source": [
        "## Define your model\n",
        "\n",
        "You will create a very simple fine-tuned model, with the preprocessing model, the selected BERT model, one Dense and a Dropout layer.\n",
        "\n",
        "Note: for more information about the base model's input and output you can use just follow the model's url for documentation. Here specifically you don't need to worry about it because the preprocessing model will take care of that for you.\n"
      ]
    },
    {
      "cell_type": "code",
      "metadata": {
        "colab": {
          "base_uri": "https://localhost:8080/",
          "height": 419
        },
        "id": "2u5yJgTncfBD",
        "outputId": "d0b629ad-dfc0-4996-908b-38d55f430476"
      },
      "source": [
        "if DATASET == 'dmoz':\n",
        "  dataset = dataset.sample(MAX_NUM_SAMPLES)\n",
        "\n",
        "dataset"
      ],
      "execution_count": null,
      "outputs": [
        {
          "output_type": "execute_result",
          "data": {
            "text/html": [
              "<div>\n",
              "<style scoped>\n",
              "    .dataframe tbody tr th:only-of-type {\n",
              "        vertical-align: middle;\n",
              "    }\n",
              "\n",
              "    .dataframe tbody tr th {\n",
              "        vertical-align: top;\n",
              "    }\n",
              "\n",
              "    .dataframe thead th {\n",
              "        text-align: right;\n",
              "    }\n",
              "</style>\n",
              "<table border=\"1\" class=\"dataframe\">\n",
              "  <thead>\n",
              "    <tr style=\"text-align: right;\">\n",
              "      <th></th>\n",
              "      <th>idx</th>\n",
              "      <th>url</th>\n",
              "      <th>label</th>\n",
              "    </tr>\n",
              "  </thead>\n",
              "  <tbody>\n",
              "    <tr>\n",
              "      <th>1478154</th>\n",
              "      <td>1478155</td>\n",
              "      <td>http://www.physics.ubc.ca/~rcoope</td>\n",
              "      <td>Sports</td>\n",
              "    </tr>\n",
              "    <tr>\n",
              "      <th>1440788</th>\n",
              "      <td>1440789</td>\n",
              "      <td>http://www.divinity.cam.ac.uk/carts/gender.html</td>\n",
              "      <td>Society</td>\n",
              "    </tr>\n",
              "    <tr>\n",
              "      <th>557247</th>\n",
              "      <td>557248</td>\n",
              "      <td>http://deepblog.com/</td>\n",
              "      <td>Computers</td>\n",
              "    </tr>\n",
              "    <tr>\n",
              "      <th>956912</th>\n",
              "      <td>956913</td>\n",
              "      <td>http://www.tiaa.edu.ge/</td>\n",
              "      <td>Reference</td>\n",
              "    </tr>\n",
              "    <tr>\n",
              "      <th>333932</th>\n",
              "      <td>333933</td>\n",
              "      <td>http://www.firstediting.com</td>\n",
              "      <td>Business</td>\n",
              "    </tr>\n",
              "    <tr>\n",
              "      <th>...</th>\n",
              "      <td>...</td>\n",
              "      <td>...</td>\n",
              "      <td>...</td>\n",
              "    </tr>\n",
              "    <tr>\n",
              "      <th>639909</th>\n",
              "      <td>639910</td>\n",
              "      <td>http://www.codelifter.com/</td>\n",
              "      <td>Computers</td>\n",
              "    </tr>\n",
              "    <tr>\n",
              "      <th>1178456</th>\n",
              "      <td>1178457</td>\n",
              "      <td>http://www.semiprecious.com/</td>\n",
              "      <td>Shopping</td>\n",
              "    </tr>\n",
              "    <tr>\n",
              "      <th>1432785</th>\n",
              "      <td>1432786</td>\n",
              "      <td>http://www.geocities.com/lorrainesplace2002/</td>\n",
              "      <td>Society</td>\n",
              "    </tr>\n",
              "    <tr>\n",
              "      <th>195680</th>\n",
              "      <td>195681</td>\n",
              "      <td>http://www.cincyflute.com/</td>\n",
              "      <td>Arts</td>\n",
              "    </tr>\n",
              "    <tr>\n",
              "      <th>1315628</th>\n",
              "      <td>1315629</td>\n",
              "      <td>http://www.kappasigmagg.org/</td>\n",
              "      <td>Society</td>\n",
              "    </tr>\n",
              "  </tbody>\n",
              "</table>\n",
              "<p>1000000 rows × 3 columns</p>\n",
              "</div>"
            ],
            "text/plain": [
              "             idx                                              url      label\n",
              "1478154  1478155                http://www.physics.ubc.ca/~rcoope     Sports\n",
              "1440788  1440789  http://www.divinity.cam.ac.uk/carts/gender.html    Society\n",
              "557247    557248                             http://deepblog.com/  Computers\n",
              "956912    956913                          http://www.tiaa.edu.ge/  Reference\n",
              "333932    333933                      http://www.firstediting.com   Business\n",
              "...          ...                                              ...        ...\n",
              "639909    639910                       http://www.codelifter.com/  Computers\n",
              "1178456  1178457                     http://www.semiprecious.com/   Shopping\n",
              "1432785  1432786     http://www.geocities.com/lorrainesplace2002/    Society\n",
              "195680    195681                       http://www.cincyflute.com/       Arts\n",
              "1315628  1315629                     http://www.kappasigmagg.org/    Society\n",
              "\n",
              "[1000000 rows x 3 columns]"
            ]
          },
          "metadata": {
            "tags": []
          },
          "execution_count": 9
        }
      ]
    },
    {
      "cell_type": "code",
      "metadata": {
        "colab": {
          "base_uri": "https://localhost:8080/",
          "height": 335
        },
        "id": "u72GeURudOmc",
        "outputId": "5431c6f2-d21d-4dc5-af78-29ade6e058fb"
      },
      "source": [
        "dataset['label'].value_counts().plot(kind='bar')"
      ],
      "execution_count": null,
      "outputs": [
        {
          "output_type": "execute_result",
          "data": {
            "text/plain": [
              "<matplotlib.axes._subplots.AxesSubplot at 0x7f7d5310e8d0>"
            ]
          },
          "metadata": {
            "tags": []
          },
          "execution_count": 10
        },
        {
          "output_type": "display_data",
          "data": {
            "image/png": "[encoded data removed]",
            "text/plain": [
              "<Figure size 432x288 with 1 Axes>"
            ]
          },
          "metadata": {
            "tags": []
          }
        }
      ]
    },
    {
      "cell_type": "code",
      "metadata": {
        "colab": {
          "base_uri": "https://localhost:8080/"
        },
        "id": "L-Vy6TrMd0k2",
        "outputId": "543f64f7-ccc0-43ea-e3af-f222429ebaa0"
      },
      "source": [
        "labels = np.array(dataset.label.unique())\n",
        "label_to_num = {label: i for i, label in enumerate(labels)}\n",
        "num_classes = len(label_to_num)\n",
        "\n",
        "print('Num classes:', num_classes)\n",
        "pprint(label_to_num)"
      ],
      "execution_count": null,
      "outputs": [
        {
          "output_type": "stream",
          "text": [
            "Num classes: 15\n",
            "{'Adult': 9,\n",
            " 'Arts': 7,\n",
            " 'Business': 4,\n",
            " 'Computers': 2,\n",
            " 'Games': 6,\n",
            " 'Health': 10,\n",
            " 'Home': 8,\n",
            " 'Kids': 13,\n",
            " 'News': 14,\n",
            " 'Recreation': 5,\n",
            " 'Reference': 3,\n",
            " 'Science': 12,\n",
            " 'Shopping': 11,\n",
            " 'Society': 1,\n",
            " 'Sports': 0}\n"
          ],
          "name": "stdout"
        }
      ]
    },
    {
      "cell_type": "code",
      "metadata": {
        "id": "fbH6hGRicSlw"
      },
      "source": [
        "def build_classifier_model_custom():\n",
        "  text_input = tf.keras.layers.Input(shape=(), dtype=tf.string, name='text')\n",
        "  preprocessing_layer = hub.KerasLayer(tfhub_handle_preprocess, name='preprocessing')\n",
        "  encoder_inputs = preprocessing_layer(text_input)\n",
        "  encoder = hub.KerasLayer(tfhub_handle_encoder, trainable=True, name='BERT_encoder')\n",
        "  outputs = encoder(encoder_inputs)\n",
        "  net = outputs['pooled_output']\n",
        "  net = tf.keras.layers.Dropout(0.1)(net)\n",
        "  net = tf.keras.layers.Dense(num_classes, activation=None, name='classifier')(net)\n",
        "  return tf.keras.Model(text_input, net)"
      ],
      "execution_count": null,
      "outputs": []
    },
    {
      "cell_type": "markdown",
      "metadata": {
        "id": "Zs4yhFraBuGQ"
      },
      "source": [
        "Let's check that the model runs with the output of the preprocessing model."
      ]
    },
    {
      "cell_type": "code",
      "metadata": {
        "id": "mGMF8AZcB2Zy",
        "colab": {
          "base_uri": "https://localhost:8080/"
        },
        "outputId": "1646bea8-4e38-4d99-c33c-f2539cbe9811"
      },
      "source": [
        "classifier_model = build_classifier_model_custom()\n",
        "bert_raw_result = classifier_model(tf.constant([url_flat]))\n",
        "print(tf.sigmoid(bert_raw_result))"
      ],
      "execution_count": null,
      "outputs": [
        {
          "output_type": "stream",
          "text": [
            "tf.Tensor(\n",
            "[[0.29074588 0.39552143 0.5697251  0.5167154  0.5072982  0.6216469\n",
            "  0.64545816 0.23900901 0.5826868  0.19900523 0.3064908  0.49508867\n",
            "  0.32405144 0.60189146 0.77026176]], shape=(1, 15), dtype=float32)\n"
          ],
          "name": "stdout"
        }
      ]
    },
    {
      "cell_type": "markdown",
      "metadata": {
        "id": "ZTUzNV2JE2G3"
      },
      "source": [
        "The output is meaningless, of course, because the model has not been trained yet.\n",
        "\n",
        "Let's take a look at the model's structure."
      ]
    },
    {
      "cell_type": "code",
      "metadata": {
        "id": "0EmzyHZXKIpm",
        "colab": {
          "base_uri": "https://localhost:8080/",
          "height": 466
        },
        "outputId": "eecfa777-0534-4332-eb9a-e5acb4d11b1a"
      },
      "source": [
        "tf.keras.utils.plot_model(classifier_model)"
      ],
      "execution_count": null,
      "outputs": [
        {
          "output_type": "execute_result",
          "data": {
            "image/png": "[encoded data removed]",
            "text/plain": [
              "<IPython.core.display.Image object>"
            ]
          },
          "metadata": {
            "tags": []
          },
          "execution_count": 23
        }
      ]
    },
    {
      "cell_type": "markdown",
      "metadata": {
        "id": "WbUWoZMwc302"
      },
      "source": [
        "## Model training\n",
        "\n",
        "You now have all the pieces to train a model, including the preprocessing module, BERT encoder, data, and classifier."
      ]
    },
    {
      "cell_type": "markdown",
      "metadata": {
        "id": "WpJ3xcwDT56v"
      },
      "source": [
        "### Loss function\n",
        "\n",
        "Since this is a binary classification problem and the model outputs a probability (a single-unit layer), you'll use `losses.BinaryCrossentropy` loss function.\n"
      ]
    },
    {
      "cell_type": "code",
      "metadata": {
        "id": "OWPOZE-L3AgE"
      },
      "source": [
        "loss = tf.keras.losses.SparseCategoricalCrossentropy(from_logits=True)\n",
        "metrics = tf.keras.metrics.SparseCategoricalAccuracy()"
      ],
      "execution_count": null,
      "outputs": []
    },
    {
      "cell_type": "markdown",
      "metadata": {
        "id": "77psrpfzbxtp"
      },
      "source": [
        "### Optimizer\n",
        "\n",
        "For fine-tuning, let's use the same optimizer that BERT was originally trained with: the \"Adaptive Moments\" (Adam). This optimizer minimizes the prediction loss and does regularization by weight decay (not using moments), which is also known as [AdamW](https://arxiv.org/abs/1711.05101).\n",
        "\n",
        "For the learning rate (`init_lr`), we use the same schedule as BERT pre-training: linear decay of a notional initial learning rate, prefixed with a linear warm-up phase over the first 10% of training steps (`num_warmup_steps`). In line with the BERT paper, the initial learning rate is smaller for fine-tuning (best of 5e-5, 3e-5, 2e-5)."
      ]
    },
    {
      "cell_type": "code",
      "metadata": {
        "id": "_uTfWX-Ngls2"
      },
      "source": [
        "def clean_url(url: str) -> str:\n",
        "  url_data = url_tokenizer(url)\n",
        "  url_flat_lst = flatten_url_data(url_data)\n",
        "  url_flat = ' '.join(url_flat_lst)\n",
        "  return url_flat\n",
        "\n",
        "\n",
        "dataset['urlClean'] = dataset['url'].apply(clean_url)"
      ],
      "execution_count": null,
      "outputs": []
    },
    {
      "cell_type": "code",
      "metadata": {
        "colab": {
          "base_uri": "https://localhost:8080/",
          "height": 419
        },
        "id": "gYD3NR17fyvB",
        "outputId": "53922931-a286-4e78-f658-c5000cefb57b"
      },
      "source": [
        "dataset['sparseLabel'] = dataset['label'].map(label_to_num)\n",
        "dataset"
      ],
      "execution_count": null,
      "outputs": [
        {
          "output_type": "execute_result",
          "data": {
            "text/html": [
              "<div>\n",
              "<style scoped>\n",
              "    .dataframe tbody tr th:only-of-type {\n",
              "        vertical-align: middle;\n",
              "    }\n",
              "\n",
              "    .dataframe tbody tr th {\n",
              "        vertical-align: top;\n",
              "    }\n",
              "\n",
              "    .dataframe thead th {\n",
              "        text-align: right;\n",
              "    }\n",
              "</style>\n",
              "<table border=\"1\" class=\"dataframe\">\n",
              "  <thead>\n",
              "    <tr style=\"text-align: right;\">\n",
              "      <th></th>\n",
              "      <th>idx</th>\n",
              "      <th>url</th>\n",
              "      <th>label</th>\n",
              "      <th>urlClean</th>\n",
              "      <th>sparseLabel</th>\n",
              "    </tr>\n",
              "  </thead>\n",
              "  <tbody>\n",
              "    <tr>\n",
              "      <th>1478154</th>\n",
              "      <td>1478155</td>\n",
              "      <td>http://www.physics.ubc.ca/~rcoope</td>\n",
              "      <td>Sports</td>\n",
              "      <td>http www physics ubc ca r coop e</td>\n",
              "      <td>0</td>\n",
              "    </tr>\n",
              "    <tr>\n",
              "      <th>1440788</th>\n",
              "      <td>1440789</td>\n",
              "      <td>http://www.divinity.cam.ac.uk/carts/gender.html</td>\n",
              "      <td>Society</td>\n",
              "      <td>http www divinity cam ac uk carts gender html</td>\n",
              "      <td>1</td>\n",
              "    </tr>\n",
              "    <tr>\n",
              "      <th>557247</th>\n",
              "      <td>557248</td>\n",
              "      <td>http://deepblog.com/</td>\n",
              "      <td>Computers</td>\n",
              "      <td>http deep blog com</td>\n",
              "      <td>2</td>\n",
              "    </tr>\n",
              "    <tr>\n",
              "      <th>956912</th>\n",
              "      <td>956913</td>\n",
              "      <td>http://www.tiaa.edu.ge/</td>\n",
              "      <td>Reference</td>\n",
              "      <td>http www tiaa edu ge</td>\n",
              "      <td>3</td>\n",
              "    </tr>\n",
              "    <tr>\n",
              "      <th>333932</th>\n",
              "      <td>333933</td>\n",
              "      <td>http://www.firstediting.com</td>\n",
              "      <td>Business</td>\n",
              "      <td>http www first editing com</td>\n",
              "      <td>4</td>\n",
              "    </tr>\n",
              "    <tr>\n",
              "      <th>...</th>\n",
              "      <td>...</td>\n",
              "      <td>...</td>\n",
              "      <td>...</td>\n",
              "      <td>...</td>\n",
              "      <td>...</td>\n",
              "    </tr>\n",
              "    <tr>\n",
              "      <th>149559</th>\n",
              "      <td>149560</td>\n",
              "      <td>http://www.rollingstone.com/artists/janisian</td>\n",
              "      <td>Arts</td>\n",
              "      <td>http www rolling stone com artists janis ian</td>\n",
              "      <td>7</td>\n",
              "    </tr>\n",
              "    <tr>\n",
              "      <th>85056</th>\n",
              "      <td>85057</td>\n",
              "      <td>http://andybragen.com</td>\n",
              "      <td>Arts</td>\n",
              "      <td>http andy brage n com</td>\n",
              "      <td>7</td>\n",
              "    </tr>\n",
              "    <tr>\n",
              "      <th>175104</th>\n",
              "      <td>175105</td>\n",
              "      <td>http://www.wqxr.com/cgi-bin/iowa/cla/learning/...</td>\n",
              "      <td>Arts</td>\n",
              "      <td>http www wqxr com cgi bin iowa cla learning gr...</td>\n",
              "      <td>7</td>\n",
              "    </tr>\n",
              "    <tr>\n",
              "      <th>1214881</th>\n",
              "      <td>1214882</td>\n",
              "      <td>http://www.janhart.com/</td>\n",
              "      <td>Shopping</td>\n",
              "      <td>http www jan hart com</td>\n",
              "      <td>11</td>\n",
              "    </tr>\n",
              "    <tr>\n",
              "      <th>1440432</th>\n",
              "      <td>1440433</td>\n",
              "      <td>http://www.theagelesswisdom.com/</td>\n",
              "      <td>Society</td>\n",
              "      <td>http www the ageless wisdom com</td>\n",
              "      <td>1</td>\n",
              "    </tr>\n",
              "  </tbody>\n",
              "</table>\n",
              "<p>100000 rows × 5 columns</p>\n",
              "</div>"
            ],
            "text/plain": [
              "             idx  ... sparseLabel\n",
              "1478154  1478155  ...           0\n",
              "1440788  1440789  ...           1\n",
              "557247    557248  ...           2\n",
              "956912    956913  ...           3\n",
              "333932    333933  ...           4\n",
              "...          ...  ...         ...\n",
              "149559    149560  ...           7\n",
              "85056      85057  ...           7\n",
              "175104    175105  ...           7\n",
              "1214881  1214882  ...          11\n",
              "1440432  1440433  ...           1\n",
              "\n",
              "[100000 rows x 5 columns]"
            ]
          },
          "metadata": {
            "tags": []
          },
          "execution_count": 26
        }
      ]
    },
    {
      "cell_type": "code",
      "metadata": {
        "id": "K1lfdfL7gKgg"
      },
      "source": [
        "X, y = dataset['urlClean'].to_numpy(), dataset['sparseLabel'].to_numpy()\n",
        "\n",
        "X_train, X_test, y_train, y_test = train_test_split(X, y, test_size=TEST_PROP, random_state=SEED)"
      ],
      "execution_count": null,
      "outputs": []
    },
    {
      "cell_type": "code",
      "metadata": {
        "colab": {
          "base_uri": "https://localhost:8080/"
        },
        "id": "NmCmYgpegKoe",
        "outputId": "ffcc8d0a-0c6a-4ece-8a5f-0459a3b642e1"
      },
      "source": [
        "X_train.shape, y_train.shape, X_test.shape, y_test.shape"
      ],
      "execution_count": null,
      "outputs": [
        {
          "output_type": "execute_result",
          "data": {
            "text/plain": [
              "((80000,), (80000,), (20000,), (20000,))"
            ]
          },
          "metadata": {
            "tags": []
          },
          "execution_count": 31
        }
      ]
    },
    {
      "cell_type": "markdown",
      "metadata": {
        "id": "SqlarlpC_v0g"
      },
      "source": [
        "### Loading the BERT model and training\n",
        "\n",
        "Using the `classifier_model` you created earlier, you can compile the model with the loss, metric and optimizer."
      ]
    },
    {
      "cell_type": "code",
      "metadata": {
        "id": "-7GPDhR98jsD"
      },
      "source": [
        "init_lr = 7e-5\n",
        "optimizer_type='adamw'\n",
        "num_train_steps = 3125\n",
        "num_warmup_steps = 312\n",
        "\n",
        "# use optimizer = optimization.create_optimizer()\n",
        "optimizer = optimization.create_optimizer(\n",
        "    init_lr=init_lr,\n",
        "    num_train_steps=num_train_steps,\n",
        "    num_warmup_steps=num_warmup_steps,\n",
        "    optimizer_type=optimizer_type\n",
        ")\n",
        "\n",
        "classifier_model.compile(optimizer=optimizer,\n",
        "                         loss=loss,\n",
        "                         metrics=metrics)"
      ],
      "execution_count": null,
      "outputs": []
    },
    {
      "cell_type": "markdown",
      "metadata": {
        "id": "CpBuV5j2cS_b"
      },
      "source": [
        "Note: training time will vary depending on the complexity of the BERT model you have selected."
      ]
    },
    {
      "cell_type": "code",
      "metadata": {
        "colab": {
          "base_uri": "https://localhost:8080/"
        },
        "id": "wSO2BtxZiPsF",
        "outputId": "2134ec13-41d1-41b6-f762-2e0a72dba8ea"
      },
      "source": [
        "%%time\n",
        "\n",
        "print(f'Training model with {tfhub_handle_encoder}')\n",
        "history = classifier_model.fit(\n",
        "    x=X_train,\n",
        "    y=y_train,\n",
        "    validation_split=VAL_PROP,\n",
        "    epochs=EPOCHS\n",
        ")"
      ],
      "execution_count": null,
      "outputs": [
        {
          "output_type": "stream",
          "text": [
            "Training model with https://tfhub.dev/tensorflow/small_bert/bert_en_uncased_L-2_H-512_A-8/1\n",
            "Epoch 1/8\n",
            "2000/2000 [==============================] - 529s 262ms/step - loss: 2.0602 - sparse_categorical_accuracy: 0.3492 - val_loss: 1.5315 - val_sparse_categorical_accuracy: 0.5186\n",
            "Epoch 2/8\n",
            "2000/2000 [==============================] - 526s 263ms/step - loss: 1.4536 - sparse_categorical_accuracy: 0.5422 - val_loss: 1.5124 - val_sparse_categorical_accuracy: 0.5279\n",
            "Epoch 3/8\n",
            "2000/2000 [==============================] - 532s 266ms/step - loss: 1.4039 - sparse_categorical_accuracy: 0.5583 - val_loss: 1.5124 - val_sparse_categorical_accuracy: 0.5279\n",
            "Epoch 4/8\n",
            "2000/2000 [==============================] - 529s 265ms/step - loss: 1.4083 - sparse_categorical_accuracy: 0.5592 - val_loss: 1.5124 - val_sparse_categorical_accuracy: 0.5279\n",
            "Epoch 5/8\n",
            "2000/2000 [==============================] - 530s 265ms/step - loss: 1.4054 - sparse_categorical_accuracy: 0.5568 - val_loss: 1.5124 - val_sparse_categorical_accuracy: 0.5279\n",
            "Epoch 6/8\n",
            "2000/2000 [==============================] - 524s 262ms/step - loss: 1.4143 - sparse_categorical_accuracy: 0.5533 - val_loss: 1.5124 - val_sparse_categorical_accuracy: 0.5279\n",
            "Epoch 7/8\n",
            "2000/2000 [==============================] - 528s 264ms/step - loss: 1.4124 - sparse_categorical_accuracy: 0.5529 - val_loss: 1.5124 - val_sparse_categorical_accuracy: 0.5279\n",
            "Epoch 8/8\n",
            "2000/2000 [==============================] - 530s 265ms/step - loss: 1.4054 - sparse_categorical_accuracy: 0.5563 - val_loss: 1.5124 - val_sparse_categorical_accuracy: 0.5279\n",
            "CPU times: user 59min 42s, sys: 31min 20s, total: 1h 31min 2s\n",
            "Wall time: 1h 10min 27s\n"
          ],
          "name": "stdout"
        }
      ]
    },
    {
      "cell_type": "markdown",
      "metadata": {
        "id": "uBthMlTSV8kn"
      },
      "source": [
        "### Evaluate the model\n",
        "\n",
        "Let's see how the model performs. Two values will be returned. Loss (a number which represents the error, lower values are better), and accuracy."
      ]
    },
    {
      "cell_type": "code",
      "metadata": {
        "id": "slqB-urBV9sP",
        "colab": {
          "base_uri": "https://localhost:8080/"
        },
        "outputId": "3da85c62-e8fc-4336-ebf6-2c48f51e9008"
      },
      "source": [
        "# evaluation on the testing data\n",
        "loss, accuracy = classifier_model.evaluate(x=X_test, y=y_test)\n",
        "\n",
        "print(f'Loss: {loss}')\n",
        "print(f'Accuracy: {accuracy}')"
      ],
      "execution_count": null,
      "outputs": [
        {
          "output_type": "stream",
          "text": [
            "625/625 [==============================] - 76s 122ms/step - loss: 1.5109 - sparse_categorical_accuracy: 0.5290\n",
            "Loss: 1.5108596086502075\n",
            "Accuracy: 0.5290499925613403\n"
          ],
          "name": "stdout"
        }
      ]
    },
    {
      "cell_type": "code",
      "metadata": {
        "colab": {
          "base_uri": "https://localhost:8080/"
        },
        "id": "noolRjm4wVmE",
        "outputId": "ea64153f-2097-4e5e-8bec-ee9382162703"
      },
      "source": [
        "y_pred1 = classifier_model.predict(X_test)\n",
        "y_pred = np.argmax(y_pred1, axis=1)\n",
        "\n",
        "# Print f1, precision, and recall scores\n",
        "print('Precision:', precision_score(y_test, y_pred , average=\"macro\"))\n",
        "print('Recall:   ', recall_score(y_test, y_pred , average=\"macro\"))\n",
        "print('F1:       ', f1_score(y_test, y_pred , average=\"macro\"))"
      ],
      "execution_count": null,
      "outputs": [
        {
          "output_type": "stream",
          "text": [
            "Precision: 0.5522222745502499\n",
            "Recall:    0.4412119598205855\n",
            "F1:        0.4751746478905378\n"
          ],
          "name": "stdout"
        }
      ]
    },
    {
      "cell_type": "code",
      "metadata": {
        "colab": {
          "base_uri": "https://localhost:8080/",
          "height": 499
        },
        "id": "pdE60Ho2w6PM",
        "outputId": "8c335921-ca15-4ab0-fbd5-800edeb5177d"
      },
      "source": [
        "cm = confusion_matrix(y_test, y_pred)\n",
        "plt.figure(figsize = (10,7))\n",
        "sns.heatmap(cm, annot=False, xticklabels=labels, yticklabels=labels)"
      ],
      "execution_count": null,
      "outputs": [
        {
          "output_type": "execute_result",
          "data": {
            "text/plain": [
              "<matplotlib.axes._subplots.AxesSubplot at 0x7f20df256b50>"
            ]
          },
          "metadata": {
            "tags": []
          },
          "execution_count": 36
        },
        {
          "output_type": "display_data",
          "data": {
            "image/png": "[encoded data removed]",
            "text/plain": [
              "<Figure size 720x504 with 2 Axes>"
            ]
          },
          "metadata": {
            "tags": []
          }
        }
      ]
    },
    {
      "cell_type": "markdown",
      "metadata": {
        "id": "uttWpgmSfzq9"
      },
      "source": [
        "### Plot the accuracy and loss over time\n",
        "\n",
        "Based on the `History` object returned by `model.fit()`. You can plot the training and validation loss for comparison, as well as the training and validation accuracy:"
      ]
    },
    {
      "cell_type": "code",
      "metadata": {
        "id": "fiythcODf0xo",
        "colab": {
          "base_uri": "https://localhost:8080/",
          "height": 444
        },
        "outputId": "2833a06b-bd15-4d30-9ff7-42623d285d81"
      },
      "source": [
        "history_dict = history.history\n",
        "print(history_dict.keys())\n",
        "\n",
        "acc = history_dict['sparse_categorical_accuracy']\n",
        "val_acc = history_dict['val_sparse_categorical_accuracy']\n",
        "loss = history_dict['loss']\n",
        "val_loss = history_dict['val_loss']\n",
        "\n",
        "epochs = range(1, len(acc) + 1)\n",
        "fig = plt.figure(figsize=(10, 6))\n",
        "fig.tight_layout()\n",
        "\n",
        "plt.subplot(2, 1, 1)\n",
        "# \"bo\" is for \"blue dot\"\n",
        "plt.plot(epochs, loss, 'r', label='Training loss')\n",
        "# b is for \"solid blue line\"\n",
        "plt.plot(epochs, val_loss, 'b', label='Validation loss')\n",
        "plt.title('Training and validation loss')\n",
        "# plt.xlabel('Epochs')\n",
        "plt.ylabel('Loss')\n",
        "plt.legend()\n",
        "\n",
        "plt.subplot(2, 1, 2)\n",
        "plt.plot(epochs, acc, 'r', label='Training acc')\n",
        "plt.plot(epochs, val_acc, 'b', label='Validation acc')\n",
        "plt.title('Training and validation accuracy')\n",
        "plt.xlabel('Epochs')\n",
        "plt.ylabel('Accuracy')\n",
        "plt.legend(loc='lower right')"
      ],
      "execution_count": null,
      "outputs": [
        {
          "output_type": "stream",
          "text": [
            "dict_keys(['loss', 'sparse_categorical_accuracy', 'val_loss', 'val_sparse_categorical_accuracy'])\n"
          ],
          "name": "stdout"
        },
        {
          "output_type": "execute_result",
          "data": {
            "text/plain": [
              "<matplotlib.legend.Legend at 0x7f20dc57d050>"
            ]
          },
          "metadata": {
            "tags": []
          },
          "execution_count": 37
        },
        {
          "output_type": "display_data",
          "data": {
            "image/png": "[encoded data removed]",
            "text/plain": [
              "<Figure size 720x432 with 2 Axes>"
            ]
          },
          "metadata": {
            "tags": []
          }
        }
      ]
    },
    {
      "cell_type": "markdown",
      "metadata": {
        "id": "WzJZCo-cf-Jf"
      },
      "source": [
        "In this plot, the red lines represents the training loss and accuracy, and the blue lines are the validation loss and accuracy."
      ]
    },
    {
      "cell_type": "markdown",
      "metadata": {
        "id": "Rtn7jewb6dg4"
      },
      "source": [
        "## Export for inference\n",
        "\n",
        "Now you just save your fine-tuned model for later use."
      ]
    },
    {
      "cell_type": "code",
      "metadata": {
        "id": "ShcvqJAgVera",
        "colab": {
          "base_uri": "https://localhost:8080/"
        },
        "outputId": "369e6cc8-ed4e-4299-ba99-d055c37782f7"
      },
      "source": [
        "saved_model_path = './{}_bert'.format(DATASET)\n",
        "\n",
        "classifier_model.save(saved_model_path, include_optimizer=False)"
      ],
      "execution_count": null,
      "outputs": [
        {
          "output_type": "stream",
          "text": [
            "WARNING:absl:Found untraced functions such as restored_function_body, restored_function_body, restored_function_body, restored_function_body, restored_function_body while saving (showing 5 of 160). These functions will not be directly callable after loading.\n",
            "WARNING:absl:Found untraced functions such as restored_function_body, restored_function_body, restored_function_body, restored_function_body, restored_function_body while saving (showing 5 of 160). These functions will not be directly callable after loading.\n"
          ],
          "name": "stderr"
        }
      ]
    },
    {
      "cell_type": "markdown",
      "metadata": {
        "id": "PbI25bS1vD7s"
      },
      "source": [
        "Let's reload the model so you can try it side by side with the model that is still in memory."
      ]
    },
    {
      "cell_type": "code",
      "metadata": {
        "id": "gUEWVskZjEF0"
      },
      "source": [
        "reloaded_model = tf.saved_model.load(saved_model_path)"
      ],
      "execution_count": null,
      "outputs": []
    },
    {
      "cell_type": "markdown",
      "metadata": {
        "id": "oyTappHTvNCz"
      },
      "source": [
        "Here you can test your model on any sentence you want, just add to the examples variable below."
      ]
    },
    {
      "cell_type": "code",
      "metadata": {
        "id": "VBWzH6exlCPS",
        "colab": {
          "base_uri": "https://localhost:8080/"
        },
        "outputId": "387cc139-db56-487e-d10c-b7e9eaeb6786"
      },
      "source": [
        "def print_my_examples(inputs, results):\n",
        "  predicted = np.argmax(results, axis=1)\n",
        "  for inp, res, pred in zip(inputs, results, predicted):\n",
        "    msg = f'input: {inp:<35} : label : {labels[pred]:<10} : score: {res[pred]:.6f}'\n",
        "    print(msg)\n",
        "  print()\n",
        "\n",
        "\n",
        "urls = dataset['url'].iloc[:5].to_numpy()\n",
        "urls_flattened = [clean_url(url) for url in urls]\n",
        "\n",
        "reloaded_results = tf.sigmoid(reloaded_model(tf.constant(urls_flattened)))\n",
        "original_results = tf.sigmoid(classifier_model(tf.constant(urls_flattened)))\n",
        "\n",
        "print('Results from the saved model:')\n",
        "print_my_examples(urls_flattened, reloaded_results)\n",
        "print('Results from the model in memory:')\n",
        "print_my_examples(urls_flattened, original_results)"
      ],
      "execution_count": null,
      "outputs": [
        {
          "output_type": "stream",
          "text": [
            "Results from the saved model:\n",
            "input: http www physics ubc ca r coop e    : label : Science    : score: 0.992104\n",
            "input: http www divinity cam ac uk carts gender html : label : Society    : score: 0.995186\n",
            "input: http deep blog com                  : label : Computers  : score: 0.966104\n",
            "input: http www tiaa edu ge                : label : Reference  : score: 0.989284\n",
            "input: http www first editing com          : label : Business   : score: 0.988271\n",
            "\n",
            "Results from the model in memory:\n",
            "input: http www physics ubc ca r coop e    : label : Science    : score: 0.992104\n",
            "input: http www divinity cam ac uk carts gender html : label : Society    : score: 0.995186\n",
            "input: http deep blog com                  : label : Computers  : score: 0.966104\n",
            "input: http www tiaa edu ge                : label : Reference  : score: 0.989284\n",
            "input: http www first editing com          : label : Business   : score: 0.988271\n",
            "\n"
          ],
          "name": "stdout"
        }
      ]
    },
    {
      "cell_type": "code",
      "metadata": {
        "id": "ynGLBXGq2LYq"
      },
      "source": [
        ""
      ],
      "execution_count": null,
      "outputs": []
    }
  ]
}