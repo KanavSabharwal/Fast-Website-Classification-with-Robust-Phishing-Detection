{
  "nbformat": 4,
  "nbformat_minor": 0,
  "metadata": {
    "colab": {
      "name": "Baseline.ipynb",
      "provenance": [],
      "collapsed_sections": [
        "yI2tXenm2zlL"
      ]
    },
    "kernelspec": {
      "display_name": "Python 3",
      "name": "python3"
    },
    "accelerator": "GPU"
  },
  "cells": [
    {
      "cell_type": "markdown",
      "metadata": {
        "id": "IZ6SNYq_tVVC"
      },
      "source": [
        "# Baselines\n"
      ]
    },
    {
      "cell_type": "markdown",
      "metadata": {
        "id": "Qg3WVlaMvCLY"
      },
      "source": [
        "# Constants\n",
        "\n",
        "Here, you can alter the dataset, maximum number of samples to use, etc."
      ]
    },
    {
      "cell_type": "code",
      "metadata": {
        "id": "e2L15ZravBU2"
      },
      "source": [
        "DMOZ, ILP, PHISHING = 'dmoz', 'ilp', 'phishing'\n",
        "\n",
        "SEED = 42"
      ],
      "execution_count": 1,
      "outputs": []
    },
    {
      "cell_type": "markdown",
      "metadata": {
        "id": "SCjmX4zTCkRK"
      },
      "source": [
        "# Setup\n"
      ]
    },
    {
      "cell_type": "code",
      "metadata": {
        "id": "5V211dJtTvNo",
        "colab": {
          "base_uri": "https://localhost:8080/"
        },
        "outputId": "feda520b-348f-47f1-de58-cfe3284b99e2"
      },
      "source": [
        "GITHUB_TOKEN = 'fe2e680f071553cddb5f698cc58373a5106380d4'\n",
        "command = f'git clone --depth 1 https://{GITHUB_TOKEN}@github.com/shmulvad/nlp-project.git'\n",
        "!{command}\n",
        "\n",
        "%cd nlp-project/src"
      ],
      "execution_count": 2,
      "outputs": [
        {
          "output_type": "stream",
          "text": [
            "fatal: destination path 'nlp-project' already exists and is not an empty directory.\n",
            "/content/nlp-project/src\n"
          ],
          "name": "stdout"
        }
      ]
    },
    {
      "cell_type": "code",
      "metadata": {
        "colab": {
          "base_uri": "https://localhost:8080/"
        },
        "id": "TE9n_4VOcc9P",
        "outputId": "1203c9ac-628c-42d1-efad-13d8f13723c8"
      },
      "source": [
        "!pip install -r requirements.txt"
      ],
      "execution_count": 3,
      "outputs": [
        {
          "output_type": "stream",
          "text": [
            "Requirement already satisfied: pandas in /usr/local/lib/python3.7/dist-packages (from -r requirements.txt (line 1)) (1.1.5)\n",
            "Requirement already satisfied: numpy in /usr/local/lib/python3.7/dist-packages (from -r requirements.txt (line 2)) (1.19.5)\n",
            "Requirement already satisfied: wordninja in /usr/local/lib/python3.7/dist-packages (from -r requirements.txt (line 3)) (2.0.0)\n",
            "Requirement already satisfied: pytest in /usr/local/lib/python3.7/dist-packages (from -r requirements.txt (line 4)) (3.6.4)\n",
            "Requirement already satisfied: gensim==4.0.1 in /usr/local/lib/python3.7/dist-packages (from -r requirements.txt (line 5)) (4.0.1)\n",
            "Requirement already satisfied: python-dateutil>=2.7.3 in /usr/local/lib/python3.7/dist-packages (from pandas->-r requirements.txt (line 1)) (2.8.1)\n",
            "Requirement already satisfied: pytz>=2017.2 in /usr/local/lib/python3.7/dist-packages (from pandas->-r requirements.txt (line 1)) (2018.9)\n",
            "Requirement already satisfied: py>=1.5.0 in /usr/local/lib/python3.7/dist-packages (from pytest->-r requirements.txt (line 4)) (1.10.0)\n",
            "Requirement already satisfied: more-itertools>=4.0.0 in /usr/local/lib/python3.7/dist-packages (from pytest->-r requirements.txt (line 4)) (8.7.0)\n",
            "Requirement already satisfied: pluggy<0.8,>=0.5 in /usr/local/lib/python3.7/dist-packages (from pytest->-r requirements.txt (line 4)) (0.7.1)\n",
            "Requirement already satisfied: setuptools in /usr/local/lib/python3.7/dist-packages (from pytest->-r requirements.txt (line 4)) (54.2.0)\n",
            "Requirement already satisfied: atomicwrites>=1.0 in /usr/local/lib/python3.7/dist-packages (from pytest->-r requirements.txt (line 4)) (1.4.0)\n",
            "Requirement already satisfied: attrs>=17.4.0 in /usr/local/lib/python3.7/dist-packages (from pytest->-r requirements.txt (line 4)) (20.3.0)\n",
            "Requirement already satisfied: six>=1.10.0 in /usr/local/lib/python3.7/dist-packages (from pytest->-r requirements.txt (line 4)) (1.15.0)\n",
            "Requirement already satisfied: scipy>=0.18.1 in /usr/local/lib/python3.7/dist-packages (from gensim==4.0.1->-r requirements.txt (line 5)) (1.4.1)\n",
            "Requirement already satisfied: smart-open>=1.8.1 in /usr/local/lib/python3.7/dist-packages (from gensim==4.0.1->-r requirements.txt (line 5)) (4.2.0)\n"
          ],
          "name": "stdout"
        }
      ]
    },
    {
      "cell_type": "code",
      "metadata": {
        "id": "VwaG2TGYN3c8",
        "colab": {
          "base_uri": "https://localhost:8080/"
        },
        "outputId": "e8ae5c48-ae40-4ece-d17f-48bdf6c3d672"
      },
      "source": [
        "# DMOZ, ILP and original phishing dataset - datasets.pkl\n",
        "!gdown --id 1WV1JSevCnaWY0-mqQMmtOEFSC3Y_Qdg_"
      ],
      "execution_count": 4,
      "outputs": [
        {
          "output_type": "stream",
          "text": [
            "Downloading...\n",
            "From: https://drive.google.com/uc?id=1WV1JSevCnaWY0-mqQMmtOEFSC3Y_Qdg_\n",
            "To: /content/nlp-project/src/datasets.pkl\n",
            "99.4MB [00:00, 240MB/s]\n"
          ],
          "name": "stdout"
        }
      ]
    },
    {
      "cell_type": "code",
      "metadata": {
        "id": "EZ5DQ06ZUupE"
      },
      "source": [
        "import os\n",
        "import shutil\n",
        "import random\n",
        "import pickle\n",
        "import gc\n",
        "import re\n",
        "\n",
        "from sklearn.preprocessing import LabelEncoder\n",
        "from sklearn.feature_extraction.text import CountVectorizer\n",
        "from sklearn.ensemble import RandomForestClassifier\n",
        "from sklearn.linear_model import LogisticRegression\n",
        "from sklearn.naive_bayes import MultinomialNB\n",
        "\n",
        "from sklearn.metrics import f1_score, precision_score, recall_score, accuracy_score\n",
        "from sklearn.metrics import confusion_matrix, ConfusionMatrixDisplay,classification_report\n",
        "from sklearn.model_selection import train_test_split\n",
        "\n",
        "from pprint import pprint\n",
        "import pandas as pd\n",
        "import numpy as np\n",
        "\n",
        "import matplotlib\n",
        "import matplotlib.pyplot as plt\n",
        "import seaborn as sns\n",
        "\n",
        "from url_tokenizer import url_tokenizer, flatten_url_data\n",
        "np.random.seed(SEED)\n",
        "\n"
      ],
      "execution_count": 5,
      "outputs": []
    },
    {
      "cell_type": "code",
      "metadata": {
        "id": "yQBY-p4JuMvm"
      },
      "source": [
        "with open('datasets.pkl', 'rb') as f:\n",
        "  datasets = pickle.load(f)"
      ],
      "execution_count": 6,
      "outputs": []
    },
    {
      "cell_type": "markdown",
      "metadata": {
        "id": "uylcTSetQsSQ"
      },
      "source": [
        "# Preparing the Dataframe"
      ]
    },
    {
      "cell_type": "code",
      "metadata": {
        "id": "UKYUavBPQ5Oc"
      },
      "source": [
        "def get_clean_url(url):\n",
        "  return ' '.join(flatten_url_data(url_tokenizer(url)))\n",
        "\n",
        "\n",
        "url_regex = re.compile(r'''\n",
        "        (https?):\\/\\/                                   # http s\n",
        "        ([-a-zA-Z0-9@:%._\\+~#=]+\\.[a-zA-Z0-9()]{1,12})  # domains\n",
        "        \\b\n",
        "        ([-a-zA-Z0-9()@:%_\\+;.~#&//=]*)                 # path\n",
        "        \\??\n",
        "        ([-a-zA-Z0-9()@:%_\\+;.~#&//=?]*)                # args\n",
        "    ''', re.DOTALL | re.VERBOSE)\n",
        "\n",
        "def valid_url(url):\n",
        "  match = url_regex.match(url.lower())\n",
        "  if match:\n",
        "    return True\n",
        "  else:\n",
        "    return False\n",
        "\n",
        "\n",
        "def prepare_df(dataset,DATASET,PHISHING_EXTRA = False):\n",
        "  if DATASET == DMOZ:\n",
        "    df = dataset.sample(n = 100000)\n",
        "  else:\n",
        "    df = dataset.copy()\n",
        "\n",
        "  if DATASET == PHISHING and PHISHING_EXTRA:\n",
        "    phishing_extra = pd.read_csv(\"http://data.phishtank.com/data/online-valid.csv\")\n",
        "    phishing_extra = phishing_extra[['phish_id','url']]\n",
        "    phishing_extra['label'] = phishing_extra.phish_id.apply(lambda x:'phishing')\n",
        "    phishing_extra.columns = df.columns\n",
        "    df = pd.concat([df,phishing_extra])\n",
        "\n",
        "  df.reset_index(drop = True, inplace = True)\n",
        "  df['valid'] = df.url.apply(lambda x:valid_url(x))\n",
        "  df = df[df['valid']==True]\n",
        "  df.drop(['valid'],axis=1,inplace=True)\n",
        "  \n",
        "  le = LabelEncoder()\n",
        "  labels = le.fit_transform(df.label)\n",
        "  df['clean_url'] = df.url.apply(lambda x:get_clean_url(x))\n",
        "\n",
        "  vectorizer = CountVectorizer(max_features = 5000)\n",
        "  X =vectorizer.fit_transform(df['clean_url'])\n",
        "  df = None\n",
        "  X = X.toarray()\n",
        "\n",
        "  return X,labels"
      ],
      "execution_count": 9,
      "outputs": []
    },
    {
      "cell_type": "markdown",
      "metadata": {
        "id": "HUfHXZOyjATX"
      },
      "source": [
        "# Testing the generated Features"
      ]
    },
    {
      "cell_type": "markdown",
      "metadata": {
        "id": "7gHbAyqzRJ9u"
      },
      "source": [
        "## Phishing"
      ]
    },
    {
      "cell_type": "code",
      "metadata": {
        "id": "rRqK0s2GuvGw"
      },
      "source": [
        "DATASET = PHISHING\n",
        "PHISHING_EXTRA = False   #Set to true if you want to include phishtank data \n",
        "\n",
        "dataset = datasets[DATASET]\n",
        "X,labels = prepare_df(dataset,DATASET)"
      ],
      "execution_count": 10,
      "outputs": []
    },
    {
      "cell_type": "code",
      "metadata": {
        "id": "HHt39MVx51ve"
      },
      "source": [
        "X_train,X_test,Y_train,Y_test=train_test_split(X,labels,test_size=0.2)"
      ],
      "execution_count": 11,
      "outputs": []
    },
    {
      "cell_type": "markdown",
      "metadata": {
        "id": "ClGzX-9a6lbz"
      },
      "source": [
        "### Random Forest"
      ]
    },
    {
      "cell_type": "code",
      "metadata": {
        "id": "VgYn1kpA515R",
        "colab": {
          "base_uri": "https://localhost:8080/"
        },
        "outputId": "5166aabe-f132-4d06-aad4-e600dc29d18c"
      },
      "source": [
        "rf = RandomForestClassifier()\n",
        "rf.fit(X_train,Y_train)\n",
        "Y_RF_pred=rf.predict(X_test)\n",
        "print(classification_report(Y_test,Y_RF_pred))"
      ],
      "execution_count": null,
      "outputs": [
        {
          "output_type": "stream",
          "text": [
            "              precision    recall  f1-score   support\n",
            "\n",
            "           0       0.99      1.00      0.99      7051\n",
            "           1       0.99      0.97      0.98      2018\n",
            "\n",
            "    accuracy                           0.99      9069\n",
            "   macro avg       0.99      0.98      0.99      9069\n",
            "weighted avg       0.99      0.99      0.99      9069\n",
            "\n"
          ],
          "name": "stdout"
        }
      ]
    },
    {
      "cell_type": "markdown",
      "metadata": {
        "id": "dyKGjz7vURp1"
      },
      "source": [
        "### Logistic Regression"
      ]
    },
    {
      "cell_type": "code",
      "metadata": {
        "colab": {
          "base_uri": "https://localhost:8080/"
        },
        "id": "tf93Iqg7TkZF",
        "outputId": "f1c05f24-0cf4-4e82-e382-b7ba68cdbb18"
      },
      "source": [
        "lr = LogisticRegression()\n",
        "lr.fit(X_train,Y_train)\n",
        "Y_LR_pred=lr.predict(X_test)\n",
        "print(classification_report(Y_test,Y_LR_pred))"
      ],
      "execution_count": null,
      "outputs": [
        {
          "output_type": "stream",
          "text": [
            "              precision    recall  f1-score   support\n",
            "\n",
            "           0       0.99      1.00      1.00      7051\n",
            "           1       0.99      0.98      0.98      2018\n",
            "\n",
            "    accuracy                           0.99      9069\n",
            "   macro avg       0.99      0.99      0.99      9069\n",
            "weighted avg       0.99      0.99      0.99      9069\n",
            "\n"
          ],
          "name": "stdout"
        }
      ]
    },
    {
      "cell_type": "markdown",
      "metadata": {
        "id": "aXM8cYjOUi2J"
      },
      "source": [
        "### Naive Bayes"
      ]
    },
    {
      "cell_type": "code",
      "metadata": {
        "colab": {
          "base_uri": "https://localhost:8080/"
        },
        "id": "jwoNjdUdUkbR",
        "outputId": "ae3066e0-2cf0-42fe-e187-baaafbbbd4cd"
      },
      "source": [
        "nb = MultinomialNB()\n",
        "nb.fit(X_train,Y_train)\n",
        "Y_NB_pred=nb.predict(X_test)\n",
        "print(classification_report(Y_test,Y_NB_pred))"
      ],
      "execution_count": null,
      "outputs": [
        {
          "output_type": "stream",
          "text": [
            "              precision    recall  f1-score   support\n",
            "\n",
            "           0       0.99      0.99      0.99      7051\n",
            "           1       0.97      0.96      0.96      2018\n",
            "\n",
            "    accuracy                           0.98      9069\n",
            "   macro avg       0.98      0.97      0.98      9069\n",
            "weighted avg       0.98      0.98      0.98      9069\n",
            "\n"
          ],
          "name": "stdout"
        }
      ]
    },
    {
      "cell_type": "markdown",
      "metadata": {
        "id": "ad9jOxpSRdKE"
      },
      "source": [
        "## Phishing with Phistank"
      ]
    },
    {
      "cell_type": "code",
      "metadata": {
        "id": "L54WazsCvZ57"
      },
      "source": [
        "DATASET = PHISHING\n",
        "PHISHING_EXTRA = True   #Set to true if you want to include phishtank data \n",
        "\n",
        "dataset = datasets[DATASET]\n",
        "X,labels = prepare_df(dataset,DATASET,PHISHING_EXTRA)"
      ],
      "execution_count": 18,
      "outputs": []
    },
    {
      "cell_type": "code",
      "metadata": {
        "id": "nJWb7J4lRvk2"
      },
      "source": [
        "X_train,X_test,Y_train,Y_test=train_test_split(X,labels,test_size=0.2)"
      ],
      "execution_count": 37,
      "outputs": []
    },
    {
      "cell_type": "markdown",
      "metadata": {
        "id": "VQ_N7PmoRvxl"
      },
      "source": [
        "### Random Forest"
      ]
    },
    {
      "cell_type": "code",
      "metadata": {
        "colab": {
          "base_uri": "https://localhost:8080/"
        },
        "id": "KJ8fIqfhRv7X",
        "outputId": "5ddd2c7e-a0fd-4d65-f914-7c70cda818a8"
      },
      "source": [
        "rf = RandomForestClassifier()\n",
        "rf.fit(X_train,Y_train)\n",
        "Y_RF_pred=rf.predict(X_test)\n",
        "print(classification_report(Y_test,Y_RF_pred))"
      ],
      "execution_count": 38,
      "outputs": [
        {
          "output_type": "stream",
          "text": [
            "              precision    recall  f1-score   support\n",
            "\n",
            "           0       1.00      0.99      1.00      7073\n",
            "           1       0.99      0.99      0.99      4021\n",
            "\n",
            "    accuracy                           0.99     11094\n",
            "   macro avg       0.99      0.99      0.99     11094\n",
            "weighted avg       0.99      0.99      0.99     11094\n",
            "\n"
          ],
          "name": "stdout"
        }
      ]
    },
    {
      "cell_type": "code",
      "metadata": {
        "id": "Md3_O0kRWBiC"
      },
      "source": [
        "ph_e_rf_f1 = f1_score(Y_test,Y_RF_pred,average='weighted')"
      ],
      "execution_count": 51,
      "outputs": []
    },
    {
      "cell_type": "code",
      "metadata": {
        "colab": {
          "base_uri": "https://localhost:8080/"
        },
        "id": "Cta01jrJWI2-",
        "outputId": "ca90290f-5f30-4a32-8190-1d1e0af2a9e0"
      },
      "source": [
        "ph_e_f1"
      ],
      "execution_count": 52,
      "outputs": [
        {
          "output_type": "execute_result",
          "data": {
            "text/plain": [
              "0.9942332711033935"
            ]
          },
          "metadata": {
            "tags": []
          },
          "execution_count": 52
        }
      ]
    },
    {
      "cell_type": "markdown",
      "metadata": {
        "id": "bI4-hrvJRwEU"
      },
      "source": [
        "### Logistic Regression"
      ]
    },
    {
      "cell_type": "code",
      "metadata": {
        "colab": {
          "base_uri": "https://localhost:8080/"
        },
        "id": "YAkWvJEURwOM",
        "outputId": "9e381293-2e6d-4ae6-a676-d88f64398634"
      },
      "source": [
        "lr = LogisticRegression()\n",
        "lr.fit(X_train,Y_train)\n",
        "Y_LR_pred=lr.predict(X_test)\n",
        "print(classification_report(Y_test,Y_LR_pred))"
      ],
      "execution_count": 39,
      "outputs": [
        {
          "output_type": "stream",
          "text": [
            "              precision    recall  f1-score   support\n",
            "\n",
            "           0       0.99      1.00      0.99      7073\n",
            "           1       0.99      0.99      0.99      4021\n",
            "\n",
            "    accuracy                           0.99     11094\n",
            "   macro avg       0.99      0.99      0.99     11094\n",
            "weighted avg       0.99      0.99      0.99     11094\n",
            "\n"
          ],
          "name": "stdout"
        }
      ]
    },
    {
      "cell_type": "code",
      "metadata": {
        "id": "EBfDdCYlWRWQ"
      },
      "source": [
        "ph_e_lr_f1 = f1_score(Y_test,Y_LR_pred,average='weighted')"
      ],
      "execution_count": 57,
      "outputs": []
    },
    {
      "cell_type": "code",
      "metadata": {
        "colab": {
          "base_uri": "https://localhost:8080/"
        },
        "id": "-w10sEnOWRbB",
        "outputId": "69500f30-30d5-4edc-9c66-0991d88cdef3"
      },
      "source": [
        "ph_e_lr_f1"
      ],
      "execution_count": 58,
      "outputs": [
        {
          "output_type": "execute_result",
          "data": {
            "text/plain": [
              "0.9926050234223613"
            ]
          },
          "metadata": {
            "tags": []
          },
          "execution_count": 58
        }
      ]
    },
    {
      "cell_type": "markdown",
      "metadata": {
        "id": "RDaRJujjRwX4"
      },
      "source": [
        "### Naive Bayes"
      ]
    },
    {
      "cell_type": "code",
      "metadata": {
        "colab": {
          "base_uri": "https://localhost:8080/"
        },
        "id": "yEKHKtsDRwzD",
        "outputId": "44f584bb-29d3-4168-9167-ae667c177685"
      },
      "source": [
        "nb = MultinomialNB()\n",
        "nb.fit(X_train,Y_train)\n",
        "Y_NB_pred=nb.predict(X_test)\n",
        "print(classification_report(Y_test,Y_NB_pred))"
      ],
      "execution_count": 40,
      "outputs": [
        {
          "output_type": "stream",
          "text": [
            "              precision    recall  f1-score   support\n",
            "\n",
            "           0       0.97      0.99      0.98      7073\n",
            "           1       0.98      0.94      0.96      4021\n",
            "\n",
            "    accuracy                           0.97     11094\n",
            "   macro avg       0.97      0.97      0.97     11094\n",
            "weighted avg       0.97      0.97      0.97     11094\n",
            "\n"
          ],
          "name": "stdout"
        }
      ]
    },
    {
      "cell_type": "code",
      "metadata": {
        "id": "vBdhoio2WTv1"
      },
      "source": [
        "ph_e_nb_f1 = f1_score(Y_test,Y_NB_pred,average='weighted')"
      ],
      "execution_count": 59,
      "outputs": []
    },
    {
      "cell_type": "code",
      "metadata": {
        "colab": {
          "base_uri": "https://localhost:8080/"
        },
        "id": "lTDpMB8BWT0a",
        "outputId": "da9fc64d-8ed2-414c-8f7f-2b5e00d2ca57"
      },
      "source": [
        "ph_e_nb_f1"
      ],
      "execution_count": 60,
      "outputs": [
        {
          "output_type": "execute_result",
          "data": {
            "text/plain": [
              "0.9708690055984058"
            ]
          },
          "metadata": {
            "tags": []
          },
          "execution_count": 60
        }
      ]
    },
    {
      "cell_type": "markdown",
      "metadata": {
        "id": "1dRL90whRcvA"
      },
      "source": [
        "## DMOZ"
      ]
    },
    {
      "cell_type": "code",
      "metadata": {
        "id": "cwmr54ZfvfiR"
      },
      "source": [
        "DATASET = DMOZ\n",
        "\n",
        "dataset = datasets[DATASET]\n",
        "X,labels = prepare_df(dataset,DATASET)"
      ],
      "execution_count": 20,
      "outputs": []
    },
    {
      "cell_type": "code",
      "metadata": {
        "id": "99mmMVmNRzrt"
      },
      "source": [
        "X_train,X_test,Y_train,Y_test=train_test_split(X,labels,test_size=0.2)"
      ],
      "execution_count": 13,
      "outputs": []
    },
    {
      "cell_type": "markdown",
      "metadata": {
        "id": "bSx-5bJ0Rz32"
      },
      "source": [
        "### Random Forest"
      ]
    },
    {
      "cell_type": "code",
      "metadata": {
        "colab": {
          "base_uri": "https://localhost:8080/"
        },
        "id": "YRAuQ58tR0B4",
        "outputId": "a41c2c96-d470-4635-d8dd-624babb694b0"
      },
      "source": [
        "rf = RandomForestClassifier()\n",
        "rf.fit(X_train,Y_train)\n",
        "Y_RF_pred=rf.predict(X_test)\n",
        "print(classification_report(Y_test,Y_RF_pred))"
      ],
      "execution_count": 15,
      "outputs": [
        {
          "output_type": "stream",
          "text": [
            "              precision    recall  f1-score   support\n",
            "\n",
            "           0       0.62      0.46      0.53       456\n",
            "           1       0.48      0.54      0.51      3228\n",
            "           2       0.41      0.60      0.49      3032\n",
            "           3       0.40      0.32      0.36      1461\n",
            "           4       0.59      0.47      0.52       735\n",
            "           5       0.42      0.27      0.33       773\n",
            "           6       0.58      0.40      0.47       358\n",
            "           7       0.37      0.21      0.27       564\n",
            "           8       0.35      0.18      0.23       114\n",
            "           9       0.35      0.25      0.29      1377\n",
            "          10       0.45      0.43      0.44       749\n",
            "          11       0.47      0.42      0.44      1459\n",
            "          12       0.30      0.22      0.26      1296\n",
            "          13       0.45      0.54      0.49      3118\n",
            "          14       0.63      0.50      0.56      1280\n",
            "\n",
            "    accuracy                           0.45     20000\n",
            "   macro avg       0.46      0.39      0.41     20000\n",
            "weighted avg       0.45      0.45      0.44     20000\n",
            "\n"
          ],
          "name": "stdout"
        }
      ]
    },
    {
      "cell_type": "code",
      "metadata": {
        "id": "e2Ev2MAOWYLv"
      },
      "source": [
        "dmoz_rf_f1 = f1_score(Y_test,Y_RF_pred,average='weighted')"
      ],
      "execution_count": 16,
      "outputs": []
    },
    {
      "cell_type": "code",
      "metadata": {
        "colab": {
          "base_uri": "https://localhost:8080/"
        },
        "id": "Z3kuudxnWYRE",
        "outputId": "fd030131-a511-4270-e1ea-6691bf62548b"
      },
      "source": [
        "dmoz_rf_f1"
      ],
      "execution_count": 17,
      "outputs": [
        {
          "output_type": "execute_result",
          "data": {
            "text/plain": [
              "0.44085661314455726"
            ]
          },
          "metadata": {
            "tags": []
          },
          "execution_count": 17
        }
      ]
    },
    {
      "cell_type": "code",
      "metadata": {
        "colab": {
          "base_uri": "https://localhost:8080/"
        },
        "id": "KlAns2Wxh1dR",
        "outputId": "25ac50b3-d0ed-4845-e25b-0c6a1f51d881"
      },
      "source": [
        "gc.collect()"
      ],
      "execution_count": 18,
      "outputs": [
        {
          "output_type": "execute_result",
          "data": {
            "text/plain": [
              "195"
            ]
          },
          "metadata": {
            "tags": []
          },
          "execution_count": 18
        }
      ]
    },
    {
      "cell_type": "markdown",
      "metadata": {
        "id": "jHUvlLAiR0Kg"
      },
      "source": [
        "### Logistic Regression"
      ]
    },
    {
      "cell_type": "code",
      "metadata": {
        "colab": {
          "base_uri": "https://localhost:8080/"
        },
        "id": "pgvSUacIR0Tw",
        "outputId": "45235617-a94a-4090-92be-f28b5839b35d"
      },
      "source": [
        "lr = LogisticRegression()\n",
        "lr.fit(X_train,Y_train)\n",
        "Y_LR_pred=lr.predict(X_test)\n",
        "print(classification_report(Y_test,Y_LR_pred))"
      ],
      "execution_count": 18,
      "outputs": [
        {
          "output_type": "stream",
          "text": [
            "/usr/local/lib/python3.7/dist-packages/sklearn/linear_model/_logistic.py:940: ConvergenceWarning: lbfgs failed to converge (status=1):\n",
            "STOP: TOTAL NO. of ITERATIONS REACHED LIMIT.\n",
            "\n",
            "Increase the number of iterations (max_iter) or scale the data as shown in:\n",
            "    https://scikit-learn.org/stable/modules/preprocessing.html\n",
            "Please also refer to the documentation for alternative solver options:\n",
            "    https://scikit-learn.org/stable/modules/linear_model.html#logistic-regression\n",
            "  extra_warning_msg=_LOGISTIC_SOLVER_CONVERGENCE_MSG)\n"
          ],
          "name": "stderr"
        },
        {
          "output_type": "stream",
          "text": [
            "              precision    recall  f1-score   support\n",
            "\n",
            "           0       0.79      0.47      0.59       456\n",
            "           1       0.52      0.60      0.56      3228\n",
            "           2       0.40      0.74      0.52      3032\n",
            "           3       0.49      0.35      0.41      1461\n",
            "           4       0.75      0.48      0.58       735\n",
            "           5       0.63      0.30      0.41       773\n",
            "           6       0.88      0.40      0.55       358\n",
            "           7       0.45      0.24      0.31       564\n",
            "           8       0.50      0.14      0.22       114\n",
            "           9       0.48      0.32      0.39      1377\n",
            "          10       0.49      0.45      0.47       749\n",
            "          11       0.60      0.43      0.50      1459\n",
            "          12       0.43      0.25      0.31      1296\n",
            "          13       0.51      0.60      0.55      3118\n",
            "          14       0.74      0.54      0.62      1280\n",
            "\n",
            "    accuracy                           0.50     20000\n",
            "   macro avg       0.58      0.42      0.47     20000\n",
            "weighted avg       0.53      0.50      0.50     20000\n",
            "\n"
          ],
          "name": "stdout"
        }
      ]
    },
    {
      "cell_type": "code",
      "metadata": {
        "id": "nhWp1gajWZMY"
      },
      "source": [
        "dmoz_lr_f1 = f1_score(Y_test,Y_LR_pred,average='weighted')"
      ],
      "execution_count": 19,
      "outputs": []
    },
    {
      "cell_type": "code",
      "metadata": {
        "colab": {
          "base_uri": "https://localhost:8080/"
        },
        "id": "FZzGVFZEWZRY",
        "outputId": "a743b618-ac41-4157-c7ba-3bb5ffe2f595"
      },
      "source": [
        "dmoz_lr_f1"
      ],
      "execution_count": 20,
      "outputs": [
        {
          "output_type": "execute_result",
          "data": {
            "text/plain": [
              "0.49568321349876643"
            ]
          },
          "metadata": {
            "tags": []
          },
          "execution_count": 20
        }
      ]
    },
    {
      "cell_type": "code",
      "metadata": {
        "colab": {
          "base_uri": "https://localhost:8080/"
        },
        "id": "dvJd6mMzh4fK",
        "outputId": "279f96ea-d975-4496-ce45-41172ab8f58e"
      },
      "source": [
        "gc.collect()"
      ],
      "execution_count": 21,
      "outputs": [
        {
          "output_type": "execute_result",
          "data": {
            "text/plain": [
              "176"
            ]
          },
          "metadata": {
            "tags": []
          },
          "execution_count": 21
        }
      ]
    },
    {
      "cell_type": "markdown",
      "metadata": {
        "id": "HYaRqPGUR0cV"
      },
      "source": [
        "### Naive Bayes"
      ]
    },
    {
      "cell_type": "code",
      "metadata": {
        "colab": {
          "base_uri": "https://localhost:8080/"
        },
        "id": "a7ooxfB7R0lC",
        "outputId": "95e86c5c-f742-48ee-aee0-9d439b84d520"
      },
      "source": [
        "nb = MultinomialNB()\n",
        "nb.fit(X_train,Y_train)\n",
        "Y_NB_pred=nb.predict(X_test)\n",
        "print(classification_report(Y_test,Y_NB_pred))"
      ],
      "execution_count": 14,
      "outputs": [
        {
          "output_type": "stream",
          "text": [
            "              precision    recall  f1-score   support\n",
            "\n",
            "           0       0.79      0.46      0.58       456\n",
            "           1       0.51      0.56      0.53      3228\n",
            "           2       0.40      0.74      0.51      3032\n",
            "           3       0.49      0.33      0.39      1461\n",
            "           4       0.72      0.50      0.59       735\n",
            "           5       0.61      0.30      0.41       773\n",
            "           6       0.86      0.39      0.54       358\n",
            "           7       0.50      0.19      0.27       564\n",
            "           8       0.33      0.03      0.05       114\n",
            "           9       0.42      0.35      0.38      1377\n",
            "          10       0.43      0.46      0.45       749\n",
            "          11       0.54      0.42      0.47      1459\n",
            "          12       0.38      0.27      0.32      1296\n",
            "          13       0.51      0.55      0.53      3118\n",
            "          14       0.70      0.49      0.58      1280\n",
            "\n",
            "    accuracy                           0.49     20000\n",
            "   macro avg       0.55      0.40      0.44     20000\n",
            "weighted avg       0.51      0.49      0.48     20000\n",
            "\n"
          ],
          "name": "stdout"
        }
      ]
    },
    {
      "cell_type": "code",
      "metadata": {
        "id": "8XJDfw9rWZ8c"
      },
      "source": [
        "dmoz_nb_f1 = f1_score(Y_test,Y_NB_pred,average='weighted')"
      ],
      "execution_count": 15,
      "outputs": []
    },
    {
      "cell_type": "code",
      "metadata": {
        "colab": {
          "base_uri": "https://localhost:8080/"
        },
        "id": "U6li_PB6WaBz",
        "outputId": "ec9cb418-e4a2-43b0-c8e3-5b1ea270bb66"
      },
      "source": [
        "dmoz_nb_f1"
      ],
      "execution_count": 16,
      "outputs": [
        {
          "output_type": "execute_result",
          "data": {
            "text/plain": [
              "0.47854398557642014"
            ]
          },
          "metadata": {
            "tags": []
          },
          "execution_count": 16
        }
      ]
    },
    {
      "cell_type": "code",
      "metadata": {
        "colab": {
          "base_uri": "https://localhost:8080/"
        },
        "id": "_ubGygfhh6im",
        "outputId": "1b21dc8a-dd1c-48d9-a3d8-c74d82ddc366"
      },
      "source": [
        "gc.collect()"
      ],
      "execution_count": 17,
      "outputs": [
        {
          "output_type": "execute_result",
          "data": {
            "text/plain": [
              "53"
            ]
          },
          "metadata": {
            "tags": []
          },
          "execution_count": 17
        }
      ]
    },
    {
      "cell_type": "markdown",
      "metadata": {
        "id": "D3mxnO-8RdWY"
      },
      "source": [
        "## ILP"
      ]
    },
    {
      "cell_type": "code",
      "metadata": {
        "id": "a2Cx4SNpvlqA"
      },
      "source": [
        "DATASET = ILP\n",
        "\n",
        "dataset = datasets[DATASET]\n",
        "X,labels = prepare_df(dataset,DATASET)"
      ],
      "execution_count": 22,
      "outputs": []
    },
    {
      "cell_type": "code",
      "metadata": {
        "id": "TBpMM18KR2Ch"
      },
      "source": [
        "X_train,X_test,Y_train,Y_test=train_test_split(X,labels,test_size=0.2)"
      ],
      "execution_count": 36,
      "outputs": []
    },
    {
      "cell_type": "markdown",
      "metadata": {
        "id": "c5x_8b8ZR2J2"
      },
      "source": [
        "### Random Forest"
      ]
    },
    {
      "cell_type": "code",
      "metadata": {
        "colab": {
          "base_uri": "https://localhost:8080/"
        },
        "id": "p4CLnIyXR2Rq",
        "outputId": "13255ac2-411f-4bd5-eaab-3bc41b01faf2"
      },
      "source": [
        "rf = RandomForestClassifier()\n",
        "rf.fit(X_train,Y_train)\n",
        "Y_RF_pred=rf.predict(X_test)\n",
        "print(classification_report(Y_test,Y_RF_pred))"
      ],
      "execution_count": 37,
      "outputs": [
        {
          "output_type": "stream",
          "text": [
            "              precision    recall  f1-score   support\n",
            "\n",
            "           0       0.75      0.75      0.75       186\n",
            "           1       0.29      0.49      0.37        39\n",
            "           2       0.72      0.61      0.66       213\n",
            "           3       0.85      0.82      0.83       737\n",
            "           4       0.55      0.46      0.51        99\n",
            "           5       0.40      0.15      0.22        39\n",
            "           6       0.70      0.86      0.77       333\n",
            "\n",
            "    accuracy                           0.75      1646\n",
            "   macro avg       0.61      0.59      0.59      1646\n",
            "weighted avg       0.75      0.75      0.74      1646\n",
            "\n"
          ],
          "name": "stdout"
        }
      ]
    },
    {
      "cell_type": "code",
      "metadata": {
        "id": "5SM2NcXCWbPc"
      },
      "source": [
        "ilp_rf_f1 = f1_score(Y_test,Y_RF_pred,average='weighted')"
      ],
      "execution_count": 38,
      "outputs": []
    },
    {
      "cell_type": "code",
      "metadata": {
        "colab": {
          "base_uri": "https://localhost:8080/"
        },
        "id": "uIFT2HnTWbVi",
        "outputId": "701988bf-4190-44aa-f4a1-d03407f1c580"
      },
      "source": [
        "ilp_rf_f1"
      ],
      "execution_count": 43,
      "outputs": [
        {
          "output_type": "execute_result",
          "data": {
            "text/plain": [
              "0.7427429488024888"
            ]
          },
          "metadata": {
            "tags": []
          },
          "execution_count": 43
        }
      ]
    },
    {
      "cell_type": "markdown",
      "metadata": {
        "id": "g0D0TW8DR2ZU"
      },
      "source": [
        "### Logistic Regression"
      ]
    },
    {
      "cell_type": "code",
      "metadata": {
        "colab": {
          "base_uri": "https://localhost:8080/"
        },
        "id": "2m7p6iyGR2hI",
        "outputId": "b7beddd3-6082-4806-e54d-3f6f8b7f2633"
      },
      "source": [
        "lr = LogisticRegression()\n",
        "lr.fit(X_train,Y_train)\n",
        "Y_LR_pred=lr.predict(X_test)\n",
        "print(classification_report(Y_test,Y_LR_pred))"
      ],
      "execution_count": 39,
      "outputs": [
        {
          "output_type": "stream",
          "text": [
            "              precision    recall  f1-score   support\n",
            "\n",
            "           0       0.82      0.75      0.78       186\n",
            "           1       0.54      0.18      0.27        39\n",
            "           2       0.67      0.64      0.65       213\n",
            "           3       0.79      0.88      0.83       737\n",
            "           4       0.58      0.38      0.46        99\n",
            "           5       0.83      0.13      0.22        39\n",
            "           6       0.69      0.77      0.72       333\n",
            "\n",
            "    accuracy                           0.75      1646\n",
            "   macro avg       0.70      0.53      0.56      1646\n",
            "weighted avg       0.74      0.75      0.73      1646\n",
            "\n"
          ],
          "name": "stdout"
        },
        {
          "output_type": "stream",
          "text": [
            "/usr/local/lib/python3.7/dist-packages/sklearn/linear_model/_logistic.py:940: ConvergenceWarning: lbfgs failed to converge (status=1):\n",
            "STOP: TOTAL NO. of ITERATIONS REACHED LIMIT.\n",
            "\n",
            "Increase the number of iterations (max_iter) or scale the data as shown in:\n",
            "    https://scikit-learn.org/stable/modules/preprocessing.html\n",
            "Please also refer to the documentation for alternative solver options:\n",
            "    https://scikit-learn.org/stable/modules/linear_model.html#logistic-regression\n",
            "  extra_warning_msg=_LOGISTIC_SOLVER_CONVERGENCE_MSG)\n"
          ],
          "name": "stderr"
        }
      ]
    },
    {
      "cell_type": "code",
      "metadata": {
        "id": "-h8JoI8cWcOL"
      },
      "source": [
        "ilp_lr_f1 = f1_score(Y_test,Y_LR_pred,average='weighted')"
      ],
      "execution_count": 40,
      "outputs": []
    },
    {
      "cell_type": "code",
      "metadata": {
        "colab": {
          "base_uri": "https://localhost:8080/"
        },
        "id": "QEVtj37AWcUs",
        "outputId": "c60db1fd-d454-4b1b-8ea9-36e3bf9092e1"
      },
      "source": [
        "ilp_lr_f1"
      ],
      "execution_count": 44,
      "outputs": [
        {
          "output_type": "execute_result",
          "data": {
            "text/plain": [
              "0.7327202128782889"
            ]
          },
          "metadata": {
            "tags": []
          },
          "execution_count": 44
        }
      ]
    },
    {
      "cell_type": "markdown",
      "metadata": {
        "id": "pWwoovLVR2ot"
      },
      "source": [
        "### Naive Bayes"
      ]
    },
    {
      "cell_type": "code",
      "metadata": {
        "colab": {
          "base_uri": "https://localhost:8080/"
        },
        "id": "wmx9SW8RR2wG",
        "outputId": "d3a9d041-e857-48f1-c133-42499f33b7be"
      },
      "source": [
        "nb = MultinomialNB()\n",
        "nb.fit(X_train,Y_train)\n",
        "Y_NB_pred=nb.predict(X_test)\n",
        "print(classification_report(Y_test,Y_NB_pred))"
      ],
      "execution_count": 41,
      "outputs": [
        {
          "output_type": "stream",
          "text": [
            "              precision    recall  f1-score   support\n",
            "\n",
            "           0       0.68      0.56      0.62       186\n",
            "           1       1.00      0.05      0.10        39\n",
            "           2       0.65      0.59      0.62       213\n",
            "           3       0.68      0.86      0.76       737\n",
            "           4       0.69      0.25      0.37        99\n",
            "           5       0.00      0.00      0.00        39\n",
            "           6       0.61      0.60      0.60       333\n",
            "\n",
            "    accuracy                           0.66      1646\n",
            "   macro avg       0.62      0.42      0.44      1646\n",
            "weighted avg       0.65      0.66      0.64      1646\n",
            "\n"
          ],
          "name": "stdout"
        },
        {
          "output_type": "stream",
          "text": [
            "/usr/local/lib/python3.7/dist-packages/sklearn/metrics/_classification.py:1272: UndefinedMetricWarning: Precision and F-score are ill-defined and being set to 0.0 in labels with no predicted samples. Use `zero_division` parameter to control this behavior.\n",
            "  _warn_prf(average, modifier, msg_start, len(result))\n"
          ],
          "name": "stderr"
        }
      ]
    },
    {
      "cell_type": "code",
      "metadata": {
        "id": "I3Keld4BWdTC"
      },
      "source": [
        "ilp_nb_f1 = f1_score(Y_test,Y_NB_pred,average='weighted')"
      ],
      "execution_count": 42,
      "outputs": []
    },
    {
      "cell_type": "code",
      "metadata": {
        "colab": {
          "base_uri": "https://localhost:8080/"
        },
        "id": "UNNxSJtsujua",
        "outputId": "ddf071fc-04b3-4535-bd6d-19e09b19af6d"
      },
      "source": [
        "ilp_nb_f1"
      ],
      "execution_count": 45,
      "outputs": [
        {
          "output_type": "execute_result",
          "data": {
            "text/plain": [
              "0.6374377151945539"
            ]
          },
          "metadata": {
            "tags": []
          },
          "execution_count": 45
        }
      ]
    },
    {
      "cell_type": "code",
      "metadata": {
        "id": "RVT70dmNukVA"
      },
      "source": [
        ""
      ],
      "execution_count": null,
      "outputs": []
    }
  ]
}