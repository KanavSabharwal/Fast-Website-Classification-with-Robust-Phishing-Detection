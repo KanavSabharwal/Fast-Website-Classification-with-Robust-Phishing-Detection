{
 "cells": [
  {
   "cell_type": "code",
   "execution_count": 1,
   "metadata": {},
   "outputs": [],
   "source": [
    "from read_data import read_all_datasets\n",
    "from url_tokenizer import url_tokenizer"
   ]
  },
  {
   "cell_type": "code",
   "execution_count": 2,
   "metadata": {},
   "outputs": [],
   "source": [
    "dmoz, phishing, ilp = read_all_datasets(use_sample=False)"
   ]
  },
  {
   "cell_type": "code",
   "execution_count": 3,
   "metadata": {
    "scrolled": false
   },
   "outputs": [
    {
     "name": "stdout",
     "output_type": "stream",
     "text": [
      "http://www.usatoday.com/sports/preps/ ('http', (['www'], ['usa', 'today'], 'com'), ['sports', 'preps'], [])\n",
      "http://rss.cnn.com/rss/si_highschool?format=xml ('http', (['rss'], ['cnn'], 'com'), ['rss', 'si', 'highschool'], [(['format'], ['xml'])])\n",
      "http://sportsillustrated.cnn.com/highschool ('http', (['sports', 'illustrated'], ['cnn'], 'com'), ['highschool'], [])\n",
      "http://www.myscore.com/ ('http', (['www'], ['my', 'score'], 'com'), [], [])\n",
      "http://www.maxpreps.com/ ('http', (['www'], ['max', 'preps'], 'com'), [], [])\n",
      "http://www.hssp.cc/ ('http', (['www'], ['hssp'], 'cc'), [], [])\n",
      "http://www.infosports.com/ ('http', (['www'], ['info', 'sports'], 'com'), [], [])\n",
      "http://www.fciac.net/ ('http', (['www'], ['fc', 'iac'], 'net'), [], [])\n",
      "http://aenwebsites.com/tsl/ ('http', ([], ['a', 'en', 'websites'], 'com'), ['tsl'], [])\n",
      "http://www.aodonline.org/chsl/chsl.htm ('http', (['www'], ['a', 'odon', 'line'], 'org'), ['chsl', 'ch', 'sl', 'htm'], [])\n",
      "http://www.gisastats.com ('http', (['www'], ['g', 'is', 'a', 'stats'], 'com'), [], [])\n",
      "http://www.coacht.com ('http', (['www'], ['coach', 't'], 'com'), [], [])\n",
      "http://www.hsteenteams.com/ ('http', (['www'], ['h', 'steen', 'teams'], 'com'), [], [])\n",
      "http://www.ohsaa.org/ ('http', (['www'], ['ohs', 'a', 'a'], 'org'), [], [])\n",
      "http://www.momsteam.com/ ('http', (['www'], ['moms', 'team'], 'com'), [], [])\n",
      "http://www.youth-sport.net ('http', (['www'], ['youth', 'sport'], 'net'), [], [])\n",
      "http://www.nyssf.org/ ('http', (['www'], ['nys', 'sf'], 'org'), [], [])\n",
      "http://www.y-coach.com/ ('http', (['www'], ['y', 'coach'], 'com'), [], [])\n",
      "http://www.ihigh.com ('http', (['www'], ['i', 'high'], 'com'), [], [])\n",
      "http://www.nfhs.org/ ('http', (['www'], ['nfhs'], 'org'), [], [])\n",
      "http://www.wecaresports.com/ ('http', (['www'], ['we', 'care', 'sports'], 'com'), [], [])\n",
      "http://www.ksnusa.org ('http', (['www'], ['ks', 'nusa'], 'org'), [], [])\n",
      "http://www.ncys.org ('http', (['www'], ['ncys'], 'org'), [], [])\n",
      "http://www.chap.com/ ('http', (['www'], ['chap'], 'com'), [], [])\n",
      "http://www.naysi.com/ ('http', (['www'], ['nays', 'i'], 'com'), [], [])\n",
      "http://ed-web3.educ.msu.edu/ysi/ ('http', (['ed', 'web', '3', 'educ'], ['msu'], 'edu'), ['ysi'], [])\n",
      "http://www.highschoolsports.net/ ('http', (['www'], ['highschool', 'sports'], 'net'), [], [])\n",
      "http://www.playonsports.ws/ ('http', (['www'], ['play', 'on', 'sports'], 'ws'), [], [])\n",
      "http://www.nays.org/ ('http', (['www'], ['nays'], 'org'), [], [])\n",
      "http://www.ghsa.net/ ('http', (['www'], ['ghsa'], 'net'), [], [])\n",
      "http://www.nhsca.com/ ('http', (['www'], ['n', 'hsca'], 'com'), [], [])\n",
      "http://www.scotwrestle.co.uk ('http', (['www', 'scot', 'wrestle'], ['co'], 'uk'), [], [])\n",
      "http://thecapitalscot.com/pastfeatures/backhold.html ('http', ([], ['the', 'capital', 'scot'], 'com'), ['past', 'features', 'back', 'hold', 'html'], [])\n",
      "http://www.fscclub.com/vidy/schwingen-e.shtml ('http', (['www'], ['fsc', 'club'], 'com'), ['vidy', 'schw', 'in', 'gen', 'e', 'shtml'], [])\n",
      "http://en.wikipedia.org/wiki/schwingen ('http', (['en'], ['wikipedia'], 'org'), ['wiki', 'schw', 'in', 'gen'], [])\n",
      "http://ejmas.com/jalt/jaltart_baxter_0102.htm ('http', ([], ['e', 'jma', 's'], 'com'), ['jalt', 'jal', 'tart', 'baxter', '0102', 'htm'], [])\n",
      "http://www.bashpelivanns.com/english/ ('http', (['www'], ['bash', 'peli', 'vann', 's'], 'com'), ['english'], [])\n",
      "http://ejmas.com/jwma/articles/2000/jwmaart_kautz_0100.htm ('http', ([], ['e', 'jma', 's'], 'com'), ['jwma', 'articles', '2000', 'jwm', 'a', 'art', 'kau', 'tz', '0100', 'htm'], [])\n",
      "http://ejmas.com/jwma/articles/2000/jwmaart_pfrenger_0300.htm ('http', ([], ['e', 'jma', 's'], 'com'), ['jwma', 'articles', '2000', 'jwm', 'a', 'art', 'p', 'fr', 'enger', '0300', 'htm'], [])\n",
      "http://ejmas.com/jwma/articles/2000/jwmaart_roberts_0400.htm ('http', ([], ['e', 'jma', 's'], 'com'), ['jwma', 'articles', '2000', 'jwm', 'a', 'art', 'roberts', '0400', 'htm'], [])\n",
      "http://home.vicnet.net.au/~caov/wrestling/page01.htm ('http', (['home', 'vic', 'net'], ['net'], 'au'), ['cao', 'v', 'wrestling', 'page', '01', 'htm'], [])\n",
      "http://members.tripod.com/~x_pac6/ ('http', (['members'], ['tripod'], 'com'), ['x', 'pac', '6'], [])\n",
      "http://jaymieknight.8m.com/wrestling/wyldchyld.html ('http', (['jay', 'mie', 'knight'], ['8m'], 'com'), ['wrestling', 'wy', 'ld', 'ch', 'yl', 'd', 'html'], [])\n",
      "http://www.wildsamoan.com/ ('http', (['www'], ['wild', 'samoan'], 'com'), [], [])\n",
      "http://wildirishrosie.tripod.com/rosie/ ('http', (['wild', 'irish', 'rosie'], ['tripod'], 'com'), ['rosie'], [])\n",
      "http://www.angelfire.com/wrestling3/vedynasty/ ('http', (['www'], ['angel', 'fire'], 'com'), ['wrestling', '3', 've', 'dynasty'], [])\n",
      "http://www.angelfire.com/wrestling/violetflame/home.html ('http', (['www'], ['angel', 'fire'], 'com'), ['wrestling', 'violet', 'flame', 'home', 'html'], [])\n",
      "http://www.angelfire.com/vt/elvampiro2/ ('http', (['www'], ['angel', 'fire'], 'com'), ['vt', 'el', 'vampiro', '2'], [])\n",
      "http://www.geocities.com/wwf_kitty/index.html ('http', (['www'], ['geo', 'cities'], 'com'), ['wwf', 'kitty', 'index', 'html'], [])\n"
     ]
    }
   ],
   "source": [
    "urls = list(dmoz['url'].to_numpy())\n",
    "\n",
    "for url in urls[:-50:-1]:\n",
    "    tokens = url_tokenizer(url)\n",
    "    print(url, tokens)"
   ]
  },
  {
   "cell_type": "code",
   "execution_count": null,
   "metadata": {},
   "outputs": [],
   "source": []
  }
 ],
 "metadata": {
  "kernelspec": {
   "display_name": "Python 3",
   "language": "python",
   "name": "python3"
  },
  "language_info": {
   "codemirror_mode": {
    "name": "ipython",
    "version": 3
   },
   "file_extension": ".py",
   "mimetype": "text/x-python",
   "name": "python",
   "nbconvert_exporter": "python",
   "pygments_lexer": "ipython3",
   "version": "3.8.3"
  }
 },
 "nbformat": 4,
 "nbformat_minor": 4
}
