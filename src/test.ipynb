{
 "cells": [
  {
   "cell_type": "code",
   "execution_count": 1,
   "metadata": {},
   "outputs": [],
   "source": [
    "from read_data import read_all_datasets\n",
    "from url_tokenizer import url_tokenizer"
   ]
  },
  {
   "cell_type": "code",
   "execution_count": 2,
   "metadata": {},
   "outputs": [],
   "source": [
    "dmoz, phishing, ilp = read_all_datasets(use_sample=False)"
   ]
  },
  {
   "cell_type": "code",
   "execution_count": 3,
   "metadata": {
    "scrolled": false
   },
   "outputs": [
    {
     "name": "stdout",
     "output_type": "stream",
     "text": [
      "http://www.usatoday.com/sports/preps/ ('http', (['www'], 'usatoday', 'com'), ['sports', 'preps'], [])\n",
      "http://rss.cnn.com/rss/si_highschool?format=xml ('http', (['rss'], 'cnn', 'com'), ['rss', 'si_highschool'], [('format', 'xml')])\n",
      "http://sportsillustrated.cnn.com/highschool ('http', (['sportsillustrated'], 'cnn', 'com'), ['highschool'], [])\n",
      "http://www.myscore.com/ ('http', (['www'], 'myscore', 'com'), [], [])\n",
      "http://www.maxpreps.com/ ('http', (['www'], 'maxpreps', 'com'), [], [])\n",
      "http://www.hssp.cc/ ('http', (['www'], 'hssp', 'cc'), [], [])\n",
      "http://www.infosports.com/ ('http', (['www'], 'infosports', 'com'), [], [])\n",
      "http://www.fciac.net/ ('http', (['www'], 'fciac', 'net'), [], [])\n",
      "http://aenwebsites.com/tsl/ ('http', ([], 'aenwebsites', 'com'), ['tsl'], [])\n",
      "http://www.aodonline.org/chsl/chsl.htm ('http', (['www'], 'aodonline', 'org'), ['chsl', 'chsl.htm'], [])\n",
      "http://www.gisastats.com ('http', (['www'], 'gisastats', 'com'), [], [])\n",
      "http://www.coacht.com ('http', (['www'], 'coacht', 'com'), [], [])\n",
      "http://www.hsteenteams.com/ ('http', (['www'], 'hsteenteams', 'com'), [], [])\n",
      "http://www.ohsaa.org/ ('http', (['www'], 'ohsaa', 'org'), [], [])\n",
      "http://www.momsteam.com/ ('http', (['www'], 'momsteam', 'com'), [], [])\n",
      "http://www.youth-sport.net ('http', (['www'], 'youth-sport', 'net'), [], [])\n",
      "http://www.nyssf.org/ ('http', (['www'], 'nyssf', 'org'), [], [])\n",
      "http://www.y-coach.com/ ('http', (['www'], 'y-coach', 'com'), [], [])\n",
      "http://www.ihigh.com ('http', (['www'], 'ihigh', 'com'), [], [])\n",
      "http://www.nfhs.org/ ('http', (['www'], 'nfhs', 'org'), [], [])\n",
      "http://www.wecaresports.com/ ('http', (['www'], 'wecaresports', 'com'), [], [])\n",
      "http://www.ksnusa.org ('http', (['www'], 'ksnusa', 'org'), [], [])\n",
      "http://www.ncys.org ('http', (['www'], 'ncys', 'org'), [], [])\n",
      "http://www.chap.com/ ('http', (['www'], 'chap', 'com'), [], [])\n",
      "http://www.naysi.com/ ('http', (['www'], 'naysi', 'com'), [], [])\n",
      "http://ed-web3.educ.msu.edu/ysi/ ('http', (['ed-web3', 'educ'], 'msu', 'edu'), ['ysi'], [])\n",
      "http://www.highschoolsports.net/ ('http', (['www'], 'highschoolsports', 'net'), [], [])\n",
      "http://www.playonsports.ws/ ('http', (['www'], 'playonsports', 'ws'), [], [])\n",
      "http://www.nays.org/ ('http', (['www'], 'nays', 'org'), [], [])\n",
      "http://www.ghsa.net/ ('http', (['www'], 'ghsa', 'net'), [], [])\n",
      "http://www.nhsca.com/ ('http', (['www'], 'nhsca', 'com'), [], [])\n",
      "http://www.scotwrestle.co.uk ('http', (['www', 'scotwrestle'], 'co', 'uk'), [], [])\n",
      "http://thecapitalscot.com/pastfeatures/backhold.html ('http', ([], 'thecapitalscot', 'com'), ['pastfeatures', 'backhold.html'], [])\n",
      "http://www.fscclub.com/vidy/schwingen-e.shtml ('http', (['www'], 'fscclub', 'com'), ['vidy', 'schwingen-e.shtml'], [])\n",
      "http://en.wikipedia.org/wiki/schwingen ('http', (['en'], 'wikipedia', 'org'), ['wiki', 'schwingen'], [])\n",
      "http://ejmas.com/jalt/jaltart_baxter_0102.htm ('http', ([], 'ejmas', 'com'), ['jalt', 'jaltart_baxter_0102.htm'], [])\n",
      "http://www.bashpelivanns.com/english/ ('http', (['www'], 'bashpelivanns', 'com'), ['english'], [])\n",
      "http://ejmas.com/jwma/articles/2000/jwmaart_kautz_0100.htm ('http', ([], 'ejmas', 'com'), ['jwma', 'articles', '2000', 'jwmaart_kautz_0100.htm'], [])\n",
      "http://ejmas.com/jwma/articles/2000/jwmaart_pfrenger_0300.htm ('http', ([], 'ejmas', 'com'), ['jwma', 'articles', '2000', 'jwmaart_pfrenger_0300.htm'], [])\n",
      "http://ejmas.com/jwma/articles/2000/jwmaart_roberts_0400.htm ('http', ([], 'ejmas', 'com'), ['jwma', 'articles', '2000', 'jwmaart_roberts_0400.htm'], [])\n",
      "http://home.vicnet.net.au/~caov/wrestling/page01.htm ('http', (['home', 'vicnet'], 'net', 'au'), ['~caov', 'wrestling', 'page01.htm'], [])\n",
      "http://members.tripod.com/~x_pac6/ ('http', (['members'], 'tripod', 'com'), ['~x_pac6'], [])\n",
      "http://jaymieknight.8m.com/wrestling/wyldchyld.html ('http', (['jaymieknight'], '8m', 'com'), ['wrestling', 'wyldchyld.html'], [])\n",
      "http://www.wildsamoan.com/ ('http', (['www'], 'wildsamoan', 'com'), [], [])\n",
      "http://wildirishrosie.tripod.com/rosie/ ('http', (['wildirishrosie'], 'tripod', 'com'), ['rosie'], [])\n",
      "http://www.angelfire.com/wrestling3/vedynasty/ ('http', (['www'], 'angelfire', 'com'), ['wrestling3', 'vedynasty'], [])\n",
      "http://www.angelfire.com/wrestling/violetflame/home.html ('http', (['www'], 'angelfire', 'com'), ['wrestling', 'violetflame', 'home.html'], [])\n",
      "http://www.angelfire.com/vt/elvampiro2/ ('http', (['www'], 'angelfire', 'com'), ['vt', 'elvampiro2'], [])\n",
      "http://www.geocities.com/wwf_kitty/index.html ('http', (['www'], 'geocities', 'com'), ['wwf_kitty', 'index.html'], [])\n"
     ]
    }
   ],
   "source": [
    "urls = list(dmoz['url'].to_numpy())\n",
    "\n",
    "for url in urls[:-50:-1]:\n",
    "    tokens = url_tokenizer(url)\n",
    "    print(url, tokens)"
   ]
  },
  {
   "cell_type": "code",
   "execution_count": null,
   "metadata": {},
   "outputs": [],
   "source": []
  }
 ],
 "metadata": {
  "kernelspec": {
   "display_name": "Python 3",
   "language": "python",
   "name": "python3"
  },
  "language_info": {
   "codemirror_mode": {
    "name": "ipython",
    "version": 3
   },
   "file_extension": ".py",
   "mimetype": "text/x-python",
   "name": "python",
   "nbconvert_exporter": "python",
   "pygments_lexer": "ipython3",
   "version": "3.8.3"
  }
 },
 "nbformat": 4,
 "nbformat_minor": 4
}
