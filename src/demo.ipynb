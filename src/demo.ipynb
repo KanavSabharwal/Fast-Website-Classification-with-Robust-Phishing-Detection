{
 "cells": [
  {
   "cell_type": "code",
   "execution_count": 1,
   "metadata": {},
   "outputs": [],
   "source": [
    "import os\n",
    "import csv\n",
    "\n",
    "import numpy as np\n",
    "import pandas as pd\n",
    "\n",
    "from read_data import read_all_datasets\n",
    "from url_tokenizer import url_tokenizer\n",
    "from featurizer import UrlFeaturizer, GLOVE, CONCEPTNET"
   ]
  },
  {
   "cell_type": "code",
   "execution_count": 2,
   "metadata": {},
   "outputs": [],
   "source": [
    "dmoz, phishing, ilp = read_all_datasets(use_sample=False)"
   ]
  },
  {
   "cell_type": "code",
   "execution_count": 6,
   "metadata": {
    "scrolled": false
   },
   "outputs": [
    {
     "output_type": "stream",
     "name": "stdout",
     "text": [
      "http://www.usatoday.com/sports/preps/ ('http', (['www'], ['usa', 'today'], 'com'), ['sports', 'preps'], [])\nhttp://rss.cnn.com/rss/si_highschool?format=xml ('http', (['rss'], ['cnn'], 'com'), ['rss', 'si', 'highschool'], [(['format'], ['xml'])])\nhttp://sportsillustrated.cnn.com/highschool ('http', (['sports', 'illustrated'], ['cnn'], 'com'), ['highschool'], [])\nhttp://www.myscore.com/ ('http', (['www'], ['my', 'score'], 'com'), [], [])\nhttp://www.maxpreps.com/ ('http', (['www'], ['max', 'preps'], 'com'), [], [])\nhttp://www.hssp.cc/ ('http', (['www'], ['hssp'], 'cc'), [], [])\nhttp://www.infosports.com/ ('http', (['www'], ['info', 'sports'], 'com'), [], [])\nhttp://www.fciac.net/ ('http', (['www'], ['fc', 'iac'], 'net'), [], [])\nhttp://aenwebsites.com/tsl/ ('http', ([], ['a', 'en', 'websites'], 'com'), ['tsl'], [])\nhttp://www.aodonline.org/chsl/chsl.htm ('http', (['www'], ['a', 'odon', 'line'], 'org'), ['chsl', 'ch', 'sl', 'htm'], [])\nhttp://www.gisastats.com ('http', (['www'], ['g', 'is', 'a', 'stats'], 'com'), [], [])\nhttp://www.coacht.com ('http', (['www'], ['coach', 't'], 'com'), [], [])\nhttp://www.hsteenteams.com/ ('http', (['www'], ['h', 'steen', 'teams'], 'com'), [], [])\nhttp://www.ohsaa.org/ ('http', (['www'], ['ohs', 'a', 'a'], 'org'), [], [])\nhttp://www.momsteam.com/ ('http', (['www'], ['moms', 'team'], 'com'), [], [])\nhttp://www.youth-sport.net ('http', (['www'], ['youth', 'sport'], 'net'), [], [])\nhttp://www.nyssf.org/ ('http', (['www'], ['nys', 'sf'], 'org'), [], [])\nhttp://www.y-coach.com/ ('http', (['www'], ['y', 'coach'], 'com'), [], [])\nhttp://www.ihigh.com ('http', (['www'], ['i', 'high'], 'com'), [], [])\nhttp://www.nfhs.org/ ('http', (['www'], ['nfhs'], 'org'), [], [])\nhttp://www.wecaresports.com/ ('http', (['www'], ['we', 'care', 'sports'], 'com'), [], [])\nhttp://www.ksnusa.org ('http', (['www'], ['ks', 'nusa'], 'org'), [], [])\nhttp://www.ncys.org ('http', (['www'], ['ncys'], 'org'), [], [])\nhttp://www.chap.com/ ('http', (['www'], ['chap'], 'com'), [], [])\nhttp://www.naysi.com/ ('http', (['www'], ['nays', 'i'], 'com'), [], [])\nhttp://ed-web3.educ.msu.edu/ysi/ ('http', (['ed', 'web', '3', 'educ'], ['msu'], 'edu'), ['ysi'], [])\nhttp://www.highschoolsports.net/ ('http', (['www'], ['highschool', 'sports'], 'net'), [], [])\nhttp://www.playonsports.ws/ ('http', (['www'], ['play', 'on', 'sports'], 'ws'), [], [])\nhttp://www.nays.org/ ('http', (['www'], ['nays'], 'org'), [], [])\n"
     ]
    }
   ],
   "source": [
    "urls = list(dmoz['url'].to_numpy())\n",
    "\n",
    "for url in urls[:-30:-1]:\n",
    "    tokens = url_tokenizer(url)\n",
    "    print(url, tokens)"
   ]
  },
  {
   "cell_type": "code",
   "execution_count": 7,
   "metadata": {},
   "outputs": [],
   "source": [
    "test_idx = 44"
   ]
  },
  {
   "cell_type": "code",
   "execution_count": 8,
   "metadata": {},
   "outputs": [
    {
     "output_type": "execute_result",
     "data": {
      "text/plain": [
       "'http://www.three-musketeers.net/mike/animeopinions.html'"
      ]
     },
     "metadata": {},
     "execution_count": 8
    }
   ],
   "source": [
    "url = urls[test_idx]\n",
    "url"
   ]
  },
  {
   "cell_type": "code",
   "execution_count": 17,
   "metadata": {},
   "outputs": [
    {
     "output_type": "stream",
     "name": "stdout",
     "text": [
      "Reading the GloVe word vector file...\n",
      "Creating dictionary index...\n",
      "Creating the average vector of all the word vectors\n",
      "Created glove UrlFeaturizer in 344.0 s\n"
     ]
    }
   ],
   "source": [
    "feat = UrlFeaturizer(GLOVE)"
   ]
  },
  {
   "cell_type": "code",
   "execution_count": 18,
   "metadata": {},
   "outputs": [
    {
     "output_type": "execute_result",
     "data": {
      "text/plain": [
       "50"
      ]
     },
     "metadata": {},
     "execution_count": 18
    }
   ],
   "source": [
    "url_feats = feat.featurize(urls[:50])\n",
    "len(url_feats)"
   ]
  },
  {
   "cell_type": "code",
   "execution_count": 8,
   "metadata": {
    "scrolled": false
   },
   "outputs": [
    {
     "name": "stdout",
     "output_type": "stream",
     "text": [
      "[0 2 1 0 4 1]\n",
      "(31, 300)\n",
      "[[-5.5903e-01 -2.3337e-01  6.3474e-01  2.6797e-01  1.4497e-01  3.0117e-01\n",
      "  -1.4993e+00 -1.3268e-01  1.7098e-01  1.5078e-01 -7.3298e-02  4.1508e-01\n",
      "   6.1815e-01 -3.1706e-02 -9.6789e-02  8.0519e-02  4.3719e-01 -2.6097e-01\n",
      "   8.2791e-02 -6.9774e-01 -1.9385e-01 -3.7379e-01  1.3810e-01 -5.2269e-02\n",
      "   5.2011e-01  6.4239e-02  1.1295e-01  9.4808e-02 -3.0054e-01  2.7417e-03\n",
      "   4.0440e-01  4.3832e-01  1.8489e-01 -3.0196e-01  3.6817e-02  3.6947e-01\n",
      "   9.0433e-01 -1.0677e-01  1.4500e-01  1.1662e-01  8.3778e-04  3.8707e-02\n",
      "   9.5368e-02  1.7106e-01  3.2909e-01 -2.7484e-01 -4.2202e-02 -1.3651e-01\n",
      "  -3.2027e-01 -2.8992e-01  1.7502e-01 -2.3115e-01 -1.2753e-02  1.4077e-01\n",
      "  -4.0243e-01  1.0393e-01 -4.0097e-01  2.1786e-01  2.1909e-01  3.4441e-01\n",
      "   2.1706e-01 -3.5582e-02  3.6691e-01  1.6720e-02  1.3179e-01  5.8860e-01\n",
      "   7.8086e-02 -2.3006e-01 -1.5622e-01 -2.0371e-01  5.3019e-01  2.0435e-01\n",
      "   9.0417e-02  1.3708e-01 -7.3778e-02 -1.1574e-01  5.9772e-02 -2.3658e-01\n",
      "   4.6213e-01  2.8774e-01 -1.4184e-01 -9.3363e-02 -9.7173e-02 -4.9056e-02\n",
      "   1.9870e-01 -1.6207e-01  2.9286e-01  1.9694e-01 -3.3434e-01  1.4123e-02\n",
      "  -2.5372e-01  2.1943e-01 -1.0592e-01 -2.4089e-01 -2.7882e-01 -1.0273e-01\n",
      "  -1.4142e+00  9.5985e-01 -2.9772e-01 -3.4194e-01 -1.8949e-01 -4.5551e-01\n",
      "  -8.7242e-01 -1.9715e-01  3.4055e-01  3.7901e-02 -7.3527e-02  1.1589e-01\n",
      "   1.0412e-01 -4.2716e-01  8.3928e-02 -3.9121e-01  5.0611e-01  1.8970e-01\n",
      "  -5.6363e-01 -1.9854e-01  2.6153e-01  1.6720e-01  1.1643e-01 -5.7920e-03\n",
      "  -5.9872e-01  6.8051e-01  4.5539e-01  3.0005e-01  6.7508e-01 -3.1535e-01\n",
      "  -1.0337e+00 -2.0926e-01  5.9460e-01 -2.7321e-01 -1.7777e-01  1.2874e-01\n",
      "  -2.0113e-01  3.6283e-01 -1.6905e-01 -1.7103e-01  9.7802e-02 -1.1784e-01\n",
      "  -6.0259e-01  6.6161e-01  4.5059e-01  9.6443e-02 -9.2276e-01 -5.8921e-01\n",
      "  -1.3760e-01 -2.3725e-01  3.5415e-01 -2.2825e-01 -1.4152e-01  3.2088e-01\n",
      "   3.5295e-01  5.0307e-02  5.8268e-01  4.1250e-02  3.7973e-01 -5.8071e-02\n",
      "   9.9852e-02 -5.6215e-02  4.0506e-01 -3.8774e-01 -3.5037e-01 -1.4171e-02\n",
      "  -3.1728e-01  1.3995e-01  3.5773e-01 -5.2409e-01 -4.6778e-01 -4.2521e-01\n",
      "  -3.9744e-03  3.1838e-01  2.4979e-01  4.8311e-01  3.5699e-01 -3.0850e-01\n",
      "  -2.3467e-01 -1.5939e-01  4.9158e-01  2.6034e-02  3.2861e-01 -3.6858e-01\n",
      "  -5.0487e-02  5.5735e-01 -3.0938e-01 -1.2593e-01 -1.7399e-01  2.2366e-01\n",
      "  -4.4640e-02  3.0262e-01 -1.0725e-01  9.8316e-02 -4.2806e-01  2.2878e-02\n",
      "  -4.0163e-01 -3.0388e-01 -2.4898e-01 -9.0132e-01 -2.5935e-02 -1.2433e-01\n",
      "  -5.7435e-02 -4.9444e-01 -1.4162e-01  6.4584e-01 -2.3595e-01 -3.4188e-03\n",
      "   2.0274e-01 -2.6347e-01  3.4808e-01 -4.3560e-01  1.4105e-01  2.0617e-01\n",
      "   2.0829e-01 -4.5952e-01  6.4124e-02  4.4416e-01  8.5787e-01 -3.4836e-01\n",
      "  -1.1495e-01 -2.3037e-01 -3.2725e-01 -8.2350e-02  6.8283e-01  2.5345e-01\n",
      "  -4.5607e-01  2.4420e-02 -1.9404e+00 -1.4361e-01  1.4184e-01 -3.8369e-01\n",
      "   5.7947e-02  4.1198e-01  6.8191e-01  6.6571e-02 -1.0912e-01  1.3852e-01\n",
      "  -3.1320e-01  2.1037e-01  6.5173e-01  4.9678e-01 -4.5231e-01  4.4966e-01\n",
      "  -4.2114e-01 -3.5815e-01  1.3892e-01  2.7274e-01  5.0119e-01 -2.0399e-01\n",
      "  -1.6302e-01  1.1069e-01  3.2146e-01 -2.7253e-01  5.2667e-01  1.7110e-01\n",
      "   7.1873e-03  2.8463e-01  2.5655e-01 -4.9316e-01  3.5571e-01 -8.9693e-02\n",
      "   1.6792e-01  1.5408e-01 -1.8946e-01 -1.2034e-01  4.1792e-02  5.9072e-02\n",
      "   1.8388e-01  2.9386e-01 -1.0303e-03  3.7983e-01 -3.6952e-01 -1.4500e-01\n",
      "   1.0463e-01  3.0717e-01  3.2946e-01  1.8823e-01 -1.9903e-01  9.7333e-02\n",
      "   9.2530e-01  5.2387e-01 -1.8308e-01 -6.6247e-02 -1.3324e+00  6.5602e-01\n",
      "  -4.1767e-01 -2.1087e-01 -4.5014e-01 -3.7333e-01  3.6018e-02 -3.6867e-01\n",
      "   6.5078e-01 -1.8929e-01  2.7101e-01  2.2948e-01  6.9151e-01 -3.2714e-02\n",
      "  -6.0668e-01 -1.1280e-01 -1.4376e-01 -3.7070e-02  5.4345e-01  6.8718e-03]\n",
      " [ 0.0000e+00  0.0000e+00  0.0000e+00  0.0000e+00  0.0000e+00  0.0000e+00\n",
      "   0.0000e+00  0.0000e+00  0.0000e+00  0.0000e+00  0.0000e+00  0.0000e+00\n",
      "   0.0000e+00  0.0000e+00  0.0000e+00  0.0000e+00  0.0000e+00  0.0000e+00\n",
      "   0.0000e+00  0.0000e+00  0.0000e+00  0.0000e+00  0.0000e+00  0.0000e+00\n",
      "   0.0000e+00  0.0000e+00  0.0000e+00  0.0000e+00  0.0000e+00  0.0000e+00\n",
      "   0.0000e+00  0.0000e+00  0.0000e+00  0.0000e+00  0.0000e+00  0.0000e+00\n",
      "   0.0000e+00  0.0000e+00  0.0000e+00  0.0000e+00  0.0000e+00  0.0000e+00\n",
      "   0.0000e+00  0.0000e+00  0.0000e+00  0.0000e+00  0.0000e+00  0.0000e+00\n",
      "   0.0000e+00  0.0000e+00  0.0000e+00  0.0000e+00  0.0000e+00  0.0000e+00\n",
      "   0.0000e+00  0.0000e+00  0.0000e+00  0.0000e+00  0.0000e+00  0.0000e+00\n",
      "   0.0000e+00  0.0000e+00  0.0000e+00  0.0000e+00  0.0000e+00  0.0000e+00\n",
      "   0.0000e+00  0.0000e+00  0.0000e+00  0.0000e+00  0.0000e+00  0.0000e+00\n",
      "   0.0000e+00  0.0000e+00  0.0000e+00  0.0000e+00  0.0000e+00  0.0000e+00\n",
      "   0.0000e+00  0.0000e+00  0.0000e+00  0.0000e+00  0.0000e+00  0.0000e+00\n",
      "   0.0000e+00  0.0000e+00  0.0000e+00  0.0000e+00  0.0000e+00  0.0000e+00\n",
      "   0.0000e+00  0.0000e+00  0.0000e+00  0.0000e+00  0.0000e+00  0.0000e+00\n",
      "   0.0000e+00  0.0000e+00  0.0000e+00  0.0000e+00  0.0000e+00  0.0000e+00\n",
      "   0.0000e+00  0.0000e+00  0.0000e+00  0.0000e+00  0.0000e+00  0.0000e+00\n",
      "   0.0000e+00  0.0000e+00  0.0000e+00  0.0000e+00  0.0000e+00  0.0000e+00\n",
      "   0.0000e+00  0.0000e+00  0.0000e+00  0.0000e+00  0.0000e+00  0.0000e+00\n",
      "   0.0000e+00  0.0000e+00  0.0000e+00  0.0000e+00  0.0000e+00  0.0000e+00\n",
      "   0.0000e+00  0.0000e+00  0.0000e+00  0.0000e+00  0.0000e+00  0.0000e+00\n",
      "   0.0000e+00  0.0000e+00  0.0000e+00  0.0000e+00  0.0000e+00  0.0000e+00\n",
      "   0.0000e+00  0.0000e+00  0.0000e+00  0.0000e+00  0.0000e+00  0.0000e+00\n",
      "   0.0000e+00  0.0000e+00  0.0000e+00  0.0000e+00  0.0000e+00  0.0000e+00\n",
      "   0.0000e+00  0.0000e+00  0.0000e+00  0.0000e+00  0.0000e+00  0.0000e+00\n",
      "   0.0000e+00  0.0000e+00  0.0000e+00  0.0000e+00  0.0000e+00  0.0000e+00\n",
      "   0.0000e+00  0.0000e+00  0.0000e+00  0.0000e+00  0.0000e+00  0.0000e+00\n",
      "   0.0000e+00  0.0000e+00  0.0000e+00  0.0000e+00  0.0000e+00  0.0000e+00\n",
      "   0.0000e+00  0.0000e+00  0.0000e+00  0.0000e+00  0.0000e+00  0.0000e+00\n",
      "   0.0000e+00  0.0000e+00  0.0000e+00  0.0000e+00  0.0000e+00  0.0000e+00\n",
      "   0.0000e+00  0.0000e+00  0.0000e+00  0.0000e+00  0.0000e+00  0.0000e+00\n",
      "   0.0000e+00  0.0000e+00  0.0000e+00  0.0000e+00  0.0000e+00  0.0000e+00\n",
      "   0.0000e+00  0.0000e+00  0.0000e+00  0.0000e+00  0.0000e+00  0.0000e+00\n",
      "   0.0000e+00  0.0000e+00  0.0000e+00  0.0000e+00  0.0000e+00  0.0000e+00\n",
      "   0.0000e+00  0.0000e+00  0.0000e+00  0.0000e+00  0.0000e+00  0.0000e+00\n",
      "   0.0000e+00  0.0000e+00  0.0000e+00  0.0000e+00  0.0000e+00  0.0000e+00\n",
      "   0.0000e+00  0.0000e+00  0.0000e+00  0.0000e+00  0.0000e+00  0.0000e+00\n",
      "   0.0000e+00  0.0000e+00  0.0000e+00  0.0000e+00  0.0000e+00  0.0000e+00\n",
      "   0.0000e+00  0.0000e+00  0.0000e+00  0.0000e+00  0.0000e+00  0.0000e+00\n",
      "   0.0000e+00  0.0000e+00  0.0000e+00  0.0000e+00  0.0000e+00  0.0000e+00\n",
      "   0.0000e+00  0.0000e+00  0.0000e+00  0.0000e+00  0.0000e+00  0.0000e+00\n",
      "   0.0000e+00  0.0000e+00  0.0000e+00  0.0000e+00  0.0000e+00  0.0000e+00\n",
      "   0.0000e+00  0.0000e+00  0.0000e+00  0.0000e+00  0.0000e+00  0.0000e+00\n",
      "   0.0000e+00  0.0000e+00  0.0000e+00  0.0000e+00  0.0000e+00  0.0000e+00\n",
      "   0.0000e+00  0.0000e+00  0.0000e+00  0.0000e+00  0.0000e+00  0.0000e+00\n",
      "   0.0000e+00  0.0000e+00  0.0000e+00  0.0000e+00  0.0000e+00  0.0000e+00\n",
      "   0.0000e+00  0.0000e+00  0.0000e+00  0.0000e+00  0.0000e+00  0.0000e+00\n",
      "   0.0000e+00  0.0000e+00  0.0000e+00  0.0000e+00  0.0000e+00  0.0000e+00\n",
      "   0.0000e+00  0.0000e+00  0.0000e+00  0.0000e+00  0.0000e+00  0.0000e+00]]\n"
     ]
    }
   ],
   "source": [
    "vec, mat = url_feats[test_idx]\n",
    "print(vec)\n",
    "print(mat.shape)\n",
    "print(mat[:2][:15])"
   ]
  },
  {
   "cell_type": "code",
   "execution_count": null,
   "metadata": {},
   "outputs": [],
   "source": []
  }
 ],
 "metadata": {
  "kernelspec": {
   "display_name": "Python 3",
   "language": "python",
   "name": "python3"
  },
  "language_info": {
   "codemirror_mode": {
    "name": "ipython",
    "version": 3
   },
   "file_extension": ".py",
   "mimetype": "text/x-python",
   "name": "python",
   "nbconvert_exporter": "python",
   "pygments_lexer": "ipython3",
   "version": "3.7.3-final"
  }
 },
 "nbformat": 4,
 "nbformat_minor": 4
}