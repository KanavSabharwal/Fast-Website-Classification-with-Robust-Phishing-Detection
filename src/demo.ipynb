{
 "cells": [
  {
   "cell_type": "code",
   "execution_count": 1,
   "metadata": {},
   "outputs": [],
   "source": [
    "import os\n",
    "import csv\n",
    "\n",
    "import numpy as np\n",
    "import pandas as pd\n",
    "\n",
    "from read_data import read_all_datasets\n",
    "from url_tokenizer import url_tokenizer\n",
    "from featurizer import UrlFeaturizer, GLOVE, CONCEPTNET"
   ]
  },
  {
   "cell_type": "code",
   "execution_count": 2,
   "metadata": {},
   "outputs": [],
   "source": [
    "dmoz, phishing, ilp = read_all_datasets(use_sample=False)"
   ]
  },
  {
   "cell_type": "code",
   "execution_count": 3,
   "metadata": {
    "scrolled": false
   },
   "outputs": [
    {
     "name": "stdout",
     "output_type": "stream",
     "text": [
      "http://www.usatoday.com/sports/preps/ ('http', (['www'], ['usa', 'today'], 'com'), ['sports', 'preps'], [])\n",
      "http://rss.cnn.com/rss/si_highschool?format=xml ('http', (['rss'], ['cnn'], 'com'), ['rss', 'si', 'highschool'], [(['format'], ['xml'])])\n",
      "http://sportsillustrated.cnn.com/highschool ('http', (['sports', 'illustrated'], ['cnn'], 'com'), ['highschool'], [])\n",
      "http://www.myscore.com/ ('http', (['www'], ['my', 'score'], 'com'), [], [])\n",
      "http://www.maxpreps.com/ ('http', (['www'], ['max', 'preps'], 'com'), [], [])\n",
      "http://www.hssp.cc/ ('http', (['www'], ['hssp'], 'cc'), [], [])\n",
      "http://www.infosports.com/ ('http', (['www'], ['info', 'sports'], 'com'), [], [])\n",
      "http://www.fciac.net/ ('http', (['www'], ['fc', 'iac'], 'net'), [], [])\n",
      "http://aenwebsites.com/tsl/ ('http', ([], ['a', 'en', 'websites'], 'com'), ['tsl'], [])\n",
      "http://www.aodonline.org/chsl/chsl.htm ('http', (['www'], ['a', 'odon', 'line'], 'org'), ['chsl', 'ch', 'sl', 'htm'], [])\n",
      "http://www.gisastats.com ('http', (['www'], ['g', 'is', 'a', 'stats'], 'com'), [], [])\n",
      "http://www.coacht.com ('http', (['www'], ['coach', 't'], 'com'), [], [])\n",
      "http://www.hsteenteams.com/ ('http', (['www'], ['h', 'steen', 'teams'], 'com'), [], [])\n",
      "http://www.ohsaa.org/ ('http', (['www'], ['ohs', 'a', 'a'], 'org'), [], [])\n",
      "http://www.momsteam.com/ ('http', (['www'], ['moms', 'team'], 'com'), [], [])\n",
      "http://www.youth-sport.net ('http', (['www'], ['youth', 'sport'], 'net'), [], [])\n",
      "http://www.nyssf.org/ ('http', (['www'], ['nys', 'sf'], 'org'), [], [])\n",
      "http://www.y-coach.com/ ('http', (['www'], ['y', 'coach'], 'com'), [], [])\n",
      "http://www.ihigh.com ('http', (['www'], ['i', 'high'], 'com'), [], [])\n",
      "http://www.nfhs.org/ ('http', (['www'], ['nfhs'], 'org'), [], [])\n",
      "http://www.wecaresports.com/ ('http', (['www'], ['we', 'care', 'sports'], 'com'), [], [])\n",
      "http://www.ksnusa.org ('http', (['www'], ['ks', 'nusa'], 'org'), [], [])\n",
      "http://www.ncys.org ('http', (['www'], ['ncys'], 'org'), [], [])\n",
      "http://www.chap.com/ ('http', (['www'], ['chap'], 'com'), [], [])\n",
      "http://www.naysi.com/ ('http', (['www'], ['nays', 'i'], 'com'), [], [])\n",
      "http://ed-web3.educ.msu.edu/ysi/ ('http', (['ed', 'web', '3', 'educ'], ['msu'], 'edu'), ['ysi'], [])\n",
      "http://www.highschoolsports.net/ ('http', (['www'], ['highschool', 'sports'], 'net'), [], [])\n",
      "http://www.playonsports.ws/ ('http', (['www'], ['play', 'on', 'sports'], 'ws'), [], [])\n",
      "http://www.nays.org/ ('http', (['www'], ['nays'], 'org'), [], [])\n"
     ]
    }
   ],
   "source": [
    "urls = list(dmoz['url'].to_numpy())\n",
    "\n",
    "for url in urls[:-30:-1]:\n",
    "    tokens = url_tokenizer(url)\n",
    "    print(url, tokens)"
   ]
  },
  {
   "cell_type": "code",
   "execution_count": 4,
   "metadata": {},
   "outputs": [],
   "source": [
    "test_idx = 44"
   ]
  },
  {
   "cell_type": "code",
   "execution_count": 5,
   "metadata": {},
   "outputs": [
    {
     "data": {
      "text/plain": [
       "'http://www.three-musketeers.net/mike/animeopinions.html'"
      ]
     },
     "execution_count": 5,
     "metadata": {},
     "output_type": "execute_result"
    }
   ],
   "source": [
    "url = urls[test_idx]\n",
    "url"
   ]
  },
  {
   "cell_type": "code",
   "execution_count": 6,
   "metadata": {},
   "outputs": [
    {
     "name": "stdout",
     "output_type": "stream",
     "text": [
      "Reading the glove-wiki-gigaword-300 word vector file...\n",
      "Creating the average vector of all the word vectors...\n",
      "Created GloVe UrlFeaturizer in 96.3 s\n"
     ]
    }
   ],
   "source": [
    "feat = UrlFeaturizer(GLOVE)"
   ]
  },
  {
   "cell_type": "code",
   "execution_count": 7,
   "metadata": {},
   "outputs": [
    {
     "data": {
      "text/plain": [
       "50"
      ]
     },
     "execution_count": 7,
     "metadata": {},
     "output_type": "execute_result"
    }
   ],
   "source": [
    "url_feats = feat.featurize(urls[:50])\n",
    "len(url_feats)"
   ]
  },
  {
   "cell_type": "code",
   "execution_count": 8,
   "metadata": {
    "scrolled": false
   },
   "outputs": [
    {
     "name": "stdout",
     "output_type": "stream",
     "text": [
      "[0 2 1 1 0 4 1 0 0 0 0 0 9]\n",
      "(31, 300)\n",
      "[[ 0.11432    -0.14889     0.18291    -0.26842999  0.11861     0.66561002\n",
      "  -0.59749001 -0.10577    -0.014548    0.28941    -0.12970001  0.074891\n",
      "  -0.43320999 -0.057939    0.29025999  0.086225   -0.14473    -0.11384\n",
      "  -0.38073     1.01419997  0.056362    0.63062    -0.16997001 -0.25104001\n",
      "  -0.18337999  0.31681001  0.78151    -0.27998999  0.088714    0.1657\n",
      "   0.57279998 -0.07964     0.50918001  0.14729001  0.40996999 -0.2088\n",
      "  -0.23492    -0.19464    -0.26890999 -0.33414     0.09558    -0.20982\n",
      "  -0.29330999  0.36688    -0.041555   -0.72365999  0.62620002 -0.15138\n",
      "  -0.43889999 -0.14891     0.405       0.0096935   0.68958998 -0.74760002\n",
      "  -0.49936     0.097788    0.077734   -0.47279    -0.32644001 -0.11835\n",
      "  -0.23736    -0.28724    -0.89468002 -0.027208    0.29578     0.0068149\n",
      "   0.59254003  0.18092     0.32188001 -0.20669     0.20333     0.41376999\n",
      "   0.42392001 -0.15727     0.17524999  0.01274     0.40242001 -0.1406\n",
      "  -0.40309     0.042242   -0.046048   -0.077424   -0.27032    -0.93037999\n",
      "  -0.018366    0.10106    -0.35409001  0.24699999  0.28082001  0.22691999\n",
      "  -0.57884002 -0.50297999  0.088467   -0.26848999 -0.33063999  0.67444003\n",
      "  -0.26617     0.39609    -0.076987   -0.17837     0.38723001 -0.55462998\n",
      "   0.46770999  0.90625    -0.20460001 -0.61993003 -0.0734      0.82815999\n",
      "  -0.18116     0.16451     0.25670999 -0.17200001 -0.24751    -0.2236\n",
      "  -0.24872001 -1.20829999  0.016809    0.55655003  0.35330001  0.62606001\n",
      "  -0.28665999  0.13694     0.78163999  0.29497999  0.85684001  0.51722002\n",
      "  -0.38064    -0.089119   -0.025677   -0.67861998 -0.0106     -0.07237\n",
      "   0.048691    0.12263    -0.45071    -0.55102003  0.32078999  0.61601001\n",
      "  -0.64671999  0.39188001 -0.45278999 -0.46399     0.16148999 -0.45054001\n",
      "  -0.30151001 -0.27950001 -0.58410001 -0.13536     0.24717    -0.33410001\n",
      "  -0.46373999 -0.10948     0.32780999 -0.39184999  0.30342999  0.08843\n",
      "   0.40046     0.2958      0.71131003 -0.42530999  0.29249001 -0.075993\n",
      "  -0.47948    -0.35411999  0.41144001  0.010335    0.22772001  0.01196\n",
      "   0.16522001 -0.15893    -0.82007998 -0.35859001 -0.21834999  0.1583\n",
      "   0.48126999 -0.68510002 -0.11212    -0.051663    0.36071    -0.20394\n",
      "  -0.43551001 -0.43145001  0.43551001 -0.08908     0.45877001 -0.36429\n",
      "   0.63691998 -0.22621     0.027153   -0.25481999 -0.03047     0.24643999\n",
      "  -0.37211001 -0.20327     0.21126001  0.057964    0.59538001 -0.24984001\n",
      "   0.93200999  0.041792   -0.85865003  0.14971    -0.035189   -0.25263\n",
      "  -0.36050999 -0.28604999 -1.51909995 -0.33482    -0.016763   -0.23497\n",
      "  -0.27939999 -0.014833    0.52429003 -0.30487001 -0.56253999  0.40342\n",
      "  -0.33629999  0.77958     0.013969    0.38451999  0.12526999 -0.068663\n",
      "  -0.12605     0.19953001  0.39038    -0.67953002  0.38409999  0.0079339\n",
      "  -0.53207999  0.068525   -0.13515    -0.44512999 -0.042387   -0.12162\n",
      "   0.46344    -0.68023002 -0.064204    0.32955    -0.093455   -0.11597\n",
      "  -0.084823   -0.61063999  0.28029999 -0.046037    0.91136003  0.8035\n",
      "  -0.26074001  0.32433    -0.20359001 -0.078234    0.36039001  0.46259999\n",
      "   0.29848999 -0.61795002 -0.30243999  0.36004999 -0.51876998 -0.31729001\n",
      "   0.14362    -0.15425999 -0.21255    -0.14792     0.090675   -0.054173\n",
      "  -0.41496    -0.12486     0.32944     1.14660001  0.069558    0.13748001\n",
      "   0.24211    -0.038346    0.44881999 -0.13438    -0.46336001 -0.41424999\n",
      "   0.3678      0.35224     0.31981    -0.45043001 -0.38617     0.082714\n",
      "  -0.29054999 -0.39161    -0.16504    -0.2147     -0.24923    -0.36157\n",
      "  -0.15642001 -0.259       0.057819   -0.56159002 -0.36386999  0.14735\n",
      "   0.10157    -0.33034     0.22163001  0.34325001 -0.25621     0.07556   ]\n",
      " [ 0.          0.          0.          0.          0.          0.\n",
      "   0.          0.          0.          0.          0.          0.\n",
      "   0.          0.          0.          0.          0.          0.\n",
      "   0.          0.          0.          0.          0.          0.\n",
      "   0.          0.          0.          0.          0.          0.\n",
      "   0.          0.          0.          0.          0.          0.\n",
      "   0.          0.          0.          0.          0.          0.\n",
      "   0.          0.          0.          0.          0.          0.\n",
      "   0.          0.          0.          0.          0.          0.\n",
      "   0.          0.          0.          0.          0.          0.\n",
      "   0.          0.          0.          0.          0.          0.\n",
      "   0.          0.          0.          0.          0.          0.\n",
      "   0.          0.          0.          0.          0.          0.\n",
      "   0.          0.          0.          0.          0.          0.\n",
      "   0.          0.          0.          0.          0.          0.\n",
      "   0.          0.          0.          0.          0.          0.\n",
      "   0.          0.          0.          0.          0.          0.\n",
      "   0.          0.          0.          0.          0.          0.\n",
      "   0.          0.          0.          0.          0.          0.\n",
      "   0.          0.          0.          0.          0.          0.\n",
      "   0.          0.          0.          0.          0.          0.\n",
      "   0.          0.          0.          0.          0.          0.\n",
      "   0.          0.          0.          0.          0.          0.\n",
      "   0.          0.          0.          0.          0.          0.\n",
      "   0.          0.          0.          0.          0.          0.\n",
      "   0.          0.          0.          0.          0.          0.\n",
      "   0.          0.          0.          0.          0.          0.\n",
      "   0.          0.          0.          0.          0.          0.\n",
      "   0.          0.          0.          0.          0.          0.\n",
      "   0.          0.          0.          0.          0.          0.\n",
      "   0.          0.          0.          0.          0.          0.\n",
      "   0.          0.          0.          0.          0.          0.\n",
      "   0.          0.          0.          0.          0.          0.\n",
      "   0.          0.          0.          0.          0.          0.\n",
      "   0.          0.          0.          0.          0.          0.\n",
      "   0.          0.          0.          0.          0.          0.\n",
      "   0.          0.          0.          0.          0.          0.\n",
      "   0.          0.          0.          0.          0.          0.\n",
      "   0.          0.          0.          0.          0.          0.\n",
      "   0.          0.          0.          0.          0.          0.\n",
      "   0.          0.          0.          0.          0.          0.\n",
      "   0.          0.          0.          0.          0.          0.\n",
      "   0.          0.          0.          0.          0.          0.\n",
      "   0.          0.          0.          0.          0.          0.\n",
      "   0.          0.          0.          0.          0.          0.\n",
      "   0.          0.          0.          0.          0.          0.\n",
      "   0.          0.          0.          0.          0.          0.\n",
      "   0.          0.          0.          0.          0.          0.\n",
      "   0.          0.          0.          0.          0.          0.\n",
      "   0.          0.          0.          0.          0.          0.        ]]\n"
     ]
    }
   ],
   "source": [
    "vec, mat = url_feats[test_idx]\n",
    "print(vec)\n",
    "print(mat.shape)\n",
    "print(mat[:2][:15])"
   ]
  },
  {
   "cell_type": "code",
   "execution_count": null,
   "metadata": {},
   "outputs": [],
   "source": []
  }
 ],
 "metadata": {
  "kernelspec": {
   "display_name": "Python 3",
   "language": "python",
   "name": "python3"
  },
  "language_info": {
   "codemirror_mode": {
    "name": "ipython",
    "version": 3
   },
   "file_extension": ".py",
   "mimetype": "text/x-python",
   "name": "python",
   "nbconvert_exporter": "python",
   "pygments_lexer": "ipython3",
   "version": "3.8.3"
  }
 },
 "nbformat": 4,
 "nbformat_minor": 4
}
