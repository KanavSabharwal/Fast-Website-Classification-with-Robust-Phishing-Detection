{
 "cells": [
  {
   "cell_type": "code",
   "execution_count": 1,
   "metadata": {},
   "outputs": [],
   "source": [
    "import os\n",
    "import csv\n",
    "import json\n",
    "\n",
    "import numpy as np\n",
    "import pandas as pd\n",
    "\n",
    "import matplotlib\n",
    "import matplotlib.pyplot as plt\n",
    "\n",
    "import seaborn as sns\n",
    "sns.set()"
   ]
  },
  {
   "cell_type": "code",
   "execution_count": 2,
   "metadata": {},
   "outputs": [],
   "source": [
    "from IPython.display import set_matplotlib_formats\n",
    "set_matplotlib_formats('png', 'pdf')\n",
    "\n",
    "def save_fig(filename):\n",
    "    new_filename = 'plots/' + filename.replace(' ', '-').lower()\n",
    "    plt.savefig(new_filename, bbox_inches = 'tight')"
   ]
  },
  {
   "cell_type": "code",
   "execution_count": 3,
   "metadata": {},
   "outputs": [],
   "source": [
    "DATASETS = ['DMOZ', 'ILP', 'Phishing']"
   ]
  },
  {
   "cell_type": "code",
   "execution_count": 4,
   "metadata": {},
   "outputs": [
    {
     "data": {
      "text/plain": [
       "{'DMOZ': {'NB': {'F1': 0.47014416139700704, 'Val Acc': 0.5188},\n",
       "  'LR': {'F1': 0.4761802655757706, 'Val Acc': 0.503225},\n",
       "  'SVM': {'F1': 0.5131819049474287, 'Val Acc': 0.54285}},\n",
       " 'ILP': {'NB': {'F1': 0.48199705726025466, 'Val Acc': 0.6670716889428918},\n",
       "  'LR': {'F1': 0.5781321808415699, 'Val Acc': 0.6907654921020656},\n",
       "  'SVM': {'F1': 0.5874028949464528, 'Val Acc': 0.7339003645200486}},\n",
       " 'Phishing': {'NB': {'F1': 0.9821190745484847, 'Val Acc': 0.9877605028117764},\n",
       "  'LR': {'F1': 0.9902692436998835, 'Val Acc': 0.9933840555739332},\n",
       "  'SVM': {'F1': 0.994986223836815, 'Val Acc': 0.9965817620465321}}}"
      ]
     },
     "execution_count": 4,
     "metadata": {},
     "output_type": "execute_result"
    }
   ],
   "source": [
    "data = {}\n",
    "\n",
    "for dataset in DATASETS:\n",
    "    with open(f'results/{dataset.lower()}.json', 'r') as f:\n",
    "        data[dataset] = json.load(f)\n",
    "        \n",
    "data"
   ]
  },
  {
   "cell_type": "code",
   "execution_count": 5,
   "metadata": {},
   "outputs": [],
   "source": [
    "data_adjusted = {\n",
    "    'Dataset': [],\n",
    "    'Model': [],\n",
    "    'Metric': [],\n",
    "    'Score': []\n",
    "}\n",
    "\n",
    "for dataset in data.keys():\n",
    "    for model in data[dataset].keys():\n",
    "        for metric, val in data[dataset][model].items():\n",
    "            data_adjusted['Dataset'].append(dataset)\n",
    "            data_adjusted['Model'].append(model)\n",
    "            data_adjusted['Metric'].append(metric)\n",
    "            data_adjusted['Score'].append(val)"
   ]
  },
  {
   "cell_type": "code",
   "execution_count": 6,
   "metadata": {},
   "outputs": [
    {
     "data": {
      "text/html": [
       "<div>\n",
       "<style scoped>\n",
       "    .dataframe tbody tr th:only-of-type {\n",
       "        vertical-align: middle;\n",
       "    }\n",
       "\n",
       "    .dataframe tbody tr th {\n",
       "        vertical-align: top;\n",
       "    }\n",
       "\n",
       "    .dataframe thead th {\n",
       "        text-align: right;\n",
       "    }\n",
       "</style>\n",
       "<table border=\"1\" class=\"dataframe\">\n",
       "  <thead>\n",
       "    <tr style=\"text-align: right;\">\n",
       "      <th></th>\n",
       "      <th>Dataset</th>\n",
       "      <th>Model</th>\n",
       "      <th>Metric</th>\n",
       "      <th>Score</th>\n",
       "    </tr>\n",
       "  </thead>\n",
       "  <tbody>\n",
       "    <tr>\n",
       "      <th>0</th>\n",
       "      <td>DMOZ</td>\n",
       "      <td>NB</td>\n",
       "      <td>F1</td>\n",
       "      <td>0.470144</td>\n",
       "    </tr>\n",
       "    <tr>\n",
       "      <th>1</th>\n",
       "      <td>DMOZ</td>\n",
       "      <td>NB</td>\n",
       "      <td>Val Acc</td>\n",
       "      <td>0.518800</td>\n",
       "    </tr>\n",
       "    <tr>\n",
       "      <th>2</th>\n",
       "      <td>DMOZ</td>\n",
       "      <td>LR</td>\n",
       "      <td>F1</td>\n",
       "      <td>0.476180</td>\n",
       "    </tr>\n",
       "    <tr>\n",
       "      <th>3</th>\n",
       "      <td>DMOZ</td>\n",
       "      <td>LR</td>\n",
       "      <td>Val Acc</td>\n",
       "      <td>0.503225</td>\n",
       "    </tr>\n",
       "    <tr>\n",
       "      <th>4</th>\n",
       "      <td>DMOZ</td>\n",
       "      <td>SVM</td>\n",
       "      <td>F1</td>\n",
       "      <td>0.513182</td>\n",
       "    </tr>\n",
       "    <tr>\n",
       "      <th>5</th>\n",
       "      <td>DMOZ</td>\n",
       "      <td>SVM</td>\n",
       "      <td>Val Acc</td>\n",
       "      <td>0.542850</td>\n",
       "    </tr>\n",
       "    <tr>\n",
       "      <th>6</th>\n",
       "      <td>ILP</td>\n",
       "      <td>NB</td>\n",
       "      <td>F1</td>\n",
       "      <td>0.481997</td>\n",
       "    </tr>\n",
       "    <tr>\n",
       "      <th>7</th>\n",
       "      <td>ILP</td>\n",
       "      <td>NB</td>\n",
       "      <td>Val Acc</td>\n",
       "      <td>0.667072</td>\n",
       "    </tr>\n",
       "    <tr>\n",
       "      <th>8</th>\n",
       "      <td>ILP</td>\n",
       "      <td>LR</td>\n",
       "      <td>F1</td>\n",
       "      <td>0.578132</td>\n",
       "    </tr>\n",
       "    <tr>\n",
       "      <th>9</th>\n",
       "      <td>ILP</td>\n",
       "      <td>LR</td>\n",
       "      <td>Val Acc</td>\n",
       "      <td>0.690765</td>\n",
       "    </tr>\n",
       "    <tr>\n",
       "      <th>10</th>\n",
       "      <td>ILP</td>\n",
       "      <td>SVM</td>\n",
       "      <td>F1</td>\n",
       "      <td>0.587403</td>\n",
       "    </tr>\n",
       "    <tr>\n",
       "      <th>11</th>\n",
       "      <td>ILP</td>\n",
       "      <td>SVM</td>\n",
       "      <td>Val Acc</td>\n",
       "      <td>0.733900</td>\n",
       "    </tr>\n",
       "    <tr>\n",
       "      <th>12</th>\n",
       "      <td>Phishing</td>\n",
       "      <td>NB</td>\n",
       "      <td>F1</td>\n",
       "      <td>0.982119</td>\n",
       "    </tr>\n",
       "    <tr>\n",
       "      <th>13</th>\n",
       "      <td>Phishing</td>\n",
       "      <td>NB</td>\n",
       "      <td>Val Acc</td>\n",
       "      <td>0.987761</td>\n",
       "    </tr>\n",
       "    <tr>\n",
       "      <th>14</th>\n",
       "      <td>Phishing</td>\n",
       "      <td>LR</td>\n",
       "      <td>F1</td>\n",
       "      <td>0.990269</td>\n",
       "    </tr>\n",
       "    <tr>\n",
       "      <th>15</th>\n",
       "      <td>Phishing</td>\n",
       "      <td>LR</td>\n",
       "      <td>Val Acc</td>\n",
       "      <td>0.993384</td>\n",
       "    </tr>\n",
       "    <tr>\n",
       "      <th>16</th>\n",
       "      <td>Phishing</td>\n",
       "      <td>SVM</td>\n",
       "      <td>F1</td>\n",
       "      <td>0.994986</td>\n",
       "    </tr>\n",
       "    <tr>\n",
       "      <th>17</th>\n",
       "      <td>Phishing</td>\n",
       "      <td>SVM</td>\n",
       "      <td>Val Acc</td>\n",
       "      <td>0.996582</td>\n",
       "    </tr>\n",
       "  </tbody>\n",
       "</table>\n",
       "</div>"
      ],
      "text/plain": [
       "     Dataset Model   Metric     Score\n",
       "0       DMOZ    NB       F1  0.470144\n",
       "1       DMOZ    NB  Val Acc  0.518800\n",
       "2       DMOZ    LR       F1  0.476180\n",
       "3       DMOZ    LR  Val Acc  0.503225\n",
       "4       DMOZ   SVM       F1  0.513182\n",
       "5       DMOZ   SVM  Val Acc  0.542850\n",
       "6        ILP    NB       F1  0.481997\n",
       "7        ILP    NB  Val Acc  0.667072\n",
       "8        ILP    LR       F1  0.578132\n",
       "9        ILP    LR  Val Acc  0.690765\n",
       "10       ILP   SVM       F1  0.587403\n",
       "11       ILP   SVM  Val Acc  0.733900\n",
       "12  Phishing    NB       F1  0.982119\n",
       "13  Phishing    NB  Val Acc  0.987761\n",
       "14  Phishing    LR       F1  0.990269\n",
       "15  Phishing    LR  Val Acc  0.993384\n",
       "16  Phishing   SVM       F1  0.994986\n",
       "17  Phishing   SVM  Val Acc  0.996582"
      ]
     },
     "execution_count": 6,
     "metadata": {},
     "output_type": "execute_result"
    }
   ],
   "source": [
    "df = pd.DataFrame.from_dict(data_adjusted)\n",
    "df"
   ]
  },
  {
   "cell_type": "code",
   "execution_count": 7,
   "metadata": {},
   "outputs": [
    {
     "data": {
      "application/pdf": "[encoded data removed]",
      "image/png": "[encoded data removed]",
      "text/plain": [
       "<Figure size 259.2x216 with 1 Axes>"
      ]
     },
     "metadata": {},
     "output_type": "display_data"
    },
    {
     "data": {
      "application/pdf": "[encoded data removed]",
      "image/png": "[encoded data removed]",
      "text/plain": [
       "<Figure size 259.2x216 with 1 Axes>"
      ]
     },
     "metadata": {},
     "output_type": "display_data"
    },
    {
     "data": {
      "application/pdf": "[encoded data removed]",
      "image/png": "[encoded data removed]",
      "text/plain": [
       "<Figure size 334.675x216 with 1 Axes>"
      ]
     },
     "metadata": {},
     "output_type": "display_data"
    }
   ],
   "source": [
    "height = 3\n",
    "aspect = 1.2\n",
    "\n",
    "\n",
    "for i, dataset in enumerate(DATASETS):\n",
    "    rows = df[df['Dataset'] == dataset]\n",
    "    cat_args = {'data': rows, 'kind': 'bar',\n",
    "                'x': 'Model', 'y': 'Score', 'hue': 'Metric',\n",
    "                'palette': 'dark', 'alpha': .7,\n",
    "                'height': height, 'aspect': aspect}\n",
    "\n",
    "    is_last = i + 1 == len(DATASETS)\n",
    "    if not is_last:\n",
    "        cat_args['legend'] = None\n",
    "    \n",
    "    sns.catplot(**cat_args)\n",
    "    \n",
    "    is_first = i == 0\n",
    "    if not is_first:  # Remove y label and ticks\n",
    "        plt.ylabel('')\n",
    "        ax = plt.gca()\n",
    "        ax.axes.yaxis.set_ticklabels([])\n",
    "    \n",
    "    plt.xlabel('')\n",
    "    plt.ylim((0, 1))\n",
    "    plt.title(dataset)\n",
    "    save_fig(f'{dataset.lower()}.pdf')\n",
    "    plt.show()"
   ]
  },
  {
   "cell_type": "code",
   "execution_count": null,
   "metadata": {},
   "outputs": [],
   "source": []
  }
 ],
 "metadata": {
  "kernelspec": {
   "display_name": "Python 3",
   "language": "python",
   "name": "python3"
  },
  "language_info": {
   "codemirror_mode": {
    "name": "ipython",
    "version": 3
   },
   "file_extension": ".py",
   "mimetype": "text/x-python",
   "name": "python",
   "nbconvert_exporter": "python",
   "pygments_lexer": "ipython3",
   "version": "3.8.3"
  }
 },
 "nbformat": 4,
 "nbformat_minor": 4
}
