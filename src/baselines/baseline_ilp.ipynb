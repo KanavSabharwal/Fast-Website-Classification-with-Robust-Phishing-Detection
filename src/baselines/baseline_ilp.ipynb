{
 "cells": [
  {
   "cell_type": "code",
   "execution_count": 1,
   "metadata": {},
   "outputs": [],
   "source": [
    "from typing import List, Union, Tuple, Any\n",
    "import os\n",
    "import csv\n",
    "import json\n",
    "\n",
    "from sklearn.model_selection import train_test_split\n",
    "from sklearn.metrics import f1_score, accuracy_score\n",
    "\n",
    "from sklearn.naive_bayes import MultinomialNB\n",
    "from sklearn.linear_model import LogisticRegression\n",
    "from sklearn import svm\n",
    "\n",
    "from sklearn.feature_extraction.text import TfidfVectorizer\n",
    "from sklearn.preprocessing import FunctionTransformer\n",
    "from sklearn.compose import ColumnTransformer\n",
    "\n",
    "from tqdm import tqdm\n",
    "import numpy as np\n",
    "import pandas as pd"
   ]
  },
  {
   "cell_type": "code",
   "execution_count": 2,
   "metadata": {},
   "outputs": [],
   "source": [
    "%%capture\n",
    "# 'capture' silences output.\n",
    "# The below cd is necessary to import local functions in parent directory\n",
    "%cd ..\n",
    "\n",
    "from read_data import read_ilp\n",
    "from url_tokenizer import url_tokenizer, flatten_url_data\n",
    "from featurizer import UrlFeaturizer, SAMPLE"
   ]
  },
  {
   "cell_type": "code",
   "execution_count": 3,
   "metadata": {},
   "outputs": [],
   "source": [
    "URL_CLEANED = 'UrlCleaned'\n",
    "URL_FEAT = 'UrlFeat'\n",
    "\n",
    "VAL_PROP = 0.2\n",
    "\n",
    "SEED = 42  # for reproducibility\n",
    "np.random.seed(SEED)"
   ]
  },
  {
   "cell_type": "code",
   "execution_count": 23,
   "metadata": {},
   "outputs": [],
   "source": [
    "feat = UrlFeaturizer(SAMPLE, verbose=False)"
   ]
  },
  {
   "cell_type": "code",
   "execution_count": 5,
   "metadata": {},
   "outputs": [
    {
     "data": {
      "text/html": [
       "<div>\n",
       "<style scoped>\n",
       "    .dataframe tbody tr th:only-of-type {\n",
       "        vertical-align: middle;\n",
       "    }\n",
       "\n",
       "    .dataframe tbody tr th {\n",
       "        vertical-align: top;\n",
       "    }\n",
       "\n",
       "    .dataframe thead th {\n",
       "        text-align: right;\n",
       "    }\n",
       "</style>\n",
       "<table border=\"1\" class=\"dataframe\">\n",
       "  <thead>\n",
       "    <tr style=\"text-align: right;\">\n",
       "      <th></th>\n",
       "      <th>idx</th>\n",
       "      <th>url</th>\n",
       "      <th>label</th>\n",
       "      <th>uni</th>\n",
       "    </tr>\n",
       "  </thead>\n",
       "  <tbody>\n",
       "    <tr>\n",
       "      <th>3078</th>\n",
       "      <td>3078</td>\n",
       "      <td>http://www.cs.tufts.edu/ad.html</td>\n",
       "      <td>other</td>\n",
       "      <td>misc</td>\n",
       "    </tr>\n",
       "    <tr>\n",
       "      <th>1172</th>\n",
       "      <td>1172</td>\n",
       "      <td>http://www.cs.uoregon.edu/classes/cis211/</td>\n",
       "      <td>course</td>\n",
       "      <td>misc</td>\n",
       "    </tr>\n",
       "    <tr>\n",
       "      <th>8214</th>\n",
       "      <td>8214</td>\n",
       "      <td>http://www.cs.washington.edu/homes/fisher/</td>\n",
       "      <td>staff</td>\n",
       "      <td>washington</td>\n",
       "    </tr>\n",
       "    <tr>\n",
       "      <th>496</th>\n",
       "      <td>496</td>\n",
       "      <td>http://swarm.wustl.edu/~roman/</td>\n",
       "      <td>faculty</td>\n",
       "      <td>misc</td>\n",
       "    </tr>\n",
       "    <tr>\n",
       "      <th>2132</th>\n",
       "      <td>2132</td>\n",
       "      <td>http://www.cs.cornell.edu/Info/People/ahuja/re...</td>\n",
       "      <td>other</td>\n",
       "      <td>cornell</td>\n",
       "    </tr>\n",
       "    <tr>\n",
       "      <th>...</th>\n",
       "      <td>...</td>\n",
       "      <td>...</td>\n",
       "      <td>...</td>\n",
       "      <td>...</td>\n",
       "    </tr>\n",
       "    <tr>\n",
       "      <th>5734</th>\n",
       "      <td>5734</td>\n",
       "      <td>http://www.cs.utexas.edu/users/nl-acq/prop-pap...</td>\n",
       "      <td>other</td>\n",
       "      <td>texas</td>\n",
       "    </tr>\n",
       "    <tr>\n",
       "      <th>5191</th>\n",
       "      <td>5191</td>\n",
       "      <td>http://www.cs.wisc.edu/coral/coral.bugreport.html</td>\n",
       "      <td>other</td>\n",
       "      <td>wisconsin</td>\n",
       "    </tr>\n",
       "    <tr>\n",
       "      <th>5390</th>\n",
       "      <td>5390</td>\n",
       "      <td>http://www.cs.utexas.edu/users/yufeng/cs378/wi...</td>\n",
       "      <td>other</td>\n",
       "      <td>texas</td>\n",
       "    </tr>\n",
       "    <tr>\n",
       "      <th>860</th>\n",
       "      <td>860</td>\n",
       "      <td>http://www.cs.umd.edu/~keleher/</td>\n",
       "      <td>faculty</td>\n",
       "      <td>misc</td>\n",
       "    </tr>\n",
       "    <tr>\n",
       "      <th>7270</th>\n",
       "      <td>7270</td>\n",
       "      <td>http://www.cs.utexas.edu/users/madhukar/</td>\n",
       "      <td>student</td>\n",
       "      <td>texas</td>\n",
       "    </tr>\n",
       "  </tbody>\n",
       "</table>\n",
       "<p>8230 rows × 4 columns</p>\n",
       "</div>"
      ],
      "text/plain": [
       "       idx                                                url    label  \\\n",
       "3078  3078                    http://www.cs.tufts.edu/ad.html    other   \n",
       "1172  1172          http://www.cs.uoregon.edu/classes/cis211/   course   \n",
       "8214  8214         http://www.cs.washington.edu/homes/fisher/    staff   \n",
       "496    496                     http://swarm.wustl.edu/~roman/  faculty   \n",
       "2132  2132  http://www.cs.cornell.edu/Info/People/ahuja/re...    other   \n",
       "...    ...                                                ...      ...   \n",
       "5734  5734  http://www.cs.utexas.edu/users/nl-acq/prop-pap...    other   \n",
       "5191  5191  http://www.cs.wisc.edu/coral/coral.bugreport.html    other   \n",
       "5390  5390  http://www.cs.utexas.edu/users/yufeng/cs378/wi...    other   \n",
       "860    860                    http://www.cs.umd.edu/~keleher/  faculty   \n",
       "7270  7270           http://www.cs.utexas.edu/users/madhukar/  student   \n",
       "\n",
       "             uni  \n",
       "3078        misc  \n",
       "1172        misc  \n",
       "8214  washington  \n",
       "496         misc  \n",
       "2132     cornell  \n",
       "...          ...  \n",
       "5734       texas  \n",
       "5191   wisconsin  \n",
       "5390       texas  \n",
       "860         misc  \n",
       "7270       texas  \n",
       "\n",
       "[8230 rows x 4 columns]"
      ]
     },
     "execution_count": 5,
     "metadata": {},
     "output_type": "execute_result"
    }
   ],
   "source": [
    "ilp = read_ilp().sample(frac=1, random_state=SEED)\n",
    "ilp"
   ]
  },
  {
   "cell_type": "code",
   "execution_count": 6,
   "metadata": {},
   "outputs": [
    {
     "data": {
      "text/plain": [
       "label\n",
       "course         928\n",
       "department     182\n",
       "faculty       1123\n",
       "other         3717\n",
       "project        502\n",
       "staff          137\n",
       "student       1641\n",
       "dtype: int64"
      ]
     },
     "execution_count": 6,
     "metadata": {},
     "output_type": "execute_result"
    }
   ],
   "source": [
    "ilp.groupby(['label']).size()"
   ]
  },
  {
   "cell_type": "code",
   "execution_count": 7,
   "metadata": {},
   "outputs": [
    {
     "data": {
      "text/plain": [
       "array(['http://www.cs.tufts.edu/ad.html',\n",
       "       'http://www.cs.uoregon.edu/classes/cis211/',\n",
       "       'http://www.cs.washington.edu/homes/fisher/', ...,\n",
       "       'http://www.cs.utexas.edu/users/yufeng/cs378/winhw1.html',\n",
       "       'http://www.cs.umd.edu/~keleher/',\n",
       "       'http://www.cs.utexas.edu/users/madhukar/'], dtype=object)"
      ]
     },
     "execution_count": 7,
     "metadata": {},
     "output_type": "execute_result"
    }
   ],
   "source": [
    "urls = ilp['url'].to_numpy()\n",
    "urls"
   ]
  },
  {
   "cell_type": "code",
   "execution_count": 8,
   "metadata": {},
   "outputs": [
    {
     "name": "stderr",
     "output_type": "stream",
     "text": [
      "100%|██████████| 8230/8230 [00:02<00:00, 3946.83it/s]"
     ]
    },
    {
     "name": "stdout",
     "output_type": "stream",
     "text": [
      "http www cs cornell edu info people chandra do on html\n",
      "8230\n"
     ]
    },
    {
     "name": "stderr",
     "output_type": "stream",
     "text": [
      "\n"
     ]
    }
   ],
   "source": [
    "urls_tokenized = []\n",
    "urls_feat = []\n",
    "\n",
    "for url in tqdm(urls):\n",
    "    try:\n",
    "        vec, _ = feat.featurize(url)\n",
    "        urls_feat.append(vec)\n",
    "        \n",
    "        url_data = url_tokenizer(url)\n",
    "        words = flatten_url_data(url_data)\n",
    "        urls_tokenized.append(' '.join(words))\n",
    "    except:\n",
    "        urls_tokenized.append('error')\n",
    "        \n",
    "print(urls_tokenized[5])\n",
    "print(len(urls_tokenized))"
   ]
  },
  {
   "cell_type": "code",
   "execution_count": 9,
   "metadata": {},
   "outputs": [
    {
     "data": {
      "text/plain": [
       "(8230, 11)"
      ]
     },
     "execution_count": 9,
     "metadata": {},
     "output_type": "execute_result"
    }
   ],
   "source": [
    "urls_feat = np.array(urls_feat)\n",
    "urls_feat.shape"
   ]
  },
  {
   "cell_type": "code",
   "execution_count": 10,
   "metadata": {},
   "outputs": [
    {
     "data": {
      "text/html": [
       "<div>\n",
       "<style scoped>\n",
       "    .dataframe tbody tr th:only-of-type {\n",
       "        vertical-align: middle;\n",
       "    }\n",
       "\n",
       "    .dataframe tbody tr th {\n",
       "        vertical-align: top;\n",
       "    }\n",
       "\n",
       "    .dataframe thead th {\n",
       "        text-align: right;\n",
       "    }\n",
       "</style>\n",
       "<table border=\"1\" class=\"dataframe\">\n",
       "  <thead>\n",
       "    <tr style=\"text-align: right;\">\n",
       "      <th></th>\n",
       "      <th>idx</th>\n",
       "      <th>url</th>\n",
       "      <th>label</th>\n",
       "      <th>uni</th>\n",
       "      <th>UrlCleaned</th>\n",
       "      <th>UrlFeat_0</th>\n",
       "      <th>UrlFeat_1</th>\n",
       "      <th>UrlFeat_2</th>\n",
       "      <th>UrlFeat_3</th>\n",
       "      <th>UrlFeat_4</th>\n",
       "      <th>UrlFeat_5</th>\n",
       "      <th>UrlFeat_6</th>\n",
       "      <th>UrlFeat_7</th>\n",
       "      <th>UrlFeat_8</th>\n",
       "      <th>UrlFeat_9</th>\n",
       "      <th>UrlFeat_10</th>\n",
       "    </tr>\n",
       "  </thead>\n",
       "  <tbody>\n",
       "    <tr>\n",
       "      <th>3078</th>\n",
       "      <td>3078</td>\n",
       "      <td>http://www.cs.tufts.edu/ad.html</td>\n",
       "      <td>other</td>\n",
       "      <td>misc</td>\n",
       "      <td>http www cs tufts edu ad html</td>\n",
       "      <td>0</td>\n",
       "      <td>1</td>\n",
       "      <td>2</td>\n",
       "      <td>1</td>\n",
       "      <td>0</td>\n",
       "      <td>2</td>\n",
       "      <td>1</td>\n",
       "      <td>0</td>\n",
       "      <td>0</td>\n",
       "      <td>0</td>\n",
       "      <td>0</td>\n",
       "    </tr>\n",
       "    <tr>\n",
       "      <th>1172</th>\n",
       "      <td>1172</td>\n",
       "      <td>http://www.cs.uoregon.edu/classes/cis211/</td>\n",
       "      <td>course</td>\n",
       "      <td>misc</td>\n",
       "      <td>http www cs u oregon edu classes c is 211</td>\n",
       "      <td>0</td>\n",
       "      <td>2</td>\n",
       "      <td>2</td>\n",
       "      <td>1</td>\n",
       "      <td>0</td>\n",
       "      <td>4</td>\n",
       "      <td>1</td>\n",
       "      <td>0</td>\n",
       "      <td>3</td>\n",
       "      <td>0</td>\n",
       "      <td>3</td>\n",
       "    </tr>\n",
       "    <tr>\n",
       "      <th>8214</th>\n",
       "      <td>8214</td>\n",
       "      <td>http://www.cs.washington.edu/homes/fisher/</td>\n",
       "      <td>staff</td>\n",
       "      <td>washington</td>\n",
       "      <td>http www cs washington edu homes fisher</td>\n",
       "      <td>0</td>\n",
       "      <td>1</td>\n",
       "      <td>2</td>\n",
       "      <td>1</td>\n",
       "      <td>0</td>\n",
       "      <td>2</td>\n",
       "      <td>1</td>\n",
       "      <td>0</td>\n",
       "      <td>0</td>\n",
       "      <td>0</td>\n",
       "      <td>0</td>\n",
       "    </tr>\n",
       "    <tr>\n",
       "      <th>496</th>\n",
       "      <td>496</td>\n",
       "      <td>http://swarm.wustl.edu/~roman/</td>\n",
       "      <td>faculty</td>\n",
       "      <td>misc</td>\n",
       "      <td>http swarm wu st l edu roman</td>\n",
       "      <td>0</td>\n",
       "      <td>3</td>\n",
       "      <td>1</td>\n",
       "      <td>0</td>\n",
       "      <td>0</td>\n",
       "      <td>1</td>\n",
       "      <td>1</td>\n",
       "      <td>0</td>\n",
       "      <td>0</td>\n",
       "      <td>0</td>\n",
       "      <td>0</td>\n",
       "    </tr>\n",
       "    <tr>\n",
       "      <th>2132</th>\n",
       "      <td>2132</td>\n",
       "      <td>http://www.cs.cornell.edu/Info/People/ahuja/re...</td>\n",
       "      <td>other</td>\n",
       "      <td>cornell</td>\n",
       "      <td>http www cs cornell edu info people ahu j a re...</td>\n",
       "      <td>0</td>\n",
       "      <td>1</td>\n",
       "      <td>2</td>\n",
       "      <td>1</td>\n",
       "      <td>0</td>\n",
       "      <td>7</td>\n",
       "      <td>1</td>\n",
       "      <td>0</td>\n",
       "      <td>0</td>\n",
       "      <td>0</td>\n",
       "      <td>0</td>\n",
       "    </tr>\n",
       "    <tr>\n",
       "      <th>...</th>\n",
       "      <td>...</td>\n",
       "      <td>...</td>\n",
       "      <td>...</td>\n",
       "      <td>...</td>\n",
       "      <td>...</td>\n",
       "      <td>...</td>\n",
       "      <td>...</td>\n",
       "      <td>...</td>\n",
       "      <td>...</td>\n",
       "      <td>...</td>\n",
       "      <td>...</td>\n",
       "      <td>...</td>\n",
       "      <td>...</td>\n",
       "      <td>...</td>\n",
       "      <td>...</td>\n",
       "      <td>...</td>\n",
       "    </tr>\n",
       "    <tr>\n",
       "      <th>5734</th>\n",
       "      <td>5734</td>\n",
       "      <td>http://www.cs.utexas.edu/users/nl-acq/prop-pap...</td>\n",
       "      <td>other</td>\n",
       "      <td>texas</td>\n",
       "      <td>http www cs u texas edu users nl acq prop pape...</td>\n",
       "      <td>0</td>\n",
       "      <td>2</td>\n",
       "      <td>2</td>\n",
       "      <td>1</td>\n",
       "      <td>0</td>\n",
       "      <td>6</td>\n",
       "      <td>1</td>\n",
       "      <td>0</td>\n",
       "      <td>0</td>\n",
       "      <td>0</td>\n",
       "      <td>0</td>\n",
       "    </tr>\n",
       "    <tr>\n",
       "      <th>5191</th>\n",
       "      <td>5191</td>\n",
       "      <td>http://www.cs.wisc.edu/coral/coral.bugreport.html</td>\n",
       "      <td>other</td>\n",
       "      <td>wisconsin</td>\n",
       "      <td>http www cs wisc edu coral coral bug report html</td>\n",
       "      <td>0</td>\n",
       "      <td>1</td>\n",
       "      <td>2</td>\n",
       "      <td>1</td>\n",
       "      <td>0</td>\n",
       "      <td>5</td>\n",
       "      <td>1</td>\n",
       "      <td>0</td>\n",
       "      <td>0</td>\n",
       "      <td>0</td>\n",
       "      <td>0</td>\n",
       "    </tr>\n",
       "    <tr>\n",
       "      <th>5390</th>\n",
       "      <td>5390</td>\n",
       "      <td>http://www.cs.utexas.edu/users/yufeng/cs378/wi...</td>\n",
       "      <td>other</td>\n",
       "      <td>texas</td>\n",
       "      <td>http www cs u texas edu users yu feng cs 378 w...</td>\n",
       "      <td>0</td>\n",
       "      <td>2</td>\n",
       "      <td>2</td>\n",
       "      <td>1</td>\n",
       "      <td>0</td>\n",
       "      <td>10</td>\n",
       "      <td>1</td>\n",
       "      <td>0</td>\n",
       "      <td>4</td>\n",
       "      <td>0</td>\n",
       "      <td>4</td>\n",
       "    </tr>\n",
       "    <tr>\n",
       "      <th>860</th>\n",
       "      <td>860</td>\n",
       "      <td>http://www.cs.umd.edu/~keleher/</td>\n",
       "      <td>faculty</td>\n",
       "      <td>misc</td>\n",
       "      <td>http www cs umd edu kele her</td>\n",
       "      <td>0</td>\n",
       "      <td>1</td>\n",
       "      <td>2</td>\n",
       "      <td>1</td>\n",
       "      <td>0</td>\n",
       "      <td>2</td>\n",
       "      <td>1</td>\n",
       "      <td>0</td>\n",
       "      <td>0</td>\n",
       "      <td>0</td>\n",
       "      <td>0</td>\n",
       "    </tr>\n",
       "    <tr>\n",
       "      <th>7270</th>\n",
       "      <td>7270</td>\n",
       "      <td>http://www.cs.utexas.edu/users/madhukar/</td>\n",
       "      <td>student</td>\n",
       "      <td>texas</td>\n",
       "      <td>http www cs u texas edu users mad hu kar</td>\n",
       "      <td>0</td>\n",
       "      <td>2</td>\n",
       "      <td>2</td>\n",
       "      <td>1</td>\n",
       "      <td>0</td>\n",
       "      <td>4</td>\n",
       "      <td>1</td>\n",
       "      <td>0</td>\n",
       "      <td>0</td>\n",
       "      <td>0</td>\n",
       "      <td>0</td>\n",
       "    </tr>\n",
       "  </tbody>\n",
       "</table>\n",
       "<p>8230 rows × 16 columns</p>\n",
       "</div>"
      ],
      "text/plain": [
       "       idx                                                url    label  \\\n",
       "3078  3078                    http://www.cs.tufts.edu/ad.html    other   \n",
       "1172  1172          http://www.cs.uoregon.edu/classes/cis211/   course   \n",
       "8214  8214         http://www.cs.washington.edu/homes/fisher/    staff   \n",
       "496    496                     http://swarm.wustl.edu/~roman/  faculty   \n",
       "2132  2132  http://www.cs.cornell.edu/Info/People/ahuja/re...    other   \n",
       "...    ...                                                ...      ...   \n",
       "5734  5734  http://www.cs.utexas.edu/users/nl-acq/prop-pap...    other   \n",
       "5191  5191  http://www.cs.wisc.edu/coral/coral.bugreport.html    other   \n",
       "5390  5390  http://www.cs.utexas.edu/users/yufeng/cs378/wi...    other   \n",
       "860    860                    http://www.cs.umd.edu/~keleher/  faculty   \n",
       "7270  7270           http://www.cs.utexas.edu/users/madhukar/  student   \n",
       "\n",
       "             uni                                         UrlCleaned  \\\n",
       "3078        misc                      http www cs tufts edu ad html   \n",
       "1172        misc          http www cs u oregon edu classes c is 211   \n",
       "8214  washington            http www cs washington edu homes fisher   \n",
       "496         misc                       http swarm wu st l edu roman   \n",
       "2132     cornell  http www cs cornell edu info people ahu j a re...   \n",
       "...          ...                                                ...   \n",
       "5734       texas  http www cs u texas edu users nl acq prop pape...   \n",
       "5191   wisconsin   http www cs wisc edu coral coral bug report html   \n",
       "5390       texas  http www cs u texas edu users yu feng cs 378 w...   \n",
       "860         misc                       http www cs umd edu kele her   \n",
       "7270       texas           http www cs u texas edu users mad hu kar   \n",
       "\n",
       "      UrlFeat_0  UrlFeat_1  UrlFeat_2  UrlFeat_3  UrlFeat_4  UrlFeat_5  \\\n",
       "3078          0          1          2          1          0          2   \n",
       "1172          0          2          2          1          0          4   \n",
       "8214          0          1          2          1          0          2   \n",
       "496           0          3          1          0          0          1   \n",
       "2132          0          1          2          1          0          7   \n",
       "...         ...        ...        ...        ...        ...        ...   \n",
       "5734          0          2          2          1          0          6   \n",
       "5191          0          1          2          1          0          5   \n",
       "5390          0          2          2          1          0         10   \n",
       "860           0          1          2          1          0          2   \n",
       "7270          0          2          2          1          0          4   \n",
       "\n",
       "      UrlFeat_6  UrlFeat_7  UrlFeat_8  UrlFeat_9  UrlFeat_10  \n",
       "3078          1          0          0          0           0  \n",
       "1172          1          0          3          0           3  \n",
       "8214          1          0          0          0           0  \n",
       "496           1          0          0          0           0  \n",
       "2132          1          0          0          0           0  \n",
       "...         ...        ...        ...        ...         ...  \n",
       "5734          1          0          0          0           0  \n",
       "5191          1          0          0          0           0  \n",
       "5390          1          0          4          0           4  \n",
       "860           1          0          0          0           0  \n",
       "7270          1          0          0          0           0  \n",
       "\n",
       "[8230 rows x 16 columns]"
      ]
     },
     "execution_count": 10,
     "metadata": {},
     "output_type": "execute_result"
    }
   ],
   "source": [
    "NUM_FEATS = urls_feat.shape[1]\n",
    "\n",
    "ilp[URL_CLEANED] = urls_tokenized\n",
    "for i in range(NUM_FEATS):\n",
    "    ilp[f'{URL_FEAT}_{i}'] = urls_feat[:, i]\n",
    "ilp"
   ]
  },
  {
   "cell_type": "code",
   "execution_count": 11,
   "metadata": {},
   "outputs": [],
   "source": [
    "extra_features = [f'{URL_FEAT}_{i}' for i in range(NUM_FEATS)]"
   ]
  },
  {
   "cell_type": "code",
   "execution_count": 12,
   "metadata": {},
   "outputs": [],
   "source": [
    "def transform_func(x):\n",
    "    return np.log1p(x + 1)\n",
    "\n",
    "\n",
    "def fit_transform_nb(df):\n",
    "    vectorizer_0 = TfidfVectorizer(\n",
    "        analyzer='word',\n",
    "        strip_accents='unicode'\n",
    "    )\n",
    "    column_trans = ColumnTransformer([\n",
    "        ('tfidf_word', vectorizer_0, URL_CLEANED),\n",
    "        #('feat', FunctionTransformer(transform_func), extra_features)\n",
    "    ])\n",
    "    column_trans.fit(df)\n",
    "    mat = column_trans.transform(df)\n",
    "    return mat, column_trans"
   ]
  },
  {
   "cell_type": "code",
   "execution_count": 13,
   "metadata": {},
   "outputs": [],
   "source": [
    "X, y = ilp[[URL_CLEANED, *extra_features]], ilp['label']\n",
    "\n",
    "X_train, X_val, y_train, y_val = \\\n",
    "        train_test_split(X, y, test_size=VAL_PROP, random_state=SEED)\n",
    "\n",
    "\n",
    "X_train_pre, trans = fit_transform_nb(X_train)"
   ]
  },
  {
   "cell_type": "code",
   "execution_count": 14,
   "metadata": {},
   "outputs": [
    {
     "data": {
      "text/plain": [
       "<6584x5219 sparse matrix of type '<class 'numpy.float64'>'\n",
       "\twith 58334 stored elements in Compressed Sparse Row format>"
      ]
     },
     "execution_count": 14,
     "metadata": {},
     "output_type": "execute_result"
    }
   ],
   "source": [
    "X_train_pre"
   ]
  },
  {
   "cell_type": "markdown",
   "metadata": {},
   "source": [
    "# Naive Bayes"
   ]
  },
  {
   "cell_type": "markdown",
   "metadata": {},
   "source": [
    "### Train the model"
   ]
  },
  {
   "cell_type": "code",
   "execution_count": 15,
   "metadata": {},
   "outputs": [],
   "source": [
    "alpha = 0.6\n",
    "\n",
    "model = MultinomialNB(\n",
    "    alpha=alpha,\n",
    "    fit_prior=False,\n",
    ").fit(X_train_pre, y_train)"
   ]
  },
  {
   "cell_type": "markdown",
   "metadata": {},
   "source": [
    "### Test on train data"
   ]
  },
  {
   "cell_type": "code",
   "execution_count": 16,
   "metadata": {},
   "outputs": [
    {
     "name": "stdout",
     "output_type": "stream",
     "text": [
      "F1  = 0.7254152539498947\n",
      "Acc = 0.818955042527339\n"
     ]
    }
   ],
   "source": [
    "preds_train = model.predict(X_train_pre)\n",
    "\n",
    "f1_train = f1_score(y_train, preds_train, average='macro')\n",
    "acc_train = accuracy_score(y_train, preds_train)\n",
    "print(f'F1  = {f1_train}\\nAcc = {acc_train}')"
   ]
  },
  {
   "cell_type": "markdown",
   "metadata": {},
   "source": [
    "### Test on val data"
   ]
  },
  {
   "cell_type": "code",
   "execution_count": 17,
   "metadata": {},
   "outputs": [
    {
     "name": "stdout",
     "output_type": "stream",
     "text": [
      "F1  = 0.48199705726025466\n",
      "Acc = 0.6670716889428918\n"
     ]
    }
   ],
   "source": [
    "X_val_pre = trans.transform(X_val)\n",
    "preds_val = model.predict(X_val_pre)\n",
    "\n",
    "f1_val_nb = f1_score(y_val, preds_val, average='macro')\n",
    "acc_val_nb = accuracy_score(y_val, preds_val)\n",
    "print(f'F1  = {f1_val_nb}\\nAcc = {acc_val_nb}')"
   ]
  },
  {
   "cell_type": "markdown",
   "metadata": {},
   "source": [
    "# Logistic Regression"
   ]
  },
  {
   "cell_type": "code",
   "execution_count": 18,
   "metadata": {},
   "outputs": [],
   "source": [
    "def id_func(x):\n",
    "    return x\n",
    "\n",
    "\n",
    "def fit_transform_lr(df):\n",
    "    vectorizer_0 = TfidfVectorizer(\n",
    "        analyzer='word',\n",
    "        strip_accents='unicode'\n",
    "    )\n",
    "    column_trans = ColumnTransformer([\n",
    "        ('tfidf_word', vectorizer_0, URL_CLEANED),\n",
    "        ('feat', FunctionTransformer(id_func), extra_features)\n",
    "    ])\n",
    "    column_trans.fit(df)\n",
    "    mat = column_trans.transform(df)\n",
    "    return mat, column_trans"
   ]
  },
  {
   "cell_type": "code",
   "execution_count": 19,
   "metadata": {},
   "outputs": [],
   "source": [
    "X, y = ilp[[URL_CLEANED, *extra_features]], ilp['label']\n",
    "\n",
    "X_train, X_val, y_train, y_val = \\\n",
    "        train_test_split(X, y, test_size=VAL_PROP, random_state=SEED)\n",
    "\n",
    "\n",
    "X_train_pre, trans = fit_transform_lr(X_train)"
   ]
  },
  {
   "cell_type": "markdown",
   "metadata": {},
   "source": [
    "### Train the model"
   ]
  },
  {
   "cell_type": "code",
   "execution_count": 20,
   "metadata": {},
   "outputs": [],
   "source": [
    "C = 0.8\n",
    "\n",
    "model = LogisticRegression(\n",
    "    class_weight='balanced', C=C, max_iter=1200\n",
    ").fit(X_train_pre, y_train)"
   ]
  },
  {
   "cell_type": "markdown",
   "metadata": {},
   "source": [
    "### Test on train data"
   ]
  },
  {
   "cell_type": "code",
   "execution_count": 21,
   "metadata": {},
   "outputs": [
    {
     "name": "stdout",
     "output_type": "stream",
     "text": [
      "F1  = 0.7771079304763951\n",
      "Acc = 0.8165249088699879\n"
     ]
    }
   ],
   "source": [
    "preds_train = model.predict(X_train_pre)\n",
    "\n",
    "f1_train = f1_score(y_train, preds_train, average='macro')\n",
    "acc_train = accuracy_score(y_train, preds_train)\n",
    "print(f'F1  = {f1_train}\\nAcc = {acc_train}')"
   ]
  },
  {
   "cell_type": "markdown",
   "metadata": {},
   "source": [
    "### Test on val data"
   ]
  },
  {
   "cell_type": "code",
   "execution_count": 22,
   "metadata": {},
   "outputs": [
    {
     "name": "stdout",
     "output_type": "stream",
     "text": [
      "F1  = 0.5781321808415699\n",
      "Acc = 0.6907654921020656\n"
     ]
    }
   ],
   "source": [
    "X_val_pre = trans.transform(X_val)\n",
    "preds_val = model.predict(X_val_pre)\n",
    "\n",
    "f1_val_lr = f1_score(y_val, preds_val, average='macro')\n",
    "acc_val_lr = accuracy_score(y_val, preds_val)\n",
    "print(f'F1  = {f1_val_lr}\\nAcc = {acc_val_lr}')"
   ]
  },
  {
   "cell_type": "markdown",
   "metadata": {},
   "source": [
    "# Support Vector Machine"
   ]
  },
  {
   "cell_type": "code",
   "execution_count": 73,
   "metadata": {},
   "outputs": [],
   "source": [
    "def id_func(x):\n",
    "    return x\n",
    "\n",
    "\n",
    "def fit_transform_svm(df):\n",
    "    vectorizer_0 = TfidfVectorizer(\n",
    "        analyzer='word',\n",
    "        strip_accents='unicode'\n",
    "    )\n",
    "    column_trans = ColumnTransformer([\n",
    "        ('tfidf_word', vectorizer_0, URL_CLEANED),\n",
    "        ('feat', FunctionTransformer(id_func), extra_features)\n",
    "    ])\n",
    "    column_trans.fit(df)\n",
    "    mat = column_trans.transform(df)\n",
    "    return mat, column_trans"
   ]
  },
  {
   "cell_type": "code",
   "execution_count": 74,
   "metadata": {},
   "outputs": [],
   "source": [
    "X, y = ilp[[URL_CLEANED, *extra_features]], ilp['label']\n",
    "\n",
    "X_train, X_val, y_train, y_val = \\\n",
    "        train_test_split(X, y, test_size=VAL_PROP, random_state=SEED)\n",
    "\n",
    "\n",
    "X_train_pre, trans = fit_transform_svm(X_train)"
   ]
  },
  {
   "cell_type": "markdown",
   "metadata": {},
   "source": [
    "### Train the model"
   ]
  },
  {
   "cell_type": "code",
   "execution_count": 79,
   "metadata": {},
   "outputs": [
    {
     "name": "stderr",
     "output_type": "stream",
     "text": [
      "/usr/local/anaconda3/lib/python3.8/site-packages/sklearn/svm/_base.py:985: ConvergenceWarning: Liblinear failed to converge, increase the number of iterations.\n",
      "  warnings.warn(\"Liblinear failed to converge, increase \"\n"
     ]
    }
   ],
   "source": [
    "model = svm.LinearSVC(\n",
    "    random_state=SEED, max_iter=5000\n",
    ").fit(X_train_pre, y_train)"
   ]
  },
  {
   "cell_type": "markdown",
   "metadata": {},
   "source": [
    "### Test on train data"
   ]
  },
  {
   "cell_type": "code",
   "execution_count": 80,
   "metadata": {},
   "outputs": [
    {
     "name": "stdout",
     "output_type": "stream",
     "text": [
      "F1  = 0.9526877568588937\n",
      "Acc = 0.9647630619684082\n"
     ]
    }
   ],
   "source": [
    "preds_train = model.predict(X_train_pre)\n",
    "\n",
    "f1_train = f1_score(y_train, preds_train, average='macro')\n",
    "acc_train = accuracy_score(y_train, preds_train)\n",
    "print(f'F1  = {f1_train}\\nAcc = {acc_train}')"
   ]
  },
  {
   "cell_type": "markdown",
   "metadata": {},
   "source": [
    "### Test on val data"
   ]
  },
  {
   "cell_type": "code",
   "execution_count": 81,
   "metadata": {},
   "outputs": [
    {
     "name": "stdout",
     "output_type": "stream",
     "text": [
      "F1  = 0.5874028949464528\n",
      "Acc = 0.7339003645200486\n"
     ]
    }
   ],
   "source": [
    "X_val_pre = trans.transform(X_val)\n",
    "preds_val = model.predict(X_val_pre)\n",
    "\n",
    "f1_val_svm = f1_score(y_val, preds_val, average='macro')\n",
    "acc_val_svm = accuracy_score(y_val, preds_val)\n",
    "print(f'F1  = {f1_val_svm}\\nAcc = {acc_val_svm}')"
   ]
  },
  {
   "cell_type": "markdown",
   "metadata": {},
   "source": [
    "# Write the data to disk"
   ]
  },
  {
   "cell_type": "code",
   "execution_count": 87,
   "metadata": {},
   "outputs": [],
   "source": [
    "accs = {\n",
    "    'NB': {'F1': f1_val_nb, 'Val Acc': acc_val_nb},\n",
    "    'LR': {'F1': f1_val_lr, 'Val Acc': acc_val_lr},\n",
    "    'SVM': {'F1': f1_val_svm, 'Val Acc': acc_val_svm}\n",
    "}\n",
    "\n",
    "with open('baselines/results/ilp.json', 'w') as f:\n",
    "    f.write(json.dumps(accs))"
   ]
  },
  {
   "cell_type": "code",
   "execution_count": null,
   "metadata": {},
   "outputs": [],
   "source": []
  }
 ],
 "metadata": {
  "kernelspec": {
   "display_name": "Python 3",
   "language": "python",
   "name": "python3"
  },
  "language_info": {
   "codemirror_mode": {
    "name": "ipython",
    "version": 3
   },
   "file_extension": ".py",
   "mimetype": "text/x-python",
   "name": "python",
   "nbconvert_exporter": "python",
   "pygments_lexer": "ipython3",
   "version": "3.8.3"
  }
 },
 "nbformat": 4,
 "nbformat_minor": 4
}
