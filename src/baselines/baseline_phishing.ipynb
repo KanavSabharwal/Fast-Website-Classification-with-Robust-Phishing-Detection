{
 "cells": [
  {
   "cell_type": "code",
   "execution_count": 2,
   "metadata": {},
   "outputs": [],
   "source": [
    "from typing import List, Union, Tuple, Any\n",
    "import os\n",
    "import csv\n",
    "import json\n",
    "\n",
    "from sklearn.model_selection import train_test_split\n",
    "from sklearn.metrics import f1_score, accuracy_score\n",
    "\n",
    "from sklearn.naive_bayes import MultinomialNB\n",
    "from sklearn.linear_model import LogisticRegression\n",
    "from sklearn import svm\n",
    "\n",
    "from sklearn.feature_extraction.text import TfidfVectorizer\n",
    "from sklearn.preprocessing import FunctionTransformer\n",
    "from sklearn.compose import ColumnTransformer\n",
    "\n",
    "from tqdm import tqdm\n",
    "import numpy as np\n",
    "import pandas as pd"
   ]
  },
  {
   "cell_type": "code",
   "execution_count": 3,
   "metadata": {},
   "outputs": [],
   "source": [
    "%%capture\n",
    "# 'capture' silences output.\n",
    "# The below cd is necessary to import local functions in parent directory\n",
    "%cd ..\n",
    "\n",
    "from read_data import read_phishing\n",
    "from url_tokenizer import url_tokenizer, flatten_url_data\n",
    "from featurizer import UrlFeaturizer, SAMPLE"
   ]
  },
  {
   "cell_type": "code",
   "execution_count": 4,
   "metadata": {},
   "outputs": [],
   "source": [
    "URL_CLEANED = 'UrlCleaned'\n",
    "URL_FEAT = 'UrlFeat'\n",
    "\n",
    "VAL_PROP = 0.2\n",
    "\n",
    "SEED = 42  # for reproducibility\n",
    "np.random.seed(SEED)"
   ]
  },
  {
   "cell_type": "code",
   "execution_count": 5,
   "metadata": {},
   "outputs": [],
   "source": [
    "feat = UrlFeaturizer(SAMPLE, verbose=False)"
   ]
  },
  {
   "cell_type": "code",
   "execution_count": 6,
   "metadata": {},
   "outputs": [
    {
     "data": {
      "text/html": [
       "<div>\n",
       "<style scoped>\n",
       "    .dataframe tbody tr th:only-of-type {\n",
       "        vertical-align: middle;\n",
       "    }\n",
       "\n",
       "    .dataframe tbody tr th {\n",
       "        vertical-align: top;\n",
       "    }\n",
       "\n",
       "    .dataframe thead th {\n",
       "        text-align: right;\n",
       "    }\n",
       "</style>\n",
       "<table border=\"1\" class=\"dataframe\">\n",
       "  <thead>\n",
       "    <tr style=\"text-align: right;\">\n",
       "      <th></th>\n",
       "      <th>idx</th>\n",
       "      <th>url</th>\n",
       "      <th>label</th>\n",
       "    </tr>\n",
       "  </thead>\n",
       "  <tbody>\n",
       "    <tr>\n",
       "      <th>9095</th>\n",
       "      <td>19060</td>\n",
       "      <td>http://codecanyon.net/item/responsive-flipbook...</td>\n",
       "      <td>benign</td>\n",
       "    </tr>\n",
       "    <tr>\n",
       "      <th>21993</th>\n",
       "      <td>31958</td>\n",
       "      <td>http://tobogo.net/cdsb/board.php?board=storyan...</td>\n",
       "      <td>benign</td>\n",
       "    </tr>\n",
       "    <tr>\n",
       "      <th>14851</th>\n",
       "      <td>24816</td>\n",
       "      <td>http://thenextweb.com/apps/2011/07/24/the-comp...</td>\n",
       "      <td>benign</td>\n",
       "    </tr>\n",
       "    <tr>\n",
       "      <th>6092</th>\n",
       "      <td>16057</td>\n",
       "      <td>http://1337x.to/torrent/1160230/Learn-Wordpres...</td>\n",
       "      <td>benign</td>\n",
       "    </tr>\n",
       "    <tr>\n",
       "      <th>28254</th>\n",
       "      <td>38219</td>\n",
       "      <td>http://torcache.net/torrent/EF4AECEE43C5FA26E8...</td>\n",
       "      <td>benign</td>\n",
       "    </tr>\n",
       "    <tr>\n",
       "      <th>...</th>\n",
       "      <td>...</td>\n",
       "      <td>...</td>\n",
       "      <td>...</td>\n",
       "    </tr>\n",
       "    <tr>\n",
       "      <th>1321</th>\n",
       "      <td>11286</td>\n",
       "      <td>http://hubpages.com/topics/business-and-employ...</td>\n",
       "      <td>benign</td>\n",
       "    </tr>\n",
       "    <tr>\n",
       "      <th>34769</th>\n",
       "      <td>44734</td>\n",
       "      <td>https://twitter.com/home?status=%E3%83%8C%E3%8...</td>\n",
       "      <td>benign</td>\n",
       "    </tr>\n",
       "    <tr>\n",
       "      <th>28195</th>\n",
       "      <td>38160</td>\n",
       "      <td>https://medium.com/keep-learning-keep-growing/...</td>\n",
       "      <td>benign</td>\n",
       "    </tr>\n",
       "    <tr>\n",
       "      <th>860</th>\n",
       "      <td>860</td>\n",
       "      <td>http://florimat.com/sphere3d/webscr.php?cmd=_l...</td>\n",
       "      <td>phishing</td>\n",
       "    </tr>\n",
       "    <tr>\n",
       "      <th>5832</th>\n",
       "      <td>15797</td>\n",
       "      <td>http://sfglobe.com/2015/05/04/a-radio-show-sur...</td>\n",
       "      <td>benign</td>\n",
       "    </tr>\n",
       "  </tbody>\n",
       "</table>\n",
       "<p>45341 rows × 3 columns</p>\n",
       "</div>"
      ],
      "text/plain": [
       "         idx                                                url     label\n",
       "9095   19060  http://codecanyon.net/item/responsive-flipbook...    benign\n",
       "21993  31958  http://tobogo.net/cdsb/board.php?board=storyan...    benign\n",
       "14851  24816  http://thenextweb.com/apps/2011/07/24/the-comp...    benign\n",
       "6092   16057  http://1337x.to/torrent/1160230/Learn-Wordpres...    benign\n",
       "28254  38219  http://torcache.net/torrent/EF4AECEE43C5FA26E8...    benign\n",
       "...      ...                                                ...       ...\n",
       "1321   11286  http://hubpages.com/topics/business-and-employ...    benign\n",
       "34769  44734  https://twitter.com/home?status=%E3%83%8C%E3%8...    benign\n",
       "28195  38160  https://medium.com/keep-learning-keep-growing/...    benign\n",
       "860      860  http://florimat.com/sphere3d/webscr.php?cmd=_l...  phishing\n",
       "5832   15797  http://sfglobe.com/2015/05/04/a-radio-show-sur...    benign\n",
       "\n",
       "[45341 rows x 3 columns]"
      ]
     },
     "execution_count": 6,
     "metadata": {},
     "output_type": "execute_result"
    }
   ],
   "source": [
    "phishing = read_phishing().sample(frac=1, random_state=SEED)\n",
    "phishing"
   ]
  },
  {
   "cell_type": "code",
   "execution_count": 7,
   "metadata": {},
   "outputs": [
    {
     "data": {
      "text/plain": [
       "label\n",
       "benign      35378\n",
       "phishing     9963\n",
       "dtype: int64"
      ]
     },
     "execution_count": 7,
     "metadata": {},
     "output_type": "execute_result"
    }
   ],
   "source": [
    "phishing.groupby(['label']).size()"
   ]
  },
  {
   "cell_type": "code",
   "execution_count": 8,
   "metadata": {},
   "outputs": [
    {
     "data": {
      "text/plain": [
       "array(['http://codecanyon.net/item/responsive-flipbook-wordpress-plugin/full_screen_preview/2372863',\n",
       "       'http://tobogo.net/cdsb/board.php?board=storyani&bm=view&no=77&category=&auth=&page=1&search=&keyword=&recom=',\n",
       "       'http://thenextweb.com/apps/2011/07/24/the-complete-list-of-top-instagram-apps/pictarine/gtm.start',\n",
       "       ...,\n",
       "       'https://medium.com/keep-learning-keep-growing/how-do-i-know-if-i-should-take-a-job-at-a-startup-9e81c7a182af?source=top-stories',\n",
       "       'http://florimat.com/sphere3d/webscr.php?cmd=_login-run&dispatch=5885d80a13c0db1f1ff80d546411d7f84f1036d8f209d3d19ebb6f4eeec8bd0ea2c981a1ba041f14509654c0a1ca8fefa2c981a1ba041f14509654c0a1ca8fef',\n",
       "       'http://sfglobe.com/2015/05/04/a-radio-show-surprises-this-mom-after-he-son-passed-away/'],\n",
       "      dtype=object)"
      ]
     },
     "execution_count": 8,
     "metadata": {},
     "output_type": "execute_result"
    }
   ],
   "source": [
    "urls = phishing['url'].to_numpy()\n",
    "urls"
   ]
  },
  {
   "cell_type": "code",
   "execution_count": 9,
   "metadata": {},
   "outputs": [
    {
     "name": "stderr",
     "output_type": "stream",
     "text": [
      "100%|██████████| 45341/45341 [00:43<00:00, 1034.69it/s]"
     ]
    },
    {
     "name": "stdout",
     "output_type": "stream",
     "text": [
      "http ki en th uc net vn diem thi diem chuan dai hoc cong ngh i ep ha noi nam 2014 482421 html\n",
      "45341\n"
     ]
    },
    {
     "name": "stderr",
     "output_type": "stream",
     "text": [
      "\n"
     ]
    }
   ],
   "source": [
    "urls_tokenized = []\n",
    "urls_feat = []\n",
    "\n",
    "for url in tqdm(urls):\n",
    "    try:\n",
    "        vec, _ = feat.featurize(url)\n",
    "        urls_feat.append(vec)\n",
    "        \n",
    "        url_data = url_tokenizer(url)\n",
    "        words = flatten_url_data(url_data)\n",
    "        urls_tokenized.append(' '.join(words))\n",
    "    except:\n",
    "        urls_tokenized.append('error')\n",
    "        \n",
    "print(urls_tokenized[5])\n",
    "print(len(urls_tokenized))"
   ]
  },
  {
   "cell_type": "code",
   "execution_count": 10,
   "metadata": {},
   "outputs": [
    {
     "data": {
      "text/plain": [
       "(45341, 11)"
      ]
     },
     "execution_count": 10,
     "metadata": {},
     "output_type": "execute_result"
    }
   ],
   "source": [
    "urls_feat = np.array(urls_feat)\n",
    "urls_feat.shape"
   ]
  },
  {
   "cell_type": "code",
   "execution_count": 11,
   "metadata": {},
   "outputs": [
    {
     "data": {
      "text/html": [
       "<div>\n",
       "<style scoped>\n",
       "    .dataframe tbody tr th:only-of-type {\n",
       "        vertical-align: middle;\n",
       "    }\n",
       "\n",
       "    .dataframe tbody tr th {\n",
       "        vertical-align: top;\n",
       "    }\n",
       "\n",
       "    .dataframe thead th {\n",
       "        text-align: right;\n",
       "    }\n",
       "</style>\n",
       "<table border=\"1\" class=\"dataframe\">\n",
       "  <thead>\n",
       "    <tr style=\"text-align: right;\">\n",
       "      <th></th>\n",
       "      <th>idx</th>\n",
       "      <th>url</th>\n",
       "      <th>label</th>\n",
       "      <th>UrlCleaned</th>\n",
       "      <th>UrlFeat_0</th>\n",
       "      <th>UrlFeat_1</th>\n",
       "      <th>UrlFeat_2</th>\n",
       "      <th>UrlFeat_3</th>\n",
       "      <th>UrlFeat_4</th>\n",
       "      <th>UrlFeat_5</th>\n",
       "      <th>UrlFeat_6</th>\n",
       "      <th>UrlFeat_7</th>\n",
       "      <th>UrlFeat_8</th>\n",
       "      <th>UrlFeat_9</th>\n",
       "      <th>UrlFeat_10</th>\n",
       "    </tr>\n",
       "  </thead>\n",
       "  <tbody>\n",
       "    <tr>\n",
       "      <th>9095</th>\n",
       "      <td>19060</td>\n",
       "      <td>http://codecanyon.net/item/responsive-flipbook...</td>\n",
       "      <td>benign</td>\n",
       "      <td>http code canyon net item responsive flip book...</td>\n",
       "      <td>0</td>\n",
       "      <td>2</td>\n",
       "      <td>0</td>\n",
       "      <td>0</td>\n",
       "      <td>0</td>\n",
       "      <td>10</td>\n",
       "      <td>1</td>\n",
       "      <td>0</td>\n",
       "      <td>7</td>\n",
       "      <td>0</td>\n",
       "      <td>7</td>\n",
       "    </tr>\n",
       "    <tr>\n",
       "      <th>21993</th>\n",
       "      <td>31958</td>\n",
       "      <td>http://tobogo.net/cdsb/board.php?board=storyan...</td>\n",
       "      <td>benign</td>\n",
       "      <td>http to bogo net cdsb board php board story an...</td>\n",
       "      <td>0</td>\n",
       "      <td>2</td>\n",
       "      <td>0</td>\n",
       "      <td>0</td>\n",
       "      <td>0</td>\n",
       "      <td>3</td>\n",
       "      <td>1</td>\n",
       "      <td>0</td>\n",
       "      <td>0</td>\n",
       "      <td>3</td>\n",
       "      <td>3</td>\n",
       "    </tr>\n",
       "    <tr>\n",
       "      <th>14851</th>\n",
       "      <td>24816</td>\n",
       "      <td>http://thenextweb.com/apps/2011/07/24/the-comp...</td>\n",
       "      <td>benign</td>\n",
       "      <td>http the next web com apps 2011 07 24 the comp...</td>\n",
       "      <td>0</td>\n",
       "      <td>3</td>\n",
       "      <td>0</td>\n",
       "      <td>0</td>\n",
       "      <td>0</td>\n",
       "      <td>19</td>\n",
       "      <td>1</td>\n",
       "      <td>0</td>\n",
       "      <td>8</td>\n",
       "      <td>0</td>\n",
       "      <td>8</td>\n",
       "    </tr>\n",
       "    <tr>\n",
       "      <th>6092</th>\n",
       "      <td>16057</td>\n",
       "      <td>http://1337x.to/torrent/1160230/Learn-Wordpres...</td>\n",
       "      <td>benign</td>\n",
       "      <td>http 1337 x to torrent 1160230 learn wordpress...</td>\n",
       "      <td>0</td>\n",
       "      <td>2</td>\n",
       "      <td>0</td>\n",
       "      <td>0</td>\n",
       "      <td>0</td>\n",
       "      <td>12</td>\n",
       "      <td>0</td>\n",
       "      <td>0</td>\n",
       "      <td>7</td>\n",
       "      <td>0</td>\n",
       "      <td>7</td>\n",
       "    </tr>\n",
       "    <tr>\n",
       "      <th>28254</th>\n",
       "      <td>38219</td>\n",
       "      <td>http://torcache.net/torrent/EF4AECEE43C5FA26E8...</td>\n",
       "      <td>benign</td>\n",
       "      <td>http tor cache net torrent ef 4 a e cee 43 c 5...</td>\n",
       "      <td>0</td>\n",
       "      <td>2</td>\n",
       "      <td>0</td>\n",
       "      <td>0</td>\n",
       "      <td>0</td>\n",
       "      <td>23</td>\n",
       "      <td>1</td>\n",
       "      <td>0</td>\n",
       "      <td>22</td>\n",
       "      <td>0</td>\n",
       "      <td>22</td>\n",
       "    </tr>\n",
       "    <tr>\n",
       "      <th>...</th>\n",
       "      <td>...</td>\n",
       "      <td>...</td>\n",
       "      <td>...</td>\n",
       "      <td>...</td>\n",
       "      <td>...</td>\n",
       "      <td>...</td>\n",
       "      <td>...</td>\n",
       "      <td>...</td>\n",
       "      <td>...</td>\n",
       "      <td>...</td>\n",
       "      <td>...</td>\n",
       "      <td>...</td>\n",
       "      <td>...</td>\n",
       "      <td>...</td>\n",
       "      <td>...</td>\n",
       "    </tr>\n",
       "    <tr>\n",
       "      <th>1321</th>\n",
       "      <td>11286</td>\n",
       "      <td>http://hubpages.com/topics/business-and-employ...</td>\n",
       "      <td>benign</td>\n",
       "      <td>http hub pages com topics business and employm...</td>\n",
       "      <td>0</td>\n",
       "      <td>2</td>\n",
       "      <td>0</td>\n",
       "      <td>0</td>\n",
       "      <td>0</td>\n",
       "      <td>8</td>\n",
       "      <td>1</td>\n",
       "      <td>0</td>\n",
       "      <td>3</td>\n",
       "      <td>0</td>\n",
       "      <td>3</td>\n",
       "    </tr>\n",
       "    <tr>\n",
       "      <th>34769</th>\n",
       "      <td>44734</td>\n",
       "      <td>https://twitter.com/home?status=%E3%83%8C%E3%8...</td>\n",
       "      <td>benign</td>\n",
       "      <td>https twitter com home status</td>\n",
       "      <td>1</td>\n",
       "      <td>1</td>\n",
       "      <td>0</td>\n",
       "      <td>0</td>\n",
       "      <td>0</td>\n",
       "      <td>1</td>\n",
       "      <td>1</td>\n",
       "      <td>0</td>\n",
       "      <td>0</td>\n",
       "      <td>0</td>\n",
       "      <td>0</td>\n",
       "    </tr>\n",
       "    <tr>\n",
       "      <th>28195</th>\n",
       "      <td>38160</td>\n",
       "      <td>https://medium.com/keep-learning-keep-growing/...</td>\n",
       "      <td>benign</td>\n",
       "      <td>https medium com keep learning keep growing ho...</td>\n",
       "      <td>1</td>\n",
       "      <td>1</td>\n",
       "      <td>0</td>\n",
       "      <td>0</td>\n",
       "      <td>0</td>\n",
       "      <td>25</td>\n",
       "      <td>1</td>\n",
       "      <td>0</td>\n",
       "      <td>7</td>\n",
       "      <td>0</td>\n",
       "      <td>7</td>\n",
       "    </tr>\n",
       "    <tr>\n",
       "      <th>860</th>\n",
       "      <td>860</td>\n",
       "      <td>http://florimat.com/sphere3d/webscr.php?cmd=_l...</td>\n",
       "      <td>phishing</td>\n",
       "      <td>http flor im at com sphere 3 d webs cr php cmd...</td>\n",
       "      <td>0</td>\n",
       "      <td>3</td>\n",
       "      <td>0</td>\n",
       "      <td>0</td>\n",
       "      <td>0</td>\n",
       "      <td>6</td>\n",
       "      <td>1</td>\n",
       "      <td>0</td>\n",
       "      <td>1</td>\n",
       "      <td>75</td>\n",
       "      <td>76</td>\n",
       "    </tr>\n",
       "    <tr>\n",
       "      <th>5832</th>\n",
       "      <td>15797</td>\n",
       "      <td>http://sfglobe.com/2015/05/04/a-radio-show-sur...</td>\n",
       "      <td>benign</td>\n",
       "      <td>http sf globe com 2015 05 04 a radio show surp...</td>\n",
       "      <td>0</td>\n",
       "      <td>2</td>\n",
       "      <td>0</td>\n",
       "      <td>0</td>\n",
       "      <td>0</td>\n",
       "      <td>14</td>\n",
       "      <td>1</td>\n",
       "      <td>0</td>\n",
       "      <td>8</td>\n",
       "      <td>0</td>\n",
       "      <td>8</td>\n",
       "    </tr>\n",
       "  </tbody>\n",
       "</table>\n",
       "<p>45341 rows × 15 columns</p>\n",
       "</div>"
      ],
      "text/plain": [
       "         idx                                                url     label  \\\n",
       "9095   19060  http://codecanyon.net/item/responsive-flipbook...    benign   \n",
       "21993  31958  http://tobogo.net/cdsb/board.php?board=storyan...    benign   \n",
       "14851  24816  http://thenextweb.com/apps/2011/07/24/the-comp...    benign   \n",
       "6092   16057  http://1337x.to/torrent/1160230/Learn-Wordpres...    benign   \n",
       "28254  38219  http://torcache.net/torrent/EF4AECEE43C5FA26E8...    benign   \n",
       "...      ...                                                ...       ...   \n",
       "1321   11286  http://hubpages.com/topics/business-and-employ...    benign   \n",
       "34769  44734  https://twitter.com/home?status=%E3%83%8C%E3%8...    benign   \n",
       "28195  38160  https://medium.com/keep-learning-keep-growing/...    benign   \n",
       "860      860  http://florimat.com/sphere3d/webscr.php?cmd=_l...  phishing   \n",
       "5832   15797  http://sfglobe.com/2015/05/04/a-radio-show-sur...    benign   \n",
       "\n",
       "                                              UrlCleaned  UrlFeat_0  \\\n",
       "9095   http code canyon net item responsive flip book...          0   \n",
       "21993  http to bogo net cdsb board php board story an...          0   \n",
       "14851  http the next web com apps 2011 07 24 the comp...          0   \n",
       "6092   http 1337 x to torrent 1160230 learn wordpress...          0   \n",
       "28254  http tor cache net torrent ef 4 a e cee 43 c 5...          0   \n",
       "...                                                  ...        ...   \n",
       "1321   http hub pages com topics business and employm...          0   \n",
       "34769                      https twitter com home status          1   \n",
       "28195  https medium com keep learning keep growing ho...          1   \n",
       "860    http flor im at com sphere 3 d webs cr php cmd...          0   \n",
       "5832   http sf globe com 2015 05 04 a radio show surp...          0   \n",
       "\n",
       "       UrlFeat_1  UrlFeat_2  UrlFeat_3  UrlFeat_4  UrlFeat_5  UrlFeat_6  \\\n",
       "9095           2          0          0          0         10          1   \n",
       "21993          2          0          0          0          3          1   \n",
       "14851          3          0          0          0         19          1   \n",
       "6092           2          0          0          0         12          0   \n",
       "28254          2          0          0          0         23          1   \n",
       "...          ...        ...        ...        ...        ...        ...   \n",
       "1321           2          0          0          0          8          1   \n",
       "34769          1          0          0          0          1          1   \n",
       "28195          1          0          0          0         25          1   \n",
       "860            3          0          0          0          6          1   \n",
       "5832           2          0          0          0         14          1   \n",
       "\n",
       "       UrlFeat_7  UrlFeat_8  UrlFeat_9  UrlFeat_10  \n",
       "9095           0          7          0           7  \n",
       "21993          0          0          3           3  \n",
       "14851          0          8          0           8  \n",
       "6092           0          7          0           7  \n",
       "28254          0         22          0          22  \n",
       "...          ...        ...        ...         ...  \n",
       "1321           0          3          0           3  \n",
       "34769          0          0          0           0  \n",
       "28195          0          7          0           7  \n",
       "860            0          1         75          76  \n",
       "5832           0          8          0           8  \n",
       "\n",
       "[45341 rows x 15 columns]"
      ]
     },
     "execution_count": 11,
     "metadata": {},
     "output_type": "execute_result"
    }
   ],
   "source": [
    "NUM_FEATS = urls_feat.shape[1]\n",
    "\n",
    "phishing[URL_CLEANED] = urls_tokenized\n",
    "for i in range(NUM_FEATS):\n",
    "    phishing[f'{URL_FEAT}_{i}'] = urls_feat[:, i]\n",
    "phishing"
   ]
  },
  {
   "cell_type": "code",
   "execution_count": 12,
   "metadata": {},
   "outputs": [],
   "source": [
    "extra_features = [f'{URL_FEAT}_{i}' for i in range(NUM_FEATS)]"
   ]
  },
  {
   "cell_type": "code",
   "execution_count": 13,
   "metadata": {},
   "outputs": [],
   "source": [
    "def transform_func(x):\n",
    "    return np.log1p(x + 1)\n",
    "\n",
    "\n",
    "def fit_transform_nb(df):\n",
    "    vectorizer_0 = TfidfVectorizer(\n",
    "        analyzer='word',\n",
    "        strip_accents='unicode'\n",
    "    )\n",
    "    column_trans = ColumnTransformer([\n",
    "        ('tfidf_word', vectorizer_0, URL_CLEANED),\n",
    "        #('feat', FunctionTransformer(transform_func), extra_features)\n",
    "    ])\n",
    "    column_trans.fit(df)\n",
    "    mat = column_trans.transform(df)\n",
    "    return mat, column_trans"
   ]
  },
  {
   "cell_type": "code",
   "execution_count": 14,
   "metadata": {},
   "outputs": [],
   "source": [
    "X, y = phishing[[URL_CLEANED, *extra_features]], phishing['label']\n",
    "\n",
    "X_train, X_val, y_train, y_val = \\\n",
    "        train_test_split(X, y, test_size=VAL_PROP, random_state=SEED)\n",
    "\n",
    "\n",
    "X_train_pre, trans = fit_transform_nb(X_train)"
   ]
  },
  {
   "cell_type": "code",
   "execution_count": 15,
   "metadata": {},
   "outputs": [
    {
     "data": {
      "text/plain": [
       "<36272x42148 sparse matrix of type '<class 'numpy.float64'>'\n",
       "\twith 584520 stored elements in Compressed Sparse Row format>"
      ]
     },
     "execution_count": 15,
     "metadata": {},
     "output_type": "execute_result"
    }
   ],
   "source": [
    "X_train_pre"
   ]
  },
  {
   "cell_type": "markdown",
   "metadata": {},
   "source": [
    "# Naive Bayes"
   ]
  },
  {
   "cell_type": "markdown",
   "metadata": {},
   "source": [
    "### Train the model"
   ]
  },
  {
   "cell_type": "code",
   "execution_count": 16,
   "metadata": {},
   "outputs": [],
   "source": [
    "alpha = 0.6\n",
    "\n",
    "model = MultinomialNB(\n",
    "    alpha=alpha,\n",
    "    fit_prior=False,\n",
    ").fit(X_train_pre, y_train)"
   ]
  },
  {
   "cell_type": "markdown",
   "metadata": {},
   "source": [
    "### Test on train data"
   ]
  },
  {
   "cell_type": "code",
   "execution_count": 17,
   "metadata": {},
   "outputs": [
    {
     "name": "stdout",
     "output_type": "stream",
     "text": [
      "F1  = 0.9888051096008137\n",
      "Acc = 0.9922805469783855\n"
     ]
    }
   ],
   "source": [
    "preds_train = model.predict(X_train_pre)\n",
    "\n",
    "f1_train = f1_score(y_train, preds_train, average='macro')\n",
    "acc_train = accuracy_score(y_train, preds_train)\n",
    "print(f'F1  = {f1_train}\\nAcc = {acc_train}')"
   ]
  },
  {
   "cell_type": "markdown",
   "metadata": {},
   "source": [
    "### Test on val data"
   ]
  },
  {
   "cell_type": "code",
   "execution_count": 18,
   "metadata": {},
   "outputs": [
    {
     "name": "stdout",
     "output_type": "stream",
     "text": [
      "F1  = 0.9821190745484847\n",
      "Acc = 0.9877605028117764\n"
     ]
    }
   ],
   "source": [
    "X_val_pre = trans.transform(X_val)\n",
    "preds_val = model.predict(X_val_pre)\n",
    "\n",
    "f1_val_nb = f1_score(y_val, preds_val, average='macro')\n",
    "acc_val_nb = accuracy_score(y_val, preds_val)\n",
    "print(f'F1  = {f1_val_nb}\\nAcc = {acc_val_nb}')"
   ]
  },
  {
   "cell_type": "markdown",
   "metadata": {},
   "source": [
    "# Logistic Regression"
   ]
  },
  {
   "cell_type": "code",
   "execution_count": 19,
   "metadata": {},
   "outputs": [],
   "source": [
    "def id_func(x):\n",
    "    return x\n",
    "\n",
    "\n",
    "def fit_transform_lr(df):\n",
    "    vectorizer_0 = TfidfVectorizer(\n",
    "        analyzer='word',\n",
    "        strip_accents='unicode'\n",
    "    )\n",
    "    column_trans = ColumnTransformer([\n",
    "        ('tfidf_word', vectorizer_0, URL_CLEANED),\n",
    "        ('feat', FunctionTransformer(id_func), extra_features)\n",
    "    ])\n",
    "    column_trans.fit(df)\n",
    "    mat = column_trans.transform(df)\n",
    "    return mat, column_trans"
   ]
  },
  {
   "cell_type": "code",
   "execution_count": 20,
   "metadata": {},
   "outputs": [],
   "source": [
    "X, y = phishing[[URL_CLEANED, *extra_features]], phishing['label']\n",
    "\n",
    "X_train, X_val, y_train, y_val = \\\n",
    "        train_test_split(X, y, test_size=VAL_PROP, random_state=SEED)\n",
    "\n",
    "\n",
    "X_train_pre, trans = fit_transform_lr(X_train)"
   ]
  },
  {
   "cell_type": "markdown",
   "metadata": {},
   "source": [
    "### Train the model"
   ]
  },
  {
   "cell_type": "code",
   "execution_count": 21,
   "metadata": {},
   "outputs": [
    {
     "name": "stderr",
     "output_type": "stream",
     "text": [
      "/usr/local/anaconda3/lib/python3.8/site-packages/sklearn/linear_model/_logistic.py:763: ConvergenceWarning: lbfgs failed to converge (status=1):\n",
      "STOP: TOTAL NO. of ITERATIONS REACHED LIMIT.\n",
      "\n",
      "Increase the number of iterations (max_iter) or scale the data as shown in:\n",
      "    https://scikit-learn.org/stable/modules/preprocessing.html\n",
      "Please also refer to the documentation for alternative solver options:\n",
      "    https://scikit-learn.org/stable/modules/linear_model.html#logistic-regression\n",
      "  n_iter_i = _check_optimize_result(\n"
     ]
    }
   ],
   "source": [
    "C = 0.8\n",
    "\n",
    "model = LogisticRegression(\n",
    "    class_weight='balanced', C=C, max_iter=1200\n",
    ").fit(X_train_pre, y_train)"
   ]
  },
  {
   "cell_type": "markdown",
   "metadata": {},
   "source": [
    "### Test on train data"
   ]
  },
  {
   "cell_type": "code",
   "execution_count": 22,
   "metadata": {},
   "outputs": [
    {
     "name": "stdout",
     "output_type": "stream",
     "text": [
      "F1  = 0.9954476412182975\n",
      "Acc = 0.9968846493162771\n"
     ]
    }
   ],
   "source": [
    "preds_train = model.predict(X_train_pre)\n",
    "\n",
    "f1_train = f1_score(y_train, preds_train, average='macro')\n",
    "acc_train = accuracy_score(y_train, preds_train)\n",
    "print(f'F1  = {f1_train}\\nAcc = {acc_train}')"
   ]
  },
  {
   "cell_type": "markdown",
   "metadata": {},
   "source": [
    "### Test on val data"
   ]
  },
  {
   "cell_type": "code",
   "execution_count": 23,
   "metadata": {},
   "outputs": [
    {
     "name": "stdout",
     "output_type": "stream",
     "text": [
      "F1  = 0.9902692436998835\n",
      "Acc = 0.9933840555739332\n"
     ]
    }
   ],
   "source": [
    "X_val_pre = trans.transform(X_val)\n",
    "preds_val = model.predict(X_val_pre)\n",
    "\n",
    "f1_val_lr = f1_score(y_val, preds_val, average='macro')\n",
    "acc_val_lr = accuracy_score(y_val, preds_val)\n",
    "print(f'F1  = {f1_val_lr}\\nAcc = {acc_val_lr}')"
   ]
  },
  {
   "cell_type": "markdown",
   "metadata": {},
   "source": [
    "# Support Vector Machine"
   ]
  },
  {
   "cell_type": "code",
   "execution_count": 24,
   "metadata": {},
   "outputs": [],
   "source": [
    "def id_func(x):\n",
    "    return x\n",
    "\n",
    "\n",
    "def fit_transform_svm(df):\n",
    "    vectorizer_0 = TfidfVectorizer(\n",
    "        analyzer='word',\n",
    "        strip_accents='unicode'\n",
    "    )\n",
    "    column_trans = ColumnTransformer([\n",
    "        ('tfidf_word', vectorizer_0, URL_CLEANED),\n",
    "        ('feat', FunctionTransformer(id_func), extra_features)\n",
    "    ])\n",
    "    column_trans.fit(df)\n",
    "    mat = column_trans.transform(df)\n",
    "    return mat, column_trans"
   ]
  },
  {
   "cell_type": "code",
   "execution_count": 25,
   "metadata": {},
   "outputs": [],
   "source": [
    "X, y = phishing[[URL_CLEANED, *extra_features]], phishing['label']\n",
    "\n",
    "X_train, X_val, y_train, y_val = \\\n",
    "        train_test_split(X, y, test_size=VAL_PROP, random_state=SEED)\n",
    "\n",
    "\n",
    "X_train_pre, trans = fit_transform_svm(X_train)"
   ]
  },
  {
   "cell_type": "markdown",
   "metadata": {},
   "source": [
    "### Train the model"
   ]
  },
  {
   "cell_type": "code",
   "execution_count": 26,
   "metadata": {},
   "outputs": [
    {
     "name": "stderr",
     "output_type": "stream",
     "text": [
      "/usr/local/anaconda3/lib/python3.8/site-packages/sklearn/svm/_base.py:985: ConvergenceWarning: Liblinear failed to converge, increase the number of iterations.\n",
      "  warnings.warn(\"Liblinear failed to converge, increase \"\n"
     ]
    }
   ],
   "source": [
    "model = svm.LinearSVC(\n",
    "    random_state=SEED, max_iter=5000\n",
    ").fit(X_train_pre, y_train)"
   ]
  },
  {
   "cell_type": "markdown",
   "metadata": {},
   "source": [
    "### Test on train data"
   ]
  },
  {
   "cell_type": "code",
   "execution_count": 27,
   "metadata": {},
   "outputs": [
    {
     "name": "stdout",
     "output_type": "stream",
     "text": [
      "F1  = 0.9997589681796709\n",
      "Acc = 0.9998345831495369\n"
     ]
    }
   ],
   "source": [
    "preds_train = model.predict(X_train_pre)\n",
    "\n",
    "f1_train = f1_score(y_train, preds_train, average='macro')\n",
    "acc_train = accuracy_score(y_train, preds_train)\n",
    "print(f'F1  = {f1_train}\\nAcc = {acc_train}')"
   ]
  },
  {
   "cell_type": "markdown",
   "metadata": {},
   "source": [
    "### Test on val data"
   ]
  },
  {
   "cell_type": "code",
   "execution_count": 28,
   "metadata": {},
   "outputs": [
    {
     "name": "stdout",
     "output_type": "stream",
     "text": [
      "F1  = 0.994986223836815\n",
      "Acc = 0.9965817620465321\n"
     ]
    }
   ],
   "source": [
    "X_val_pre = trans.transform(X_val)\n",
    "preds_val = model.predict(X_val_pre)\n",
    "\n",
    "f1_val_svm = f1_score(y_val, preds_val, average='macro')\n",
    "acc_val_svm = accuracy_score(y_val, preds_val)\n",
    "print(f'F1  = {f1_val_svm}\\nAcc = {acc_val_svm}')"
   ]
  },
  {
   "cell_type": "markdown",
   "metadata": {},
   "source": [
    "# Write the data to disk"
   ]
  },
  {
   "cell_type": "code",
   "execution_count": 42,
   "metadata": {},
   "outputs": [],
   "source": [
    "accs = {\n",
    "    'NB': {'F1': f1_val_nb, 'Val Acc': acc_val_nb},\n",
    "    'LR': {'F1': f1_val_lr, 'Val Acc': acc_val_lr},\n",
    "    'SVM': {'F1': f1_val_svm, 'Val Acc': acc_val_svm}\n",
    "}\n",
    "\n",
    "with open('baselines/results/phishing.json', 'w') as f:\n",
    "    f.write(json.dumps(accs))"
   ]
  },
  {
   "cell_type": "code",
   "execution_count": null,
   "metadata": {},
   "outputs": [],
   "source": []
  }
 ],
 "metadata": {
  "kernelspec": {
   "display_name": "Python 3",
   "language": "python",
   "name": "python3"
  },
  "language_info": {
   "codemirror_mode": {
    "name": "ipython",
    "version": 3
   },
   "file_extension": ".py",
   "mimetype": "text/x-python",
   "name": "python",
   "nbconvert_exporter": "python",
   "pygments_lexer": "ipython3",
   "version": "3.8.3"
  }
 },
 "nbformat": 4,
 "nbformat_minor": 4
}
