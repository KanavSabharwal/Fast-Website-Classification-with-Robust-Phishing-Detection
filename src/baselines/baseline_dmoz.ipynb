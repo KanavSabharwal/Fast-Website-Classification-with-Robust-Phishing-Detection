{
 "cells": [
  {
   "cell_type": "code",
   "execution_count": 1,
   "metadata": {},
   "outputs": [],
   "source": [
    "from typing import List, Union, Tuple, Any\n",
    "import os\n",
    "import csv\n",
    "import json\n",
    "\n",
    "from sklearn.model_selection import train_test_split\n",
    "from sklearn.metrics import f1_score, accuracy_score\n",
    "\n",
    "from sklearn.naive_bayes import MultinomialNB\n",
    "from sklearn.linear_model import LogisticRegression\n",
    "from sklearn import svm\n",
    "\n",
    "from sklearn.feature_extraction.text import TfidfVectorizer\n",
    "from sklearn.preprocessing import FunctionTransformer\n",
    "from sklearn.compose import ColumnTransformer\n",
    "\n",
    "from tqdm import tqdm\n",
    "import numpy as np\n",
    "import pandas as pd"
   ]
  },
  {
   "cell_type": "code",
   "execution_count": 2,
   "metadata": {},
   "outputs": [],
   "source": [
    "%%capture\n",
    "# 'capture' silences output.\n",
    "# The below cd is necessary to import local functions in parent directory\n",
    "%cd ..\n",
    "\n",
    "from read_data import read_dmoz\n",
    "from url_tokenizer import url_tokenizer, flatten_url_data\n",
    "from featurizer import UrlFeaturizer, SAMPLE"
   ]
  },
  {
   "cell_type": "code",
   "execution_count": 3,
   "metadata": {},
   "outputs": [],
   "source": [
    "URL_CLEANED = 'UrlCleaned'\n",
    "URL_FEAT = 'UrlFeat'\n",
    "\n",
    "NUM_URLS = 200_000\n",
    "VAL_PROP = 0.2\n",
    "\n",
    "SEED = 42  # for reproducibility\n",
    "np.random.seed(SEED)"
   ]
  },
  {
   "cell_type": "code",
   "execution_count": 4,
   "metadata": {},
   "outputs": [],
   "source": [
    "feat = UrlFeaturizer(SAMPLE, verbose=False)"
   ]
  },
  {
   "cell_type": "code",
   "execution_count": 5,
   "metadata": {},
   "outputs": [
    {
     "data": {
      "text/html": [
       "<div>\n",
       "<style scoped>\n",
       "    .dataframe tbody tr th:only-of-type {\n",
       "        vertical-align: middle;\n",
       "    }\n",
       "\n",
       "    .dataframe tbody tr th {\n",
       "        vertical-align: top;\n",
       "    }\n",
       "\n",
       "    .dataframe thead th {\n",
       "        text-align: right;\n",
       "    }\n",
       "</style>\n",
       "<table border=\"1\" class=\"dataframe\">\n",
       "  <thead>\n",
       "    <tr style=\"text-align: right;\">\n",
       "      <th></th>\n",
       "      <th>idx</th>\n",
       "      <th>url</th>\n",
       "      <th>label</th>\n",
       "    </tr>\n",
       "  </thead>\n",
       "  <tbody>\n",
       "    <tr>\n",
       "      <th>0</th>\n",
       "      <td>1</td>\n",
       "      <td>http://www.liquidgeneration.com/</td>\n",
       "      <td>Adult</td>\n",
       "    </tr>\n",
       "    <tr>\n",
       "      <th>1</th>\n",
       "      <td>2</td>\n",
       "      <td>http://www.onlineanime.org/</td>\n",
       "      <td>Adult</td>\n",
       "    </tr>\n",
       "    <tr>\n",
       "      <th>2</th>\n",
       "      <td>3</td>\n",
       "      <td>http://www.ceres.dti.ne.jp/~nekoi/senno/senfir...</td>\n",
       "      <td>Adult</td>\n",
       "    </tr>\n",
       "    <tr>\n",
       "      <th>3</th>\n",
       "      <td>4</td>\n",
       "      <td>http://www.galeon.com/kmh/</td>\n",
       "      <td>Adult</td>\n",
       "    </tr>\n",
       "    <tr>\n",
       "      <th>4</th>\n",
       "      <td>5</td>\n",
       "      <td>http://www.fanworkrecs.com/</td>\n",
       "      <td>Adult</td>\n",
       "    </tr>\n",
       "    <tr>\n",
       "      <th>...</th>\n",
       "      <td>...</td>\n",
       "      <td>...</td>\n",
       "      <td>...</td>\n",
       "    </tr>\n",
       "    <tr>\n",
       "      <th>1562973</th>\n",
       "      <td>1562974</td>\n",
       "      <td>http://www.maxpreps.com/</td>\n",
       "      <td>Sports</td>\n",
       "    </tr>\n",
       "    <tr>\n",
       "      <th>1562974</th>\n",
       "      <td>1562975</td>\n",
       "      <td>http://www.myscore.com/</td>\n",
       "      <td>Sports</td>\n",
       "    </tr>\n",
       "    <tr>\n",
       "      <th>1562975</th>\n",
       "      <td>1562976</td>\n",
       "      <td>http://sportsillustrated.cnn.com/highschool</td>\n",
       "      <td>Sports</td>\n",
       "    </tr>\n",
       "    <tr>\n",
       "      <th>1562976</th>\n",
       "      <td>1562977</td>\n",
       "      <td>http://rss.cnn.com/rss/si_highschool?format=xml</td>\n",
       "      <td>Sports</td>\n",
       "    </tr>\n",
       "    <tr>\n",
       "      <th>1562977</th>\n",
       "      <td>1562978</td>\n",
       "      <td>http://www.usatoday.com/sports/preps/</td>\n",
       "      <td>Sports</td>\n",
       "    </tr>\n",
       "  </tbody>\n",
       "</table>\n",
       "<p>1562506 rows × 3 columns</p>\n",
       "</div>"
      ],
      "text/plain": [
       "             idx                                                url   label\n",
       "0              1                   http://www.liquidgeneration.com/   Adult\n",
       "1              2                        http://www.onlineanime.org/   Adult\n",
       "2              3  http://www.ceres.dti.ne.jp/~nekoi/senno/senfir...   Adult\n",
       "3              4                         http://www.galeon.com/kmh/   Adult\n",
       "4              5                        http://www.fanworkrecs.com/   Adult\n",
       "...          ...                                                ...     ...\n",
       "1562973  1562974                           http://www.maxpreps.com/  Sports\n",
       "1562974  1562975                            http://www.myscore.com/  Sports\n",
       "1562975  1562976        http://sportsillustrated.cnn.com/highschool  Sports\n",
       "1562976  1562977    http://rss.cnn.com/rss/si_highschool?format=xml  Sports\n",
       "1562977  1562978              http://www.usatoday.com/sports/preps/  Sports\n",
       "\n",
       "[1562506 rows x 3 columns]"
      ]
     },
     "execution_count": 5,
     "metadata": {},
     "output_type": "execute_result"
    }
   ],
   "source": [
    "dmoz = read_dmoz()\n",
    "dmoz"
   ]
  },
  {
   "cell_type": "code",
   "execution_count": 6,
   "metadata": {},
   "outputs": [
    {
     "data": {
      "text/plain": [
       "label\n",
       "Adult          35322\n",
       "Arts          253811\n",
       "Business      240173\n",
       "Computers     117670\n",
       "Games          56453\n",
       "Health         60096\n",
       "Home           28267\n",
       "Kids           46182\n",
       "News            8989\n",
       "Recreation    106579\n",
       "Reference      58241\n",
       "Science       110255\n",
       "Shopping       95270\n",
       "Society       243871\n",
       "Sports        101327\n",
       "dtype: int64"
      ]
     },
     "execution_count": 6,
     "metadata": {},
     "output_type": "execute_result"
    }
   ],
   "source": [
    "# # dmoz_shuffled = dmoz.sample(frac=1).reset_index(drop=True)\n",
    "dmoz.groupby(['label']).size()"
   ]
  },
  {
   "cell_type": "code",
   "execution_count": 7,
   "metadata": {},
   "outputs": [
    {
     "data": {
      "text/html": [
       "<div>\n",
       "<style scoped>\n",
       "    .dataframe tbody tr th:only-of-type {\n",
       "        vertical-align: middle;\n",
       "    }\n",
       "\n",
       "    .dataframe tbody tr th {\n",
       "        vertical-align: top;\n",
       "    }\n",
       "\n",
       "    .dataframe thead th {\n",
       "        text-align: right;\n",
       "    }\n",
       "</style>\n",
       "<table border=\"1\" class=\"dataframe\">\n",
       "  <thead>\n",
       "    <tr style=\"text-align: right;\">\n",
       "      <th></th>\n",
       "      <th>idx</th>\n",
       "      <th>url</th>\n",
       "      <th>label</th>\n",
       "    </tr>\n",
       "  </thead>\n",
       "  <tbody>\n",
       "    <tr>\n",
       "      <th>543210</th>\n",
       "      <td>543211</td>\n",
       "      <td>http://www.boogaholler.com/boogaframeset.html</td>\n",
       "      <td>Computers</td>\n",
       "    </tr>\n",
       "    <tr>\n",
       "      <th>302083</th>\n",
       "      <td>302084</td>\n",
       "      <td>http://www.hornershearing.com</td>\n",
       "      <td>Business</td>\n",
       "    </tr>\n",
       "    <tr>\n",
       "      <th>934647</th>\n",
       "      <td>934648</td>\n",
       "      <td>http://www.c-and-e-museum.org/te_tp9.htm</td>\n",
       "      <td>Recreation</td>\n",
       "    </tr>\n",
       "    <tr>\n",
       "      <th>44167</th>\n",
       "      <td>44168</td>\n",
       "      <td>http://www.stomptokyo.com/tvdiary/columns99/fg...</td>\n",
       "      <td>Arts</td>\n",
       "    </tr>\n",
       "    <tr>\n",
       "      <th>249269</th>\n",
       "      <td>249270</td>\n",
       "      <td>http://www.theatrehistory.com/british/musical0...</td>\n",
       "      <td>Arts</td>\n",
       "    </tr>\n",
       "    <tr>\n",
       "      <th>...</th>\n",
       "      <td>...</td>\n",
       "      <td>...</td>\n",
       "      <td>...</td>\n",
       "    </tr>\n",
       "    <tr>\n",
       "      <th>153270</th>\n",
       "      <td>153271</td>\n",
       "      <td>http://www.angelfire.com/me2/luxxrocks/</td>\n",
       "      <td>Arts</td>\n",
       "    </tr>\n",
       "    <tr>\n",
       "      <th>227236</th>\n",
       "      <td>227237</td>\n",
       "      <td>http://movies.yahoo.com/shop?d=hc&amp;amp;cf=gen&amp;a...</td>\n",
       "      <td>Arts</td>\n",
       "    </tr>\n",
       "    <tr>\n",
       "      <th>1190141</th>\n",
       "      <td>1190142</td>\n",
       "      <td>http://www.angelfire.com/pq/prophits/theprophe...</td>\n",
       "      <td>Shopping</td>\n",
       "    </tr>\n",
       "    <tr>\n",
       "      <th>837828</th>\n",
       "      <td>837829</td>\n",
       "      <td>http://www.freewebs.com/godlygirls/</td>\n",
       "      <td>Kids</td>\n",
       "    </tr>\n",
       "    <tr>\n",
       "      <th>661505</th>\n",
       "      <td>661506</td>\n",
       "      <td>http://www.arkanoidgames4pc.com/</td>\n",
       "      <td>Games</td>\n",
       "    </tr>\n",
       "  </tbody>\n",
       "</table>\n",
       "<p>200000 rows × 3 columns</p>\n",
       "</div>"
      ],
      "text/plain": [
       "             idx                                                url  \\\n",
       "543210    543211      http://www.boogaholler.com/boogaframeset.html   \n",
       "302083    302084                      http://www.hornershearing.com   \n",
       "934647    934648           http://www.c-and-e-museum.org/te_tp9.htm   \n",
       "44167      44168  http://www.stomptokyo.com/tvdiary/columns99/fg...   \n",
       "249269    249270  http://www.theatrehistory.com/british/musical0...   \n",
       "...          ...                                                ...   \n",
       "153270    153271            http://www.angelfire.com/me2/luxxrocks/   \n",
       "227236    227237  http://movies.yahoo.com/shop?d=hc&amp;cf=gen&a...   \n",
       "1190141  1190142  http://www.angelfire.com/pq/prophits/theprophe...   \n",
       "837828    837829                http://www.freewebs.com/godlygirls/   \n",
       "661505    661506                   http://www.arkanoidgames4pc.com/   \n",
       "\n",
       "              label  \n",
       "543210    Computers  \n",
       "302083     Business  \n",
       "934647   Recreation  \n",
       "44167          Arts  \n",
       "249269         Arts  \n",
       "...             ...  \n",
       "153270         Arts  \n",
       "227236         Arts  \n",
       "1190141    Shopping  \n",
       "837828         Kids  \n",
       "661505        Games  \n",
       "\n",
       "[200000 rows x 3 columns]"
      ]
     },
     "execution_count": 7,
     "metadata": {},
     "output_type": "execute_result"
    }
   ],
   "source": [
    "dmoz_sampled = dmoz.sample(NUM_URLS, random_state=SEED)\n",
    "dmoz_sampled"
   ]
  },
  {
   "cell_type": "code",
   "execution_count": 8,
   "metadata": {},
   "outputs": [
    {
     "data": {
      "text/plain": [
       "array(['http://www.boogaholler.com/boogaframeset.html',\n",
       "       'http://www.hornershearing.com',\n",
       "       'http://www.c-and-e-museum.org/te_tp9.htm', ...,\n",
       "       'http://www.angelfire.com/pq/prophits/theprophetparody.html',\n",
       "       'http://www.freewebs.com/godlygirls/',\n",
       "       'http://www.arkanoidgames4pc.com/'], dtype=object)"
      ]
     },
     "execution_count": 8,
     "metadata": {},
     "output_type": "execute_result"
    }
   ],
   "source": [
    "urls = dmoz_sampled['url'].to_numpy()\n",
    "urls"
   ]
  },
  {
   "cell_type": "code",
   "execution_count": 9,
   "metadata": {},
   "outputs": [
    {
     "name": "stderr",
     "output_type": "stream",
     "text": [
      "100%|██████████| 200000/200000 [00:45<00:00, 4414.63it/s]"
     ]
    },
    {
     "name": "stdout",
     "output_type": "stream",
     "text": [
      "http members iinet net au bush index html\n",
      "200000\n"
     ]
    },
    {
     "name": "stderr",
     "output_type": "stream",
     "text": [
      "\n"
     ]
    }
   ],
   "source": [
    "urls_tokenized = []\n",
    "urls_feat = []\n",
    "\n",
    "for url in tqdm(urls):\n",
    "    try:\n",
    "        vec, _ = feat.featurize(url)\n",
    "        urls_feat.append(vec)\n",
    "        \n",
    "        url_data = url_tokenizer(url)\n",
    "        words = flatten_url_data(url_data)\n",
    "        urls_tokenized.append(' '.join(words))\n",
    "    except:\n",
    "        urls_tokenized.append('error')\n",
    "        \n",
    "print(urls_tokenized[5])\n",
    "print(len(urls_tokenized))"
   ]
  },
  {
   "cell_type": "code",
   "execution_count": 10,
   "metadata": {},
   "outputs": [
    {
     "data": {
      "text/plain": [
       "(200000, 11)"
      ]
     },
     "execution_count": 10,
     "metadata": {},
     "output_type": "execute_result"
    }
   ],
   "source": [
    "urls_feat = np.array(urls_feat)\n",
    "urls_feat.shape"
   ]
  },
  {
   "cell_type": "code",
   "execution_count": 11,
   "metadata": {},
   "outputs": [
    {
     "data": {
      "text/html": [
       "<div>\n",
       "<style scoped>\n",
       "    .dataframe tbody tr th:only-of-type {\n",
       "        vertical-align: middle;\n",
       "    }\n",
       "\n",
       "    .dataframe tbody tr th {\n",
       "        vertical-align: top;\n",
       "    }\n",
       "\n",
       "    .dataframe thead th {\n",
       "        text-align: right;\n",
       "    }\n",
       "</style>\n",
       "<table border=\"1\" class=\"dataframe\">\n",
       "  <thead>\n",
       "    <tr style=\"text-align: right;\">\n",
       "      <th></th>\n",
       "      <th>idx</th>\n",
       "      <th>url</th>\n",
       "      <th>label</th>\n",
       "      <th>UrlCleaned</th>\n",
       "      <th>UrlFeat_0</th>\n",
       "      <th>UrlFeat_1</th>\n",
       "      <th>UrlFeat_2</th>\n",
       "      <th>UrlFeat_3</th>\n",
       "      <th>UrlFeat_4</th>\n",
       "      <th>UrlFeat_5</th>\n",
       "      <th>UrlFeat_6</th>\n",
       "      <th>UrlFeat_7</th>\n",
       "      <th>UrlFeat_8</th>\n",
       "      <th>UrlFeat_9</th>\n",
       "      <th>UrlFeat_10</th>\n",
       "    </tr>\n",
       "  </thead>\n",
       "  <tbody>\n",
       "    <tr>\n",
       "      <th>543210</th>\n",
       "      <td>543211</td>\n",
       "      <td>http://www.boogaholler.com/boogaframeset.html</td>\n",
       "      <td>Computers</td>\n",
       "      <td>http www boog a holler com boog a frame set html</td>\n",
       "      <td>0</td>\n",
       "      <td>3</td>\n",
       "      <td>1</td>\n",
       "      <td>1</td>\n",
       "      <td>0</td>\n",
       "      <td>5</td>\n",
       "      <td>1</td>\n",
       "      <td>0</td>\n",
       "      <td>0</td>\n",
       "      <td>0</td>\n",
       "      <td>0</td>\n",
       "    </tr>\n",
       "    <tr>\n",
       "      <th>302083</th>\n",
       "      <td>302084</td>\n",
       "      <td>http://www.hornershearing.com</td>\n",
       "      <td>Business</td>\n",
       "      <td>http www horner shearing com</td>\n",
       "      <td>0</td>\n",
       "      <td>2</td>\n",
       "      <td>1</td>\n",
       "      <td>1</td>\n",
       "      <td>0</td>\n",
       "      <td>0</td>\n",
       "      <td>1</td>\n",
       "      <td>0</td>\n",
       "      <td>0</td>\n",
       "      <td>0</td>\n",
       "      <td>0</td>\n",
       "    </tr>\n",
       "    <tr>\n",
       "      <th>934647</th>\n",
       "      <td>934648</td>\n",
       "      <td>http://www.c-and-e-museum.org/te_tp9.htm</td>\n",
       "      <td>Recreation</td>\n",
       "      <td>http www c and e museum org te tp 9 htm</td>\n",
       "      <td>0</td>\n",
       "      <td>4</td>\n",
       "      <td>1</td>\n",
       "      <td>1</td>\n",
       "      <td>0</td>\n",
       "      <td>4</td>\n",
       "      <td>1</td>\n",
       "      <td>0</td>\n",
       "      <td>1</td>\n",
       "      <td>0</td>\n",
       "      <td>1</td>\n",
       "    </tr>\n",
       "    <tr>\n",
       "      <th>44167</th>\n",
       "      <td>44168</td>\n",
       "      <td>http://www.stomptokyo.com/tvdiary/columns99/fg...</td>\n",
       "      <td>Arts</td>\n",
       "      <td>http www stomp tokyo com tv diary columns 99 f...</td>\n",
       "      <td>0</td>\n",
       "      <td>2</td>\n",
       "      <td>1</td>\n",
       "      <td>1</td>\n",
       "      <td>0</td>\n",
       "      <td>9</td>\n",
       "      <td>1</td>\n",
       "      <td>0</td>\n",
       "      <td>2</td>\n",
       "      <td>0</td>\n",
       "      <td>2</td>\n",
       "    </tr>\n",
       "    <tr>\n",
       "      <th>249269</th>\n",
       "      <td>249270</td>\n",
       "      <td>http://www.theatrehistory.com/british/musical0...</td>\n",
       "      <td>Arts</td>\n",
       "      <td>http www theatre history com british musical 0...</td>\n",
       "      <td>0</td>\n",
       "      <td>2</td>\n",
       "      <td>1</td>\n",
       "      <td>1</td>\n",
       "      <td>0</td>\n",
       "      <td>4</td>\n",
       "      <td>1</td>\n",
       "      <td>0</td>\n",
       "      <td>3</td>\n",
       "      <td>0</td>\n",
       "      <td>3</td>\n",
       "    </tr>\n",
       "    <tr>\n",
       "      <th>...</th>\n",
       "      <td>...</td>\n",
       "      <td>...</td>\n",
       "      <td>...</td>\n",
       "      <td>...</td>\n",
       "      <td>...</td>\n",
       "      <td>...</td>\n",
       "      <td>...</td>\n",
       "      <td>...</td>\n",
       "      <td>...</td>\n",
       "      <td>...</td>\n",
       "      <td>...</td>\n",
       "      <td>...</td>\n",
       "      <td>...</td>\n",
       "      <td>...</td>\n",
       "      <td>...</td>\n",
       "    </tr>\n",
       "    <tr>\n",
       "      <th>153270</th>\n",
       "      <td>153271</td>\n",
       "      <td>http://www.angelfire.com/me2/luxxrocks/</td>\n",
       "      <td>Arts</td>\n",
       "      <td>http www angel fire com me2 lux x rocks</td>\n",
       "      <td>0</td>\n",
       "      <td>2</td>\n",
       "      <td>1</td>\n",
       "      <td>1</td>\n",
       "      <td>0</td>\n",
       "      <td>4</td>\n",
       "      <td>1</td>\n",
       "      <td>0</td>\n",
       "      <td>1</td>\n",
       "      <td>0</td>\n",
       "      <td>1</td>\n",
       "    </tr>\n",
       "    <tr>\n",
       "      <th>227236</th>\n",
       "      <td>227237</td>\n",
       "      <td>http://movies.yahoo.com/shop?d=hc&amp;amp;cf=gen&amp;a...</td>\n",
       "      <td>Arts</td>\n",
       "      <td>http movies yahoo com shop d hc cf gen id 1800...</td>\n",
       "      <td>0</td>\n",
       "      <td>1</td>\n",
       "      <td>1</td>\n",
       "      <td>0</td>\n",
       "      <td>0</td>\n",
       "      <td>1</td>\n",
       "      <td>1</td>\n",
       "      <td>0</td>\n",
       "      <td>0</td>\n",
       "      <td>10</td>\n",
       "      <td>10</td>\n",
       "    </tr>\n",
       "    <tr>\n",
       "      <th>1190141</th>\n",
       "      <td>1190142</td>\n",
       "      <td>http://www.angelfire.com/pq/prophits/theprophe...</td>\n",
       "      <td>Shopping</td>\n",
       "      <td>http www angel fire com pq prop hits the proph...</td>\n",
       "      <td>0</td>\n",
       "      <td>2</td>\n",
       "      <td>1</td>\n",
       "      <td>1</td>\n",
       "      <td>0</td>\n",
       "      <td>7</td>\n",
       "      <td>1</td>\n",
       "      <td>0</td>\n",
       "      <td>0</td>\n",
       "      <td>0</td>\n",
       "      <td>0</td>\n",
       "    </tr>\n",
       "    <tr>\n",
       "      <th>837828</th>\n",
       "      <td>837829</td>\n",
       "      <td>http://www.freewebs.com/godlygirls/</td>\n",
       "      <td>Kids</td>\n",
       "      <td>http www free webs com godly girls</td>\n",
       "      <td>0</td>\n",
       "      <td>2</td>\n",
       "      <td>1</td>\n",
       "      <td>1</td>\n",
       "      <td>0</td>\n",
       "      <td>2</td>\n",
       "      <td>1</td>\n",
       "      <td>0</td>\n",
       "      <td>0</td>\n",
       "      <td>0</td>\n",
       "      <td>0</td>\n",
       "    </tr>\n",
       "    <tr>\n",
       "      <th>661505</th>\n",
       "      <td>661506</td>\n",
       "      <td>http://www.arkanoidgames4pc.com/</td>\n",
       "      <td>Games</td>\n",
       "      <td>http www arkanoid games 4 pc com</td>\n",
       "      <td>0</td>\n",
       "      <td>4</td>\n",
       "      <td>1</td>\n",
       "      <td>1</td>\n",
       "      <td>0</td>\n",
       "      <td>0</td>\n",
       "      <td>1</td>\n",
       "      <td>0</td>\n",
       "      <td>0</td>\n",
       "      <td>0</td>\n",
       "      <td>0</td>\n",
       "    </tr>\n",
       "  </tbody>\n",
       "</table>\n",
       "<p>200000 rows × 15 columns</p>\n",
       "</div>"
      ],
      "text/plain": [
       "             idx                                                url  \\\n",
       "543210    543211      http://www.boogaholler.com/boogaframeset.html   \n",
       "302083    302084                      http://www.hornershearing.com   \n",
       "934647    934648           http://www.c-and-e-museum.org/te_tp9.htm   \n",
       "44167      44168  http://www.stomptokyo.com/tvdiary/columns99/fg...   \n",
       "249269    249270  http://www.theatrehistory.com/british/musical0...   \n",
       "...          ...                                                ...   \n",
       "153270    153271            http://www.angelfire.com/me2/luxxrocks/   \n",
       "227236    227237  http://movies.yahoo.com/shop?d=hc&amp;cf=gen&a...   \n",
       "1190141  1190142  http://www.angelfire.com/pq/prophits/theprophe...   \n",
       "837828    837829                http://www.freewebs.com/godlygirls/   \n",
       "661505    661506                   http://www.arkanoidgames4pc.com/   \n",
       "\n",
       "              label                                         UrlCleaned  \\\n",
       "543210    Computers   http www boog a holler com boog a frame set html   \n",
       "302083     Business                       http www horner shearing com   \n",
       "934647   Recreation            http www c and e museum org te tp 9 htm   \n",
       "44167          Arts  http www stomp tokyo com tv diary columns 99 f...   \n",
       "249269         Arts  http www theatre history com british musical 0...   \n",
       "...             ...                                                ...   \n",
       "153270         Arts            http www angel fire com me2 lux x rocks   \n",
       "227236         Arts  http movies yahoo com shop d hc cf gen id 1800...   \n",
       "1190141    Shopping  http www angel fire com pq prop hits the proph...   \n",
       "837828         Kids                 http www free webs com godly girls   \n",
       "661505        Games                   http www arkanoid games 4 pc com   \n",
       "\n",
       "         UrlFeat_0  UrlFeat_1  UrlFeat_2  UrlFeat_3  UrlFeat_4  UrlFeat_5  \\\n",
       "543210           0          3          1          1          0          5   \n",
       "302083           0          2          1          1          0          0   \n",
       "934647           0          4          1          1          0          4   \n",
       "44167            0          2          1          1          0          9   \n",
       "249269           0          2          1          1          0          4   \n",
       "...            ...        ...        ...        ...        ...        ...   \n",
       "153270           0          2          1          1          0          4   \n",
       "227236           0          1          1          0          0          1   \n",
       "1190141          0          2          1          1          0          7   \n",
       "837828           0          2          1          1          0          2   \n",
       "661505           0          4          1          1          0          0   \n",
       "\n",
       "         UrlFeat_6  UrlFeat_7  UrlFeat_8  UrlFeat_9  UrlFeat_10  \n",
       "543210           1          0          0          0           0  \n",
       "302083           1          0          0          0           0  \n",
       "934647           1          0          1          0           1  \n",
       "44167            1          0          2          0           2  \n",
       "249269           1          0          3          0           3  \n",
       "...            ...        ...        ...        ...         ...  \n",
       "153270           1          0          1          0           1  \n",
       "227236           1          0          0         10          10  \n",
       "1190141          1          0          0          0           0  \n",
       "837828           1          0          0          0           0  \n",
       "661505           1          0          0          0           0  \n",
       "\n",
       "[200000 rows x 15 columns]"
      ]
     },
     "execution_count": 11,
     "metadata": {},
     "output_type": "execute_result"
    }
   ],
   "source": [
    "NUM_FEATS = urls_feat.shape[1]\n",
    "\n",
    "dmoz_sampled[URL_CLEANED] = urls_tokenized\n",
    "for i in range(NUM_FEATS):\n",
    "    dmoz_sampled[f'{URL_FEAT}_{i}'] = urls_feat[:, i]\n",
    "dmoz_sampled"
   ]
  },
  {
   "cell_type": "code",
   "execution_count": 12,
   "metadata": {},
   "outputs": [
    {
     "data": {
      "text/plain": [
       "label\n",
       "Adult          4483\n",
       "Arts          32321\n",
       "Business      30494\n",
       "Computers     15098\n",
       "Games          7216\n",
       "Health         7751\n",
       "Home           3613\n",
       "Kids           5965\n",
       "News           1155\n",
       "Recreation    13730\n",
       "Reference      7458\n",
       "Science       13966\n",
       "Shopping      12220\n",
       "Society       31447\n",
       "Sports        13083\n",
       "dtype: int64"
      ]
     },
     "execution_count": 12,
     "metadata": {},
     "output_type": "execute_result"
    }
   ],
   "source": [
    "dmoz_sampled.groupby(['label']).size()"
   ]
  },
  {
   "cell_type": "code",
   "execution_count": 13,
   "metadata": {},
   "outputs": [],
   "source": [
    "extra_features = [f'{URL_FEAT}_{i}' for i in range(NUM_FEATS)]"
   ]
  },
  {
   "cell_type": "code",
   "execution_count": 14,
   "metadata": {},
   "outputs": [],
   "source": [
    "def transform_func(x):\n",
    "    return np.log1p(x + 1)\n",
    "\n",
    "\n",
    "def fit_transform_nb(df):\n",
    "    vectorizer_0 = TfidfVectorizer(\n",
    "        analyzer='word',\n",
    "        strip_accents='unicode'\n",
    "    )\n",
    "    column_trans = ColumnTransformer([\n",
    "        ('tfidf_word', vectorizer_0, URL_CLEANED),\n",
    "        #('feat', FunctionTransformer(transform_func), extra_features)\n",
    "    ])\n",
    "    column_trans.fit(df)\n",
    "    mat = column_trans.transform(df)\n",
    "    return mat, column_trans"
   ]
  },
  {
   "cell_type": "code",
   "execution_count": 15,
   "metadata": {},
   "outputs": [],
   "source": [
    "X, y = dmoz_sampled[[URL_CLEANED, *extra_features]], dmoz_sampled['label']\n",
    "\n",
    "X_train, X_val, y_train, y_val = \\\n",
    "        train_test_split(X, y, test_size=VAL_PROP, random_state=SEED)\n",
    "\n",
    "\n",
    "X_train_pre, trans = fit_transform_nb(X_train)"
   ]
  },
  {
   "cell_type": "code",
   "execution_count": 16,
   "metadata": {},
   "outputs": [
    {
     "data": {
      "text/plain": [
       "<160000x60923 sparse matrix of type '<class 'numpy.float64'>'\n",
       "\twith 1090310 stored elements in Compressed Sparse Row format>"
      ]
     },
     "execution_count": 16,
     "metadata": {},
     "output_type": "execute_result"
    }
   ],
   "source": [
    "X_train_pre"
   ]
  },
  {
   "cell_type": "markdown",
   "metadata": {},
   "source": [
    "# Naive Bayes"
   ]
  },
  {
   "cell_type": "markdown",
   "metadata": {},
   "source": [
    "### Train the model"
   ]
  },
  {
   "cell_type": "code",
   "execution_count": 17,
   "metadata": {},
   "outputs": [],
   "source": [
    "alpha = 0.6\n",
    "\n",
    "model = MultinomialNB(\n",
    "    alpha=alpha,\n",
    "    fit_prior=False,\n",
    ").fit(X_train_pre, y_train)"
   ]
  },
  {
   "cell_type": "markdown",
   "metadata": {},
   "source": [
    "### Test on train data"
   ]
  },
  {
   "cell_type": "code",
   "execution_count": 18,
   "metadata": {},
   "outputs": [
    {
     "name": "stdout",
     "output_type": "stream",
     "text": [
      "F1  = 0.6556236346889878\n",
      "Acc = 0.6927875\n"
     ]
    }
   ],
   "source": [
    "preds_train = model.predict(X_train_pre)\n",
    "\n",
    "f1_train = f1_score(y_train, preds_train, average='macro')\n",
    "acc_train = accuracy_score(y_train, preds_train)\n",
    "print(f'F1  = {f1_train}\\nAcc = {acc_train}')"
   ]
  },
  {
   "cell_type": "markdown",
   "metadata": {},
   "source": [
    "### Test on val data"
   ]
  },
  {
   "cell_type": "code",
   "execution_count": 19,
   "metadata": {},
   "outputs": [
    {
     "name": "stdout",
     "output_type": "stream",
     "text": [
      "F1  = 0.47014416139700704\n",
      "Acc = 0.5188\n"
     ]
    }
   ],
   "source": [
    "X_val_pre = trans.transform(X_val)\n",
    "preds_val = model.predict(X_val_pre)\n",
    "\n",
    "f1_val_nb = f1_score(y_val, preds_val, average='macro')\n",
    "acc_val_nb = accuracy_score(y_val, preds_val)\n",
    "print(f'F1  = {f1_val_nb}\\nAcc = {acc_val_nb}')"
   ]
  },
  {
   "cell_type": "markdown",
   "metadata": {},
   "source": [
    "# Logistic Regression"
   ]
  },
  {
   "cell_type": "code",
   "execution_count": 20,
   "metadata": {},
   "outputs": [],
   "source": [
    "def id_func(x):\n",
    "    return x\n",
    "\n",
    "\n",
    "def fit_transform_lr(df):\n",
    "    vectorizer_0 = TfidfVectorizer(\n",
    "        analyzer='word',\n",
    "        strip_accents='unicode'\n",
    "    )\n",
    "    column_trans = ColumnTransformer([\n",
    "        ('tfidf_word', vectorizer_0, URL_CLEANED),\n",
    "        ('feat', FunctionTransformer(id_func), extra_features)\n",
    "    ])\n",
    "    column_trans.fit(df)\n",
    "    mat = column_trans.transform(df)\n",
    "    return mat, column_trans"
   ]
  },
  {
   "cell_type": "code",
   "execution_count": 21,
   "metadata": {},
   "outputs": [],
   "source": [
    "X, y = dmoz_sampled[[URL_CLEANED, *extra_features]], dmoz_sampled['label']\n",
    "\n",
    "X_train, X_val, y_train, y_val = \\\n",
    "        train_test_split(X, y, test_size=VAL_PROP, random_state=SEED)\n",
    "\n",
    "\n",
    "X_train_pre, trans = fit_transform_lr(X_train)"
   ]
  },
  {
   "cell_type": "markdown",
   "metadata": {},
   "source": [
    "### Train"
   ]
  },
  {
   "cell_type": "code",
   "execution_count": 22,
   "metadata": {},
   "outputs": [
    {
     "name": "stderr",
     "output_type": "stream",
     "text": [
      "/usr/local/anaconda3/lib/python3.8/site-packages/sklearn/linear_model/_logistic.py:763: ConvergenceWarning: lbfgs failed to converge (status=1):\n",
      "STOP: TOTAL NO. of ITERATIONS REACHED LIMIT.\n",
      "\n",
      "Increase the number of iterations (max_iter) or scale the data as shown in:\n",
      "    https://scikit-learn.org/stable/modules/preprocessing.html\n",
      "Please also refer to the documentation for alternative solver options:\n",
      "    https://scikit-learn.org/stable/modules/linear_model.html#logistic-regression\n",
      "  n_iter_i = _check_optimize_result(\n"
     ]
    }
   ],
   "source": [
    "C = 0.8\n",
    "\n",
    "model = LogisticRegression(\n",
    "    class_weight='balanced', C=C, max_iter=1200\n",
    ").fit(X_train_pre, y_train)"
   ]
  },
  {
   "cell_type": "markdown",
   "metadata": {},
   "source": [
    "### Test on train data"
   ]
  },
  {
   "cell_type": "code",
   "execution_count": 23,
   "metadata": {},
   "outputs": [
    {
     "name": "stdout",
     "output_type": "stream",
     "text": [
      "F1  = 0.6234236157275748\n",
      "Acc = 0.6258875\n"
     ]
    }
   ],
   "source": [
    "preds_train = model.predict(X_train_pre)\n",
    "\n",
    "f1_train = f1_score(y_train, preds_train, average='macro')\n",
    "acc_train = accuracy_score(y_train, preds_train)\n",
    "print(f'F1  = {f1_train}\\nAcc = {acc_train}')"
   ]
  },
  {
   "cell_type": "markdown",
   "metadata": {},
   "source": [
    "### Test on val data"
   ]
  },
  {
   "cell_type": "code",
   "execution_count": 24,
   "metadata": {},
   "outputs": [
    {
     "name": "stdout",
     "output_type": "stream",
     "text": [
      "F1  = 0.4761802655757706\n",
      "Acc = 0.503225\n"
     ]
    }
   ],
   "source": [
    "X_val_pre = trans.transform(X_val)\n",
    "preds_val = model.predict(X_val_pre)\n",
    "\n",
    "f1_val_lr = f1_score(y_val, preds_val, average='macro')\n",
    "acc_val_lr = accuracy_score(y_val, preds_val)\n",
    "print(f'F1  = {f1_val_lr}\\nAcc = {acc_val_lr}')"
   ]
  },
  {
   "cell_type": "markdown",
   "metadata": {},
   "source": [
    "# Support Vector Machine"
   ]
  },
  {
   "cell_type": "code",
   "execution_count": 25,
   "metadata": {},
   "outputs": [],
   "source": [
    "def id_func(x):\n",
    "    return x\n",
    "\n",
    "\n",
    "def fit_transform_svm(df):\n",
    "    vectorizer_0 = TfidfVectorizer(\n",
    "        analyzer='word',\n",
    "        strip_accents='unicode'\n",
    "    )\n",
    "    column_trans = ColumnTransformer([\n",
    "        ('tfidf_word', vectorizer_0, URL_CLEANED),\n",
    "        ('feat', FunctionTransformer(id_func), extra_features)\n",
    "    ])\n",
    "    column_trans.fit(df)\n",
    "    mat = column_trans.transform(df)\n",
    "    return mat, column_trans"
   ]
  },
  {
   "cell_type": "code",
   "execution_count": 26,
   "metadata": {},
   "outputs": [],
   "source": [
    "X, y = dmoz_sampled[[URL_CLEANED, *extra_features]], dmoz_sampled['label']\n",
    "\n",
    "X_train, X_val, y_train, y_val = \\\n",
    "        train_test_split(X, y, test_size=VAL_PROP, random_state=SEED)\n",
    "\n",
    "\n",
    "X_train_pre, trans = fit_transform_lr(X_train)"
   ]
  },
  {
   "cell_type": "markdown",
   "metadata": {},
   "source": [
    "### Train the model"
   ]
  },
  {
   "cell_type": "code",
   "execution_count": 27,
   "metadata": {},
   "outputs": [
    {
     "name": "stderr",
     "output_type": "stream",
     "text": [
      "/usr/local/anaconda3/lib/python3.8/site-packages/sklearn/svm/_base.py:985: ConvergenceWarning: Liblinear failed to converge, increase the number of iterations.\n",
      "  warnings.warn(\"Liblinear failed to converge, increase \"\n"
     ]
    }
   ],
   "source": [
    "model = svm.LinearSVC(\n",
    "    random_state=SEED, max_iter=1000\n",
    ").fit(X_train_pre, y_train)"
   ]
  },
  {
   "cell_type": "markdown",
   "metadata": {},
   "source": [
    "### Test on train data"
   ]
  },
  {
   "cell_type": "code",
   "execution_count": 28,
   "metadata": {},
   "outputs": [
    {
     "name": "stdout",
     "output_type": "stream",
     "text": [
      "F1  = 0.8074260141975116\n",
      "Acc = 0.8063\n"
     ]
    }
   ],
   "source": [
    "preds_train = model.predict(X_train_pre)\n",
    "\n",
    "f1_train = f1_score(y_train, preds_train, average='macro')\n",
    "acc_train = accuracy_score(y_train, preds_train)\n",
    "print(f'F1  = {f1_train}\\nAcc = {acc_train}')"
   ]
  },
  {
   "cell_type": "markdown",
   "metadata": {},
   "source": [
    "### Test on val data"
   ]
  },
  {
   "cell_type": "code",
   "execution_count": 29,
   "metadata": {},
   "outputs": [
    {
     "name": "stdout",
     "output_type": "stream",
     "text": [
      "F1  = 0.5131819049474287\n",
      "Acc = 0.54285\n"
     ]
    }
   ],
   "source": [
    "X_val_pre = trans.transform(X_val)\n",
    "preds_val = model.predict(X_val_pre)\n",
    "\n",
    "f1_val_svm = f1_score(y_val, preds_val, average='macro')\n",
    "acc_val_svm = accuracy_score(y_val, preds_val)\n",
    "print(f'F1  = {f1_val_svm}\\nAcc = {acc_val_svm}')"
   ]
  },
  {
   "cell_type": "markdown",
   "metadata": {},
   "source": [
    "# Write the data to disk"
   ]
  },
  {
   "cell_type": "code",
   "execution_count": 30,
   "metadata": {},
   "outputs": [],
   "source": [
    "accs = {\n",
    "    'NB': {'F1': f1_val_nb, 'Val Acc': acc_val_nb},\n",
    "    'LR': {'F1': f1_val_lr, 'Val Acc': acc_val_lr},\n",
    "    'SVM': {'F1': f1_val_svm, 'Val Acc': acc_val_svm}\n",
    "}\n",
    "\n",
    "with open('baselines/results/dmoz.json', 'w') as f:\n",
    "    f.write(json.dumps(accs))"
   ]
  },
  {
   "cell_type": "code",
   "execution_count": null,
   "metadata": {},
   "outputs": [],
   "source": []
  }
 ],
 "metadata": {
  "kernelspec": {
   "display_name": "Python 3",
   "language": "python",
   "name": "python3"
  },
  "language_info": {
   "codemirror_mode": {
    "name": "ipython",
    "version": 3
   },
   "file_extension": ".py",
   "mimetype": "text/x-python",
   "name": "python",
   "nbconvert_exporter": "python",
   "pygments_lexer": "ipython3",
   "version": "3.8.3"
  }
 },
 "nbformat": 4,
 "nbformat_minor": 4
}
